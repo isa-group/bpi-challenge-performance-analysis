{
 "cells": [
  {
   "cell_type": "code",
   "execution_count": 1,
   "metadata": {},
   "outputs": [],
   "source": [
    "import pandas as pd\n",
    "import datetime\n",
    "from os import listdir\n",
    "import os, os.path\n",
    "from os.path import isfile, join\n",
    "import numpy as np\n",
    "import csv\n",
    "import re\n",
    "import pandas as pd\n",
    "from pm4py.objects.conversion.log import converter as log_converter\n",
    "from pm4py.objects.log.importer.xes import importer as xes_importer\n",
    "from pm4py.objects.log.exporter.xes import exporter as xes_exporter\n",
    "from pm4py.objects.log.util import dataframe_utils\n",
    "import matplotlib.pyplot as plt\n",
    "import seaborn as sns\n",
    "import pingouin as pg"
   ]
  },
  {
   "cell_type": "code",
   "execution_count": 2,
   "metadata": {
    "scrolled": true
   },
   "outputs": [
    {
     "name": "stdout",
     "output_type": "stream",
     "text": [
      "Processing c:\\users\\maria\\appdata\\local\\pip\\cache\\wheels\\14\\46\\f9\\cedd81d68d2515c24bbbd000d5b347e4fe092ccc4b568f7f70\\pingouin-0.5.0-py3-none-any.whl\n",
      "Requirement already satisfied: seaborn>=0.9.0 in c:\\users\\maria\\anaconda3\\lib\\site-packages (from pingouin) (0.11.1)\n",
      "Collecting outdated\n",
      "  Using cached outdated-0.2.1-py3-none-any.whl (7.5 kB)\n",
      "Requirement already satisfied: pandas>=1.0 in c:\\users\\maria\\anaconda3\\lib\\site-packages (from pingouin) (1.3.4)\n",
      "Requirement already satisfied: scikit-learn in c:\\users\\maria\\anaconda3\\lib\\site-packages (from pingouin) (0.22.1)\n",
      "Collecting statsmodels>=0.12.0\n",
      "  Using cached statsmodels-0.13.0-cp37-none-win_amd64.whl (9.4 MB)\n",
      "Collecting pandas-flavor>=0.2.0\n",
      "  Using cached pandas_flavor-0.2.0-py2.py3-none-any.whl (6.6 kB)\n",
      "Collecting tabulate\n",
      "  Using cached tabulate-0.8.9-py3-none-any.whl (25 kB)\n",
      "Requirement already satisfied: scipy>=1.7 in c:\\users\\maria\\anaconda3\\lib\\site-packages (from pingouin) (1.7.1)\n",
      "Requirement already satisfied: numpy>=1.19 in c:\\users\\maria\\anaconda3\\lib\\site-packages (from pingouin) (1.21.3)\n",
      "Requirement already satisfied: matplotlib>=3.0.2 in c:\\users\\maria\\anaconda3\\lib\\site-packages (from pingouin) (3.1.3)\n",
      "Requirement already satisfied: requests in c:\\users\\maria\\anaconda3\\lib\\site-packages (from outdated->pingouin) (2.22.0)\n",
      "Processing c:\\users\\maria\\appdata\\local\\pip\\cache\\wheels\\d6\\64\\cd\\32819b511a488e4993f2fab909a95330289c3f4e0f6ef4676d\\littleutils-0.2.2-py3-none-any.whl\n",
      "Requirement already satisfied: pytz>=2017.3 in c:\\users\\maria\\anaconda3\\lib\\site-packages (from pandas>=1.0->pingouin) (2019.3)\n",
      "Requirement already satisfied: python-dateutil>=2.7.3 in c:\\users\\maria\\anaconda3\\lib\\site-packages (from pandas>=1.0->pingouin) (2.8.1)\n",
      "Requirement already satisfied: joblib>=0.11 in c:\\users\\maria\\anaconda3\\lib\\site-packages (from scikit-learn->pingouin) (0.14.1)\n",
      "Collecting patsy>=0.5.2\n",
      "  Using cached patsy-0.5.2-py2.py3-none-any.whl (233 kB)\n",
      "Collecting xarray\n",
      "  Using cached xarray-0.19.0-py3-none-any.whl (827 kB)\n",
      "Requirement already satisfied: cycler>=0.10 in c:\\users\\maria\\anaconda3\\lib\\site-packages (from matplotlib>=3.0.2->pingouin) (0.10.0)\n",
      "Requirement already satisfied: kiwisolver>=1.0.1 in c:\\users\\maria\\anaconda3\\lib\\site-packages (from matplotlib>=3.0.2->pingouin) (1.1.0)\n",
      "Requirement already satisfied: pyparsing!=2.0.4,!=2.1.2,!=2.1.6,>=2.0.1 in c:\\users\\maria\\anaconda3\\lib\\site-packages (from matplotlib>=3.0.2->pingouin) (2.4.6)\n",
      "Requirement already satisfied: urllib3!=1.25.0,!=1.25.1,<1.26,>=1.21.1 in c:\\users\\maria\\anaconda3\\lib\\site-packages (from requests->outdated->pingouin) (1.25.8)\n",
      "Requirement already satisfied: idna<2.9,>=2.5 in c:\\users\\maria\\anaconda3\\lib\\site-packages (from requests->outdated->pingouin) (2.8)\n",
      "Requirement already satisfied: chardet<3.1.0,>=3.0.2 in c:\\users\\maria\\anaconda3\\lib\\site-packages (from requests->outdated->pingouin) (3.0.4)\n",
      "Requirement already satisfied: certifi>=2017.4.17 in c:\\users\\maria\\anaconda3\\lib\\site-packages (from requests->outdated->pingouin) (2019.11.28)\n",
      "Requirement already satisfied: six>=1.5 in c:\\users\\maria\\anaconda3\\lib\\site-packages (from python-dateutil>=2.7.3->pandas>=1.0->pingouin) (1.14.0)\n",
      "Requirement already satisfied: setuptools>=40.4 in c:\\users\\maria\\anaconda3\\lib\\site-packages (from xarray->pandas-flavor>=0.2.0->pingouin) (45.2.0.post20200210)\n",
      "Installing collected packages: littleutils, outdated, patsy, statsmodels, xarray, pandas-flavor, tabulate, pingouin\n",
      "  Attempting uninstall: patsy\n",
      "    Found existing installation: patsy 0.5.1\n",
      "    Uninstalling patsy-0.5.1:\n",
      "      Successfully uninstalled patsy-0.5.1\n",
      "  Attempting uninstall: statsmodels\n",
      "    Found existing installation: statsmodels 0.11.0\n",
      "    Uninstalling statsmodels-0.11.0:\n",
      "      Successfully uninstalled statsmodels-0.11.0\n",
      "Successfully installed littleutils-0.2.2 outdated-0.2.1 pandas-flavor-0.2.0 patsy-0.5.2 pingouin-0.5.0 statsmodels-0.13.0 tabulate-0.8.9 xarray-0.19.0\n",
      "Note: you may need to restart the kernel to use updated packages.\n"
     ]
    }
   ],
   "source": [
    "# pip install pingouin"
   ]
  },
  {
   "cell_type": "code",
   "execution_count": 15,
   "metadata": {},
   "outputs": [],
   "source": [
    "# datos_raw = pd.read_excel(\"./grouped table of annotations.xlsx\")\n",
    "# # datos_raw=datos_raw.drop(['Unnamed: 0'], axis='columns')\n",
    "# glosario = pd.read_excel(\"./OperationCoding (cycle time).xlsx\")\n",
    "# glosario['General operations'] = glosario['General operations'].fillna(method='pad')\n",
    "# glosario['Specific operations'] =  glosario['Specific operations'].str.split().str.join(' ')\n",
    "# glosario['General operations'] =  glosario['General operations'].str.split().str.join(' ')\n",
    "\n",
    "# # columns=['case:concept:name','General operation','Specific operation','Time','Question','Year', 'Category']\n",
    "# column=['case:concept:name','concept:name','Specific operation','time:timestamp', 'Report', 'Question','Year', 'Category']\n",
    "# #columna es el case_ID\n",
    "# cont = 0\n",
    "# df_prueba= pd.DataFrame(columns=column)\n",
    "# for columna in datos_raw.columns:\n",
    "#     acciones_analisis=datos_raw[columna].dropna()\n",
    "#     for accion in acciones_analisis:\n",
    "        \n",
    "#         accion = re.sub('[\\xa0]', ' ', accion)\n",
    "# #         print(' *************************** ', accion)\n",
    "#         string_dividido=accion.split(' ')\n",
    "#         accion = ' '.join(string_dividido)\n",
    "#         for fila in range(len(glosario)):\n",
    "                       \n",
    "#             if(accion == glosario['Specific operations'][fila]):\n",
    "#                 #print('si', accion)\n",
    "#                 accionGeneral=glosario['General operations'][fila]\n",
    "#                 accionEspecifica=accion\n",
    "#                 columnaSeparada=columna.split()\n",
    "#                 report=columnaSeparada[0]\n",
    "#                 pregunta=columnaSeparada[1]\n",
    "#                 año=columnaSeparada[3]\n",
    "#                 categoria=datos_raw.loc[0][columna]\n",
    "#                 ct=datetime.datetime.now() + datetime.timedelta(days=1)\n",
    "#                 new_row={'case:concept:name':columna, 'concept:name':accionGeneral,\n",
    "#                          'Specific operation':accionEspecifica,'time:timestamp':str(ct),\n",
    "#                          'Report':report, 'Question':pregunta, 'Year':año, 'Category':categoria} \n",
    "# #                 print(cont, new_row['case:concept:name'])\n",
    "#                 cont = cont +1\n",
    "#                 df_prueba = df_prueba.append(new_row, ignore_index=True)\n",
    "                \n",
    "#             elif(accion == glosario['General operations'][fila]):\n",
    "#                 #print('no', accion)\n",
    "#                 accionGeneral=accion\n",
    "#                 accionEspecifica=\" \"\n",
    "#                 columnaSeparada=columna.split()\n",
    "#                 report=columnaSeparada[0]\n",
    "#                 pregunta=columnaSeparada[1]\n",
    "#                 año=columnaSeparada[3]\n",
    "#                 categoria=datos_raw.loc[0][columna]\n",
    "#                 ct=datetime.datetime.now() + datetime.timedelta(days=1)\n",
    "#                 new_row={'case:concept:name':columna, 'concept:name':accionGeneral,\n",
    "#                          'Specific operation':accionEspecifica,'time:timestamp':str(ct),\n",
    "#                          'Report':report, 'Question':pregunta,'Year':año, 'Category':categoria} \n",
    "# #                 print(cont, new_row['case:concept:name'])\n",
    "#                 cont = cont +1\n",
    "#                 df_prueba = df_prueba.append(new_row, ignore_index=True)\n",
    "            \n",
    "                \n",
    "            \n",
    "# df_prueba"
   ]
  },
  {
   "cell_type": "code",
   "execution_count": 2,
   "metadata": {
    "scrolled": true
   },
   "outputs": [
    {
     "data": {
      "text/html": [
       "<div>\n",
       "<style scoped>\n",
       "    .dataframe tbody tr th:only-of-type {\n",
       "        vertical-align: middle;\n",
       "    }\n",
       "\n",
       "    .dataframe tbody tr th {\n",
       "        vertical-align: top;\n",
       "    }\n",
       "\n",
       "    .dataframe thead th {\n",
       "        text-align: right;\n",
       "    }\n",
       "</style>\n",
       "<table border=\"1\" class=\"dataframe\">\n",
       "  <thead>\n",
       "    <tr style=\"text-align: right;\">\n",
       "      <th></th>\n",
       "      <th>case:concept:name</th>\n",
       "      <th>concept:name</th>\n",
       "      <th>Specific operation</th>\n",
       "      <th>time:timestamp</th>\n",
       "      <th>Report</th>\n",
       "      <th>Question</th>\n",
       "      <th>Year</th>\n",
       "      <th>Category</th>\n",
       "      <th>Type</th>\n",
       "    </tr>\n",
       "  </thead>\n",
       "  <tbody>\n",
       "    <tr>\n",
       "      <th>0</th>\n",
       "      <td>A1 P2 BPI 2020</td>\n",
       "      <td>Calculate cycle time</td>\n",
       "      <td>Calculate cycle time of the whole process for ...</td>\n",
       "      <td>2021-10-19 12:47:13.651481</td>\n",
       "      <td>A1</td>\n",
       "      <td>P2</td>\n",
       "      <td>2020</td>\n",
       "      <td>Academic</td>\n",
       "      <td>Analyze Cycle Time</td>\n",
       "    </tr>\n",
       "    <tr>\n",
       "      <th>1</th>\n",
       "      <td>A1 P2 BPI 2020</td>\n",
       "      <td>Compare cycle time</td>\n",
       "      <td></td>\n",
       "      <td>2021-10-19 12:47:13.659459</td>\n",
       "      <td>A1</td>\n",
       "      <td>P2</td>\n",
       "      <td>2020</td>\n",
       "      <td>Academic</td>\n",
       "      <td>Analyze Cycle Time</td>\n",
       "    </tr>\n",
       "    <tr>\n",
       "      <th>2</th>\n",
       "      <td>A2 P2 BPI 2020</td>\n",
       "      <td>Calculate cycle time</td>\n",
       "      <td>Get cycle time from the previous question</td>\n",
       "      <td>2021-10-19 12:47:13.666495</td>\n",
       "      <td>A2</td>\n",
       "      <td>P2</td>\n",
       "      <td>2020</td>\n",
       "      <td>Student</td>\n",
       "      <td>Analyze Cycle Time</td>\n",
       "    </tr>\n",
       "    <tr>\n",
       "      <th>3</th>\n",
       "      <td>A2 P2 BPI 2020</td>\n",
       "      <td>Compare cycle time</td>\n",
       "      <td></td>\n",
       "      <td>2021-10-19 12:47:13.666495</td>\n",
       "      <td>A2</td>\n",
       "      <td>P2</td>\n",
       "      <td>2020</td>\n",
       "      <td>Student</td>\n",
       "      <td>Analyze Cycle Time</td>\n",
       "    </tr>\n",
       "    <tr>\n",
       "      <th>4</th>\n",
       "      <td>A7 P2 BPI 2020</td>\n",
       "      <td>Calculate throughput</td>\n",
       "      <td></td>\n",
       "      <td>2021-10-19 12:47:13.682150</td>\n",
       "      <td>A7</td>\n",
       "      <td>P2</td>\n",
       "      <td>2020</td>\n",
       "      <td>Academic</td>\n",
       "      <td>Analyze Cycle Time</td>\n",
       "    </tr>\n",
       "    <tr>\n",
       "      <th>...</th>\n",
       "      <td>...</td>\n",
       "      <td>...</td>\n",
       "      <td>...</td>\n",
       "      <td>...</td>\n",
       "      <td>...</td>\n",
       "      <td>...</td>\n",
       "      <td>...</td>\n",
       "      <td>...</td>\n",
       "      <td>...</td>\n",
       "    </tr>\n",
       "    <tr>\n",
       "      <th>943</th>\n",
       "      <td>A19 P1 BPI 2020</td>\n",
       "      <td>Group traces</td>\n",
       "      <td>Group traces by year</td>\n",
       "      <td>2021-10-19 12:47:20.534786</td>\n",
       "      <td>A19</td>\n",
       "      <td>P1</td>\n",
       "      <td>2020</td>\n",
       "      <td>Professional</td>\n",
       "      <td>Manipulation</td>\n",
       "    </tr>\n",
       "    <tr>\n",
       "      <th>944</th>\n",
       "      <td>A19 P1 BPI 2020</td>\n",
       "      <td>Group traces</td>\n",
       "      <td>Group traces by activities</td>\n",
       "      <td>2021-10-19 12:47:20.534786</td>\n",
       "      <td>A19</td>\n",
       "      <td>P1</td>\n",
       "      <td>2020</td>\n",
       "      <td>Professional</td>\n",
       "      <td>Manipulation</td>\n",
       "    </tr>\n",
       "    <tr>\n",
       "      <th>945</th>\n",
       "      <td>A19 P1 BPI 2020</td>\n",
       "      <td>Calculate statistics</td>\n",
       "      <td>Calculate Statistics of activities</td>\n",
       "      <td>2021-10-19 12:47:20.557196</td>\n",
       "      <td>A19</td>\n",
       "      <td>P1</td>\n",
       "      <td>2020</td>\n",
       "      <td>Professional</td>\n",
       "      <td>Calculate statistics</td>\n",
       "    </tr>\n",
       "    <tr>\n",
       "      <th>946</th>\n",
       "      <td>A19 P1 BPI 2020</td>\n",
       "      <td>Calculate throughput</td>\n",
       "      <td></td>\n",
       "      <td>2021-10-19 12:47:20.567144</td>\n",
       "      <td>A19</td>\n",
       "      <td>P1</td>\n",
       "      <td>2020</td>\n",
       "      <td>Professional</td>\n",
       "      <td>Analyze Cycle Time</td>\n",
       "    </tr>\n",
       "    <tr>\n",
       "      <th>947</th>\n",
       "      <td>A19 P1 BPI 2020</td>\n",
       "      <td>Represent temporal series</td>\n",
       "      <td>Represent temporal series of throughput</td>\n",
       "      <td>2021-10-19 12:47:20.576118</td>\n",
       "      <td>A19</td>\n",
       "      <td>P1</td>\n",
       "      <td>2020</td>\n",
       "      <td>Professional</td>\n",
       "      <td>Representation</td>\n",
       "    </tr>\n",
       "  </tbody>\n",
       "</table>\n",
       "<p>948 rows × 9 columns</p>\n",
       "</div>"
      ],
      "text/plain": [
       "    case:concept:name               concept:name  \\\n",
       "0      A1 P2 BPI 2020       Calculate cycle time   \n",
       "1      A1 P2 BPI 2020         Compare cycle time   \n",
       "2      A2 P2 BPI 2020       Calculate cycle time   \n",
       "3      A2 P2 BPI 2020         Compare cycle time   \n",
       "4      A7 P2 BPI 2020       Calculate throughput   \n",
       "..                ...                        ...   \n",
       "943   A19 P1 BPI 2020               Group traces   \n",
       "944   A19 P1 BPI 2020               Group traces   \n",
       "945   A19 P1 BPI 2020       Calculate statistics   \n",
       "946   A19 P1 BPI 2020       Calculate throughput   \n",
       "947   A19 P1 BPI 2020  Represent temporal series   \n",
       "\n",
       "                                    Specific operation  \\\n",
       "0    Calculate cycle time of the whole process for ...   \n",
       "1                                                        \n",
       "2            Get cycle time from the previous question   \n",
       "3                                                        \n",
       "4                                                        \n",
       "..                                                 ...   \n",
       "943                               Group traces by year   \n",
       "944                         Group traces by activities   \n",
       "945                 Calculate Statistics of activities   \n",
       "946                                                      \n",
       "947            Represent temporal series of throughput   \n",
       "\n",
       "                 time:timestamp Report Question  Year      Category  \\\n",
       "0    2021-10-19 12:47:13.651481     A1       P2  2020      Academic   \n",
       "1    2021-10-19 12:47:13.659459     A1       P2  2020      Academic   \n",
       "2    2021-10-19 12:47:13.666495     A2       P2  2020       Student   \n",
       "3    2021-10-19 12:47:13.666495     A2       P2  2020       Student   \n",
       "4    2021-10-19 12:47:13.682150     A7       P2  2020      Academic   \n",
       "..                          ...    ...      ...   ...           ...   \n",
       "943  2021-10-19 12:47:20.534786    A19       P1  2020  Professional   \n",
       "944  2021-10-19 12:47:20.534786    A19       P1  2020  Professional   \n",
       "945  2021-10-19 12:47:20.557196    A19       P1  2020  Professional   \n",
       "946  2021-10-19 12:47:20.567144    A19       P1  2020  Professional   \n",
       "947  2021-10-19 12:47:20.576118    A19       P1  2020  Professional   \n",
       "\n",
       "                     Type  \n",
       "0      Analyze Cycle Time  \n",
       "1      Analyze Cycle Time  \n",
       "2      Analyze Cycle Time  \n",
       "3      Analyze Cycle Time  \n",
       "4      Analyze Cycle Time  \n",
       "..                    ...  \n",
       "943          Manipulation  \n",
       "944          Manipulation  \n",
       "945  Calculate statistics  \n",
       "946    Analyze Cycle Time  \n",
       "947        Representation  \n",
       "\n",
       "[948 rows x 9 columns]"
      ]
     },
     "execution_count": 2,
     "metadata": {},
     "output_type": "execute_result"
    }
   ],
   "source": [
    "df_prueba = pd.read_csv(\"logCT2.csv\",index_col=0)\n",
    "df_prueba"
   ]
  },
  {
   "cell_type": "code",
   "execution_count": 3,
   "metadata": {
    "scrolled": true
   },
   "outputs": [
    {
     "data": {
      "text/html": [
       "<div>\n",
       "<style scoped>\n",
       "    .dataframe tbody tr th:only-of-type {\n",
       "        vertical-align: middle;\n",
       "    }\n",
       "\n",
       "    .dataframe tbody tr th {\n",
       "        vertical-align: top;\n",
       "    }\n",
       "\n",
       "    .dataframe thead th {\n",
       "        text-align: right;\n",
       "    }\n",
       "</style>\n",
       "<table border=\"1\" class=\"dataframe\">\n",
       "  <thead>\n",
       "    <tr style=\"text-align: right;\">\n",
       "      <th></th>\n",
       "      <th>case:concept:name</th>\n",
       "      <th>concept:name</th>\n",
       "      <th>Specific operation</th>\n",
       "      <th>time:timestamp</th>\n",
       "      <th>Report</th>\n",
       "      <th>Question</th>\n",
       "      <th>Year</th>\n",
       "      <th>Category</th>\n",
       "      <th>Type</th>\n",
       "      <th>Tupla</th>\n",
       "    </tr>\n",
       "  </thead>\n",
       "  <tbody>\n",
       "    <tr>\n",
       "      <th>0</th>\n",
       "      <td>A1 P2 BPI 2020</td>\n",
       "      <td>Calculate cycle time</td>\n",
       "      <td>Calculate cycle time of the whole process for ...</td>\n",
       "      <td>2021-10-19 12:47:13.651481</td>\n",
       "      <td>A1</td>\n",
       "      <td>P2</td>\n",
       "      <td>2020</td>\n",
       "      <td>Academic</td>\n",
       "      <td>Analyze Cycle Time</td>\n",
       "      <td>A12020</td>\n",
       "    </tr>\n",
       "    <tr>\n",
       "      <th>1</th>\n",
       "      <td>A1 P2 BPI 2020</td>\n",
       "      <td>Compare cycle time</td>\n",
       "      <td></td>\n",
       "      <td>2021-10-19 12:47:13.659459</td>\n",
       "      <td>A1</td>\n",
       "      <td>P2</td>\n",
       "      <td>2020</td>\n",
       "      <td>Academic</td>\n",
       "      <td>Analyze Cycle Time</td>\n",
       "      <td>A12020</td>\n",
       "    </tr>\n",
       "    <tr>\n",
       "      <th>2</th>\n",
       "      <td>A2 P2 BPI 2020</td>\n",
       "      <td>Calculate cycle time</td>\n",
       "      <td>Get cycle time from the previous question</td>\n",
       "      <td>2021-10-19 12:47:13.666495</td>\n",
       "      <td>A2</td>\n",
       "      <td>P2</td>\n",
       "      <td>2020</td>\n",
       "      <td>Student</td>\n",
       "      <td>Analyze Cycle Time</td>\n",
       "      <td>A22020</td>\n",
       "    </tr>\n",
       "    <tr>\n",
       "      <th>3</th>\n",
       "      <td>A2 P2 BPI 2020</td>\n",
       "      <td>Compare cycle time</td>\n",
       "      <td></td>\n",
       "      <td>2021-10-19 12:47:13.666495</td>\n",
       "      <td>A2</td>\n",
       "      <td>P2</td>\n",
       "      <td>2020</td>\n",
       "      <td>Student</td>\n",
       "      <td>Analyze Cycle Time</td>\n",
       "      <td>A22020</td>\n",
       "    </tr>\n",
       "    <tr>\n",
       "      <th>4</th>\n",
       "      <td>A7 P2 BPI 2020</td>\n",
       "      <td>Calculate throughput</td>\n",
       "      <td></td>\n",
       "      <td>2021-10-19 12:47:13.682150</td>\n",
       "      <td>A7</td>\n",
       "      <td>P2</td>\n",
       "      <td>2020</td>\n",
       "      <td>Academic</td>\n",
       "      <td>Analyze Cycle Time</td>\n",
       "      <td>A72020</td>\n",
       "    </tr>\n",
       "    <tr>\n",
       "      <th>...</th>\n",
       "      <td>...</td>\n",
       "      <td>...</td>\n",
       "      <td>...</td>\n",
       "      <td>...</td>\n",
       "      <td>...</td>\n",
       "      <td>...</td>\n",
       "      <td>...</td>\n",
       "      <td>...</td>\n",
       "      <td>...</td>\n",
       "      <td>...</td>\n",
       "    </tr>\n",
       "    <tr>\n",
       "      <th>943</th>\n",
       "      <td>A19 P1 BPI 2020</td>\n",
       "      <td>Group traces</td>\n",
       "      <td>Group traces by year</td>\n",
       "      <td>2021-10-19 12:47:20.534786</td>\n",
       "      <td>A19</td>\n",
       "      <td>P1</td>\n",
       "      <td>2020</td>\n",
       "      <td>Professional</td>\n",
       "      <td>Manipulation</td>\n",
       "      <td>A192020</td>\n",
       "    </tr>\n",
       "    <tr>\n",
       "      <th>944</th>\n",
       "      <td>A19 P1 BPI 2020</td>\n",
       "      <td>Group traces</td>\n",
       "      <td>Group traces by activities</td>\n",
       "      <td>2021-10-19 12:47:20.534786</td>\n",
       "      <td>A19</td>\n",
       "      <td>P1</td>\n",
       "      <td>2020</td>\n",
       "      <td>Professional</td>\n",
       "      <td>Manipulation</td>\n",
       "      <td>A192020</td>\n",
       "    </tr>\n",
       "    <tr>\n",
       "      <th>945</th>\n",
       "      <td>A19 P1 BPI 2020</td>\n",
       "      <td>Calculate statistics</td>\n",
       "      <td>Calculate Statistics of activities</td>\n",
       "      <td>2021-10-19 12:47:20.557196</td>\n",
       "      <td>A19</td>\n",
       "      <td>P1</td>\n",
       "      <td>2020</td>\n",
       "      <td>Professional</td>\n",
       "      <td>Calculate statistics</td>\n",
       "      <td>A192020</td>\n",
       "    </tr>\n",
       "    <tr>\n",
       "      <th>946</th>\n",
       "      <td>A19 P1 BPI 2020</td>\n",
       "      <td>Calculate throughput</td>\n",
       "      <td></td>\n",
       "      <td>2021-10-19 12:47:20.567144</td>\n",
       "      <td>A19</td>\n",
       "      <td>P1</td>\n",
       "      <td>2020</td>\n",
       "      <td>Professional</td>\n",
       "      <td>Analyze Cycle Time</td>\n",
       "      <td>A192020</td>\n",
       "    </tr>\n",
       "    <tr>\n",
       "      <th>947</th>\n",
       "      <td>A19 P1 BPI 2020</td>\n",
       "      <td>Represent temporal series</td>\n",
       "      <td>Represent temporal series of throughput</td>\n",
       "      <td>2021-10-19 12:47:20.576118</td>\n",
       "      <td>A19</td>\n",
       "      <td>P1</td>\n",
       "      <td>2020</td>\n",
       "      <td>Professional</td>\n",
       "      <td>Representation</td>\n",
       "      <td>A192020</td>\n",
       "    </tr>\n",
       "  </tbody>\n",
       "</table>\n",
       "<p>948 rows × 10 columns</p>\n",
       "</div>"
      ],
      "text/plain": [
       "    case:concept:name               concept:name  \\\n",
       "0      A1 P2 BPI 2020       Calculate cycle time   \n",
       "1      A1 P2 BPI 2020         Compare cycle time   \n",
       "2      A2 P2 BPI 2020       Calculate cycle time   \n",
       "3      A2 P2 BPI 2020         Compare cycle time   \n",
       "4      A7 P2 BPI 2020       Calculate throughput   \n",
       "..                ...                        ...   \n",
       "943   A19 P1 BPI 2020               Group traces   \n",
       "944   A19 P1 BPI 2020               Group traces   \n",
       "945   A19 P1 BPI 2020       Calculate statistics   \n",
       "946   A19 P1 BPI 2020       Calculate throughput   \n",
       "947   A19 P1 BPI 2020  Represent temporal series   \n",
       "\n",
       "                                    Specific operation  \\\n",
       "0    Calculate cycle time of the whole process for ...   \n",
       "1                                                        \n",
       "2            Get cycle time from the previous question   \n",
       "3                                                        \n",
       "4                                                        \n",
       "..                                                 ...   \n",
       "943                               Group traces by year   \n",
       "944                         Group traces by activities   \n",
       "945                 Calculate Statistics of activities   \n",
       "946                                                      \n",
       "947            Represent temporal series of throughput   \n",
       "\n",
       "                 time:timestamp Report Question  Year      Category  \\\n",
       "0    2021-10-19 12:47:13.651481     A1       P2  2020      Academic   \n",
       "1    2021-10-19 12:47:13.659459     A1       P2  2020      Academic   \n",
       "2    2021-10-19 12:47:13.666495     A2       P2  2020       Student   \n",
       "3    2021-10-19 12:47:13.666495     A2       P2  2020       Student   \n",
       "4    2021-10-19 12:47:13.682150     A7       P2  2020      Academic   \n",
       "..                          ...    ...      ...   ...           ...   \n",
       "943  2021-10-19 12:47:20.534786    A19       P1  2020  Professional   \n",
       "944  2021-10-19 12:47:20.534786    A19       P1  2020  Professional   \n",
       "945  2021-10-19 12:47:20.557196    A19       P1  2020  Professional   \n",
       "946  2021-10-19 12:47:20.567144    A19       P1  2020  Professional   \n",
       "947  2021-10-19 12:47:20.576118    A19       P1  2020  Professional   \n",
       "\n",
       "                     Type    Tupla  \n",
       "0      Analyze Cycle Time   A12020  \n",
       "1      Analyze Cycle Time   A12020  \n",
       "2      Analyze Cycle Time   A22020  \n",
       "3      Analyze Cycle Time   A22020  \n",
       "4      Analyze Cycle Time   A72020  \n",
       "..                    ...      ...  \n",
       "943          Manipulation  A192020  \n",
       "944          Manipulation  A192020  \n",
       "945  Calculate statistics  A192020  \n",
       "946    Analyze Cycle Time  A192020  \n",
       "947        Representation  A192020  \n",
       "\n",
       "[948 rows x 10 columns]"
      ]
     },
     "execution_count": 3,
     "metadata": {},
     "output_type": "execute_result"
    }
   ],
   "source": [
    "reports = pd.read_excel(\"./Reports BPI Challenge.xlsx\")\n",
    "reports['BPI Challenge'] = reports['BPI Challenge'].fillna(method='pad')\n",
    "\n",
    "reports['BPI Challenge'] = reports['BPI Challenge'].astype(int)\n",
    "reports[\"BPI Challenge\"]=reports[\"BPI Challenge\"].apply(str)\n",
    "\n",
    "reports[\"Unnamed: 1\"]=reports[\"Unnamed: 1\"].apply(str)\n",
    "reports['Tupla'] = reports['Unnamed: 1'] + reports[\"BPI Challenge\"]\n",
    "\n",
    "df_prueba[\"Year\"]=df_prueba[\"Year\"].apply(str)\n",
    "df_prueba['Tupla'] = df_prueba['Report'] + df_prueba[\"Year\"]\n",
    "\n",
    "sLength = len(df_prueba['Tupla'])\n",
    "df_prueba['Organization'] = pd.Series(np.random.randn(sLength), index=df_prueba.index)\n",
    "\n",
    "df_prueba['prueba']= \"\"\n",
    "df_prueba.drop(['Organization', 'prueba'], axis=1)"
   ]
  },
  {
   "cell_type": "code",
   "execution_count": 4,
   "metadata": {
    "scrolled": true
   },
   "outputs": [
    {
     "data": {
      "text/html": [
       "<div>\n",
       "<style scoped>\n",
       "    .dataframe tbody tr th:only-of-type {\n",
       "        vertical-align: middle;\n",
       "    }\n",
       "\n",
       "    .dataframe tbody tr th {\n",
       "        vertical-align: top;\n",
       "    }\n",
       "\n",
       "    .dataframe thead th {\n",
       "        text-align: right;\n",
       "    }\n",
       "</style>\n",
       "<table border=\"1\" class=\"dataframe\">\n",
       "  <thead>\n",
       "    <tr style=\"text-align: right;\">\n",
       "      <th></th>\n",
       "      <th>case:concept:name</th>\n",
       "      <th>concept:name</th>\n",
       "      <th>Specific operation</th>\n",
       "      <th>time:timestamp</th>\n",
       "      <th>Report</th>\n",
       "      <th>Question</th>\n",
       "      <th>Year</th>\n",
       "      <th>Category</th>\n",
       "      <th>Type</th>\n",
       "      <th>Tupla</th>\n",
       "      <th>Organization</th>\n",
       "    </tr>\n",
       "  </thead>\n",
       "  <tbody>\n",
       "    <tr>\n",
       "      <th>0</th>\n",
       "      <td>A1 P2 BPI 2020</td>\n",
       "      <td>Calculate cycle time</td>\n",
       "      <td>Calculate cycle time of the whole process for ...</td>\n",
       "      <td>2021-10-19 12:47:13.651481</td>\n",
       "      <td>A1</td>\n",
       "      <td>P2</td>\n",
       "      <td>2020</td>\n",
       "      <td>Academic</td>\n",
       "      <td>Analyze Cycle Time</td>\n",
       "      <td>A12020</td>\n",
       "      <td>Technische Universität, Berlin</td>\n",
       "    </tr>\n",
       "    <tr>\n",
       "      <th>1</th>\n",
       "      <td>A1 P2 BPI 2020</td>\n",
       "      <td>Compare cycle time</td>\n",
       "      <td></td>\n",
       "      <td>2021-10-19 12:47:13.659459</td>\n",
       "      <td>A1</td>\n",
       "      <td>P2</td>\n",
       "      <td>2020</td>\n",
       "      <td>Academic</td>\n",
       "      <td>Analyze Cycle Time</td>\n",
       "      <td>A12020</td>\n",
       "      <td>Technische Universität, Berlin</td>\n",
       "    </tr>\n",
       "    <tr>\n",
       "      <th>2</th>\n",
       "      <td>A2 P2 BPI 2020</td>\n",
       "      <td>Calculate cycle time</td>\n",
       "      <td>Get cycle time from the previous question</td>\n",
       "      <td>2021-10-19 12:47:13.666495</td>\n",
       "      <td>A2</td>\n",
       "      <td>P2</td>\n",
       "      <td>2020</td>\n",
       "      <td>Student</td>\n",
       "      <td>Analyze Cycle Time</td>\n",
       "      <td>A22020</td>\n",
       "      <td>Faculty of Science, Utrecht University</td>\n",
       "    </tr>\n",
       "    <tr>\n",
       "      <th>3</th>\n",
       "      <td>A2 P2 BPI 2020</td>\n",
       "      <td>Compare cycle time</td>\n",
       "      <td></td>\n",
       "      <td>2021-10-19 12:47:13.666495</td>\n",
       "      <td>A2</td>\n",
       "      <td>P2</td>\n",
       "      <td>2020</td>\n",
       "      <td>Student</td>\n",
       "      <td>Analyze Cycle Time</td>\n",
       "      <td>A22020</td>\n",
       "      <td>Faculty of Science, Utrecht University</td>\n",
       "    </tr>\n",
       "    <tr>\n",
       "      <th>4</th>\n",
       "      <td>A7 P2 BPI 2020</td>\n",
       "      <td>Calculate throughput</td>\n",
       "      <td></td>\n",
       "      <td>2021-10-19 12:47:13.682150</td>\n",
       "      <td>A7</td>\n",
       "      <td>P2</td>\n",
       "      <td>2020</td>\n",
       "      <td>Academic</td>\n",
       "      <td>Analyze Cycle Time</td>\n",
       "      <td>A72020</td>\n",
       "      <td>German Research Center for Artificial Intellig...</td>\n",
       "    </tr>\n",
       "    <tr>\n",
       "      <th>...</th>\n",
       "      <td>...</td>\n",
       "      <td>...</td>\n",
       "      <td>...</td>\n",
       "      <td>...</td>\n",
       "      <td>...</td>\n",
       "      <td>...</td>\n",
       "      <td>...</td>\n",
       "      <td>...</td>\n",
       "      <td>...</td>\n",
       "      <td>...</td>\n",
       "      <td>...</td>\n",
       "    </tr>\n",
       "    <tr>\n",
       "      <th>943</th>\n",
       "      <td>A19 P1 BPI 2020</td>\n",
       "      <td>Group traces</td>\n",
       "      <td>Group traces by year</td>\n",
       "      <td>2021-10-19 12:47:20.534786</td>\n",
       "      <td>A19</td>\n",
       "      <td>P1</td>\n",
       "      <td>2020</td>\n",
       "      <td>Professional</td>\n",
       "      <td>Manipulation</td>\n",
       "      <td>A192020</td>\n",
       "      <td>Sberbank</td>\n",
       "    </tr>\n",
       "    <tr>\n",
       "      <th>944</th>\n",
       "      <td>A19 P1 BPI 2020</td>\n",
       "      <td>Group traces</td>\n",
       "      <td>Group traces by activities</td>\n",
       "      <td>2021-10-19 12:47:20.534786</td>\n",
       "      <td>A19</td>\n",
       "      <td>P1</td>\n",
       "      <td>2020</td>\n",
       "      <td>Professional</td>\n",
       "      <td>Manipulation</td>\n",
       "      <td>A192020</td>\n",
       "      <td>Sberbank</td>\n",
       "    </tr>\n",
       "    <tr>\n",
       "      <th>945</th>\n",
       "      <td>A19 P1 BPI 2020</td>\n",
       "      <td>Calculate statistics</td>\n",
       "      <td>Calculate Statistics of activities</td>\n",
       "      <td>2021-10-19 12:47:20.557196</td>\n",
       "      <td>A19</td>\n",
       "      <td>P1</td>\n",
       "      <td>2020</td>\n",
       "      <td>Professional</td>\n",
       "      <td>Calculate statistics</td>\n",
       "      <td>A192020</td>\n",
       "      <td>Sberbank</td>\n",
       "    </tr>\n",
       "    <tr>\n",
       "      <th>946</th>\n",
       "      <td>A19 P1 BPI 2020</td>\n",
       "      <td>Calculate throughput</td>\n",
       "      <td></td>\n",
       "      <td>2021-10-19 12:47:20.567144</td>\n",
       "      <td>A19</td>\n",
       "      <td>P1</td>\n",
       "      <td>2020</td>\n",
       "      <td>Professional</td>\n",
       "      <td>Analyze Cycle Time</td>\n",
       "      <td>A192020</td>\n",
       "      <td>Sberbank</td>\n",
       "    </tr>\n",
       "    <tr>\n",
       "      <th>947</th>\n",
       "      <td>A19 P1 BPI 2020</td>\n",
       "      <td>Represent temporal series</td>\n",
       "      <td>Represent temporal series of throughput</td>\n",
       "      <td>2021-10-19 12:47:20.576118</td>\n",
       "      <td>A19</td>\n",
       "      <td>P1</td>\n",
       "      <td>2020</td>\n",
       "      <td>Professional</td>\n",
       "      <td>Representation</td>\n",
       "      <td>A192020</td>\n",
       "      <td>Sberbank</td>\n",
       "    </tr>\n",
       "  </tbody>\n",
       "</table>\n",
       "<p>948 rows × 11 columns</p>\n",
       "</div>"
      ],
      "text/plain": [
       "    case:concept:name               concept:name  \\\n",
       "0      A1 P2 BPI 2020       Calculate cycle time   \n",
       "1      A1 P2 BPI 2020         Compare cycle time   \n",
       "2      A2 P2 BPI 2020       Calculate cycle time   \n",
       "3      A2 P2 BPI 2020         Compare cycle time   \n",
       "4      A7 P2 BPI 2020       Calculate throughput   \n",
       "..                ...                        ...   \n",
       "943   A19 P1 BPI 2020               Group traces   \n",
       "944   A19 P1 BPI 2020               Group traces   \n",
       "945   A19 P1 BPI 2020       Calculate statistics   \n",
       "946   A19 P1 BPI 2020       Calculate throughput   \n",
       "947   A19 P1 BPI 2020  Represent temporal series   \n",
       "\n",
       "                                    Specific operation  \\\n",
       "0    Calculate cycle time of the whole process for ...   \n",
       "1                                                        \n",
       "2            Get cycle time from the previous question   \n",
       "3                                                        \n",
       "4                                                        \n",
       "..                                                 ...   \n",
       "943                               Group traces by year   \n",
       "944                         Group traces by activities   \n",
       "945                 Calculate Statistics of activities   \n",
       "946                                                      \n",
       "947            Represent temporal series of throughput   \n",
       "\n",
       "                 time:timestamp Report Question  Year      Category  \\\n",
       "0    2021-10-19 12:47:13.651481     A1       P2  2020      Academic   \n",
       "1    2021-10-19 12:47:13.659459     A1       P2  2020      Academic   \n",
       "2    2021-10-19 12:47:13.666495     A2       P2  2020       Student   \n",
       "3    2021-10-19 12:47:13.666495     A2       P2  2020       Student   \n",
       "4    2021-10-19 12:47:13.682150     A7       P2  2020      Academic   \n",
       "..                          ...    ...      ...   ...           ...   \n",
       "943  2021-10-19 12:47:20.534786    A19       P1  2020  Professional   \n",
       "944  2021-10-19 12:47:20.534786    A19       P1  2020  Professional   \n",
       "945  2021-10-19 12:47:20.557196    A19       P1  2020  Professional   \n",
       "946  2021-10-19 12:47:20.567144    A19       P1  2020  Professional   \n",
       "947  2021-10-19 12:47:20.576118    A19       P1  2020  Professional   \n",
       "\n",
       "                     Type    Tupla  \\\n",
       "0      Analyze Cycle Time   A12020   \n",
       "1      Analyze Cycle Time   A12020   \n",
       "2      Analyze Cycle Time   A22020   \n",
       "3      Analyze Cycle Time   A22020   \n",
       "4      Analyze Cycle Time   A72020   \n",
       "..                    ...      ...   \n",
       "943          Manipulation  A192020   \n",
       "944          Manipulation  A192020   \n",
       "945  Calculate statistics  A192020   \n",
       "946    Analyze Cycle Time  A192020   \n",
       "947        Representation  A192020   \n",
       "\n",
       "                                          Organization  \n",
       "0                       Technische Universität, Berlin  \n",
       "1                       Technische Universität, Berlin  \n",
       "2               Faculty of Science, Utrecht University  \n",
       "3               Faculty of Science, Utrecht University  \n",
       "4    German Research Center for Artificial Intellig...  \n",
       "..                                                 ...  \n",
       "943                                           Sberbank  \n",
       "944                                           Sberbank  \n",
       "945                                           Sberbank  \n",
       "946                                           Sberbank  \n",
       "947                                           Sberbank  \n",
       "\n",
       "[948 rows x 11 columns]"
      ]
     },
     "execution_count": 4,
     "metadata": {},
     "output_type": "execute_result"
    }
   ],
   "source": [
    "# lista=[]\n",
    "df_prueba['Organization'] = \"\"\n",
    "for d in range(len(df_prueba)):\n",
    "    for r in range(len(reports)):\n",
    "        if(df_prueba.loc[d]['Tupla'] == reports.loc[r]['Tupla']):\n",
    "#             print('si')\n",
    "#             print(reports.iloc[r]['Universidad/Organización'])\n",
    "#             lista.append(reports.loc[r]['Universidad/Organización'])\n",
    "             df_prueba.iloc[d]['Organization'] = reports.loc[r]['Universidad/Organización']\n",
    "    \n",
    "df_prueba.drop(['prueba'], axis=1)"
   ]
  },
  {
   "cell_type": "code",
   "execution_count": 5,
   "metadata": {},
   "outputs": [],
   "source": [
    "df_report_year = df_prueba.groupby(by=['Question', 'Year'])\n",
    "for name, group in df_report_year:\n",
    "    operations = group['concept:name'].to_list()\n",
    "    "
   ]
  },
  {
   "cell_type": "code",
   "execution_count": 13,
   "metadata": {},
   "outputs": [],
   "source": [
    "# df_jaccard['case:concept:name'] = 'hola'\n",
    "# df_jaccard"
   ]
  },
  {
   "cell_type": "code",
   "execution_count": 14,
   "metadata": {},
   "outputs": [],
   "source": [
    "# pip install -u pandas==1.2.1"
   ]
  },
  {
   "cell_type": "code",
   "execution_count": 7,
   "metadata": {},
   "outputs": [
    {
     "name": "stdout",
     "output_type": "stream",
     "text": [
      "Note: you may need to restart the kernel to use updated packages.\n"
     ]
    },
    {
     "name": "stderr",
     "output_type": "stream",
     "text": [
      "\n",
      "Usage:   \n",
      "  C:\\Users\\maria\\anaconda3\\python.exe -m pip install [options] <requirement specifier> [package-index-options] ...\n",
      "  C:\\Users\\maria\\anaconda3\\python.exe -m pip install [options] -r <requirements file> [package-index-options] ...\n",
      "  C:\\Users\\maria\\anaconda3\\python.exe -m pip install [options] [-e] <vcs project url> ...\n",
      "  C:\\Users\\maria\\anaconda3\\python.exe -m pip install [options] [-e] <local project path> ...\n",
      "  C:\\Users\\maria\\anaconda3\\python.exe -m pip install [options] <archive url/path> ...\n",
      "\n",
      "no such option: -u\n"
     ]
    }
   ],
   "source": [
    "#  pip install -u numpy==1.19.5"
   ]
  },
  {
   "cell_type": "code",
   "execution_count": 15,
   "metadata": {},
   "outputs": [
    {
     "name": "stdout",
     "output_type": "stream",
     "text": [
      "Note: you may need to restart the kernel to use updated packages.\n"
     ]
    },
    {
     "name": "stderr",
     "output_type": "stream",
     "text": [
      "ERROR: Could not open requirements file: [Errno 2] No such file or directory: '/test-requirements.txt'\n"
     ]
    }
   ],
   "source": [
    "# pip install -r /test-requirements.txt"
   ]
  },
  {
   "cell_type": "code",
   "execution_count": 5,
   "metadata": {},
   "outputs": [
    {
     "name": "stdout",
     "output_type": "stream",
     "text": [
      "Collecting pandas\n",
      "  Downloading pandas-1.3.4-cp37-cp37m-win_amd64.whl (10.0 MB)\n",
      "Requirement already satisfied, skipping upgrade: python-dateutil>=2.7.3 in c:\\users\\maria\\anaconda3\\lib\\site-packages (from pandas) (2.8.1)\n",
      "Requirement already satisfied, skipping upgrade: pytz>=2017.3 in c:\\users\\maria\\anaconda3\\lib\\site-packages (from pandas) (2019.3)\n",
      "Requirement already satisfied, skipping upgrade: numpy>=1.17.3; platform_machine != \"aarch64\" and platform_machine != \"arm64\" and python_version < \"3.10\" in c:\\users\\maria\\anaconda3\\lib\\site-packages (from pandas) (1.21.3)\n",
      "Requirement already satisfied, skipping upgrade: six>=1.5 in c:\\users\\maria\\anaconda3\\lib\\site-packages (from python-dateutil>=2.7.3->pandas) (1.14.0)\n",
      "Installing collected packages: pandas\n",
      "  Attempting uninstall: pandas\n",
      "    Found existing installation: pandas 1.0.1\n",
      "    Uninstalling pandas-1.0.1:\n",
      "      Successfully uninstalled pandas-1.0.1\n",
      "Note: you may need to restart the kernel to use updated packages.\n"
     ]
    },
    {
     "name": "stderr",
     "output_type": "stream",
     "text": [
      "ERROR: Could not install packages due to an EnvironmentError: [WinError 5] Acceso denegado: 'c:\\\\users\\\\maria\\\\anaconda3\\\\lib\\\\site-packages\\\\~andas\\\\_libs\\\\algos.cp37-win_amd64.pyd'\n",
      "Consider using the `--user` option or check the permissions.\n",
      "\n"
     ]
    }
   ],
   "source": [
    "# pip install --upgrade pandas"
   ]
  },
  {
   "cell_type": "code",
   "execution_count": 6,
   "metadata": {},
   "outputs": [],
   "source": [
    "df_agrupado = pd.DataFrame(columns=['case:concept:name','Operations','Organization', 'Year', 'Question'])"
   ]
  },
  {
   "cell_type": "code",
   "execution_count": 7,
   "metadata": {},
   "outputs": [],
   "source": [
    "df_analisis = df_prueba.groupby(by=['case:concept:name'])\n",
    "# columns=['case:concept:name','Operations','Organization', 'Year', 'Question']\n",
    "df_agrupado = pd.DataFrame(columns=['case:concept:name','Operations','Organization', 'Year', 'Question'])\n",
    "for name, group in df_analisis:\n",
    "    org = group.iloc[0]['Organization']\n",
    "    year = group.iloc[0]['Year']\n",
    "    question = group.iloc[0]['Question']\n",
    "    lista = group['concept:name'].to_list()\n",
    "        \n",
    "    new_row={'case:concept:name':name, 'Operations':lista, 'Organization':org, 'Year':year, 'Question':question} \n",
    "    df_agrupado = df_agrupado.append(new_row, ignore_index=True)"
   ]
  },
  {
   "cell_type": "code",
   "execution_count": 8,
   "metadata": {
    "scrolled": true
   },
   "outputs": [
    {
     "data": {
      "text/html": [
       "<div>\n",
       "<style scoped>\n",
       "    .dataframe tbody tr th:only-of-type {\n",
       "        vertical-align: middle;\n",
       "    }\n",
       "\n",
       "    .dataframe tbody tr th {\n",
       "        vertical-align: top;\n",
       "    }\n",
       "\n",
       "    .dataframe thead th {\n",
       "        text-align: right;\n",
       "    }\n",
       "</style>\n",
       "<table border=\"1\" class=\"dataframe\">\n",
       "  <thead>\n",
       "    <tr style=\"text-align: right;\">\n",
       "      <th></th>\n",
       "      <th>case:concept:name</th>\n",
       "      <th>Operations</th>\n",
       "      <th>Organization</th>\n",
       "      <th>Year</th>\n",
       "      <th>Question</th>\n",
       "    </tr>\n",
       "  </thead>\n",
       "  <tbody>\n",
       "    <tr>\n",
       "      <th>0</th>\n",
       "      <td>A1 P1 BPI 2017</td>\n",
       "      <td>[Calculate cycle time, Calculate cycle time, F...</td>\n",
       "      <td>University of Liechtenstein\\nVienna University...</td>\n",
       "      <td>2017</td>\n",
       "      <td>P1</td>\n",
       "    </tr>\n",
       "    <tr>\n",
       "      <th>1</th>\n",
       "      <td>A1 P1 BPI 2020</td>\n",
       "      <td>[Filter traces, Calculate cycle time, Calculat...</td>\n",
       "      <td>Technische Universität, Berlin</td>\n",
       "      <td>2020</td>\n",
       "      <td>P1</td>\n",
       "    </tr>\n",
       "    <tr>\n",
       "      <th>2</th>\n",
       "      <td>A1 P2 BPI 2019</td>\n",
       "      <td>[Group events by time, Calculate cycle time, R...</td>\n",
       "      <td>University of Melbourne</td>\n",
       "      <td>2019</td>\n",
       "      <td>P2</td>\n",
       "    </tr>\n",
       "    <tr>\n",
       "      <th>3</th>\n",
       "      <td>A1 P2 BPI 2020</td>\n",
       "      <td>[Calculate cycle time, Compare cycle time]</td>\n",
       "      <td>Technische Universität, Berlin</td>\n",
       "      <td>2020</td>\n",
       "      <td>P2</td>\n",
       "    </tr>\n",
       "    <tr>\n",
       "      <th>4</th>\n",
       "      <td>A1 P5 BPI 2015</td>\n",
       "      <td>[Calculate cycle time, Identify organizational...</td>\n",
       "      <td>Meijer &amp; Van der Ham Management Consultants</td>\n",
       "      <td>2015</td>\n",
       "      <td>P5</td>\n",
       "    </tr>\n",
       "    <tr>\n",
       "      <th>...</th>\n",
       "      <td>...</td>\n",
       "      <td>...</td>\n",
       "      <td>...</td>\n",
       "      <td>...</td>\n",
       "      <td>...</td>\n",
       "    </tr>\n",
       "    <tr>\n",
       "      <th>121</th>\n",
       "      <td>A8 P1 BPI 2017</td>\n",
       "      <td>[Filter traces, Calculate waiting time, Repres...</td>\n",
       "      <td>Universidade Federal do Estado do Rio de Janeiro</td>\n",
       "      <td>2017</td>\n",
       "      <td>P1</td>\n",
       "    </tr>\n",
       "    <tr>\n",
       "      <th>122</th>\n",
       "      <td>A8 P5 BPI 2015</td>\n",
       "      <td>[Calculate cycle time, Compare cycle time, Gro...</td>\n",
       "      <td>GRADIENT ECM</td>\n",
       "      <td>2015</td>\n",
       "      <td>P5</td>\n",
       "    </tr>\n",
       "    <tr>\n",
       "      <th>123</th>\n",
       "      <td>A9 P1 BPI 2017</td>\n",
       "      <td>[Calculate processing time, Calculate waiting ...</td>\n",
       "      <td>POSTECH</td>\n",
       "      <td>2017</td>\n",
       "      <td>P1</td>\n",
       "    </tr>\n",
       "    <tr>\n",
       "      <th>124</th>\n",
       "      <td>A9 P2 BPI 2019</td>\n",
       "      <td>[Filter traces, Calculate cycle time, Identify...</td>\n",
       "      <td>KPMG Netherlands</td>\n",
       "      <td>2019</td>\n",
       "      <td>P2</td>\n",
       "    </tr>\n",
       "    <tr>\n",
       "      <th>125</th>\n",
       "      <td>A9 P5 BPI 2015</td>\n",
       "      <td>[Filter traces, Calculate cycle time, Group tr...</td>\n",
       "      <td>APPS(Advanced Process Performance reSearch cen...</td>\n",
       "      <td>2015</td>\n",
       "      <td>P5</td>\n",
       "    </tr>\n",
       "  </tbody>\n",
       "</table>\n",
       "<p>126 rows × 5 columns</p>\n",
       "</div>"
      ],
      "text/plain": [
       "    case:concept:name                                         Operations  \\\n",
       "0      A1 P1 BPI 2017  [Calculate cycle time, Calculate cycle time, F...   \n",
       "1      A1 P1 BPI 2020  [Filter traces, Calculate cycle time, Calculat...   \n",
       "2      A1 P2 BPI 2019  [Group events by time, Calculate cycle time, R...   \n",
       "3      A1 P2 BPI 2020         [Calculate cycle time, Compare cycle time]   \n",
       "4      A1 P5 BPI 2015  [Calculate cycle time, Identify organizational...   \n",
       "..                ...                                                ...   \n",
       "121    A8 P1 BPI 2017  [Filter traces, Calculate waiting time, Repres...   \n",
       "122    A8 P5 BPI 2015  [Calculate cycle time, Compare cycle time, Gro...   \n",
       "123    A9 P1 BPI 2017  [Calculate processing time, Calculate waiting ...   \n",
       "124    A9 P2 BPI 2019  [Filter traces, Calculate cycle time, Identify...   \n",
       "125    A9 P5 BPI 2015  [Filter traces, Calculate cycle time, Group tr...   \n",
       "\n",
       "                                          Organization  Year Question  \n",
       "0    University of Liechtenstein\\nVienna University...  2017       P1  \n",
       "1                       Technische Universität, Berlin  2020       P1  \n",
       "2                              University of Melbourne  2019       P2  \n",
       "3                       Technische Universität, Berlin  2020       P2  \n",
       "4          Meijer & Van der Ham Management Consultants  2015       P5  \n",
       "..                                                 ...   ...      ...  \n",
       "121   Universidade Federal do Estado do Rio de Janeiro  2017       P1  \n",
       "122                                       GRADIENT ECM  2015       P5  \n",
       "123                                            POSTECH  2017       P1  \n",
       "124                                   KPMG Netherlands  2019       P2  \n",
       "125  APPS(Advanced Process Performance reSearch cen...  2015       P5  \n",
       "\n",
       "[126 rows x 5 columns]"
      ]
     },
     "execution_count": 8,
     "metadata": {},
     "output_type": "execute_result"
    }
   ],
   "source": [
    "df_agrupado"
   ]
  },
  {
   "cell_type": "code",
   "execution_count": null,
   "metadata": {},
   "outputs": [],
   "source": [
    "# def jaccardIndex(list1,list2):\n",
    "#     set1=set(list1)\n",
    "#     set2=set(list2)\n",
    "#     intersection = set1.intersection(set2)\n",
    "#     tamIntersection=len(list(intersection))\n",
    "#     union = set1.union(set2)\n",
    "#     tamUnion=len(list(union))\n",
    "# #     print(\"similitud: \"+str(float(tamIntersection)/tamUnion))\n",
    "#     return float(tamIntersection)/tamUnion"
   ]
  },
  {
   "cell_type": "code",
   "execution_count": 23,
   "metadata": {},
   "outputs": [],
   "source": [
    "# df2 = df_agrupado.groupby(by=['Year', 'Question'])\n",
    "# columns=['analisis','organizaciones','jaccard']\n",
    "# df_jaccard = pd.DataFrame(columns=columns)\n",
    "\n",
    "# for name, group in df2:\n",
    "#     for i in range(len(group)-1):\n",
    "#         if(group.iloc[i]['Organization'] != 'Sberbank'):\n",
    "#             org1 = 'No_Sberbank'\n",
    "#         else:\n",
    "#             org1 = 'Sberbank'\n",
    "        \n",
    "#         for j in range(i+1,len(group)-1):\n",
    "#             grupo = group.iloc[i]['Operations']\n",
    "#             analisis = group.iloc[i]['case:concept:name'] + \"-\" + group.iloc[j]['case:concept:name']\n",
    "                \n",
    "#             if(group.iloc[j]['Organization'] != 'Sberbank'):\n",
    "#                 org2 = 'No_Sberbank'\n",
    "#             else:\n",
    "#                 org2 = 'Sberbank'\n",
    "#             org = org1 + \"-\" + org2\n",
    "#             jaccard = jaccardIndex(grupo,group.iloc[j]['Operations'])\n",
    "#             new_row={'analisis':analisis,'organizaciones':org,'jaccard': jaccard} \n",
    "#             df_jaccard = df_jaccard.append(new_row, ignore_index=True)\n",
    "        \n"
   ]
  },
  {
   "cell_type": "code",
   "execution_count": null,
   "metadata": {},
   "outputs": [],
   "source": [
    "# df_jaccard = df_jaccard.replace({'Sberbank-No_Sberbank':'No_Sberbank-Sberbank'})"
   ]
  },
  {
   "cell_type": "code",
   "execution_count": 22,
   "metadata": {},
   "outputs": [],
   "source": [
    "# df_jaccard.groupby(by=['organizaciones']).mean()"
   ]
  },
  {
   "cell_type": "code",
   "execution_count": 24,
   "metadata": {},
   "outputs": [],
   "source": [
    "# from scipy import stats\n",
    "\n",
    "# group1 =  df_jaccard['organizaciones'] == 'Sberbank-Sberbank'\n",
    "# group2 =  df_jaccard['organizaciones'] == 'No_Sberbank-Sberbank'\n",
    "# group3 =  df_jaccard['organizaciones'] == 'No_Sberbank-No_Sberbank'\n",
    "# stats.kruskal(group1, group2, group3)\n",
    "\n",
    "# # (statistic=6.2878, pvalue=0.0431)"
   ]
  },
  {
   "cell_type": "code",
   "execution_count": null,
   "metadata": {},
   "outputs": [],
   "source": [
    "# stats.kruskal(group1, group2)"
   ]
  },
  {
   "cell_type": "code",
   "execution_count": null,
   "metadata": {},
   "outputs": [],
   "source": [
    "# stats.kruskal(group2, group3)"
   ]
  },
  {
   "cell_type": "code",
   "execution_count": null,
   "metadata": {},
   "outputs": [],
   "source": [
    "# stats.kruskal(group1, group3)"
   ]
  },
  {
   "cell_type": "code",
   "execution_count": 9,
   "metadata": {},
   "outputs": [],
   "source": [
    "def overlapIndex(list1,list2):\n",
    "    set1=set(list1)\n",
    "    set2=set(list2)\n",
    "    intersection = set1.intersection(set2)\n",
    "    len1=len(list(set1))\n",
    "    len2=len(list(set2))\n",
    "#     print(float(len(list(intersection))))\n",
    "#     print(min([len1,len2]))\n",
    "    overlapIndex=float(len(list(intersection)))/min([len1,len2])\n",
    "    return overlapIndex"
   ]
  },
  {
   "cell_type": "code",
   "execution_count": 10,
   "metadata": {},
   "outputs": [],
   "source": [
    "df2 = df_agrupado.groupby(by=['Year', 'Question'])\n",
    "columns=['analisis','organizaciones','overlap']\n",
    "df_overlap = pd.DataFrame(columns=columns)\n",
    "\n",
    "for name, group in df2:\n",
    "    for i in range(len(group)):\n",
    "        if(group.iloc[i]['Organization'] != 'Sberbank'):\n",
    "            org1 = 'No_Sberbank'\n",
    "        else:\n",
    "            org1 = 'Sberbank'\n",
    "        \n",
    "        for j in range(i+1,len(group)):\n",
    "            grupo = group.iloc[i]['Operations']\n",
    "            analisis = group.iloc[i]['case:concept:name'] + \"-\" + group.iloc[j]['case:concept:name']\n",
    "                \n",
    "            if(group.iloc[j]['Organization'] != 'Sberbank'):\n",
    "                org2 = 'No_Sberbank'\n",
    "            else:\n",
    "                org2 = 'Sberbank'\n",
    "            org = org1 + \"-\" + org2\n",
    "            overlap = overlapIndex(grupo,group.iloc[j]['Operations'])\n",
    "            new_row={'analisis':analisis,'organizaciones':org,'overlap': overlap} \n",
    "            df_overlap = df_overlap.append(new_row, ignore_index=True)\n",
    "            \n",
    "        \n",
    "df_overlap = df_overlap.replace({'Sberbank-No_Sberbank':'No_Sberbank-Sberbank'})"
   ]
  },
  {
   "cell_type": "code",
   "execution_count": 11,
   "metadata": {},
   "outputs": [
    {
     "data": {
      "text/html": [
       "<div>\n",
       "<style scoped>\n",
       "    .dataframe tbody tr th:only-of-type {\n",
       "        vertical-align: middle;\n",
       "    }\n",
       "\n",
       "    .dataframe tbody tr th {\n",
       "        vertical-align: top;\n",
       "    }\n",
       "\n",
       "    .dataframe thead th {\n",
       "        text-align: right;\n",
       "    }\n",
       "</style>\n",
       "<table border=\"1\" class=\"dataframe\">\n",
       "  <thead>\n",
       "    <tr style=\"text-align: right;\">\n",
       "      <th></th>\n",
       "      <th>analisis</th>\n",
       "      <th>organizaciones</th>\n",
       "      <th>overlap</th>\n",
       "    </tr>\n",
       "  </thead>\n",
       "  <tbody>\n",
       "    <tr>\n",
       "      <th>0</th>\n",
       "      <td>A1 P5 BPI 2015-A2 P5 BPI 2015</td>\n",
       "      <td>No_Sberbank-No_Sberbank</td>\n",
       "      <td>0.250000</td>\n",
       "    </tr>\n",
       "    <tr>\n",
       "      <th>1</th>\n",
       "      <td>A1 P5 BPI 2015-A3 P5 BPI 2015</td>\n",
       "      <td>No_Sberbank-No_Sberbank</td>\n",
       "      <td>0.166667</td>\n",
       "    </tr>\n",
       "    <tr>\n",
       "      <th>2</th>\n",
       "      <td>A1 P5 BPI 2015-A4 P5 BPI 2015</td>\n",
       "      <td>No_Sberbank-No_Sberbank</td>\n",
       "      <td>0.250000</td>\n",
       "    </tr>\n",
       "    <tr>\n",
       "      <th>3</th>\n",
       "      <td>A1 P5 BPI 2015-A5 P5 BPI 2015</td>\n",
       "      <td>No_Sberbank-No_Sberbank</td>\n",
       "      <td>0.571429</td>\n",
       "    </tr>\n",
       "    <tr>\n",
       "      <th>4</th>\n",
       "      <td>A1 P5 BPI 2015-A6 P5 BPI 2015</td>\n",
       "      <td>No_Sberbank-No_Sberbank</td>\n",
       "      <td>0.428571</td>\n",
       "    </tr>\n",
       "    <tr>\n",
       "      <th>...</th>\n",
       "      <td>...</td>\n",
       "      <td>...</td>\n",
       "      <td>...</td>\n",
       "    </tr>\n",
       "    <tr>\n",
       "      <th>981</th>\n",
       "      <td>A30 P6 BPI 2020-A37 P6 BPI 2020</td>\n",
       "      <td>No_Sberbank-Sberbank</td>\n",
       "      <td>0.333333</td>\n",
       "    </tr>\n",
       "    <tr>\n",
       "      <th>982</th>\n",
       "      <td>A30 P6 BPI 2020-A7 P6 BPI 2020</td>\n",
       "      <td>No_Sberbank-No_Sberbank</td>\n",
       "      <td>0.666667</td>\n",
       "    </tr>\n",
       "    <tr>\n",
       "      <th>983</th>\n",
       "      <td>A35 P6 BPI 2020-A37 P6 BPI 2020</td>\n",
       "      <td>No_Sberbank-Sberbank</td>\n",
       "      <td>0.000000</td>\n",
       "    </tr>\n",
       "    <tr>\n",
       "      <th>984</th>\n",
       "      <td>A35 P6 BPI 2020-A7 P6 BPI 2020</td>\n",
       "      <td>No_Sberbank-No_Sberbank</td>\n",
       "      <td>0.500000</td>\n",
       "    </tr>\n",
       "    <tr>\n",
       "      <th>985</th>\n",
       "      <td>A37 P6 BPI 2020-A7 P6 BPI 2020</td>\n",
       "      <td>No_Sberbank-Sberbank</td>\n",
       "      <td>0.333333</td>\n",
       "    </tr>\n",
       "  </tbody>\n",
       "</table>\n",
       "<p>986 rows × 3 columns</p>\n",
       "</div>"
      ],
      "text/plain": [
       "                            analisis           organizaciones   overlap\n",
       "0      A1 P5 BPI 2015-A2 P5 BPI 2015  No_Sberbank-No_Sberbank  0.250000\n",
       "1      A1 P5 BPI 2015-A3 P5 BPI 2015  No_Sberbank-No_Sberbank  0.166667\n",
       "2      A1 P5 BPI 2015-A4 P5 BPI 2015  No_Sberbank-No_Sberbank  0.250000\n",
       "3      A1 P5 BPI 2015-A5 P5 BPI 2015  No_Sberbank-No_Sberbank  0.571429\n",
       "4      A1 P5 BPI 2015-A6 P5 BPI 2015  No_Sberbank-No_Sberbank  0.428571\n",
       "..                               ...                      ...       ...\n",
       "981  A30 P6 BPI 2020-A37 P6 BPI 2020     No_Sberbank-Sberbank  0.333333\n",
       "982   A30 P6 BPI 2020-A7 P6 BPI 2020  No_Sberbank-No_Sberbank  0.666667\n",
       "983  A35 P6 BPI 2020-A37 P6 BPI 2020     No_Sberbank-Sberbank  0.000000\n",
       "984   A35 P6 BPI 2020-A7 P6 BPI 2020  No_Sberbank-No_Sberbank  0.500000\n",
       "985   A37 P6 BPI 2020-A7 P6 BPI 2020     No_Sberbank-Sberbank  0.333333\n",
       "\n",
       "[986 rows x 3 columns]"
      ]
     },
     "execution_count": 11,
     "metadata": {},
     "output_type": "execute_result"
    }
   ],
   "source": [
    "df_overlap"
   ]
  },
  {
   "cell_type": "code",
   "execution_count": 25,
   "metadata": {},
   "outputs": [],
   "source": [
    "df2 = df_agrupado.groupby(by=['Year', 'Question'])\n",
    "columns=['analisis','question','overlap']\n",
    "df_overlap_preguntas = pd.DataFrame(columns=columns)\n",
    "\n",
    "for name, group in df2:\n",
    "#     print(name[1])\n",
    "    for i in range(len(group)):\n",
    "#         if(group.iloc[i]['Organization'] != 'Sberbank'):\n",
    "#             org1 = 'No_Sberbank'\n",
    "#         else:\n",
    "#             org1 = 'Sberbank'\n",
    "        \n",
    "        for j in range(i+1,len(group)):\n",
    "            grupo = group.iloc[i]['Operations']\n",
    "            analisis = group.iloc[i]['case:concept:name'] + \"-\" + group.iloc[j]['case:concept:name']\n",
    "                \n",
    "#             if(group.iloc[j]['Organization'] != 'Sberbank'):\n",
    "#                 org2 = 'No_Sberbank'\n",
    "#             else:\n",
    "#                 org2 = 'Sberbank'\n",
    "#             org = org1 + \"-\" + org2\n",
    "            question = name[1] + name[0]\n",
    "            overlap = overlapIndex(grupo,group.iloc[j]['Operations'])\n",
    "            new_row={'analisis':analisis, 'question':question, 'overlap': overlap} \n",
    "            df_overlap_preguntas = df_overlap_preguntas.append(new_row, ignore_index=True)"
   ]
  },
  {
   "cell_type": "code",
   "execution_count": 26,
   "metadata": {},
   "outputs": [
    {
     "data": {
      "text/html": [
       "<div>\n",
       "<style scoped>\n",
       "    .dataframe tbody tr th:only-of-type {\n",
       "        vertical-align: middle;\n",
       "    }\n",
       "\n",
       "    .dataframe tbody tr th {\n",
       "        vertical-align: top;\n",
       "    }\n",
       "\n",
       "    .dataframe thead th {\n",
       "        text-align: right;\n",
       "    }\n",
       "</style>\n",
       "<table border=\"1\" class=\"dataframe\">\n",
       "  <thead>\n",
       "    <tr style=\"text-align: right;\">\n",
       "      <th></th>\n",
       "      <th>analisis</th>\n",
       "      <th>question</th>\n",
       "      <th>overlap</th>\n",
       "    </tr>\n",
       "  </thead>\n",
       "  <tbody>\n",
       "    <tr>\n",
       "      <th>0</th>\n",
       "      <td>A1 P5 BPI 2015-A2 P5 BPI 2015</td>\n",
       "      <td>P52015</td>\n",
       "      <td>0.250000</td>\n",
       "    </tr>\n",
       "    <tr>\n",
       "      <th>1</th>\n",
       "      <td>A1 P5 BPI 2015-A3 P5 BPI 2015</td>\n",
       "      <td>P52015</td>\n",
       "      <td>0.166667</td>\n",
       "    </tr>\n",
       "    <tr>\n",
       "      <th>2</th>\n",
       "      <td>A1 P5 BPI 2015-A4 P5 BPI 2015</td>\n",
       "      <td>P52015</td>\n",
       "      <td>0.250000</td>\n",
       "    </tr>\n",
       "    <tr>\n",
       "      <th>3</th>\n",
       "      <td>A1 P5 BPI 2015-A5 P5 BPI 2015</td>\n",
       "      <td>P52015</td>\n",
       "      <td>0.571429</td>\n",
       "    </tr>\n",
       "    <tr>\n",
       "      <th>4</th>\n",
       "      <td>A1 P5 BPI 2015-A6 P5 BPI 2015</td>\n",
       "      <td>P52015</td>\n",
       "      <td>0.428571</td>\n",
       "    </tr>\n",
       "    <tr>\n",
       "      <th>...</th>\n",
       "      <td>...</td>\n",
       "      <td>...</td>\n",
       "      <td>...</td>\n",
       "    </tr>\n",
       "    <tr>\n",
       "      <th>981</th>\n",
       "      <td>A30 P6 BPI 2020-A37 P6 BPI 2020</td>\n",
       "      <td>P62020</td>\n",
       "      <td>0.333333</td>\n",
       "    </tr>\n",
       "    <tr>\n",
       "      <th>982</th>\n",
       "      <td>A30 P6 BPI 2020-A7 P6 BPI 2020</td>\n",
       "      <td>P62020</td>\n",
       "      <td>0.666667</td>\n",
       "    </tr>\n",
       "    <tr>\n",
       "      <th>983</th>\n",
       "      <td>A35 P6 BPI 2020-A37 P6 BPI 2020</td>\n",
       "      <td>P62020</td>\n",
       "      <td>0.000000</td>\n",
       "    </tr>\n",
       "    <tr>\n",
       "      <th>984</th>\n",
       "      <td>A35 P6 BPI 2020-A7 P6 BPI 2020</td>\n",
       "      <td>P62020</td>\n",
       "      <td>0.500000</td>\n",
       "    </tr>\n",
       "    <tr>\n",
       "      <th>985</th>\n",
       "      <td>A37 P6 BPI 2020-A7 P6 BPI 2020</td>\n",
       "      <td>P62020</td>\n",
       "      <td>0.333333</td>\n",
       "    </tr>\n",
       "  </tbody>\n",
       "</table>\n",
       "<p>986 rows × 3 columns</p>\n",
       "</div>"
      ],
      "text/plain": [
       "                            analisis question   overlap\n",
       "0      A1 P5 BPI 2015-A2 P5 BPI 2015   P52015  0.250000\n",
       "1      A1 P5 BPI 2015-A3 P5 BPI 2015   P52015  0.166667\n",
       "2      A1 P5 BPI 2015-A4 P5 BPI 2015   P52015  0.250000\n",
       "3      A1 P5 BPI 2015-A5 P5 BPI 2015   P52015  0.571429\n",
       "4      A1 P5 BPI 2015-A6 P5 BPI 2015   P52015  0.428571\n",
       "..                               ...      ...       ...\n",
       "981  A30 P6 BPI 2020-A37 P6 BPI 2020   P62020  0.333333\n",
       "982   A30 P6 BPI 2020-A7 P6 BPI 2020   P62020  0.666667\n",
       "983  A35 P6 BPI 2020-A37 P6 BPI 2020   P62020  0.000000\n",
       "984   A35 P6 BPI 2020-A7 P6 BPI 2020   P62020  0.500000\n",
       "985   A37 P6 BPI 2020-A7 P6 BPI 2020   P62020  0.333333\n",
       "\n",
       "[986 rows x 3 columns]"
      ]
     },
     "execution_count": 26,
     "metadata": {},
     "output_type": "execute_result"
    }
   ],
   "source": [
    "df_overlap_preguntas"
   ]
  },
  {
   "cell_type": "code",
   "execution_count": 27,
   "metadata": {},
   "outputs": [
    {
     "data": {
      "text/html": [
       "<div>\n",
       "<style scoped>\n",
       "    .dataframe tbody tr th:only-of-type {\n",
       "        vertical-align: middle;\n",
       "    }\n",
       "\n",
       "    .dataframe tbody tr th {\n",
       "        vertical-align: top;\n",
       "    }\n",
       "\n",
       "    .dataframe thead th {\n",
       "        text-align: right;\n",
       "    }\n",
       "</style>\n",
       "<table border=\"1\" class=\"dataframe\">\n",
       "  <thead>\n",
       "    <tr style=\"text-align: right;\">\n",
       "      <th></th>\n",
       "      <th>overlap</th>\n",
       "    </tr>\n",
       "    <tr>\n",
       "      <th>question</th>\n",
       "      <th></th>\n",
       "    </tr>\n",
       "  </thead>\n",
       "  <tbody>\n",
       "    <tr>\n",
       "      <th>P12017</th>\n",
       "      <td>0.558486</td>\n",
       "    </tr>\n",
       "    <tr>\n",
       "      <th>P12020</th>\n",
       "      <td>0.492063</td>\n",
       "    </tr>\n",
       "    <tr>\n",
       "      <th>P22019</th>\n",
       "      <td>0.582640</td>\n",
       "    </tr>\n",
       "    <tr>\n",
       "      <th>P22020</th>\n",
       "      <td>0.394662</td>\n",
       "    </tr>\n",
       "    <tr>\n",
       "      <th>P42020</th>\n",
       "      <td>0.344258</td>\n",
       "    </tr>\n",
       "    <tr>\n",
       "      <th>P52015</th>\n",
       "      <td>0.480655</td>\n",
       "    </tr>\n",
       "    <tr>\n",
       "      <th>P52020</th>\n",
       "      <td>0.654631</td>\n",
       "    </tr>\n",
       "    <tr>\n",
       "      <th>P62020</th>\n",
       "      <td>0.597009</td>\n",
       "    </tr>\n",
       "  </tbody>\n",
       "</table>\n",
       "</div>"
      ],
      "text/plain": [
       "           overlap\n",
       "question          \n",
       "P12017    0.558486\n",
       "P12020    0.492063\n",
       "P22019    0.582640\n",
       "P22020    0.394662\n",
       "P42020    0.344258\n",
       "P52015    0.480655\n",
       "P52020    0.654631\n",
       "P62020    0.597009"
      ]
     },
     "execution_count": 27,
     "metadata": {},
     "output_type": "execute_result"
    }
   ],
   "source": [
    "df_overlap_preguntas.groupby(by=['question']).mean()"
   ]
  },
  {
   "cell_type": "code",
   "execution_count": 27,
   "metadata": {},
   "outputs": [],
   "source": [
    "# df_overlap = df_overlap.replace({'Sberbank-No_Sberbank':'No_Sberbank-Sberbank'})"
   ]
  },
  {
   "cell_type": "code",
   "execution_count": 21,
   "metadata": {},
   "outputs": [
    {
     "data": {
      "text/html": [
       "<div>\n",
       "<style scoped>\n",
       "    .dataframe tbody tr th:only-of-type {\n",
       "        vertical-align: middle;\n",
       "    }\n",
       "\n",
       "    .dataframe tbody tr th {\n",
       "        vertical-align: top;\n",
       "    }\n",
       "\n",
       "    .dataframe thead th {\n",
       "        text-align: right;\n",
       "    }\n",
       "</style>\n",
       "<table border=\"1\" class=\"dataframe\">\n",
       "  <thead>\n",
       "    <tr style=\"text-align: right;\">\n",
       "      <th></th>\n",
       "      <th>overlap</th>\n",
       "    </tr>\n",
       "    <tr>\n",
       "      <th>organizaciones</th>\n",
       "      <th></th>\n",
       "    </tr>\n",
       "  </thead>\n",
       "  <tbody>\n",
       "    <tr>\n",
       "      <th>No_Sberbank-No_Sberbank</th>\n",
       "      <td>0.544469</td>\n",
       "    </tr>\n",
       "    <tr>\n",
       "      <th>No_Sberbank-Sberbank</th>\n",
       "      <td>0.491490</td>\n",
       "    </tr>\n",
       "    <tr>\n",
       "      <th>Sberbank-Sberbank</th>\n",
       "      <td>0.421026</td>\n",
       "    </tr>\n",
       "  </tbody>\n",
       "</table>\n",
       "</div>"
      ],
      "text/plain": [
       "                          overlap\n",
       "organizaciones                   \n",
       "No_Sberbank-No_Sberbank  0.544469\n",
       "No_Sberbank-Sberbank     0.491490\n",
       "Sberbank-Sberbank        0.421026"
      ]
     },
     "execution_count": 21,
     "metadata": {},
     "output_type": "execute_result"
    }
   ],
   "source": [
    "df_overlap.groupby(by=['organizaciones']).mean()"
   ]
  },
  {
   "cell_type": "code",
   "execution_count": null,
   "metadata": {},
   "outputs": [],
   "source": [
    "df_overlap.groupby(by=['organizaciones'])['overlap'].var(ddof=0)"
   ]
  },
  {
   "cell_type": "code",
   "execution_count": null,
   "metadata": {},
   "outputs": [],
   "source": [
    "df_overlap.groupby(by=['organizaciones'])['overlap'].var(ddof=0)\n",
    "df_overlap.groupby(by=['organizaciones'])['overlap'].std(ddof=0)"
   ]
  },
  {
   "cell_type": "code",
   "execution_count": 9,
   "metadata": {},
   "outputs": [
    {
     "ename": "NameError",
     "evalue": "name 'df_overlap' is not defined",
     "output_type": "error",
     "traceback": [
      "\u001b[1;31m---------------------------------------------------------------------------\u001b[0m",
      "\u001b[1;31mNameError\u001b[0m                                 Traceback (most recent call last)",
      "\u001b[1;32m<ipython-input-9-8c22ba7fed98>\u001b[0m in \u001b[0;36m<module>\u001b[1;34m\u001b[0m\n\u001b[0;32m      1\u001b[0m \u001b[1;32mfrom\u001b[0m \u001b[0mscipy\u001b[0m \u001b[1;32mimport\u001b[0m \u001b[0mstats\u001b[0m\u001b[1;33m\u001b[0m\u001b[1;33m\u001b[0m\u001b[0m\n\u001b[0;32m      2\u001b[0m \u001b[1;33m\u001b[0m\u001b[0m\n\u001b[1;32m----> 3\u001b[1;33m \u001b[0mgroup1\u001b[0m \u001b[1;33m=\u001b[0m  \u001b[0mdf_overlap\u001b[0m\u001b[1;33m[\u001b[0m\u001b[0mdf_overlap\u001b[0m\u001b[1;33m[\u001b[0m\u001b[1;34m'organizaciones'\u001b[0m\u001b[1;33m]\u001b[0m \u001b[1;33m==\u001b[0m \u001b[1;34m'Sberbank-Sberbank'\u001b[0m\u001b[1;33m]\u001b[0m\u001b[1;33m[\u001b[0m\u001b[1;34m'overlap'\u001b[0m\u001b[1;33m]\u001b[0m\u001b[1;33m\u001b[0m\u001b[1;33m\u001b[0m\u001b[0m\n\u001b[0m\u001b[0;32m      4\u001b[0m \u001b[0mgroup2\u001b[0m \u001b[1;33m=\u001b[0m  \u001b[0mdf_overlap\u001b[0m\u001b[1;33m[\u001b[0m\u001b[0mdf_overlap\u001b[0m\u001b[1;33m[\u001b[0m\u001b[1;34m'organizaciones'\u001b[0m\u001b[1;33m]\u001b[0m \u001b[1;33m==\u001b[0m \u001b[1;34m'No_Sberbank-Sberbank'\u001b[0m\u001b[1;33m]\u001b[0m\u001b[1;33m[\u001b[0m\u001b[1;34m'overlap'\u001b[0m\u001b[1;33m]\u001b[0m\u001b[1;33m\u001b[0m\u001b[1;33m\u001b[0m\u001b[0m\n\u001b[0;32m      5\u001b[0m \u001b[0mgroup3\u001b[0m \u001b[1;33m=\u001b[0m  \u001b[0mdf_overlap\u001b[0m\u001b[1;33m[\u001b[0m\u001b[0mdf_overlap\u001b[0m\u001b[1;33m[\u001b[0m\u001b[1;34m'organizaciones'\u001b[0m\u001b[1;33m]\u001b[0m \u001b[1;33m==\u001b[0m \u001b[1;34m'No_Sberbank-No_Sberbank'\u001b[0m\u001b[1;33m]\u001b[0m\u001b[1;33m[\u001b[0m\u001b[1;34m'overlap'\u001b[0m\u001b[1;33m]\u001b[0m\u001b[1;33m\u001b[0m\u001b[1;33m\u001b[0m\u001b[0m\n",
      "\u001b[1;31mNameError\u001b[0m: name 'df_overlap' is not defined"
     ]
    }
   ],
   "source": [
    "from scipy import stats\n",
    "\n",
    "group1 =  df_overlap[df_overlap['organizaciones'] == 'Sberbank-Sberbank']['overlap']\n",
    "group2 =  df_overlap[df_overlap['organizaciones'] == 'No_Sberbank-Sberbank']['overlap']\n",
    "group3 =  df_overlap[df_overlap['organizaciones'] == 'No_Sberbank-No_Sberbank']['overlap']\n",
    "# stats.kruskal(group1, group2, group3)\n",
    "\n",
    "# (statistic=6.2878, pvalue=0.0431)"
   ]
  },
  {
   "cell_type": "code",
   "execution_count": null,
   "metadata": {},
   "outputs": [],
   "source": []
  },
  {
   "cell_type": "code",
   "execution_count": 28,
   "metadata": {},
   "outputs": [
    {
     "data": {
      "text/plain": [
       "KruskalResult(statistic=13.713212339937886, pvalue=0.0002129510881495089)"
      ]
     },
     "execution_count": 28,
     "metadata": {},
     "output_type": "execute_result"
    }
   ],
   "source": [
    "stats.kruskal(group1, group3)"
   ]
  },
  {
   "cell_type": "code",
   "execution_count": 29,
   "metadata": {},
   "outputs": [
    {
     "data": {
      "text/plain": [
       "KruskalResult(statistic=4.409514387221742, pvalue=0.03573901359116791)"
      ]
     },
     "execution_count": 29,
     "metadata": {},
     "output_type": "execute_result"
    }
   ],
   "source": [
    "stats.kruskal(group3, group2)"
   ]
  },
  {
   "cell_type": "code",
   "execution_count": null,
   "metadata": {
    "scrolled": true
   },
   "outputs": [],
   "source": [
    "p = df_overlap[df_overlap['organizaciones'] == 'Sberbank-Sberbank']\n",
    "p[p['overlap'] == 1]"
   ]
  },
  {
   "cell_type": "code",
   "execution_count": 30,
   "metadata": {
    "scrolled": true
   },
   "outputs": [
    {
     "name": "stdout",
     "output_type": "stream",
     "text": [
      "Processing c:\\users\\maria\\appdata\\local\\pip\\cache\\wheels\\14\\46\\f9\\cedd81d68d2515c24bbbd000d5b347e4fe092ccc4b568f7f70\\pingouin-0.5.0-py3-none-any.whl\n",
      "Requirement already satisfied: pandas>=1.0 in c:\\users\\maria\\anaconda3\\lib\\site-packages (from Pingouin) (1.3.4)\n",
      "Requirement already satisfied: seaborn>=0.9.0 in c:\\users\\maria\\anaconda3\\lib\\site-packages (from Pingouin) (0.11.1)\n",
      "Requirement already satisfied: scikit-learn in c:\\users\\maria\\anaconda3\\lib\\site-packages (from Pingouin) (0.22.1)\n",
      "Requirement already satisfied: matplotlib>=3.0.2 in c:\\users\\maria\\anaconda3\\lib\\site-packages (from Pingouin) (3.1.3)\n",
      "Collecting scipy>=1.7\n",
      "  Using cached scipy-1.7.1-cp37-cp37m-win_amd64.whl (33.6 MB)\n",
      "Collecting pandas-flavor>=0.2.0\n",
      "  Using cached pandas_flavor-0.2.0-py2.py3-none-any.whl (6.6 kB)\n",
      "Collecting outdated\n",
      "  Using cached outdated-0.2.1-py3-none-any.whl (7.5 kB)\n",
      "Requirement already satisfied: numpy>=1.19 in c:\\users\\maria\\anaconda3\\lib\\site-packages (from Pingouin) (1.21.3)\n",
      "Collecting tabulate\n",
      "  Using cached tabulate-0.8.9-py3-none-any.whl (25 kB)\n",
      "Collecting statsmodels>=0.12.0\n",
      "  Using cached statsmodels-0.13.0-cp37-none-win_amd64.whl (9.4 MB)\n",
      "Requirement already satisfied: pytz>=2017.3 in c:\\users\\maria\\anaconda3\\lib\\site-packages (from pandas>=1.0->Pingouin) (2019.3)\n",
      "Requirement already satisfied: python-dateutil>=2.7.3 in c:\\users\\maria\\anaconda3\\lib\\site-packages (from pandas>=1.0->Pingouin) (2.8.1)\n",
      "Requirement already satisfied: joblib>=0.11 in c:\\users\\maria\\anaconda3\\lib\\site-packages (from scikit-learn->Pingouin) (0.14.1)\n",
      "Requirement already satisfied: pyparsing!=2.0.4,!=2.1.2,!=2.1.6,>=2.0.1 in c:\\users\\maria\\anaconda3\\lib\\site-packages (from matplotlib>=3.0.2->Pingouin) (2.4.6)\n",
      "Requirement already satisfied: kiwisolver>=1.0.1 in c:\\users\\maria\\anaconda3\\lib\\site-packages (from matplotlib>=3.0.2->Pingouin) (1.1.0)\n",
      "Requirement already satisfied: cycler>=0.10 in c:\\users\\maria\\anaconda3\\lib\\site-packages (from matplotlib>=3.0.2->Pingouin) (0.10.0)\n",
      "Collecting xarray\n",
      "  Using cached xarray-0.19.0-py3-none-any.whl (827 kB)\n",
      "Requirement already satisfied: requests in c:\\users\\maria\\anaconda3\\lib\\site-packages (from outdated->Pingouin) (2.22.0)\n",
      "Processing c:\\users\\maria\\appdata\\local\\pip\\cache\\wheels\\d6\\64\\cd\\32819b511a488e4993f2fab909a95330289c3f4e0f6ef4676d\\littleutils-0.2.2-py3-none-any.whl\n",
      "Collecting patsy>=0.5.2\n",
      "  Using cached patsy-0.5.2-py2.py3-none-any.whl (233 kB)\n",
      "Requirement already satisfied: six>=1.5 in c:\\users\\maria\\anaconda3\\lib\\site-packages (from python-dateutil>=2.7.3->pandas>=1.0->Pingouin) (1.14.0)\n",
      "Requirement already satisfied: setuptools in c:\\users\\maria\\anaconda3\\lib\\site-packages (from kiwisolver>=1.0.1->matplotlib>=3.0.2->Pingouin) (45.2.0.post20200210)\n",
      "Requirement already satisfied: certifi>=2017.4.17 in c:\\users\\maria\\anaconda3\\lib\\site-packages (from requests->outdated->Pingouin) (2019.11.28)\n",
      "Requirement already satisfied: idna<2.9,>=2.5 in c:\\users\\maria\\anaconda3\\lib\\site-packages (from requests->outdated->Pingouin) (2.8)\n",
      "Requirement already satisfied: chardet<3.1.0,>=3.0.2 in c:\\users\\maria\\anaconda3\\lib\\site-packages (from requests->outdated->Pingouin) (3.0.4)\n",
      "Requirement already satisfied: urllib3!=1.25.0,!=1.25.1,<1.26,>=1.21.1 in c:\\users\\maria\\anaconda3\\lib\\site-packages (from requests->outdated->Pingouin) (1.25.8)\n",
      "Installing collected packages: scipy, xarray, pandas-flavor, littleutils, outdated, tabulate, patsy, statsmodels, Pingouin\n",
      "  Attempting uninstall: scipy\n",
      "    Found existing installation: scipy 1.4.1\n",
      "    Uninstalling scipy-1.4.1:\n",
      "      Successfully uninstalled scipy-1.4.1\n",
      "Note: you may need to restart the kernel to use updated packages.\n"
     ]
    },
    {
     "name": "stderr",
     "output_type": "stream",
     "text": [
      "ERROR: Could not install packages due to an EnvironmentError: [WinError 5] Acceso denegado: 'c:\\\\users\\\\maria\\\\anaconda3\\\\lib\\\\site-packages\\\\~cipy\\\\cluster\\\\_hierarchy.cp37-win_amd64.pyd'\n",
      "Consider using the `--user` option or check the permissions.\n",
      "\n"
     ]
    }
   ],
   "source": [
    "# pip install Pingouin"
   ]
  },
  {
   "cell_type": "code",
   "execution_count": 22,
   "metadata": {},
   "outputs": [
    {
     "data": {
      "text/html": [
       "<div>\n",
       "<style scoped>\n",
       "    .dataframe tbody tr th:only-of-type {\n",
       "        vertical-align: middle;\n",
       "    }\n",
       "\n",
       "    .dataframe tbody tr th {\n",
       "        vertical-align: top;\n",
       "    }\n",
       "\n",
       "    .dataframe thead th {\n",
       "        text-align: right;\n",
       "    }\n",
       "</style>\n",
       "<table border=\"1\" class=\"dataframe\">\n",
       "  <thead>\n",
       "    <tr style=\"text-align: right;\">\n",
       "      <th></th>\n",
       "      <th>Source</th>\n",
       "      <th>ddof1</th>\n",
       "      <th>ddof2</th>\n",
       "      <th>F</th>\n",
       "      <th>p-unc</th>\n",
       "      <th>np2</th>\n",
       "    </tr>\n",
       "  </thead>\n",
       "  <tbody>\n",
       "    <tr>\n",
       "      <th>0</th>\n",
       "      <td>organizaciones</td>\n",
       "      <td>2</td>\n",
       "      <td>353.563431</td>\n",
       "      <td>7.306129</td>\n",
       "      <td>0.000778</td>\n",
       "      <td>0.016832</td>\n",
       "    </tr>\n",
       "  </tbody>\n",
       "</table>\n",
       "</div>"
      ],
      "text/plain": [
       "           Source  ddof1       ddof2         F     p-unc       np2\n",
       "0  organizaciones      2  353.563431  7.306129  0.000778  0.016832"
      ]
     },
     "execution_count": 22,
     "metadata": {},
     "output_type": "execute_result"
    }
   ],
   "source": [
    "# import pingouin as pg\n",
    "# import pandas as pd\n",
    "# import numpy as np\n",
    "\n",
    "#create DataFrame\n",
    "# df = pd.DataFrame({'score': [64, 66, 68, 75, 78, 94, 98, 79, 71, 80,\n",
    "#                              91, 92, 93, 90, 97, 94, 82, 88, 95, 96,\n",
    "#                              79, 78, 88, 94, 92, 85, 83, 85, 82, 81],\n",
    "#                    'group': np.repeat(['a', 'b', 'c'], repeats=10)}) \n",
    "\n",
    "#perform Welch's ANOVA\n",
    "pg.welch_anova(dv='overlap', between='organizaciones', data=df_overlap)"
   ]
  },
  {
   "cell_type": "code",
   "execution_count": 23,
   "metadata": {},
   "outputs": [
    {
     "data": {
      "text/html": [
       "<div>\n",
       "<style scoped>\n",
       "    .dataframe tbody tr th:only-of-type {\n",
       "        vertical-align: middle;\n",
       "    }\n",
       "\n",
       "    .dataframe tbody tr th {\n",
       "        vertical-align: top;\n",
       "    }\n",
       "\n",
       "    .dataframe thead th {\n",
       "        text-align: right;\n",
       "    }\n",
       "</style>\n",
       "<table border=\"1\" class=\"dataframe\">\n",
       "  <thead>\n",
       "    <tr style=\"text-align: right;\">\n",
       "      <th></th>\n",
       "      <th>A</th>\n",
       "      <th>B</th>\n",
       "      <th>mean(A)</th>\n",
       "      <th>mean(B)</th>\n",
       "      <th>diff</th>\n",
       "      <th>se</th>\n",
       "      <th>T</th>\n",
       "      <th>df</th>\n",
       "      <th>pval</th>\n",
       "      <th>hedges</th>\n",
       "    </tr>\n",
       "  </thead>\n",
       "  <tbody>\n",
       "    <tr>\n",
       "      <th>0</th>\n",
       "      <td>No_Sberbank-No_Sberbank</td>\n",
       "      <td>No_Sberbank-Sberbank</td>\n",
       "      <td>0.544469</td>\n",
       "      <td>0.491490</td>\n",
       "      <td>0.052979</td>\n",
       "      <td>0.023370</td>\n",
       "      <td>2.266931</td>\n",
       "      <td>596.111469</td>\n",
       "      <td>0.061371</td>\n",
       "      <td>0.158581</td>\n",
       "    </tr>\n",
       "    <tr>\n",
       "      <th>1</th>\n",
       "      <td>No_Sberbank-No_Sberbank</td>\n",
       "      <td>Sberbank-Sberbank</td>\n",
       "      <td>0.544469</td>\n",
       "      <td>0.421026</td>\n",
       "      <td>0.123443</td>\n",
       "      <td>0.035986</td>\n",
       "      <td>3.430274</td>\n",
       "      <td>186.003808</td>\n",
       "      <td>0.002135</td>\n",
       "      <td>0.321592</td>\n",
       "    </tr>\n",
       "    <tr>\n",
       "      <th>2</th>\n",
       "      <td>No_Sberbank-Sberbank</td>\n",
       "      <td>Sberbank-Sberbank</td>\n",
       "      <td>0.491490</td>\n",
       "      <td>0.421026</td>\n",
       "      <td>0.070464</td>\n",
       "      <td>0.039345</td>\n",
       "      <td>1.790925</td>\n",
       "      <td>254.169082</td>\n",
       "      <td>0.174905</td>\n",
       "      <td>0.175262</td>\n",
       "    </tr>\n",
       "  </tbody>\n",
       "</table>\n",
       "</div>"
      ],
      "text/plain": [
       "                         A                     B   mean(A)   mean(B)  \\\n",
       "0  No_Sberbank-No_Sberbank  No_Sberbank-Sberbank  0.544469  0.491490   \n",
       "1  No_Sberbank-No_Sberbank     Sberbank-Sberbank  0.544469  0.421026   \n",
       "2     No_Sberbank-Sberbank     Sberbank-Sberbank  0.491490  0.421026   \n",
       "\n",
       "       diff        se         T          df      pval    hedges  \n",
       "0  0.052979  0.023370  2.266931  596.111469  0.061371  0.158581  \n",
       "1  0.123443  0.035986  3.430274  186.003808  0.002135  0.321592  \n",
       "2  0.070464  0.039345  1.790925  254.169082  0.174905  0.175262  "
      ]
     },
     "execution_count": 23,
     "metadata": {},
     "output_type": "execute_result"
    }
   ],
   "source": [
    "pg.pairwise_gameshowell(dv='overlap', between='organizaciones', data=df_overlap)"
   ]
  },
  {
   "cell_type": "code",
   "execution_count": 25,
   "metadata": {
    "scrolled": true
   },
   "outputs": [
    {
     "data": {
      "text/html": [
       "<div>\n",
       "<style scoped>\n",
       "    .dataframe tbody tr th:only-of-type {\n",
       "        vertical-align: middle;\n",
       "    }\n",
       "\n",
       "    .dataframe tbody tr th {\n",
       "        vertical-align: top;\n",
       "    }\n",
       "\n",
       "    .dataframe thead th {\n",
       "        text-align: right;\n",
       "    }\n",
       "</style>\n",
       "<table border=\"1\" class=\"dataframe\">\n",
       "  <thead>\n",
       "    <tr style=\"text-align: right;\">\n",
       "      <th></th>\n",
       "      <th>analisis</th>\n",
       "      <th>organizaciones</th>\n",
       "      <th>overlap</th>\n",
       "    </tr>\n",
       "  </thead>\n",
       "  <tbody>\n",
       "    <tr>\n",
       "      <th>347</th>\n",
       "      <td>A11 P1 BPI 2020-A12 P1 BPI 2020</td>\n",
       "      <td>Sberbank-Sberbank</td>\n",
       "      <td>0.333333</td>\n",
       "    </tr>\n",
       "    <tr>\n",
       "      <th>348</th>\n",
       "      <td>A11 P1 BPI 2020-A13 P1 BPI 2020</td>\n",
       "      <td>Sberbank-Sberbank</td>\n",
       "      <td>0.666667</td>\n",
       "    </tr>\n",
       "    <tr>\n",
       "      <th>351</th>\n",
       "      <td>A11 P1 BPI 2020-A19 P1 BPI 2020</td>\n",
       "      <td>Sberbank-Sberbank</td>\n",
       "      <td>0.500000</td>\n",
       "    </tr>\n",
       "    <tr>\n",
       "      <th>353</th>\n",
       "      <td>A11 P1 BPI 2020-A24 P1 BPI 2020</td>\n",
       "      <td>Sberbank-Sberbank</td>\n",
       "      <td>0.500000</td>\n",
       "    </tr>\n",
       "    <tr>\n",
       "      <th>355</th>\n",
       "      <td>A11 P1 BPI 2020-A26 P1 BPI 2020</td>\n",
       "      <td>Sberbank-Sberbank</td>\n",
       "      <td>0.666667</td>\n",
       "    </tr>\n",
       "    <tr>\n",
       "      <th>356</th>\n",
       "      <td>A11 P1 BPI 2020-A28 P1 BPI 2020</td>\n",
       "      <td>Sberbank-Sberbank</td>\n",
       "      <td>0.333333</td>\n",
       "    </tr>\n",
       "    <tr>\n",
       "      <th>358</th>\n",
       "      <td>A11 P1 BPI 2020-A31 P1 BPI 2020</td>\n",
       "      <td>Sberbank-Sberbank</td>\n",
       "      <td>1.000000</td>\n",
       "    </tr>\n",
       "    <tr>\n",
       "      <th>361</th>\n",
       "      <td>A11 P1 BPI 2020-A37 P1 BPI 2020</td>\n",
       "      <td>Sberbank-Sberbank</td>\n",
       "      <td>1.000000</td>\n",
       "    </tr>\n",
       "    <tr>\n",
       "      <th>363</th>\n",
       "      <td>A12 P1 BPI 2020-A13 P1 BPI 2020</td>\n",
       "      <td>Sberbank-Sberbank</td>\n",
       "      <td>0.333333</td>\n",
       "    </tr>\n",
       "    <tr>\n",
       "      <th>366</th>\n",
       "      <td>A12 P1 BPI 2020-A19 P1 BPI 2020</td>\n",
       "      <td>Sberbank-Sberbank</td>\n",
       "      <td>0.000000</td>\n",
       "    </tr>\n",
       "    <tr>\n",
       "      <th>368</th>\n",
       "      <td>A12 P1 BPI 2020-A24 P1 BPI 2020</td>\n",
       "      <td>Sberbank-Sberbank</td>\n",
       "      <td>0.666667</td>\n",
       "    </tr>\n",
       "    <tr>\n",
       "      <th>370</th>\n",
       "      <td>A12 P1 BPI 2020-A26 P1 BPI 2020</td>\n",
       "      <td>Sberbank-Sberbank</td>\n",
       "      <td>0.666667</td>\n",
       "    </tr>\n",
       "    <tr>\n",
       "      <th>371</th>\n",
       "      <td>A12 P1 BPI 2020-A28 P1 BPI 2020</td>\n",
       "      <td>Sberbank-Sberbank</td>\n",
       "      <td>0.000000</td>\n",
       "    </tr>\n",
       "    <tr>\n",
       "      <th>373</th>\n",
       "      <td>A12 P1 BPI 2020-A31 P1 BPI 2020</td>\n",
       "      <td>Sberbank-Sberbank</td>\n",
       "      <td>0.000000</td>\n",
       "    </tr>\n",
       "    <tr>\n",
       "      <th>376</th>\n",
       "      <td>A12 P1 BPI 2020-A37 P1 BPI 2020</td>\n",
       "      <td>Sberbank-Sberbank</td>\n",
       "      <td>0.000000</td>\n",
       "    </tr>\n",
       "    <tr>\n",
       "      <th>380</th>\n",
       "      <td>A13 P1 BPI 2020-A19 P1 BPI 2020</td>\n",
       "      <td>Sberbank-Sberbank</td>\n",
       "      <td>0.428571</td>\n",
       "    </tr>\n",
       "    <tr>\n",
       "      <th>382</th>\n",
       "      <td>A13 P1 BPI 2020-A24 P1 BPI 2020</td>\n",
       "      <td>Sberbank-Sberbank</td>\n",
       "      <td>0.571429</td>\n",
       "    </tr>\n",
       "    <tr>\n",
       "      <th>384</th>\n",
       "      <td>A13 P1 BPI 2020-A26 P1 BPI 2020</td>\n",
       "      <td>Sberbank-Sberbank</td>\n",
       "      <td>0.666667</td>\n",
       "    </tr>\n",
       "    <tr>\n",
       "      <th>385</th>\n",
       "      <td>A13 P1 BPI 2020-A28 P1 BPI 2020</td>\n",
       "      <td>Sberbank-Sberbank</td>\n",
       "      <td>0.666667</td>\n",
       "    </tr>\n",
       "    <tr>\n",
       "      <th>387</th>\n",
       "      <td>A13 P1 BPI 2020-A31 P1 BPI 2020</td>\n",
       "      <td>Sberbank-Sberbank</td>\n",
       "      <td>1.000000</td>\n",
       "    </tr>\n",
       "    <tr>\n",
       "      <th>390</th>\n",
       "      <td>A13 P1 BPI 2020-A37 P1 BPI 2020</td>\n",
       "      <td>Sberbank-Sberbank</td>\n",
       "      <td>1.000000</td>\n",
       "    </tr>\n",
       "    <tr>\n",
       "      <th>418</th>\n",
       "      <td>A19 P1 BPI 2020-A24 P1 BPI 2020</td>\n",
       "      <td>Sberbank-Sberbank</td>\n",
       "      <td>0.142857</td>\n",
       "    </tr>\n",
       "    <tr>\n",
       "      <th>420</th>\n",
       "      <td>A19 P1 BPI 2020-A26 P1 BPI 2020</td>\n",
       "      <td>Sberbank-Sberbank</td>\n",
       "      <td>0.000000</td>\n",
       "    </tr>\n",
       "    <tr>\n",
       "      <th>421</th>\n",
       "      <td>A19 P1 BPI 2020-A28 P1 BPI 2020</td>\n",
       "      <td>Sberbank-Sberbank</td>\n",
       "      <td>0.000000</td>\n",
       "    </tr>\n",
       "    <tr>\n",
       "      <th>423</th>\n",
       "      <td>A19 P1 BPI 2020-A31 P1 BPI 2020</td>\n",
       "      <td>Sberbank-Sberbank</td>\n",
       "      <td>0.666667</td>\n",
       "    </tr>\n",
       "    <tr>\n",
       "      <th>426</th>\n",
       "      <td>A19 P1 BPI 2020-A37 P1 BPI 2020</td>\n",
       "      <td>Sberbank-Sberbank</td>\n",
       "      <td>0.500000</td>\n",
       "    </tr>\n",
       "    <tr>\n",
       "      <th>439</th>\n",
       "      <td>A24 P1 BPI 2020-A26 P1 BPI 2020</td>\n",
       "      <td>Sberbank-Sberbank</td>\n",
       "      <td>0.666667</td>\n",
       "    </tr>\n",
       "    <tr>\n",
       "      <th>440</th>\n",
       "      <td>A24 P1 BPI 2020-A28 P1 BPI 2020</td>\n",
       "      <td>Sberbank-Sberbank</td>\n",
       "      <td>0.333333</td>\n",
       "    </tr>\n",
       "    <tr>\n",
       "      <th>442</th>\n",
       "      <td>A24 P1 BPI 2020-A31 P1 BPI 2020</td>\n",
       "      <td>Sberbank-Sberbank</td>\n",
       "      <td>0.666667</td>\n",
       "    </tr>\n",
       "    <tr>\n",
       "      <th>445</th>\n",
       "      <td>A24 P1 BPI 2020-A37 P1 BPI 2020</td>\n",
       "      <td>Sberbank-Sberbank</td>\n",
       "      <td>1.000000</td>\n",
       "    </tr>\n",
       "    <tr>\n",
       "      <th>455</th>\n",
       "      <td>A26 P1 BPI 2020-A28 P1 BPI 2020</td>\n",
       "      <td>Sberbank-Sberbank</td>\n",
       "      <td>0.333333</td>\n",
       "    </tr>\n",
       "    <tr>\n",
       "      <th>457</th>\n",
       "      <td>A26 P1 BPI 2020-A31 P1 BPI 2020</td>\n",
       "      <td>Sberbank-Sberbank</td>\n",
       "      <td>0.333333</td>\n",
       "    </tr>\n",
       "    <tr>\n",
       "      <th>460</th>\n",
       "      <td>A26 P1 BPI 2020-A37 P1 BPI 2020</td>\n",
       "      <td>Sberbank-Sberbank</td>\n",
       "      <td>0.500000</td>\n",
       "    </tr>\n",
       "    <tr>\n",
       "      <th>463</th>\n",
       "      <td>A28 P1 BPI 2020-A31 P1 BPI 2020</td>\n",
       "      <td>Sberbank-Sberbank</td>\n",
       "      <td>0.333333</td>\n",
       "    </tr>\n",
       "    <tr>\n",
       "      <th>466</th>\n",
       "      <td>A28 P1 BPI 2020-A37 P1 BPI 2020</td>\n",
       "      <td>Sberbank-Sberbank</td>\n",
       "      <td>0.500000</td>\n",
       "    </tr>\n",
       "    <tr>\n",
       "      <th>475</th>\n",
       "      <td>A31 P1 BPI 2020-A37 P1 BPI 2020</td>\n",
       "      <td>Sberbank-Sberbank</td>\n",
       "      <td>1.000000</td>\n",
       "    </tr>\n",
       "    <tr>\n",
       "      <th>516</th>\n",
       "      <td>A11 P2 BPI 2020-A12 P2 BPI 2020</td>\n",
       "      <td>Sberbank-Sberbank</td>\n",
       "      <td>0.000000</td>\n",
       "    </tr>\n",
       "    <tr>\n",
       "      <th>517</th>\n",
       "      <td>A11 P2 BPI 2020-A13 P2 BPI 2020</td>\n",
       "      <td>Sberbank-Sberbank</td>\n",
       "      <td>1.000000</td>\n",
       "    </tr>\n",
       "    <tr>\n",
       "      <th>521</th>\n",
       "      <td>A11 P2 BPI 2020-A24 P2 BPI 2020</td>\n",
       "      <td>Sberbank-Sberbank</td>\n",
       "      <td>0.000000</td>\n",
       "    </tr>\n",
       "    <tr>\n",
       "      <th>523</th>\n",
       "      <td>A11 P2 BPI 2020-A26 P2 BPI 2020</td>\n",
       "      <td>Sberbank-Sberbank</td>\n",
       "      <td>1.000000</td>\n",
       "    </tr>\n",
       "    <tr>\n",
       "      <th>524</th>\n",
       "      <td>A11 P2 BPI 2020-A27 P2 BPI 2020</td>\n",
       "      <td>Sberbank-Sberbank</td>\n",
       "      <td>0.000000</td>\n",
       "    </tr>\n",
       "    <tr>\n",
       "      <th>525</th>\n",
       "      <td>A11 P2 BPI 2020-A28 P2 BPI 2020</td>\n",
       "      <td>Sberbank-Sberbank</td>\n",
       "      <td>1.000000</td>\n",
       "    </tr>\n",
       "    <tr>\n",
       "      <th>527</th>\n",
       "      <td>A11 P2 BPI 2020-A31 P2 BPI 2020</td>\n",
       "      <td>Sberbank-Sberbank</td>\n",
       "      <td>1.000000</td>\n",
       "    </tr>\n",
       "    <tr>\n",
       "      <th>529</th>\n",
       "      <td>A11 P2 BPI 2020-A37 P2 BPI 2020</td>\n",
       "      <td>Sberbank-Sberbank</td>\n",
       "      <td>1.000000</td>\n",
       "    </tr>\n",
       "    <tr>\n",
       "      <th>531</th>\n",
       "      <td>A12 P2 BPI 2020-A13 P2 BPI 2020</td>\n",
       "      <td>Sberbank-Sberbank</td>\n",
       "      <td>0.000000</td>\n",
       "    </tr>\n",
       "    <tr>\n",
       "      <th>535</th>\n",
       "      <td>A12 P2 BPI 2020-A24 P2 BPI 2020</td>\n",
       "      <td>Sberbank-Sberbank</td>\n",
       "      <td>0.000000</td>\n",
       "    </tr>\n",
       "    <tr>\n",
       "      <th>537</th>\n",
       "      <td>A12 P2 BPI 2020-A26 P2 BPI 2020</td>\n",
       "      <td>Sberbank-Sberbank</td>\n",
       "      <td>0.000000</td>\n",
       "    </tr>\n",
       "    <tr>\n",
       "      <th>538</th>\n",
       "      <td>A12 P2 BPI 2020-A27 P2 BPI 2020</td>\n",
       "      <td>Sberbank-Sberbank</td>\n",
       "      <td>0.000000</td>\n",
       "    </tr>\n",
       "    <tr>\n",
       "      <th>539</th>\n",
       "      <td>A12 P2 BPI 2020-A28 P2 BPI 2020</td>\n",
       "      <td>Sberbank-Sberbank</td>\n",
       "      <td>0.000000</td>\n",
       "    </tr>\n",
       "    <tr>\n",
       "      <th>541</th>\n",
       "      <td>A12 P2 BPI 2020-A31 P2 BPI 2020</td>\n",
       "      <td>Sberbank-Sberbank</td>\n",
       "      <td>0.000000</td>\n",
       "    </tr>\n",
       "  </tbody>\n",
       "</table>\n",
       "</div>"
      ],
      "text/plain": [
       "                            analisis     organizaciones   overlap\n",
       "347  A11 P1 BPI 2020-A12 P1 BPI 2020  Sberbank-Sberbank  0.333333\n",
       "348  A11 P1 BPI 2020-A13 P1 BPI 2020  Sberbank-Sberbank  0.666667\n",
       "351  A11 P1 BPI 2020-A19 P1 BPI 2020  Sberbank-Sberbank  0.500000\n",
       "353  A11 P1 BPI 2020-A24 P1 BPI 2020  Sberbank-Sberbank  0.500000\n",
       "355  A11 P1 BPI 2020-A26 P1 BPI 2020  Sberbank-Sberbank  0.666667\n",
       "356  A11 P1 BPI 2020-A28 P1 BPI 2020  Sberbank-Sberbank  0.333333\n",
       "358  A11 P1 BPI 2020-A31 P1 BPI 2020  Sberbank-Sberbank  1.000000\n",
       "361  A11 P1 BPI 2020-A37 P1 BPI 2020  Sberbank-Sberbank  1.000000\n",
       "363  A12 P1 BPI 2020-A13 P1 BPI 2020  Sberbank-Sberbank  0.333333\n",
       "366  A12 P1 BPI 2020-A19 P1 BPI 2020  Sberbank-Sberbank  0.000000\n",
       "368  A12 P1 BPI 2020-A24 P1 BPI 2020  Sberbank-Sberbank  0.666667\n",
       "370  A12 P1 BPI 2020-A26 P1 BPI 2020  Sberbank-Sberbank  0.666667\n",
       "371  A12 P1 BPI 2020-A28 P1 BPI 2020  Sberbank-Sberbank  0.000000\n",
       "373  A12 P1 BPI 2020-A31 P1 BPI 2020  Sberbank-Sberbank  0.000000\n",
       "376  A12 P1 BPI 2020-A37 P1 BPI 2020  Sberbank-Sberbank  0.000000\n",
       "380  A13 P1 BPI 2020-A19 P1 BPI 2020  Sberbank-Sberbank  0.428571\n",
       "382  A13 P1 BPI 2020-A24 P1 BPI 2020  Sberbank-Sberbank  0.571429\n",
       "384  A13 P1 BPI 2020-A26 P1 BPI 2020  Sberbank-Sberbank  0.666667\n",
       "385  A13 P1 BPI 2020-A28 P1 BPI 2020  Sberbank-Sberbank  0.666667\n",
       "387  A13 P1 BPI 2020-A31 P1 BPI 2020  Sberbank-Sberbank  1.000000\n",
       "390  A13 P1 BPI 2020-A37 P1 BPI 2020  Sberbank-Sberbank  1.000000\n",
       "418  A19 P1 BPI 2020-A24 P1 BPI 2020  Sberbank-Sberbank  0.142857\n",
       "420  A19 P1 BPI 2020-A26 P1 BPI 2020  Sberbank-Sberbank  0.000000\n",
       "421  A19 P1 BPI 2020-A28 P1 BPI 2020  Sberbank-Sberbank  0.000000\n",
       "423  A19 P1 BPI 2020-A31 P1 BPI 2020  Sberbank-Sberbank  0.666667\n",
       "426  A19 P1 BPI 2020-A37 P1 BPI 2020  Sberbank-Sberbank  0.500000\n",
       "439  A24 P1 BPI 2020-A26 P1 BPI 2020  Sberbank-Sberbank  0.666667\n",
       "440  A24 P1 BPI 2020-A28 P1 BPI 2020  Sberbank-Sberbank  0.333333\n",
       "442  A24 P1 BPI 2020-A31 P1 BPI 2020  Sberbank-Sberbank  0.666667\n",
       "445  A24 P1 BPI 2020-A37 P1 BPI 2020  Sberbank-Sberbank  1.000000\n",
       "455  A26 P1 BPI 2020-A28 P1 BPI 2020  Sberbank-Sberbank  0.333333\n",
       "457  A26 P1 BPI 2020-A31 P1 BPI 2020  Sberbank-Sberbank  0.333333\n",
       "460  A26 P1 BPI 2020-A37 P1 BPI 2020  Sberbank-Sberbank  0.500000\n",
       "463  A28 P1 BPI 2020-A31 P1 BPI 2020  Sberbank-Sberbank  0.333333\n",
       "466  A28 P1 BPI 2020-A37 P1 BPI 2020  Sberbank-Sberbank  0.500000\n",
       "475  A31 P1 BPI 2020-A37 P1 BPI 2020  Sberbank-Sberbank  1.000000\n",
       "516  A11 P2 BPI 2020-A12 P2 BPI 2020  Sberbank-Sberbank  0.000000\n",
       "517  A11 P2 BPI 2020-A13 P2 BPI 2020  Sberbank-Sberbank  1.000000\n",
       "521  A11 P2 BPI 2020-A24 P2 BPI 2020  Sberbank-Sberbank  0.000000\n",
       "523  A11 P2 BPI 2020-A26 P2 BPI 2020  Sberbank-Sberbank  1.000000\n",
       "524  A11 P2 BPI 2020-A27 P2 BPI 2020  Sberbank-Sberbank  0.000000\n",
       "525  A11 P2 BPI 2020-A28 P2 BPI 2020  Sberbank-Sberbank  1.000000\n",
       "527  A11 P2 BPI 2020-A31 P2 BPI 2020  Sberbank-Sberbank  1.000000\n",
       "529  A11 P2 BPI 2020-A37 P2 BPI 2020  Sberbank-Sberbank  1.000000\n",
       "531  A12 P2 BPI 2020-A13 P2 BPI 2020  Sberbank-Sberbank  0.000000\n",
       "535  A12 P2 BPI 2020-A24 P2 BPI 2020  Sberbank-Sberbank  0.000000\n",
       "537  A12 P2 BPI 2020-A26 P2 BPI 2020  Sberbank-Sberbank  0.000000\n",
       "538  A12 P2 BPI 2020-A27 P2 BPI 2020  Sberbank-Sberbank  0.000000\n",
       "539  A12 P2 BPI 2020-A28 P2 BPI 2020  Sberbank-Sberbank  0.000000\n",
       "541  A12 P2 BPI 2020-A31 P2 BPI 2020  Sberbank-Sberbank  0.000000"
      ]
     },
     "execution_count": 25,
     "metadata": {},
     "output_type": "execute_result"
    }
   ],
   "source": [
    "df_overlap[df_overlap['organizaciones'] == 'Sberbank-Sberbank'].head(50)"
   ]
  },
  {
   "cell_type": "code",
   "execution_count": 17,
   "metadata": {},
   "outputs": [
    {
     "data": {
      "text/plain": [
       "(array([188.,   6.,  47., 118.,  35., 214., 125.,  35.,  27., 191.]),\n",
       " array([0. , 0.1, 0.2, 0.3, 0.4, 0.5, 0.6, 0.7, 0.8, 0.9, 1. ]),\n",
       " <a list of 10 Patch objects>)"
      ]
     },
     "execution_count": 17,
     "metadata": {},
     "output_type": "execute_result"
    },
    {
     "data": {
      "image/png": "[encoded data removed]",
      "text/plain": [
       "<Figure size 432x288 with 1 Axes>"
      ]
     },
     "metadata": {
      "needs_background": "light"
     },
     "output_type": "display_data"
    }
   ],
   "source": [
    "plt.hist(df_overlap.overlap)"
   ]
  },
  {
   "cell_type": "code",
   "execution_count": 18,
   "metadata": {},
   "outputs": [
    {
     "data": {
      "text/plain": [
       "ShapiroResult(statistic=0.8011818528175354, pvalue=6.685590124046181e-13)"
      ]
     },
     "execution_count": 18,
     "metadata": {},
     "output_type": "execute_result"
    }
   ],
   "source": [
    "shapiro_test = stats.shapiro(group1)\n",
    "shapiro_test"
   ]
  },
  {
   "cell_type": "code",
   "execution_count": 19,
   "metadata": {},
   "outputs": [
    {
     "data": {
      "text/plain": [
       "ShapiroResult(statistic=0.8674978017807007, pvalue=9.366149532325681e-17)"
      ]
     },
     "execution_count": 19,
     "metadata": {},
     "output_type": "execute_result"
    }
   ],
   "source": [
    "shapiro_test = stats.shapiro(group2)\n",
    "shapiro_test"
   ]
  },
  {
   "cell_type": "code",
   "execution_count": 20,
   "metadata": {},
   "outputs": [
    {
     "data": {
      "text/plain": [
       "ShapiroResult(statistic=0.9519577026367188, pvalue=1.7476381453107592e-11)"
      ]
     },
     "execution_count": 20,
     "metadata": {},
     "output_type": "execute_result"
    }
   ],
   "source": [
    "shapiro_test = stats.shapiro(group3)\n",
    "shapiro_test"
   ]
  },
  {
   "cell_type": "code",
   "execution_count": 21,
   "metadata": {},
   "outputs": [
    {
     "data": {
      "text/plain": [
       "KruskalResult(statistic=3.6932500197658045, pvalue=0.054633064335024614)"
      ]
     },
     "execution_count": 21,
     "metadata": {},
     "output_type": "execute_result"
    }
   ],
   "source": [
    "stats.kruskal(group1, group2)"
   ]
  },
  {
   "cell_type": "code",
   "execution_count": 22,
   "metadata": {},
   "outputs": [
    {
     "data": {
      "text/plain": [
       "KruskalResult(statistic=13.713212339937886, pvalue=0.0002129510881495089)"
      ]
     },
     "execution_count": 22,
     "metadata": {},
     "output_type": "execute_result"
    }
   ],
   "source": [
    "stats.kruskal(group1, group3)"
   ]
  },
  {
   "cell_type": "code",
   "execution_count": 23,
   "metadata": {},
   "outputs": [
    {
     "data": {
      "text/plain": [
       "KruskalResult(statistic=4.409514387221742, pvalue=0.03573901359116791)"
      ]
     },
     "execution_count": 23,
     "metadata": {},
     "output_type": "execute_result"
    }
   ],
   "source": [
    "stats.kruskal(group3, group2)"
   ]
  },
  {
   "cell_type": "code",
   "execution_count": 24,
   "metadata": {},
   "outputs": [
    {
     "data": {
      "text/plain": [
       "KruskalResult(statistic=14.4579249782614, pvalue=0.0007252729515028604)"
      ]
     },
     "execution_count": 24,
     "metadata": {},
     "output_type": "execute_result"
    }
   ],
   "source": [
    "stats.kruskal(group1, group2, group3)"
   ]
  },
  {
   "cell_type": "code",
   "execution_count": null,
   "metadata": {},
   "outputs": [],
   "source": []
  },
  {
   "cell_type": "code",
   "execution_count": null,
   "metadata": {},
   "outputs": [],
   "source": []
  },
  {
   "cell_type": "code",
   "execution_count": 13,
   "metadata": {},
   "outputs": [],
   "source": [
    "df_2020 = df_agrupado[df_agrupado['Year']=='2020']"
   ]
  },
  {
   "cell_type": "code",
   "execution_count": 18,
   "metadata": {},
   "outputs": [],
   "source": [
    "df2 = df_2020.groupby(by=['Year', 'Question'])\n",
    "columns=['analisis','organizaciones','overlap']\n",
    "df_overlap = pd.DataFrame(columns=columns)\n",
    "\n",
    "for name, group in df2:\n",
    "    for i in range(len(group)):\n",
    "        if(group.iloc[i]['Organization'] != 'Sberbank'):\n",
    "            org1 = 'No_Sberbank'\n",
    "        else:\n",
    "            org1 = 'Sberbank'\n",
    "        \n",
    "        for j in range(i+1,len(group)):\n",
    "            grupo = group.iloc[i]['Operations']\n",
    "            analisis = group.iloc[i]['case:concept:name'] + \"-\" + group.iloc[j]['case:concept:name']\n",
    "                \n",
    "            if(group.iloc[j]['Organization'] != 'Sberbank'):\n",
    "                org2 = 'No_Sberbank'\n",
    "            else:\n",
    "                org2 = 'Sberbank'\n",
    "            org = org1 + \"-\" + org2\n",
    "            overlap = overlapIndex(grupo,group.iloc[j]['Operations'])\n",
    "            new_row={'analisis':analisis,'organizaciones':org,'overlap': overlap} \n",
    "            df_overlap = df_overlap.append(new_row, ignore_index=True)\n",
    "            \n",
    "        \n",
    "df_overlap = df_overlap.replace({'Sberbank-No_Sberbank':'No_Sberbank-Sberbank'})"
   ]
  },
  {
   "cell_type": "code",
   "execution_count": 19,
   "metadata": {
    "scrolled": true
   },
   "outputs": [
    {
     "data": {
      "text/html": [
       "<div>\n",
       "<style scoped>\n",
       "    .dataframe tbody tr th:only-of-type {\n",
       "        vertical-align: middle;\n",
       "    }\n",
       "\n",
       "    .dataframe tbody tr th {\n",
       "        vertical-align: top;\n",
       "    }\n",
       "\n",
       "    .dataframe thead th {\n",
       "        text-align: right;\n",
       "    }\n",
       "</style>\n",
       "<table border=\"1\" class=\"dataframe\">\n",
       "  <thead>\n",
       "    <tr style=\"text-align: right;\">\n",
       "      <th></th>\n",
       "      <th>analisis</th>\n",
       "      <th>organizaciones</th>\n",
       "      <th>overlap</th>\n",
       "    </tr>\n",
       "  </thead>\n",
       "  <tbody>\n",
       "    <tr>\n",
       "      <th>0</th>\n",
       "      <td>A1 P1 BPI 2020-A10 P1 BPI 2020</td>\n",
       "      <td>No_Sberbank-No_Sberbank</td>\n",
       "      <td>0.333333</td>\n",
       "    </tr>\n",
       "    <tr>\n",
       "      <th>1</th>\n",
       "      <td>A1 P1 BPI 2020-A11 P1 BPI 2020</td>\n",
       "      <td>No_Sberbank-Sberbank</td>\n",
       "      <td>1.000000</td>\n",
       "    </tr>\n",
       "    <tr>\n",
       "      <th>2</th>\n",
       "      <td>A1 P1 BPI 2020-A12 P1 BPI 2020</td>\n",
       "      <td>No_Sberbank-Sberbank</td>\n",
       "      <td>0.333333</td>\n",
       "    </tr>\n",
       "    <tr>\n",
       "      <th>3</th>\n",
       "      <td>A1 P1 BPI 2020-A13 P1 BPI 2020</td>\n",
       "      <td>No_Sberbank-Sberbank</td>\n",
       "      <td>1.000000</td>\n",
       "    </tr>\n",
       "    <tr>\n",
       "      <th>4</th>\n",
       "      <td>A1 P1 BPI 2020-A16 P1 BPI 2020</td>\n",
       "      <td>No_Sberbank-No_Sberbank</td>\n",
       "      <td>0.666667</td>\n",
       "    </tr>\n",
       "    <tr>\n",
       "      <th>...</th>\n",
       "      <td>...</td>\n",
       "      <td>...</td>\n",
       "      <td>...</td>\n",
       "    </tr>\n",
       "    <tr>\n",
       "      <th>669</th>\n",
       "      <td>A30 P6 BPI 2020-A37 P6 BPI 2020</td>\n",
       "      <td>No_Sberbank-Sberbank</td>\n",
       "      <td>0.333333</td>\n",
       "    </tr>\n",
       "    <tr>\n",
       "      <th>670</th>\n",
       "      <td>A30 P6 BPI 2020-A7 P6 BPI 2020</td>\n",
       "      <td>No_Sberbank-No_Sberbank</td>\n",
       "      <td>0.666667</td>\n",
       "    </tr>\n",
       "    <tr>\n",
       "      <th>671</th>\n",
       "      <td>A35 P6 BPI 2020-A37 P6 BPI 2020</td>\n",
       "      <td>No_Sberbank-Sberbank</td>\n",
       "      <td>0.000000</td>\n",
       "    </tr>\n",
       "    <tr>\n",
       "      <th>672</th>\n",
       "      <td>A35 P6 BPI 2020-A7 P6 BPI 2020</td>\n",
       "      <td>No_Sberbank-No_Sberbank</td>\n",
       "      <td>0.500000</td>\n",
       "    </tr>\n",
       "    <tr>\n",
       "      <th>673</th>\n",
       "      <td>A37 P6 BPI 2020-A7 P6 BPI 2020</td>\n",
       "      <td>No_Sberbank-Sberbank</td>\n",
       "      <td>0.333333</td>\n",
       "    </tr>\n",
       "  </tbody>\n",
       "</table>\n",
       "<p>674 rows × 3 columns</p>\n",
       "</div>"
      ],
      "text/plain": [
       "                            analisis           organizaciones   overlap\n",
       "0     A1 P1 BPI 2020-A10 P1 BPI 2020  No_Sberbank-No_Sberbank  0.333333\n",
       "1     A1 P1 BPI 2020-A11 P1 BPI 2020     No_Sberbank-Sberbank  1.000000\n",
       "2     A1 P1 BPI 2020-A12 P1 BPI 2020     No_Sberbank-Sberbank  0.333333\n",
       "3     A1 P1 BPI 2020-A13 P1 BPI 2020     No_Sberbank-Sberbank  1.000000\n",
       "4     A1 P1 BPI 2020-A16 P1 BPI 2020  No_Sberbank-No_Sberbank  0.666667\n",
       "..                               ...                      ...       ...\n",
       "669  A30 P6 BPI 2020-A37 P6 BPI 2020     No_Sberbank-Sberbank  0.333333\n",
       "670   A30 P6 BPI 2020-A7 P6 BPI 2020  No_Sberbank-No_Sberbank  0.666667\n",
       "671  A35 P6 BPI 2020-A37 P6 BPI 2020     No_Sberbank-Sberbank  0.000000\n",
       "672   A35 P6 BPI 2020-A7 P6 BPI 2020  No_Sberbank-No_Sberbank  0.500000\n",
       "673   A37 P6 BPI 2020-A7 P6 BPI 2020     No_Sberbank-Sberbank  0.333333\n",
       "\n",
       "[674 rows x 3 columns]"
      ]
     },
     "execution_count": 19,
     "metadata": {},
     "output_type": "execute_result"
    }
   ],
   "source": [
    "df_overlap"
   ]
  },
  {
   "cell_type": "code",
   "execution_count": 21,
   "metadata": {},
   "outputs": [
    {
     "data": {
      "text/html": [
       "<div>\n",
       "<style scoped>\n",
       "    .dataframe tbody tr th:only-of-type {\n",
       "        vertical-align: middle;\n",
       "    }\n",
       "\n",
       "    .dataframe tbody tr th {\n",
       "        vertical-align: top;\n",
       "    }\n",
       "\n",
       "    .dataframe thead th {\n",
       "        text-align: right;\n",
       "    }\n",
       "</style>\n",
       "<table border=\"1\" class=\"dataframe\">\n",
       "  <thead>\n",
       "    <tr style=\"text-align: right;\">\n",
       "      <th></th>\n",
       "      <th>overlap</th>\n",
       "    </tr>\n",
       "    <tr>\n",
       "      <th>organizaciones</th>\n",
       "      <th></th>\n",
       "    </tr>\n",
       "  </thead>\n",
       "  <tbody>\n",
       "    <tr>\n",
       "      <th>No_Sberbank-No_Sberbank</th>\n",
       "      <td>0.526381</td>\n",
       "    </tr>\n",
       "    <tr>\n",
       "      <th>No_Sberbank-Sberbank</th>\n",
       "      <td>0.491490</td>\n",
       "    </tr>\n",
       "    <tr>\n",
       "      <th>Sberbank-Sberbank</th>\n",
       "      <td>0.421026</td>\n",
       "    </tr>\n",
       "  </tbody>\n",
       "</table>\n",
       "</div>"
      ],
      "text/plain": [
       "                          overlap\n",
       "organizaciones                   \n",
       "No_Sberbank-No_Sberbank  0.526381\n",
       "No_Sberbank-Sberbank     0.491490\n",
       "Sberbank-Sberbank        0.421026"
      ]
     },
     "execution_count": 21,
     "metadata": {},
     "output_type": "execute_result"
    }
   ],
   "source": [
    "df_overlap.groupby(by=['organizaciones']).mean()"
   ]
  },
  {
   "cell_type": "code",
   "execution_count": 36,
   "metadata": {},
   "outputs": [
    {
     "data": {
      "text/plain": [
       "KruskalResult(statistic=6.705006492730769, pvalue=0.00961425806860375)"
      ]
     },
     "execution_count": 36,
     "metadata": {},
     "output_type": "execute_result"
    }
   ],
   "source": [
    "from scipy import stats\n",
    "\n",
    "group1 =  df_overlap[df_overlap['organizaciones'] == 'Sberbank-Sberbank']['overlap']\n",
    "group2 =  df_overlap[df_overlap['organizaciones'] == 'No_Sberbank-Sberbank']['overlap']\n",
    "group3 =  df_overlap[df_overlap['organizaciones'] == 'No_Sberbank-No_Sberbank']['overlap']\n",
    "stats.kruskal(group1, group3)"
   ]
  },
  {
   "cell_type": "code",
   "execution_count": 31,
   "metadata": {},
   "outputs": [
    {
     "data": {
      "text/plain": [
       "148"
      ]
     },
     "execution_count": 31,
     "metadata": {},
     "output_type": "execute_result"
    }
   ],
   "source": [
    "len(df_overlap[df_overlap['organizaciones'] == 'Sberbank-Sberbank']['analisis'].unique())"
   ]
  },
  {
   "cell_type": "code",
   "execution_count": 27,
   "metadata": {},
   "outputs": [
    {
     "data": {
      "text/plain": [
       "35     0.333333\n",
       "36     0.666667\n",
       "39     0.500000\n",
       "41     0.500000\n",
       "43     0.666667\n",
       "         ...   \n",
       "633    1.000000\n",
       "636    0.400000\n",
       "659    1.000000\n",
       "662    0.333333\n",
       "666    0.000000\n",
       "Name: overlap, Length: 148, dtype: float64"
      ]
     },
     "execution_count": 27,
     "metadata": {},
     "output_type": "execute_result"
    }
   ],
   "source": [
    "group1"
   ]
  },
  {
   "cell_type": "code",
   "execution_count": 25,
   "metadata": {},
   "outputs": [
    {
     "data": {
      "text/plain": [
       "(array([60.,  1.,  4., 14.,  2., 11., 17.,  0.,  1., 38.]),\n",
       " array([0. , 0.1, 0.2, 0.3, 0.4, 0.5, 0.6, 0.7, 0.8, 0.9, 1. ]),\n",
       " <a list of 10 Patch objects>)"
      ]
     },
     "execution_count": 25,
     "metadata": {},
     "output_type": "execute_result"
    },
    {
     "data": {
      "image/png": "[encoded data removed]",
      "text/plain": [
       "<Figure size 432x288 with 1 Axes>"
      ]
     },
     "metadata": {
      "needs_background": "light"
     },
     "output_type": "display_data"
    }
   ],
   "source": [
    "plt.hist(group1)"
   ]
  },
  {
   "cell_type": "code",
   "execution_count": 26,
   "metadata": {},
   "outputs": [
    {
     "data": {
      "text/plain": [
       "(array([30.,  0.,  5., 29.,  1., 42., 24.,  0.,  1., 43.]),\n",
       " array([0. , 0.1, 0.2, 0.3, 0.4, 0.5, 0.6, 0.7, 0.8, 0.9, 1. ]),\n",
       " <a list of 10 Patch objects>)"
      ]
     },
     "execution_count": 26,
     "metadata": {},
     "output_type": "execute_result"
    },
    {
     "data": {
      "image/png": "[encoded data removed]",
      "text/plain": [
       "<Figure size 432x288 with 1 Axes>"
      ]
     },
     "metadata": {
      "needs_background": "light"
     },
     "output_type": "display_data"
    }
   ],
   "source": [
    "plt.hist(group3)"
   ]
  },
  {
   "cell_type": "code",
   "execution_count": 32,
   "metadata": {},
   "outputs": [
    {
     "data": {
      "text/plain": [
       "(array([93.,  1.,  7., 52.,  2., 51., 51.,  4.,  2., 88.]),\n",
       " array([0. , 0.1, 0.2, 0.3, 0.4, 0.5, 0.6, 0.7, 0.8, 0.9, 1. ]),\n",
       " <a list of 10 Patch objects>)"
      ]
     },
     "execution_count": 32,
     "metadata": {},
     "output_type": "execute_result"
    },
    {
     "data": {
      "image/png": "[encoded data removed]",
      "text/plain": [
       "<Figure size 432x288 with 1 Axes>"
      ]
     },
     "metadata": {
      "needs_background": "light"
     },
     "output_type": "display_data"
    }
   ],
   "source": [
    "plt.hist(group2)"
   ]
  },
  {
   "cell_type": "code",
   "execution_count": 34,
   "metadata": {},
   "outputs": [
    {
     "data": {
      "text/plain": [
       "organizaciones\n",
       "No_Sberbank-No_Sberbank    0.114360\n",
       "No_Sberbank-Sberbank       0.139858\n",
       "Sberbank-Sberbank          0.168820\n",
       "Name: overlap, dtype: float64"
      ]
     },
     "execution_count": 34,
     "metadata": {},
     "output_type": "execute_result"
    }
   ],
   "source": [
    "df_overlap.groupby(by=['organizaciones'])['overlap'].var(ddof=0)"
   ]
  },
  {
   "cell_type": "code",
   "execution_count": 35,
   "metadata": {},
   "outputs": [
    {
     "data": {
      "text/plain": [
       "organizaciones\n",
       "No_Sberbank-No_Sberbank    0.338171\n",
       "No_Sberbank-Sberbank       0.373976\n",
       "Sberbank-Sberbank          0.410877\n",
       "Name: overlap, dtype: float64"
      ]
     },
     "execution_count": 35,
     "metadata": {},
     "output_type": "execute_result"
    }
   ],
   "source": [
    "df_overlap.groupby(by=['organizaciones'])['overlap'].std(ddof=0)"
   ]
  },
  {
   "cell_type": "code",
   "execution_count": 12,
   "metadata": {
    "scrolled": true
   },
   "outputs": [
    {
     "data": {
      "text/html": [
       "<div>\n",
       "<style scoped>\n",
       "    .dataframe tbody tr th:only-of-type {\n",
       "        vertical-align: middle;\n",
       "    }\n",
       "\n",
       "    .dataframe tbody tr th {\n",
       "        vertical-align: top;\n",
       "    }\n",
       "\n",
       "    .dataframe thead th {\n",
       "        text-align: right;\n",
       "    }\n",
       "</style>\n",
       "<table border=\"1\" class=\"dataframe\">\n",
       "  <thead>\n",
       "    <tr style=\"text-align: right;\">\n",
       "      <th></th>\n",
       "      <th>case:concept:name</th>\n",
       "      <th>Operations</th>\n",
       "      <th>Organization</th>\n",
       "      <th>Year</th>\n",
       "      <th>Question</th>\n",
       "    </tr>\n",
       "  </thead>\n",
       "  <tbody>\n",
       "    <tr>\n",
       "      <th>0</th>\n",
       "      <td>A1 P1 BPI 2017</td>\n",
       "      <td>[Calculate cycle time, Calculate cycle time, F...</td>\n",
       "      <td>University of Liechtenstein\\nVienna University...</td>\n",
       "      <td>2017</td>\n",
       "      <td>P1</td>\n",
       "    </tr>\n",
       "    <tr>\n",
       "      <th>1</th>\n",
       "      <td>A1 P1 BPI 2020</td>\n",
       "      <td>[Filter traces, Calculate cycle time, Calculat...</td>\n",
       "      <td>Technische Universität, Berlin</td>\n",
       "      <td>2020</td>\n",
       "      <td>P1</td>\n",
       "    </tr>\n",
       "    <tr>\n",
       "      <th>2</th>\n",
       "      <td>A1 P2 BPI 2019</td>\n",
       "      <td>[Group events by time, Calculate cycle time, R...</td>\n",
       "      <td>University of Melbourne</td>\n",
       "      <td>2019</td>\n",
       "      <td>P2</td>\n",
       "    </tr>\n",
       "    <tr>\n",
       "      <th>3</th>\n",
       "      <td>A1 P2 BPI 2020</td>\n",
       "      <td>[Calculate cycle time, Compare cycle time]</td>\n",
       "      <td>Technische Universität, Berlin</td>\n",
       "      <td>2020</td>\n",
       "      <td>P2</td>\n",
       "    </tr>\n",
       "    <tr>\n",
       "      <th>4</th>\n",
       "      <td>A1 P5 BPI 2015</td>\n",
       "      <td>[Calculate cycle time, Identify organizational...</td>\n",
       "      <td>Meijer &amp; Van der Ham Management Consultants</td>\n",
       "      <td>2015</td>\n",
       "      <td>P5</td>\n",
       "    </tr>\n",
       "    <tr>\n",
       "      <th>...</th>\n",
       "      <td>...</td>\n",
       "      <td>...</td>\n",
       "      <td>...</td>\n",
       "      <td>...</td>\n",
       "      <td>...</td>\n",
       "    </tr>\n",
       "    <tr>\n",
       "      <th>121</th>\n",
       "      <td>A8 P1 BPI 2017</td>\n",
       "      <td>[Filter traces, Calculate waiting time, Repres...</td>\n",
       "      <td>Universidade Federal do Estado do Rio de Janeiro</td>\n",
       "      <td>2017</td>\n",
       "      <td>P1</td>\n",
       "    </tr>\n",
       "    <tr>\n",
       "      <th>122</th>\n",
       "      <td>A8 P5 BPI 2015</td>\n",
       "      <td>[Calculate cycle time, Compare cycle time, Gro...</td>\n",
       "      <td>GRADIENT ECM</td>\n",
       "      <td>2015</td>\n",
       "      <td>P5</td>\n",
       "    </tr>\n",
       "    <tr>\n",
       "      <th>123</th>\n",
       "      <td>A9 P1 BPI 2017</td>\n",
       "      <td>[Calculate processing time, Calculate waiting ...</td>\n",
       "      <td>POSTECH</td>\n",
       "      <td>2017</td>\n",
       "      <td>P1</td>\n",
       "    </tr>\n",
       "    <tr>\n",
       "      <th>124</th>\n",
       "      <td>A9 P2 BPI 2019</td>\n",
       "      <td>[Filter traces, Calculate cycle time, Identify...</td>\n",
       "      <td>KPMG Netherlands</td>\n",
       "      <td>2019</td>\n",
       "      <td>P2</td>\n",
       "    </tr>\n",
       "    <tr>\n",
       "      <th>125</th>\n",
       "      <td>A9 P5 BPI 2015</td>\n",
       "      <td>[Filter traces, Calculate cycle time, Group tr...</td>\n",
       "      <td>APPS(Advanced Process Performance reSearch cen...</td>\n",
       "      <td>2015</td>\n",
       "      <td>P5</td>\n",
       "    </tr>\n",
       "  </tbody>\n",
       "</table>\n",
       "<p>126 rows × 5 columns</p>\n",
       "</div>"
      ],
      "text/plain": [
       "    case:concept:name                                         Operations  \\\n",
       "0      A1 P1 BPI 2017  [Calculate cycle time, Calculate cycle time, F...   \n",
       "1      A1 P1 BPI 2020  [Filter traces, Calculate cycle time, Calculat...   \n",
       "2      A1 P2 BPI 2019  [Group events by time, Calculate cycle time, R...   \n",
       "3      A1 P2 BPI 2020         [Calculate cycle time, Compare cycle time]   \n",
       "4      A1 P5 BPI 2015  [Calculate cycle time, Identify organizational...   \n",
       "..                ...                                                ...   \n",
       "121    A8 P1 BPI 2017  [Filter traces, Calculate waiting time, Repres...   \n",
       "122    A8 P5 BPI 2015  [Calculate cycle time, Compare cycle time, Gro...   \n",
       "123    A9 P1 BPI 2017  [Calculate processing time, Calculate waiting ...   \n",
       "124    A9 P2 BPI 2019  [Filter traces, Calculate cycle time, Identify...   \n",
       "125    A9 P5 BPI 2015  [Filter traces, Calculate cycle time, Group tr...   \n",
       "\n",
       "                                          Organization  Year Question  \n",
       "0    University of Liechtenstein\\nVienna University...  2017       P1  \n",
       "1                       Technische Universität, Berlin  2020       P1  \n",
       "2                              University of Melbourne  2019       P2  \n",
       "3                       Technische Universität, Berlin  2020       P2  \n",
       "4          Meijer & Van der Ham Management Consultants  2015       P5  \n",
       "..                                                 ...   ...      ...  \n",
       "121   Universidade Federal do Estado do Rio de Janeiro  2017       P1  \n",
       "122                                       GRADIENT ECM  2015       P5  \n",
       "123                                            POSTECH  2017       P1  \n",
       "124                                   KPMG Netherlands  2019       P2  \n",
       "125  APPS(Advanced Process Performance reSearch cen...  2015       P5  \n",
       "\n",
       "[126 rows x 5 columns]"
      ]
     },
     "execution_count": 12,
     "metadata": {},
     "output_type": "execute_result"
    }
   ],
   "source": [
    "df_agrupado"
   ]
  },
  {
   "cell_type": "code",
   "execution_count": 14,
   "metadata": {},
   "outputs": [],
   "source": [
    "df2 = df_2020.groupby(by=['Year', 'Question'])\n",
    "columns=['analisis','organizaciones','overlap', 'question']\n",
    "df_overlap = pd.DataFrame(columns=columns)\n",
    "\n",
    "for name, group in df2:\n",
    "    for i in range(len(group)):\n",
    "        if(group.iloc[i]['Organization'] != 'Sberbank'):\n",
    "            org1 = 'No_Sberbank'\n",
    "        else:\n",
    "            org1 = 'Sberbank'\n",
    "        \n",
    "        for j in range(i+1,len(group)):\n",
    "            grupo = group.iloc[i]['Operations']\n",
    "            analisis = group.iloc[i]['case:concept:name'] + \"-\" + group.iloc[j]['case:concept:name']\n",
    "                \n",
    "            if(group.iloc[j]['Organization'] != 'Sberbank'):\n",
    "                org2 = 'No_Sberbank'\n",
    "            else:\n",
    "                org2 = 'Sberbank'\n",
    "            org = org1 + \"-\" + org2\n",
    "            overlap = overlapIndex(grupo,group.iloc[j]['Operations'])\n",
    "            question = group.iloc[i]['Question']\n",
    "            new_row={'analisis':analisis,'organizaciones':org,'overlap': overlap, 'question':question} \n",
    "            df_overlap = df_overlap.append(new_row, ignore_index=True)\n",
    "            \n",
    "        \n",
    "df_overlap = df_overlap.replace({'Sberbank-No_Sberbank':'No_Sberbank-Sberbank'})"
   ]
  },
  {
   "cell_type": "code",
   "execution_count": 16,
   "metadata": {},
   "outputs": [],
   "source": [
    "df_Sber = df_overlap[df_overlap['organizaciones']=='Sberbank-Sberbank']"
   ]
  },
  {
   "cell_type": "code",
   "execution_count": 31,
   "metadata": {},
   "outputs": [
    {
     "data": {
      "text/plain": [
       "(array([6., 1., 0., 7., 1., 6., 9., 0., 0., 6.]),\n",
       " array([0. , 0.1, 0.2, 0.3, 0.4, 0.5, 0.6, 0.7, 0.8, 0.9, 1. ]),\n",
       " <a list of 10 Patch objects>)"
      ]
     },
     "execution_count": 31,
     "metadata": {},
     "output_type": "execute_result"
    },
    {
     "data": {
      "image/png": "[encoded data removed]",
      "text/plain": [
       "<Figure size 432x288 with 1 Axes>"
      ]
     },
     "metadata": {
      "needs_background": "light"
     },
     "output_type": "display_data"
    }
   ],
   "source": [
    "df_Sber_P1 = df_Sber[df_Sber['question']=='P1']\n",
    "plt.title('P1 2020')\n",
    "plt.hist(df_Sber_P1.overlap)"
   ]
  },
  {
   "cell_type": "code",
   "execution_count": 32,
   "metadata": {},
   "outputs": [
    {
     "data": {
      "text/plain": [
       "(array([20.,  0.,  0.,  1.,  0.,  0.,  1.,  0.,  0., 14.]),\n",
       " array([0. , 0.1, 0.2, 0.3, 0.4, 0.5, 0.6, 0.7, 0.8, 0.9, 1. ]),\n",
       " <a list of 10 Patch objects>)"
      ]
     },
     "execution_count": 32,
     "metadata": {},
     "output_type": "execute_result"
    },
    {
     "data": {
      "image/png": "[encoded data removed]",
      "text/plain": [
       "<Figure size 432x288 with 1 Axes>"
      ]
     },
     "metadata": {
      "needs_background": "light"
     },
     "output_type": "display_data"
    }
   ],
   "source": [
    "df_Sber_P2 = df_Sber[df_Sber['question']=='P2']\n",
    "plt.title('P2 2020')\n",
    "plt.hist(df_Sber_P2.overlap)"
   ]
  },
  {
   "cell_type": "code",
   "execution_count": 33,
   "metadata": {},
   "outputs": [
    {
     "data": {
      "text/plain": [
       "(array([28.,  0.,  3.,  5.,  0.,  0.,  1.,  0.,  0.,  8.]),\n",
       " array([0. , 0.1, 0.2, 0.3, 0.4, 0.5, 0.6, 0.7, 0.8, 0.9, 1. ]),\n",
       " <a list of 10 Patch objects>)"
      ]
     },
     "execution_count": 33,
     "metadata": {},
     "output_type": "execute_result"
    },
    {
     "data": {
      "image/png": "[encoded data removed]",
      "text/plain": [
       "<Figure size 432x288 with 1 Axes>"
      ]
     },
     "metadata": {
      "needs_background": "light"
     },
     "output_type": "display_data"
    }
   ],
   "source": [
    "df_Sber_P4 = df_Sber[df_Sber['question']=='P4']\n",
    "plt.title('P4 2020')\n",
    "plt.hist(df_Sber_P4.overlap)"
   ]
  },
  {
   "cell_type": "code",
   "execution_count": 34,
   "metadata": {},
   "outputs": [
    {
     "data": {
      "text/plain": [
       "(array([5., 0., 1., 0., 0., 4., 6., 0., 1., 4.]),\n",
       " array([0. , 0.1, 0.2, 0.3, 0.4, 0.5, 0.6, 0.7, 0.8, 0.9, 1. ]),\n",
       " <a list of 10 Patch objects>)"
      ]
     },
     "execution_count": 34,
     "metadata": {},
     "output_type": "execute_result"
    },
    {
     "data": {
      "image/png": "[encoded data removed]",
      "text/plain": [
       "<Figure size 432x288 with 1 Axes>"
      ]
     },
     "metadata": {
      "needs_background": "light"
     },
     "output_type": "display_data"
    }
   ],
   "source": [
    "df_Sber_P5 = df_Sber[df_Sber['question']=='P5']\n",
    "plt.title('P5 2020')\n",
    "plt.hist(df_Sber_P5.overlap)"
   ]
  },
  {
   "cell_type": "code",
   "execution_count": 35,
   "metadata": {},
   "outputs": [
    {
     "data": {
      "text/plain": [
       "(array([1., 0., 0., 1., 1., 1., 0., 0., 0., 6.]),\n",
       " array([0. , 0.1, 0.2, 0.3, 0.4, 0.5, 0.6, 0.7, 0.8, 0.9, 1. ]),\n",
       " <a list of 10 Patch objects>)"
      ]
     },
     "execution_count": 35,
     "metadata": {},
     "output_type": "execute_result"
    },
    {
     "data": {
      "image/png": "[encoded data removed]",
      "text/plain": [
       "<Figure size 432x288 with 1 Axes>"
      ]
     },
     "metadata": {
      "needs_background": "light"
     },
     "output_type": "display_data"
    }
   ],
   "source": [
    "df_Sber_P6 = df_Sber[df_Sber['question']=='P6']\n",
    "plt.title('P6 2020')\n",
    "plt.hist(df_Sber_P6.overlap)"
   ]
  }
 ],
 "metadata": {
  "kernelspec": {
   "display_name": "Python 3",
   "language": "python",
   "name": "python3"
  },
  "language_info": {
   "codemirror_mode": {
    "name": "ipython",
    "version": 3
   },
   "file_extension": ".py",
   "mimetype": "text/x-python",
   "name": "python",
   "nbconvert_exporter": "python",
   "pygments_lexer": "ipython3",
   "version": "3.7.6"
  }
 },
 "nbformat": 4,
 "nbformat_minor": 4
}
