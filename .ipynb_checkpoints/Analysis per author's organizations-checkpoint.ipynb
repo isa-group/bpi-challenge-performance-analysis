{
 "cells": [
  {
   "cell_type": "code",
   "execution_count": 2,
   "metadata": {},
   "outputs": [],
   "source": [
    "import pandas as pd\n",
    "import datetime\n",
    "from os import listdir\n",
    "import os, os.path\n",
    "from os.path import isfile, join\n",
    "import numpy as np\n",
    "import csv\n",
    "import re\n",
    "import pandas as pd\n",
    "from pm4py.objects.conversion.log import converter as log_converter\n",
    "from pm4py.objects.log.importer.xes import importer as xes_importer\n",
    "from pm4py.objects.log.exporter.xes import exporter as xes_exporter\n",
    "from pm4py.objects.log.util import dataframe_utils\n",
    "import matplotlib.pyplot as plt\n",
    "import seaborn as sns"
   ]
  },
  {
   "cell_type": "code",
   "execution_count": 20,
   "metadata": {
    "scrolled": true
   },
   "outputs": [],
   "source": [
    "df_prueba = pd.read_csv(\"Log of analysis of time aspects.csv\",index_col=0)"
   ]
  },
  {
   "cell_type": "code",
   "execution_count": 4,
   "metadata": {},
   "outputs": [],
   "source": [
    "df_report_year = df_prueba.groupby(by=['Question', 'Year'])\n",
    "for name, group in df_report_year:\n",
    "    operations = group['concept:name'].to_list()\n",
    "    "
   ]
  },
  {
   "cell_type": "code",
   "execution_count": 5,
   "metadata": {},
   "outputs": [],
   "source": [
    "df_agrupado = pd.DataFrame(columns=['case:concept:name','Operations','Organization', 'Year', 'Question'])"
   ]
  },
  {
   "cell_type": "code",
   "execution_count": 6,
   "metadata": {},
   "outputs": [],
   "source": [
    "df_analisis = df_prueba.groupby(by=['case:concept:name'])\n",
    "# columns=['case:concept:name','Operations','Organization', 'Year', 'Question']\n",
    "df_agrupado = pd.DataFrame(columns=['case:concept:name','Operations','Organization', 'Year', 'Question'])\n",
    "for name, group in df_analisis:\n",
    "    org = group.iloc[0]['Organization']\n",
    "    year = group.iloc[0]['Year']\n",
    "    question = group.iloc[0]['Question']\n",
    "    lista = group['concept:name'].to_list()\n",
    "        \n",
    "    new_row={'case:concept:name':name, 'Operations':lista, 'Organization':org, 'Year':year, 'Question':question} \n",
    "    df_agrupado = df_agrupado.append(new_row, ignore_index=True)"
   ]
  },
  {
   "cell_type": "code",
   "execution_count": 7,
   "metadata": {
    "scrolled": true
   },
   "outputs": [
    {
     "data": {
      "text/html": [
       "<div>\n",
       "<style scoped>\n",
       "    .dataframe tbody tr th:only-of-type {\n",
       "        vertical-align: middle;\n",
       "    }\n",
       "\n",
       "    .dataframe tbody tr th {\n",
       "        vertical-align: top;\n",
       "    }\n",
       "\n",
       "    .dataframe thead th {\n",
       "        text-align: right;\n",
       "    }\n",
       "</style>\n",
       "<table border=\"1\" class=\"dataframe\">\n",
       "  <thead>\n",
       "    <tr style=\"text-align: right;\">\n",
       "      <th></th>\n",
       "      <th>case:concept:name</th>\n",
       "      <th>Operations</th>\n",
       "      <th>Organization</th>\n",
       "      <th>Year</th>\n",
       "      <th>Question</th>\n",
       "    </tr>\n",
       "  </thead>\n",
       "  <tbody>\n",
       "    <tr>\n",
       "      <td>0</td>\n",
       "      <td>A1 P1 BPI 2017</td>\n",
       "      <td>[Calculate cycle time, Calculate cycle time, F...</td>\n",
       "      <td>University of Liechtenstein\\nVienna University...</td>\n",
       "      <td>2017</td>\n",
       "      <td>P1</td>\n",
       "    </tr>\n",
       "    <tr>\n",
       "      <td>1</td>\n",
       "      <td>A1 P1-P2 BPI 2020</td>\n",
       "      <td>[Filter traces, Calculate cycle time, Calculat...</td>\n",
       "      <td>Technische Universität, Berlin</td>\n",
       "      <td>2020</td>\n",
       "      <td>P1-P2</td>\n",
       "    </tr>\n",
       "    <tr>\n",
       "      <td>2</td>\n",
       "      <td>A1 P2 BPI 2019</td>\n",
       "      <td>[Group events by time, Calculate cycle time, R...</td>\n",
       "      <td>University of Melbourne</td>\n",
       "      <td>2019</td>\n",
       "      <td>P2</td>\n",
       "    </tr>\n",
       "    <tr>\n",
       "      <td>3</td>\n",
       "      <td>A1 P5 BPI 2015</td>\n",
       "      <td>[Calculate cycle time, Identify organizational...</td>\n",
       "      <td>Meijer &amp; Van der Ham Management Consultants</td>\n",
       "      <td>2015</td>\n",
       "      <td>P5</td>\n",
       "    </tr>\n",
       "    <tr>\n",
       "      <td>4</td>\n",
       "      <td>A1 P5 BPI 2020</td>\n",
       "      <td>[Filter traces, Calculate cycle time, Find bot...</td>\n",
       "      <td>Technische Universität, Berlin</td>\n",
       "      <td>2020</td>\n",
       "      <td>P5</td>\n",
       "    </tr>\n",
       "    <tr>\n",
       "      <td>...</td>\n",
       "      <td>...</td>\n",
       "      <td>...</td>\n",
       "      <td>...</td>\n",
       "      <td>...</td>\n",
       "      <td>...</td>\n",
       "    </tr>\n",
       "    <tr>\n",
       "      <td>105</td>\n",
       "      <td>A8 P1 BPI 2017</td>\n",
       "      <td>[Filter traces, Calculate waiting time, Repres...</td>\n",
       "      <td>Universidade Federal do Estado do Rio de Janeiro</td>\n",
       "      <td>2017</td>\n",
       "      <td>P1</td>\n",
       "    </tr>\n",
       "    <tr>\n",
       "      <td>106</td>\n",
       "      <td>A8 P5 BPI 2015</td>\n",
       "      <td>[Calculate cycle time, Compare cycle time, Gro...</td>\n",
       "      <td>GRADIENT ECM</td>\n",
       "      <td>2015</td>\n",
       "      <td>P5</td>\n",
       "    </tr>\n",
       "    <tr>\n",
       "      <td>107</td>\n",
       "      <td>A9 P1 BPI 2017</td>\n",
       "      <td>[Calculate processing time, Calculate waiting ...</td>\n",
       "      <td>POSTECH</td>\n",
       "      <td>2017</td>\n",
       "      <td>P1</td>\n",
       "    </tr>\n",
       "    <tr>\n",
       "      <td>108</td>\n",
       "      <td>A9 P2 BPI 2019</td>\n",
       "      <td>[Filter traces, Calculate cycle time, Identify...</td>\n",
       "      <td>KPMG Netherlands</td>\n",
       "      <td>2019</td>\n",
       "      <td>P2</td>\n",
       "    </tr>\n",
       "    <tr>\n",
       "      <td>109</td>\n",
       "      <td>A9 P5 BPI 2015</td>\n",
       "      <td>[Filter traces, Calculate cycle time, Group tr...</td>\n",
       "      <td>APPS(Advanced Process Performance reSearch cen...</td>\n",
       "      <td>2015</td>\n",
       "      <td>P5</td>\n",
       "    </tr>\n",
       "  </tbody>\n",
       "</table>\n",
       "<p>110 rows × 5 columns</p>\n",
       "</div>"
      ],
      "text/plain": [
       "     case:concept:name                                         Operations  \\\n",
       "0       A1 P1 BPI 2017  [Calculate cycle time, Calculate cycle time, F...   \n",
       "1    A1 P1-P2 BPI 2020  [Filter traces, Calculate cycle time, Calculat...   \n",
       "2       A1 P2 BPI 2019  [Group events by time, Calculate cycle time, R...   \n",
       "3       A1 P5 BPI 2015  [Calculate cycle time, Identify organizational...   \n",
       "4       A1 P5 BPI 2020  [Filter traces, Calculate cycle time, Find bot...   \n",
       "..                 ...                                                ...   \n",
       "105     A8 P1 BPI 2017  [Filter traces, Calculate waiting time, Repres...   \n",
       "106     A8 P5 BPI 2015  [Calculate cycle time, Compare cycle time, Gro...   \n",
       "107     A9 P1 BPI 2017  [Calculate processing time, Calculate waiting ...   \n",
       "108     A9 P2 BPI 2019  [Filter traces, Calculate cycle time, Identify...   \n",
       "109     A9 P5 BPI 2015  [Filter traces, Calculate cycle time, Group tr...   \n",
       "\n",
       "                                          Organization  Year Question  \n",
       "0    University of Liechtenstein\\nVienna University...  2017       P1  \n",
       "1                       Technische Universität, Berlin  2020    P1-P2  \n",
       "2                              University of Melbourne  2019       P2  \n",
       "3          Meijer & Van der Ham Management Consultants  2015       P5  \n",
       "4                       Technische Universität, Berlin  2020       P5  \n",
       "..                                                 ...   ...      ...  \n",
       "105   Universidade Federal do Estado do Rio de Janeiro  2017       P1  \n",
       "106                                       GRADIENT ECM  2015       P5  \n",
       "107                                            POSTECH  2017       P1  \n",
       "108                                   KPMG Netherlands  2019       P2  \n",
       "109  APPS(Advanced Process Performance reSearch cen...  2015       P5  \n",
       "\n",
       "[110 rows x 5 columns]"
      ]
     },
     "execution_count": 7,
     "metadata": {},
     "output_type": "execute_result"
    }
   ],
   "source": [
    "df_agrupado"
   ]
  },
  {
   "cell_type": "code",
   "execution_count": 8,
   "metadata": {},
   "outputs": [],
   "source": [
    "def jaccardIndex(list1,list2):\n",
    "    set1=set(list1)\n",
    "    set2=set(list2)\n",
    "    intersection = set1.intersection(set2)\n",
    "    tamIntersection=len(list(intersection))\n",
    "    union = set1.union(set2)\n",
    "    tamUnion=len(list(union))\n",
    "#     print(\"similitud: \"+str(float(tamIntersection)/tamUnion))\n",
    "    return float(tamIntersection)/tamUnion"
   ]
  },
  {
   "cell_type": "code",
   "execution_count": 9,
   "metadata": {},
   "outputs": [],
   "source": [
    "def overlapIndex(list1,list2):\n",
    "    set1=set(list1)\n",
    "    set2=set(list2)\n",
    "    intersection = set1.intersection(set2)\n",
    "    len1=len(list(set1))\n",
    "    len2=len(list(set2))\n",
    "#     print(float(len(list(intersection))))\n",
    "#     print(min([len1,len2]))\n",
    "    overlapIndex=float(len(list(intersection)))/min([len1,len2])\n",
    "    return overlapIndex"
   ]
  },
  {
   "cell_type": "code",
   "execution_count": 10,
   "metadata": {},
   "outputs": [],
   "source": [
    "def sorensenIndex(list1,list2):\n",
    "    set1=set(list1)\n",
    "    set2=set(list2)\n",
    "    intersection = set1.intersection(set2)\n",
    "    len1=len(list(set1))\n",
    "    len2=len(list(set2))\n",
    "    sorensenIndex=float(2*len(list(intersection)))/(len1+len2)\n",
    "    return sorensenIndex"
   ]
  },
  {
   "cell_type": "code",
   "execution_count": 11,
   "metadata": {
    "scrolled": true
   },
   "outputs": [
    {
     "data": {
      "text/html": [
       "<div>\n",
       "<style scoped>\n",
       "    .dataframe tbody tr th:only-of-type {\n",
       "        vertical-align: middle;\n",
       "    }\n",
       "\n",
       "    .dataframe tbody tr th {\n",
       "        vertical-align: top;\n",
       "    }\n",
       "\n",
       "    .dataframe thead th {\n",
       "        text-align: right;\n",
       "    }\n",
       "</style>\n",
       "<table border=\"1\" class=\"dataframe\">\n",
       "  <thead>\n",
       "    <tr style=\"text-align: right;\">\n",
       "      <th></th>\n",
       "      <th>analisis</th>\n",
       "      <th>organizaciones</th>\n",
       "      <th>overlap</th>\n",
       "      <th>jaccard</th>\n",
       "      <th>sorensen</th>\n",
       "    </tr>\n",
       "  </thead>\n",
       "  <tbody>\n",
       "    <tr>\n",
       "      <td>0</td>\n",
       "      <td>A1 P1-P2 BPI 2020-A10 P1-P2 BPI 2020</td>\n",
       "      <td>No_Sberbank-No_Sberbank</td>\n",
       "      <td>0.750000</td>\n",
       "      <td>0.428571</td>\n",
       "      <td>0.600000</td>\n",
       "    </tr>\n",
       "    <tr>\n",
       "      <td>1</td>\n",
       "      <td>A1 P1-P2 BPI 2020-A11 P1-P2 BPI 2020</td>\n",
       "      <td>No_Sberbank-Sberbank</td>\n",
       "      <td>1.000000</td>\n",
       "      <td>0.571429</td>\n",
       "      <td>0.727273</td>\n",
       "    </tr>\n",
       "    <tr>\n",
       "      <td>2</td>\n",
       "      <td>A1 P1-P2 BPI 2020-A12 P1-P2 BPI 2020</td>\n",
       "      <td>No_Sberbank-Sberbank</td>\n",
       "      <td>0.500000</td>\n",
       "      <td>0.285714</td>\n",
       "      <td>0.444444</td>\n",
       "    </tr>\n",
       "    <tr>\n",
       "      <td>3</td>\n",
       "      <td>A1 P1-P2 BPI 2020-A13 P1-P2 BPI 2020</td>\n",
       "      <td>No_Sberbank-Sberbank</td>\n",
       "      <td>1.000000</td>\n",
       "      <td>0.444444</td>\n",
       "      <td>0.615385</td>\n",
       "    </tr>\n",
       "    <tr>\n",
       "      <td>4</td>\n",
       "      <td>A1 P1-P2 BPI 2020-A16 P1-P2 BPI 2020</td>\n",
       "      <td>No_Sberbank-No_Sberbank</td>\n",
       "      <td>0.750000</td>\n",
       "      <td>0.375000</td>\n",
       "      <td>0.545455</td>\n",
       "    </tr>\n",
       "    <tr>\n",
       "      <td>...</td>\n",
       "      <td>...</td>\n",
       "      <td>...</td>\n",
       "      <td>...</td>\n",
       "      <td>...</td>\n",
       "      <td>...</td>\n",
       "    </tr>\n",
       "    <tr>\n",
       "      <td>552</td>\n",
       "      <td>A30 P6 BPI 2020-A37 P6 BPI 2020</td>\n",
       "      <td>No_Sberbank-Sberbank</td>\n",
       "      <td>0.333333</td>\n",
       "      <td>0.142857</td>\n",
       "      <td>0.250000</td>\n",
       "    </tr>\n",
       "    <tr>\n",
       "      <td>553</td>\n",
       "      <td>A30 P6 BPI 2020-A7 P6 BPI 2020</td>\n",
       "      <td>No_Sberbank-No_Sberbank</td>\n",
       "      <td>0.666667</td>\n",
       "      <td>0.500000</td>\n",
       "      <td>0.666667</td>\n",
       "    </tr>\n",
       "    <tr>\n",
       "      <td>554</td>\n",
       "      <td>A35 P6 BPI 2020-A37 P6 BPI 2020</td>\n",
       "      <td>No_Sberbank-Sberbank</td>\n",
       "      <td>0.000000</td>\n",
       "      <td>0.000000</td>\n",
       "      <td>0.000000</td>\n",
       "    </tr>\n",
       "    <tr>\n",
       "      <td>555</td>\n",
       "      <td>A35 P6 BPI 2020-A7 P6 BPI 2020</td>\n",
       "      <td>No_Sberbank-No_Sberbank</td>\n",
       "      <td>0.500000</td>\n",
       "      <td>0.250000</td>\n",
       "      <td>0.400000</td>\n",
       "    </tr>\n",
       "    <tr>\n",
       "      <td>556</td>\n",
       "      <td>A37 P6 BPI 2020-A7 P6 BPI 2020</td>\n",
       "      <td>No_Sberbank-Sberbank</td>\n",
       "      <td>0.333333</td>\n",
       "      <td>0.142857</td>\n",
       "      <td>0.250000</td>\n",
       "    </tr>\n",
       "  </tbody>\n",
       "</table>\n",
       "<p>557 rows × 5 columns</p>\n",
       "</div>"
      ],
      "text/plain": [
       "                                 analisis           organizaciones   overlap  \\\n",
       "0    A1 P1-P2 BPI 2020-A10 P1-P2 BPI 2020  No_Sberbank-No_Sberbank  0.750000   \n",
       "1    A1 P1-P2 BPI 2020-A11 P1-P2 BPI 2020     No_Sberbank-Sberbank  1.000000   \n",
       "2    A1 P1-P2 BPI 2020-A12 P1-P2 BPI 2020     No_Sberbank-Sberbank  0.500000   \n",
       "3    A1 P1-P2 BPI 2020-A13 P1-P2 BPI 2020     No_Sberbank-Sberbank  1.000000   \n",
       "4    A1 P1-P2 BPI 2020-A16 P1-P2 BPI 2020  No_Sberbank-No_Sberbank  0.750000   \n",
       "..                                    ...                      ...       ...   \n",
       "552       A30 P6 BPI 2020-A37 P6 BPI 2020     No_Sberbank-Sberbank  0.333333   \n",
       "553        A30 P6 BPI 2020-A7 P6 BPI 2020  No_Sberbank-No_Sberbank  0.666667   \n",
       "554       A35 P6 BPI 2020-A37 P6 BPI 2020     No_Sberbank-Sberbank  0.000000   \n",
       "555        A35 P6 BPI 2020-A7 P6 BPI 2020  No_Sberbank-No_Sberbank  0.500000   \n",
       "556        A37 P6 BPI 2020-A7 P6 BPI 2020     No_Sberbank-Sberbank  0.333333   \n",
       "\n",
       "      jaccard  sorensen  \n",
       "0    0.428571  0.600000  \n",
       "1    0.571429  0.727273  \n",
       "2    0.285714  0.444444  \n",
       "3    0.444444  0.615385  \n",
       "4    0.375000  0.545455  \n",
       "..        ...       ...  \n",
       "552  0.142857  0.250000  \n",
       "553  0.500000  0.666667  \n",
       "554  0.000000  0.000000  \n",
       "555  0.250000  0.400000  \n",
       "556  0.142857  0.250000  \n",
       "\n",
       "[557 rows x 5 columns]"
      ]
     },
     "execution_count": 11,
     "metadata": {},
     "output_type": "execute_result"
    }
   ],
   "source": [
    "df_2020 = df_agrupado[df_agrupado['Year']==2020]\n",
    "df2 = df_2020.groupby(by=['Year', 'Question'])\n",
    "columns=['analisis','organizaciones','overlap','jaccard','sorensen']\n",
    "df_metricas = pd.DataFrame(columns=columns)\n",
    "\n",
    "for name, group in df2:\n",
    "    for i in range(len(group)):\n",
    "        if(group.iloc[i]['Organization'] != 'Sberbank'):\n",
    "            org1 = 'No_Sberbank'\n",
    "        else:\n",
    "            org1 = 'Sberbank'\n",
    "        \n",
    "        for j in range(i+1,len(group)):\n",
    "            grupo = group.iloc[i]['Operations']\n",
    "            analisis = group.iloc[i]['case:concept:name'] + \"-\" + group.iloc[j]['case:concept:name']\n",
    "                \n",
    "            if(group.iloc[j]['Organization'] != 'Sberbank'):\n",
    "                org2 = 'No_Sberbank'\n",
    "            else:\n",
    "                org2 = 'Sberbank'\n",
    "            org = org1 + \"-\" + org2\n",
    "            sorensen = sorensenIndex(grupo,group.iloc[j]['Operations'])\n",
    "            overlap = overlapIndex(grupo,group.iloc[j]['Operations'])\n",
    "            jaccard = jaccardIndex(grupo,group.iloc[j]['Operations'])\n",
    "            new_row={'analisis':analisis,'organizaciones':org,'overlap':overlap,'jaccard':jaccard,'sorensen':sorensen} \n",
    "            df_metricas = df_metricas.append(new_row, ignore_index=True)\n",
    "        \n",
    "df_metricas = df_metricas.replace({'Sberbank-No_Sberbank':'No_Sberbank-Sberbank'})\n",
    "df_metricas "
   ]
  },
  {
   "cell_type": "code",
   "execution_count": 12,
   "metadata": {},
   "outputs": [
    {
     "data": {
      "text/html": [
       "<div>\n",
       "<style scoped>\n",
       "    .dataframe tbody tr th:only-of-type {\n",
       "        vertical-align: middle;\n",
       "    }\n",
       "\n",
       "    .dataframe tbody tr th {\n",
       "        vertical-align: top;\n",
       "    }\n",
       "\n",
       "    .dataframe thead th {\n",
       "        text-align: right;\n",
       "    }\n",
       "</style>\n",
       "<table border=\"1\" class=\"dataframe\">\n",
       "  <thead>\n",
       "    <tr style=\"text-align: right;\">\n",
       "      <th></th>\n",
       "      <th>overlap</th>\n",
       "      <th>jaccard</th>\n",
       "      <th>sorensen</th>\n",
       "    </tr>\n",
       "    <tr>\n",
       "      <th>organizaciones</th>\n",
       "      <th></th>\n",
       "      <th></th>\n",
       "      <th></th>\n",
       "    </tr>\n",
       "  </thead>\n",
       "  <tbody>\n",
       "    <tr>\n",
       "      <td>No_Sberbank-No_Sberbank</td>\n",
       "      <td>0.588952</td>\n",
       "      <td>0.313153</td>\n",
       "      <td>0.444988</td>\n",
       "    </tr>\n",
       "    <tr>\n",
       "      <td>No_Sberbank-Sberbank</td>\n",
       "      <td>0.510806</td>\n",
       "      <td>0.248390</td>\n",
       "      <td>0.359626</td>\n",
       "    </tr>\n",
       "    <tr>\n",
       "      <td>Sberbank-Sberbank</td>\n",
       "      <td>0.400998</td>\n",
       "      <td>0.175681</td>\n",
       "      <td>0.262647</td>\n",
       "    </tr>\n",
       "  </tbody>\n",
       "</table>\n",
       "</div>"
      ],
      "text/plain": [
       "                          overlap   jaccard  sorensen\n",
       "organizaciones                                       \n",
       "No_Sberbank-No_Sberbank  0.588952  0.313153  0.444988\n",
       "No_Sberbank-Sberbank     0.510806  0.248390  0.359626\n",
       "Sberbank-Sberbank        0.400998  0.175681  0.262647"
      ]
     },
     "execution_count": 12,
     "metadata": {},
     "output_type": "execute_result"
    }
   ],
   "source": [
    "df_metricas.groupby(by=['organizaciones']).mean()"
   ]
  },
  {
   "cell_type": "code",
   "execution_count": 13,
   "metadata": {},
   "outputs": [],
   "source": [
    "from scipy import stats\n",
    "\n",
    "group1 =  df_metricas[df_metricas['organizaciones'] == 'Sberbank-Sberbank']\n",
    "group2 =  df_metricas[df_metricas['organizaciones'] == 'No_Sberbank-Sberbank']\n",
    "group3 =  df_metricas[df_metricas['organizaciones'] == 'No_Sberbank-No_Sberbank']\n",
    "# stats.kruskal(group1, group2, group3)"
   ]
  },
  {
   "cell_type": "code",
   "execution_count": 14,
   "metadata": {},
   "outputs": [
    {
     "data": {
      "text/plain": [
       "organizaciones\n",
       "No_Sberbank-No_Sberbank    0.078452\n",
       "No_Sberbank-Sberbank       0.115245\n",
       "Sberbank-Sberbank          0.134239\n",
       "Name: overlap, dtype: float64"
      ]
     },
     "execution_count": 14,
     "metadata": {},
     "output_type": "execute_result"
    }
   ],
   "source": [
    "df_metricas.groupby(by=['organizaciones'])['overlap'].var(ddof=0)"
   ]
  },
  {
   "cell_type": "code",
   "execution_count": 15,
   "metadata": {},
   "outputs": [
    {
     "data": {
      "text/plain": [
       "organizaciones\n",
       "No_Sberbank-No_Sberbank    0.280093\n",
       "No_Sberbank-Sberbank       0.339478\n",
       "Sberbank-Sberbank          0.366387\n",
       "Name: overlap, dtype: float64"
      ]
     },
     "execution_count": 15,
     "metadata": {},
     "output_type": "execute_result"
    }
   ],
   "source": [
    "df_metricas.groupby(by=['organizaciones'])['overlap'].std(ddof=0)"
   ]
  },
  {
   "cell_type": "code",
   "execution_count": 16,
   "metadata": {},
   "outputs": [
    {
     "data": {
      "text/plain": [
       "organizaciones\n",
       "No_Sberbank-No_Sberbank    0.038601\n",
       "No_Sberbank-Sberbank       0.039796\n",
       "Sberbank-Sberbank          0.033071\n",
       "Name: jaccard, dtype: float64"
      ]
     },
     "execution_count": 16,
     "metadata": {},
     "output_type": "execute_result"
    }
   ],
   "source": [
    "df_metricas.groupby(by=['organizaciones'])['jaccard'].var(ddof=0)"
   ]
  },
  {
   "cell_type": "code",
   "execution_count": 17,
   "metadata": {},
   "outputs": [
    {
     "data": {
      "text/plain": [
       "organizaciones\n",
       "No_Sberbank-No_Sberbank    0.196470\n",
       "No_Sberbank-Sberbank       0.199489\n",
       "Sberbank-Sberbank          0.181854\n",
       "Name: jaccard, dtype: float64"
      ]
     },
     "execution_count": 17,
     "metadata": {},
     "output_type": "execute_result"
    }
   ],
   "source": [
    "df_metricas.groupby(by=['organizaciones'])['jaccard'].std(ddof=0)"
   ]
  },
  {
   "cell_type": "code",
   "execution_count": 18,
   "metadata": {},
   "outputs": [
    {
     "data": {
      "text/plain": [
       "organizaciones\n",
       "No_Sberbank-No_Sberbank    0.047393\n",
       "No_Sberbank-Sberbank       0.059769\n",
       "Sberbank-Sberbank          0.056963\n",
       "Name: sorensen, dtype: float64"
      ]
     },
     "execution_count": 18,
     "metadata": {},
     "output_type": "execute_result"
    }
   ],
   "source": [
    "df_metricas.groupby(by=['organizaciones'])['sorensen'].var(ddof=0)"
   ]
  },
  {
   "cell_type": "code",
   "execution_count": 19,
   "metadata": {},
   "outputs": [
    {
     "data": {
      "text/plain": [
       "organizaciones\n",
       "No_Sberbank-No_Sberbank    0.217698\n",
       "No_Sberbank-Sberbank       0.244478\n",
       "Sberbank-Sberbank          0.238669\n",
       "Name: sorensen, dtype: float64"
      ]
     },
     "execution_count": 19,
     "metadata": {},
     "output_type": "execute_result"
    }
   ],
   "source": [
    "df_metricas.groupby(by=['organizaciones'])['sorensen'].std(ddof=0)"
   ]
  },
  {
   "cell_type": "code",
   "execution_count": null,
   "metadata": {},
   "outputs": [],
   "source": []
  }
 ],
 "metadata": {
  "kernelspec": {
   "display_name": "Python 3",
   "language": "python",
   "name": "python3"
  },
  "language_info": {
   "codemirror_mode": {
    "name": "ipython",
    "version": 3
   },
   "file_extension": ".py",
   "mimetype": "text/x-python",
   "name": "python",
   "nbconvert_exporter": "python",
   "pygments_lexer": "ipython3",
   "version": "3.7.4"
  }
 },
 "nbformat": 4,
 "nbformat_minor": 4
}
