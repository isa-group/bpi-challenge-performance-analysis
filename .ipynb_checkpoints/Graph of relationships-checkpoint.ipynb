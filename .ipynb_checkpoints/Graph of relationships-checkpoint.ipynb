{
 "cells": [
  {
   "cell_type": "code",
   "execution_count": 26,
   "metadata": {},
   "outputs": [],
   "source": [
    "import networkx as nx\n",
    "import numpy as np\n",
    "import pandas as pd"
   ]
  },
  {
   "cell_type": "code",
   "execution_count": 2,
   "metadata": {},
   "outputs": [],
   "source": [
    "G=nx.Graph()"
   ]
  },
  {
   "cell_type": "code",
   "execution_count": 3,
   "metadata": {},
   "outputs": [],
   "source": [
    "G.add_nodes_from([\"Calculate percentages\",\n",
    "                  \"Calculate cycle time\",\n",
    "                  \"Calculate number of elements\",\n",
    "                  \"Filter traces\",\n",
    "                  \"Identify bottlenecks\",\n",
    "                  \"Group traces\",\n",
    "                  \"Identify attributes\",\n",
    "                  \"Represent bar charts\",\n",
    "                  \"Represent process map\",\n",
    "                  \"Represent histograms\",\n",
    "                  \"Calculate throughput\",\n",
    "                  \"Calculate waiting time\",\n",
    "                  \"Calculate frequency\",\n",
    "                  \"Calculate statistics\",\n",
    "                 ])"
   ]
  },
  {
   "cell_type": "code",
   "execution_count": 4,
   "metadata": {},
   "outputs": [],
   "source": [
    "weights=[\n",
    "    92.73,65.45,85.45,54.55,50.91,#calculate percentages\n",
    "    91.18,76.47,70.59, # Identify attributes\n",
    "    \n",
    "]\n",
    "#weights=[weight/10 for weight in weights]"
   ]
  },
  {
   "cell_type": "code",
   "execution_count": 5,
   "metadata": {},
   "outputs": [
    {
     "data": {
      "text/plain": [
       "<networkx.classes.graph.Graph at 0x1e647356f40>"
      ]
     },
     "execution_count": 5,
     "metadata": {},
     "output_type": "execute_result"
    }
   ],
   "source": [
    "G"
   ]
  },
  {
   "cell_type": "code",
   "execution_count": 6,
   "metadata": {},
   "outputs": [],
   "source": [
    "G.add_edges_from([\n",
    "    #calculate percentages\n",
    "    (\"Calculate percentages\",\"Calculate cycle time\"),(\"Calculate percentages\",\"Calculate number of elements\"),(\"Calculate percentages\",\"Filter traces\"),(\"Calculate percentages\",\"Identify bottlenecks\"),(\"Calculate percentages\",\"Group traces\"),\n",
    "    \n",
    "    #Identify attributes\n",
    "    (\"Identify attributes\",\"Calculate cycle time\"),(\"Identify attributes\",\"Filter traces\"),(\"Identify attributes\",\"Calculat number of elements\"),\n",
    "    \n",
    "                 ])"
   ]
  },
  {
   "cell_type": "code",
   "execution_count": 7,
   "metadata": {},
   "outputs": [
    {
     "data": {
      "image/png": "[encoded data removed]",
      "text/plain": [
       "<Figure size 432x288 with 1 Axes>"
      ]
     },
     "metadata": {},
     "output_type": "display_data"
    }
   ],
   "source": [
    "nx.draw(G)"
   ]
  },
  {
   "cell_type": "code",
   "execution_count": 8,
   "metadata": {},
   "outputs": [
    {
     "data": {
      "image/png": "[encoded data removed]",
      "text/plain": [
       "<Figure size 432x288 with 1 Axes>"
      ]
     },
     "metadata": {},
     "output_type": "display_data"
    }
   ],
   "source": [
    "nx.draw(G,\n",
    "        nodelist=[\"Calculate percentages\",\n",
    "                  \"Calculate cycle time\",\n",
    "                  \"Calculate number of elements\",\n",
    "                  \"Filter traces\",\n",
    "                  \"Identify bottlenecks\",\n",
    "                  \"Group traces\"\n",
    "                 ],                         \n",
    "        edgelist=[(\"Calculate percentages\",\"Calculate cycle time\"),\n",
    "                  (\"Calculate percentages\",\"Calculate number of elements\"),\n",
    "                  (\"Calculate percentages\",\"Filter traces\"),\n",
    "                  (\"Calculate percentages\",\"Identify bottlenecks\"),\n",
    "                  (\"Calculate percentages\",\"Group traces\")\n",
    "                 ], \n",
    "        width=weights,\n",
    "        with_labels=True\n",
    "       )"
   ]
  },
  {
   "cell_type": "code",
   "execution_count": 9,
   "metadata": {},
   "outputs": [
    {
     "data": {
      "text/plain": [
       "[92.73, 65.45, 85.45, 54.55, 50.91, 91.18, 76.47, 70.59]"
      ]
     },
     "execution_count": 9,
     "metadata": {},
     "output_type": "execute_result"
    }
   ],
   "source": [
    "weights"
   ]
  },
  {
   "cell_type": "code",
   "execution_count": 2,
   "metadata": {},
   "outputs": [],
   "source": [
    "#---------------------------------------------------------------------------------------------------------------------------\n",
    "nodes=[\"Calculate percentages\",\n",
    "       \"Calculate cycle time\",\n",
    "       \"Calculate number of elements\",\n",
    "       \"Filter traces\",\n",
    "       \"Identify bottlenecks\",\"Group traces\",\n",
    "       \"Identify attributes\",\n",
    "       \"Represent bar charts\",\n",
    "       \"Represent process map\",\n",
    "       \"Represent histograms\",\n",
    "       \"Calculate throughput\",\n",
    "       \"Calculate waiting time\",\n",
    "       \"Calculate frequency\",\n",
    "       \"Calculate statistics\",\n",
    "      ]"
   ]
  },
  {
   "cell_type": "code",
   "execution_count": 3,
   "metadata": {},
   "outputs": [],
   "source": [
    "weights=[\n",
    "    92.73,65.45,85.45,54.55,50.91,#calculate percentages\n",
    "    91.18,76.47,70.59, # Identify attributes\n",
    "    91.67,83.33,63.89,58.33,58.33,50.00,# Represent bar charts\n",
    "    89.47,80.26,53.95, #calculate number of elements\n",
    "    89.36,65.96,61.70, #Represent process map\n",
    "    87.5,59.38,56.25, #Represent histograms\n",
    "    85.25,#Identify bottlenecks\n",
    "    83.13,54.22,50.60, #Filter traces\n",
    "    77.59,72.41,60.34,56.90, #Group traces\n",
    "    77.78,66.67, #Calculate throughput\n",
    "    74.07,51.85,51.85, #Calculate waiting time\n",
    "    73.91,65.22,65.22,56.52,56.52, #Calculate frequency\n",
    "    71.43,68.57, #Calculate statistics\n",
    "    52.23 #Calculate cycle time\n",
    "    \n",
    "    \n",
    "    ]\n",
    "# weights=[weight/10 for weight in weights]"
   ]
  },
  {
   "cell_type": "code",
   "execution_count": 19,
   "metadata": {},
   "outputs": [],
   "source": [
    "edges=[\n",
    "#     Calculate percentages\n",
    "    (\"Calculate percentages\",\"Calculate cycle time\"),(\"Calculate percentages\",\"Calculate number of elements\"),(\"Calculate percentages\",\"Filter traces\"),(\"Calculate percentages\",\"Identify bottlenecks\"),(\"Calculate percentages\",\"Group traces\"),\n",
    "    \n",
    "    #Identify attributes\n",
    "    (\"Identify attributes\",\"Calculate cycle time\"),(\"Identify attributes\",\"Filter traces\"),(\"Identify attributes\",\"Calculate number of elements\"),\n",
    "    \n",
    "    #Represent bar charts\n",
    "    (\"Represent bar charts\",\"Calculate cycle time\"),(\"Represent bar charts\",\"Filter traces\"),(\"Represent bar charts\",\"Calculate percentages\"),(\"Represent bar charts\",\"Calculate number of elements\"),(\"Represent bar charts\",\"Identify bottlenecks\"),(\"Represent bar charts\",\"Identify attributes\"),\n",
    "    \n",
    "    #Calculate number of elements\n",
    "    (\"Calculate number of elements\",\"Calculate cycle time\"),(\"Calculate number of elements\",\"Filter traces\"),(\"Calculate number of elements\",\"Group traces\"),\n",
    "    \n",
    "    #Represent process map\n",
    "    (\"Represent process map\",\"Calculate cycle time\"),(\"Represent process map\",\"Identify bottlenecks\"),(\"Represent process map\",\"Filter traces\"),\n",
    "    \n",
    "    #Represent histograms\n",
    "    (\"Represent histograms\",\"Calculate cycle time\"),(\"Represent histograms\",\"Identify bottlenecks\"),(\"Represent histograms\",\"Filter traces\"),\n",
    "    \n",
    "    #Identify bottlenecks\n",
    "    (\"Identify bottlenecks\",\"Calculate cycle time\"),\n",
    "    \n",
    "    #Filter traces\n",
    "    (\"Filter traces\",\"Calculate cycle time\"),(\"Filter traces\",\"Calculate number of elements\"),(\"Filter traces\",\"Group traces\"),\n",
    "    \n",
    "    #Group traces\n",
    "    (\"Group traces\",\"Calculate cycle time\"),(\"Group traces\",\"Filter traces\"),(\"Group traces\",\"Calculate number of elements\"),(\"Group traces\",\"Calculate statistics\"),\n",
    "    \n",
    "    #Calculate throughput\n",
    "    (\"Calculate throughput\",\"Calculate number of elements\"),(\"Calculate throughput\",\"Filter traces\"),\n",
    "    \n",
    "    #Calculate waiting time\n",
    "    (\"Calculate waiting time\",\"Identify bottlenecks\"),(\"Calculate waiting time\",\"Calculate cycle time\"),(\"Calculate waiting time\",\"Filter traces\"),\n",
    "    \n",
    "    #Calculate frequency\n",
    "    (\"Calculate frequency\",\"Calculate cycle time\"),(\"Calculate frequency\",\"Calculate percentages\"),(\"Calculate frequency\",\"Identify bottlenecks\"), (\"Calculate frequency\",\"Calculate number of elements\"), (\"Calculate frequency\",\"Filter traces\"),\n",
    "    \n",
    "    #Calculate statistics\n",
    "    (\"Calculate statistics\",\"Group traces\"),(\"Calculate statistics\",\"Filter traces\"),\n",
    "    \n",
    "    #Calculate cycle time\n",
    "    (\"Calculate cycle time\",\"Filter traces\")\n",
    "    \n",
    "    ]"
   ]
  },
  {
   "cell_type": "code",
   "execution_count": 20,
   "metadata": {},
   "outputs": [],
   "source": [
    "weights2=[]\n",
    "\n",
    "for weight in weights:\n",
    "    if weight>50 and weight<70:\n",
    "        weights2.append('r')\n",
    "    elif weight>70 and weight<90:\n",
    "        weights2.append('b')\n",
    "    elif weight>90:\n",
    "        weights2.append('g')"
   ]
  },
  {
   "cell_type": "code",
   "execution_count": 21,
   "metadata": {
    "scrolled": true
   },
   "outputs": [
    {
     "data": {
      "text/plain": [
       "['g',\n",
       " 'r',\n",
       " 'b',\n",
       " 'r',\n",
       " 'r',\n",
       " 'g',\n",
       " 'b',\n",
       " 'b',\n",
       " 'g',\n",
       " 'b',\n",
       " 'r',\n",
       " 'r',\n",
       " 'r',\n",
       " 'b',\n",
       " 'b',\n",
       " 'r',\n",
       " 'b',\n",
       " 'r',\n",
       " 'r',\n",
       " 'b',\n",
       " 'r',\n",
       " 'r',\n",
       " 'b',\n",
       " 'b',\n",
       " 'r',\n",
       " 'r',\n",
       " 'b',\n",
       " 'b',\n",
       " 'r',\n",
       " 'r',\n",
       " 'b',\n",
       " 'r',\n",
       " 'b',\n",
       " 'r',\n",
       " 'r',\n",
       " 'b',\n",
       " 'r',\n",
       " 'r',\n",
       " 'r',\n",
       " 'r',\n",
       " 'b',\n",
       " 'r',\n",
       " 'r']"
      ]
     },
     "execution_count": 21,
     "metadata": {},
     "output_type": "execute_result"
    }
   ],
   "source": [
    "weights2"
   ]
  },
  {
   "cell_type": "code",
   "execution_count": 22,
   "metadata": {},
   "outputs": [],
   "source": [
    "#weightsNormalised=[weight/10 for weight in weights]"
   ]
  },
  {
   "cell_type": "code",
   "execution_count": 23,
   "metadata": {},
   "outputs": [],
   "source": [
    "# nx.draw(G,\n",
    "#         nodelist=[\"Calculate percentages\",\n",
    "#                   \"Calculate cycle time\",\n",
    "#                   \"Calculate number of elements\",\n",
    "#                   \"Filter traces\",\n",
    "#                   \"Identify bottlenecks occurs\",\n",
    "#                   \"Group traces\"\n",
    "#                  ],                         \n",
    "#         edgelist=[(\"Calculate percentages\",\"Calculate cycle time\"),\n",
    "#                   (\"Calculate percentages\",\"Calculate number of elements\"),\n",
    "#                   (\"Calculate percentages\",\"Filter traces\"),\n",
    "#                   (\"Calculate percentages\",\"Identify bottlenecks\"),\n",
    "#                   (\"Calculate percentages\",\"Group traces\")\n",
    "#                  ], \n",
    "#         width=weightsNormalised,\n",
    "#         edge_color=weights2,\n",
    "#         with_labels=True\n",
    "#        )#node_size=length"
   ]
  },
  {
   "cell_type": "code",
   "execution_count": 24,
   "metadata": {},
   "outputs": [
    {
     "data": {
      "image/png": "[encoded data removed]",
      "text/plain": [
       "<Figure size 432x288 with 1 Axes>"
      ]
     },
     "metadata": {},
     "output_type": "display_data"
    }
   ],
   "source": [
    "G2=nx.Graph()\n",
    "G2.add_nodes_from(nodes)\n",
    "G2.add_edges_from(edges)\n",
    "nx.draw(G2,\n",
    "        nodelist=nodes,                         \n",
    "        edgelist=edges, \n",
    "        #width=weightsNormalised,\n",
    "#         width=weights2,\n",
    "        edge_color=weights2,\n",
    "        with_labels=True\n",
    "       )#node_size=length"
   ]
  },
  {
   "cell_type": "code",
   "execution_count": 25,
   "metadata": {},
   "outputs": [
    {
     "name": "stdout",
     "output_type": "stream",
     "text": [
      "Calculate percentages-Calculate cycle time : 92.73\n",
      "Calculate percentages-Calculate number of elements : 65.45\n",
      "Calculate percentages-Filter traces : 85.45\n",
      "Calculate percentages-Identify bottlenecks : 54.55\n",
      "Calculate percentages-Group traces : 50.91\n",
      "Identify attributes-Calculate cycle time : 91.18\n",
      "Identify attributes-Filter traces : 76.47\n",
      "Identify attributes-Calculate number of elements : 70.59\n",
      "Represent bar charts-Calculate cycle time : 91.67\n",
      "Represent bar charts-Filter traces : 83.33\n",
      "Represent bar charts-Calculate percentages : 63.89\n",
      "Represent bar charts-Calculate number of elements : 58.33\n",
      "Represent bar charts-Identify bottlenecks : 58.33\n",
      "Represent bar charts-Identify attributes : 50.0\n",
      "Calculate number of elements-Calculate cycle time : 89.47\n",
      "Calculate number of elements-Filter traces : 80.26\n",
      "Calculate number of elements-Group traces : 53.95\n",
      "Represent process map-Calculate cycle time : 89.36\n",
      "Represent process map-Identify bottlenecks : 65.96\n",
      "Represent process map-Filter traces : 61.7\n",
      "Represent histograms-Calculate cycle time : 87.5\n",
      "Represent histograms-Identify bottlenecks : 59.38\n",
      "Represent histograms-Filter traces : 56.25\n",
      "Identify bottlenecks-Calculate cycle time : 85.25\n",
      "Filter traces-Calculate cycle time : 83.13\n",
      "Filter traces-Calculate number of elements : 54.22\n",
      "Filter traces-Group traces : 50.6\n",
      "Group traces-Calculate cycle time : 77.59\n",
      "Group traces-Filter traces : 72.41\n",
      "Group traces-Calculate number of elements : 60.34\n",
      "Group traces-Calculate statistics : 56.9\n",
      "Calculate throughput-Calculate number of elements : 77.78\n",
      "Calculate throughput-Filter traces : 66.67\n",
      "Calculate waiting time-Identify bottlenecks : 74.07\n",
      "Calculate waiting time-Calculate cycle time : 51.85\n",
      "Calculate waiting time-Filter traces : 51.85\n",
      "Calculate frequency-Calculate cycle time : 73.91\n",
      "Calculate frequency-Calculate percentages : 65.22\n",
      "Calculate frequency-Identify bottlenecks : 65.22\n",
      "Calculate frequency-Calculate number of elements : 56.52\n",
      "Calculate frequency-Filter traces : 56.52\n",
      "Calculate statistics-Group traces : 71.43\n",
      "Calculate statistics-Filter traces : 68.57\n",
      "Calculate cycle time-Filter traces : 52.23\n"
     ]
    }
   ],
   "source": [
    "for weight, edge in zip(weights,edges):\n",
    "    print(edge[0]+\"-\"+edge[1]+\" : \"+str(weight))\n",
    "\n",
    "    G2[edge[0]][edge[1]]['weight']=weight"
   ]
  },
  {
   "cell_type": "code",
   "execution_count": 28,
   "metadata": {},
   "outputs": [
    {
     "data": {
      "text/plain": [
       "{'Calculate percentages': 0.6842105263157895,\n",
       " 'Calculate cycle time': 0.8666666666666667,\n",
       " 'Calculate number of elements': 0.7222222222222222,\n",
       " 'Filter traces': 0.9285714285714286,\n",
       " 'Identify bottlenecks': 0.6190476190476191,\n",
       " 'Group traces': 0.6190476190476191,\n",
       " 'Identify attributes': 0.5909090909090909,\n",
       " 'Represent bar charts': 0.65,\n",
       " 'Represent process map': 0.5652173913043478,\n",
       " 'Represent histograms': 0.5652173913043478,\n",
       " 'Calculate throughput': 0.52,\n",
       " 'Calculate waiting time': 0.5652173913043478,\n",
       " 'Calculate frequency': 0.6190476190476191,\n",
       " 'Calculate statistics': 0.52}"
      ]
     },
     "execution_count": 28,
     "metadata": {},
     "output_type": "execute_result"
    }
   ],
   "source": [
    "nx.closeness_centrality(G2, u=None, distance=None)"
   ]
  },
  {
   "cell_type": "code",
   "execution_count": 29,
   "metadata": {},
   "outputs": [
    {
     "data": {
      "text/plain": [
       "['Calculate percentages', 'Calculate cycle time']"
      ]
     },
     "execution_count": 29,
     "metadata": {},
     "output_type": "execute_result"
    }
   ],
   "source": [
    "nx.shortest_path(G2, source='Calculate percentages', target='Calculate cycle time', weight=None, method='dijkstra')"
   ]
  },
  {
   "cell_type": "code",
   "execution_count": 31,
   "metadata": {},
   "outputs": [
    {
     "data": {
      "text/plain": [
       "['Calculate percentages', 'Calculate cycle time', 'Represent process map']"
      ]
     },
     "execution_count": 31,
     "metadata": {},
     "output_type": "execute_result"
    }
   ],
   "source": [
    "nx.shortest_path(G2, source='Calculate percentages', target='Represent process map', weight=None, method='dijkstra')"
   ]
  },
  {
   "cell_type": "code",
   "execution_count": 36,
   "metadata": {},
   "outputs": [
    {
     "data": {
      "text/plain": [
       "['Calculate percentages',\n",
       " 'Calculate cycle time',\n",
       " 'Calculate number of elements',\n",
       " 'Filter traces',\n",
       " 'Identify bottlenecks',\n",
       " 'Group traces',\n",
       " 'Identify attributes',\n",
       " 'Represent bar charts',\n",
       " 'Represent process map',\n",
       " 'Represent histograms',\n",
       " 'Calculate throughput',\n",
       " 'Calculate waiting time',\n",
       " 'Calculate frequency',\n",
       " 'Calculate statistics']"
      ]
     },
     "execution_count": 36,
     "metadata": {},
     "output_type": "execute_result"
    }
   ],
   "source": [
    "list(G2.nodes)"
   ]
  },
  {
   "cell_type": "code",
   "execution_count": 50,
   "metadata": {},
   "outputs": [],
   "source": [
    "def calculateShortestPath(g):\n",
    "    nodes=list(g)\n",
    "    #nodesDistance=[]\n",
    "    #nodesPairs=[]\n",
    "    for i in range(len(nodes)-1):\n",
    "        \n",
    "        node1=nodes[i]\n",
    "        print(\"Distances for node: \"+node1)\n",
    "        nodes2 = [x for j,x in enumerate(nodes) if j!=i]  \n",
    "        listaDist=[]\n",
    "        for node2 in nodes2:\n",
    "            print()\n",
    "            dist=len(nx.shortest_path(g, source=node1, target=node2, weight=None, method='dijkstra'))\n",
    "            listaDist.append(dist)\n",
    "            print(\"Distance between \"+node1+\" --> \"+node2 +\" is \"+str(dist))\n",
    "        #hacer df con las comparaciones\n",
    "        print()\n",
    "        print(\"Average distance of nodes: \"+str(np.mean(listaDist)))\n",
    "        print(\"-------------------------------------\")\n",
    "        \n",
    "        "
   ]
  },
  {
   "cell_type": "code",
   "execution_count": 51,
   "metadata": {},
   "outputs": [
    {
     "name": "stdout",
     "output_type": "stream",
     "text": [
      "Distances for node: Calculate percentages\n",
      "\n",
      "Distance between Calculate percentages --> Calculate cycle time is 2\n",
      "\n",
      "Distance between Calculate percentages --> Calculate number of elements is 2\n",
      "\n",
      "Distance between Calculate percentages --> Filter traces is 2\n",
      "\n",
      "Distance between Calculate percentages --> Identify bottlenecks is 2\n",
      "\n",
      "Distance between Calculate percentages --> Group traces is 2\n",
      "\n",
      "Distance between Calculate percentages --> Identify attributes is 3\n",
      "\n",
      "Distance between Calculate percentages --> Represent bar charts is 2\n",
      "\n",
      "Distance between Calculate percentages --> Represent process map is 3\n",
      "\n",
      "Distance between Calculate percentages --> Represent histograms is 3\n",
      "\n",
      "Distance between Calculate percentages --> Calculate throughput is 3\n",
      "\n",
      "Distance between Calculate percentages --> Calculate waiting time is 3\n",
      "\n",
      "Distance between Calculate percentages --> Calculate frequency is 2\n",
      "\n",
      "Distance between Calculate percentages --> Calculate statistics is 3\n",
      "\n",
      "Average distance of nodes: 2.4615384615384617\n",
      "-------------------------------------\n",
      "Distances for node: Calculate cycle time\n",
      "\n",
      "Distance between Calculate cycle time --> Calculate percentages is 2\n",
      "\n",
      "Distance between Calculate cycle time --> Calculate number of elements is 2\n",
      "\n",
      "Distance between Calculate cycle time --> Filter traces is 2\n",
      "\n",
      "Distance between Calculate cycle time --> Identify bottlenecks is 2\n",
      "\n",
      "Distance between Calculate cycle time --> Group traces is 2\n",
      "\n",
      "Distance between Calculate cycle time --> Identify attributes is 2\n",
      "\n",
      "Distance between Calculate cycle time --> Represent bar charts is 2\n",
      "\n",
      "Distance between Calculate cycle time --> Represent process map is 2\n",
      "\n",
      "Distance between Calculate cycle time --> Represent histograms is 2\n",
      "\n",
      "Distance between Calculate cycle time --> Calculate throughput is 3\n",
      "\n",
      "Distance between Calculate cycle time --> Calculate waiting time is 2\n",
      "\n",
      "Distance between Calculate cycle time --> Calculate frequency is 2\n",
      "\n",
      "Distance between Calculate cycle time --> Calculate statistics is 3\n",
      "\n",
      "Average distance of nodes: 2.1538461538461537\n",
      "-------------------------------------\n",
      "Distances for node: Calculate number of elements\n",
      "\n",
      "Distance between Calculate number of elements --> Calculate percentages is 2\n",
      "\n",
      "Distance between Calculate number of elements --> Calculate cycle time is 2\n",
      "\n",
      "Distance between Calculate number of elements --> Filter traces is 2\n",
      "\n",
      "Distance between Calculate number of elements --> Identify bottlenecks is 3\n",
      "\n",
      "Distance between Calculate number of elements --> Group traces is 2\n",
      "\n",
      "Distance between Calculate number of elements --> Identify attributes is 2\n",
      "\n",
      "Distance between Calculate number of elements --> Represent bar charts is 2\n",
      "\n",
      "Distance between Calculate number of elements --> Represent process map is 3\n",
      "\n",
      "Distance between Calculate number of elements --> Represent histograms is 3\n",
      "\n",
      "Distance between Calculate number of elements --> Calculate throughput is 2\n",
      "\n",
      "Distance between Calculate number of elements --> Calculate waiting time is 3\n",
      "\n",
      "Distance between Calculate number of elements --> Calculate frequency is 2\n",
      "\n",
      "Distance between Calculate number of elements --> Calculate statistics is 3\n",
      "\n",
      "Average distance of nodes: 2.3846153846153846\n",
      "-------------------------------------\n",
      "Distances for node: Filter traces\n",
      "\n",
      "Distance between Filter traces --> Calculate percentages is 2\n",
      "\n",
      "Distance between Filter traces --> Calculate cycle time is 2\n",
      "\n",
      "Distance between Filter traces --> Calculate number of elements is 2\n",
      "\n",
      "Distance between Filter traces --> Identify bottlenecks is 3\n",
      "\n",
      "Distance between Filter traces --> Group traces is 2\n",
      "\n",
      "Distance between Filter traces --> Identify attributes is 2\n",
      "\n",
      "Distance between Filter traces --> Represent bar charts is 2\n",
      "\n",
      "Distance between Filter traces --> Represent process map is 2\n",
      "\n",
      "Distance between Filter traces --> Represent histograms is 2\n",
      "\n",
      "Distance between Filter traces --> Calculate throughput is 2\n",
      "\n",
      "Distance between Filter traces --> Calculate waiting time is 2\n",
      "\n",
      "Distance between Filter traces --> Calculate frequency is 2\n",
      "\n",
      "Distance between Filter traces --> Calculate statistics is 2\n",
      "\n",
      "Average distance of nodes: 2.076923076923077\n",
      "-------------------------------------\n",
      "Distances for node: Identify bottlenecks\n",
      "\n",
      "Distance between Identify bottlenecks --> Calculate percentages is 2\n",
      "\n",
      "Distance between Identify bottlenecks --> Calculate cycle time is 2\n",
      "\n",
      "Distance between Identify bottlenecks --> Calculate number of elements is 3\n",
      "\n",
      "Distance between Identify bottlenecks --> Filter traces is 3\n",
      "\n",
      "Distance between Identify bottlenecks --> Group traces is 3\n",
      "\n",
      "Distance between Identify bottlenecks --> Identify attributes is 3\n",
      "\n",
      "Distance between Identify bottlenecks --> Represent bar charts is 2\n",
      "\n",
      "Distance between Identify bottlenecks --> Represent process map is 2\n",
      "\n",
      "Distance between Identify bottlenecks --> Represent histograms is 2\n",
      "\n",
      "Distance between Identify bottlenecks --> Calculate throughput is 4\n",
      "\n",
      "Distance between Identify bottlenecks --> Calculate waiting time is 2\n",
      "\n",
      "Distance between Identify bottlenecks --> Calculate frequency is 2\n",
      "\n",
      "Distance between Identify bottlenecks --> Calculate statistics is 4\n",
      "\n",
      "Average distance of nodes: 2.6153846153846154\n",
      "-------------------------------------\n",
      "Distances for node: Group traces\n",
      "\n",
      "Distance between Group traces --> Calculate percentages is 2\n",
      "\n",
      "Distance between Group traces --> Calculate cycle time is 2\n",
      "\n",
      "Distance between Group traces --> Calculate number of elements is 2\n",
      "\n",
      "Distance between Group traces --> Filter traces is 2\n",
      "\n",
      "Distance between Group traces --> Identify bottlenecks is 3\n",
      "\n",
      "Distance between Group traces --> Identify attributes is 3\n",
      "\n",
      "Distance between Group traces --> Represent bar charts is 3\n",
      "\n",
      "Distance between Group traces --> Represent process map is 3\n",
      "\n",
      "Distance between Group traces --> Represent histograms is 3\n",
      "\n",
      "Distance between Group traces --> Calculate throughput is 3\n",
      "\n",
      "Distance between Group traces --> Calculate waiting time is 3\n",
      "\n",
      "Distance between Group traces --> Calculate frequency is 3\n",
      "\n",
      "Distance between Group traces --> Calculate statistics is 2\n",
      "\n",
      "Average distance of nodes: 2.6153846153846154\n",
      "-------------------------------------\n",
      "Distances for node: Identify attributes\n",
      "\n",
      "Distance between Identify attributes --> Calculate percentages is 3\n",
      "\n",
      "Distance between Identify attributes --> Calculate cycle time is 2\n",
      "\n",
      "Distance between Identify attributes --> Calculate number of elements is 2\n",
      "\n",
      "Distance between Identify attributes --> Filter traces is 2\n",
      "\n",
      "Distance between Identify attributes --> Identify bottlenecks is 3\n",
      "\n",
      "Distance between Identify attributes --> Group traces is 3\n",
      "\n",
      "Distance between Identify attributes --> Represent bar charts is 2\n",
      "\n",
      "Distance between Identify attributes --> Represent process map is 3\n",
      "\n",
      "Distance between Identify attributes --> Represent histograms is 3\n",
      "\n",
      "Distance between Identify attributes --> Calculate throughput is 3\n",
      "\n",
      "Distance between Identify attributes --> Calculate waiting time is 3\n",
      "\n",
      "Distance between Identify attributes --> Calculate frequency is 3\n",
      "\n",
      "Distance between Identify attributes --> Calculate statistics is 3\n",
      "\n",
      "Average distance of nodes: 2.6923076923076925\n",
      "-------------------------------------\n",
      "Distances for node: Represent bar charts\n",
      "\n",
      "Distance between Represent bar charts --> Calculate percentages is 2\n",
      "\n",
      "Distance between Represent bar charts --> Calculate cycle time is 2\n",
      "\n",
      "Distance between Represent bar charts --> Calculate number of elements is 2\n",
      "\n",
      "Distance between Represent bar charts --> Filter traces is 2\n",
      "\n",
      "Distance between Represent bar charts --> Identify bottlenecks is 2\n",
      "\n",
      "Distance between Represent bar charts --> Group traces is 3\n",
      "\n",
      "Distance between Represent bar charts --> Identify attributes is 2\n",
      "\n",
      "Distance between Represent bar charts --> Represent process map is 3\n",
      "\n",
      "Distance between Represent bar charts --> Represent histograms is 3\n",
      "\n",
      "Distance between Represent bar charts --> Calculate throughput is 3\n",
      "\n",
      "Distance between Represent bar charts --> Calculate waiting time is 3\n",
      "\n",
      "Distance between Represent bar charts --> Calculate frequency is 3\n",
      "\n",
      "Distance between Represent bar charts --> Calculate statistics is 3\n",
      "\n",
      "Average distance of nodes: 2.5384615384615383\n",
      "-------------------------------------\n",
      "Distances for node: Represent process map\n",
      "\n",
      "Distance between Represent process map --> Calculate percentages is 3\n",
      "\n",
      "Distance between Represent process map --> Calculate cycle time is 2\n",
      "\n",
      "Distance between Represent process map --> Calculate number of elements is 3\n",
      "\n",
      "Distance between Represent process map --> Filter traces is 2\n",
      "\n",
      "Distance between Represent process map --> Identify bottlenecks is 2\n",
      "\n",
      "Distance between Represent process map --> Group traces is 3\n",
      "\n",
      "Distance between Represent process map --> Identify attributes is 3\n",
      "\n",
      "Distance between Represent process map --> Represent bar charts is 3\n",
      "\n",
      "Distance between Represent process map --> Represent histograms is 3\n",
      "\n",
      "Distance between Represent process map --> Calculate throughput is 3\n",
      "\n",
      "Distance between Represent process map --> Calculate waiting time is 3\n",
      "\n",
      "Distance between Represent process map --> Calculate frequency is 3\n",
      "\n",
      "Distance between Represent process map --> Calculate statistics is 3\n",
      "\n",
      "Average distance of nodes: 2.769230769230769\n",
      "-------------------------------------\n",
      "Distances for node: Represent histograms\n",
      "\n",
      "Distance between Represent histograms --> Calculate percentages is 3\n",
      "\n",
      "Distance between Represent histograms --> Calculate cycle time is 2\n",
      "\n",
      "Distance between Represent histograms --> Calculate number of elements is 3\n",
      "\n",
      "Distance between Represent histograms --> Filter traces is 2\n",
      "\n",
      "Distance between Represent histograms --> Identify bottlenecks is 2\n",
      "\n",
      "Distance between Represent histograms --> Group traces is 3\n",
      "\n",
      "Distance between Represent histograms --> Identify attributes is 3\n",
      "\n",
      "Distance between Represent histograms --> Represent bar charts is 3\n",
      "\n",
      "Distance between Represent histograms --> Represent process map is 3\n",
      "\n",
      "Distance between Represent histograms --> Calculate throughput is 3\n",
      "\n",
      "Distance between Represent histograms --> Calculate waiting time is 3\n",
      "\n",
      "Distance between Represent histograms --> Calculate frequency is 3\n",
      "\n",
      "Distance between Represent histograms --> Calculate statistics is 3\n",
      "\n",
      "Average distance of nodes: 2.769230769230769\n",
      "-------------------------------------\n",
      "Distances for node: Calculate throughput\n",
      "\n",
      "Distance between Calculate throughput --> Calculate percentages is 3\n",
      "\n",
      "Distance between Calculate throughput --> Calculate cycle time is 3\n",
      "\n",
      "Distance between Calculate throughput --> Calculate number of elements is 2\n",
      "\n",
      "Distance between Calculate throughput --> Filter traces is 2\n",
      "\n",
      "Distance between Calculate throughput --> Identify bottlenecks is 4\n",
      "\n",
      "Distance between Calculate throughput --> Group traces is 3\n",
      "\n",
      "Distance between Calculate throughput --> Identify attributes is 3\n",
      "\n",
      "Distance between Calculate throughput --> Represent bar charts is 3\n",
      "\n",
      "Distance between Calculate throughput --> Represent process map is 3\n",
      "\n",
      "Distance between Calculate throughput --> Represent histograms is 3\n",
      "\n",
      "Distance between Calculate throughput --> Calculate waiting time is 3\n",
      "\n",
      "Distance between Calculate throughput --> Calculate frequency is 3\n",
      "\n",
      "Distance between Calculate throughput --> Calculate statistics is 3\n",
      "\n",
      "Average distance of nodes: 2.923076923076923\n",
      "-------------------------------------\n",
      "Distances for node: Calculate waiting time\n",
      "\n",
      "Distance between Calculate waiting time --> Calculate percentages is 3\n",
      "\n",
      "Distance between Calculate waiting time --> Calculate cycle time is 2\n",
      "\n",
      "Distance between Calculate waiting time --> Calculate number of elements is 3\n",
      "\n",
      "Distance between Calculate waiting time --> Filter traces is 2\n",
      "\n",
      "Distance between Calculate waiting time --> Identify bottlenecks is 2\n",
      "\n",
      "Distance between Calculate waiting time --> Group traces is 3\n",
      "\n",
      "Distance between Calculate waiting time --> Identify attributes is 3\n",
      "\n",
      "Distance between Calculate waiting time --> Represent bar charts is 3\n",
      "\n",
      "Distance between Calculate waiting time --> Represent process map is 3\n",
      "\n",
      "Distance between Calculate waiting time --> Represent histograms is 3\n",
      "\n",
      "Distance between Calculate waiting time --> Calculate throughput is 3\n",
      "\n",
      "Distance between Calculate waiting time --> Calculate frequency is 3\n",
      "\n",
      "Distance between Calculate waiting time --> Calculate statistics is 3\n",
      "\n",
      "Average distance of nodes: 2.769230769230769\n",
      "-------------------------------------\n",
      "Distances for node: Calculate frequency\n",
      "\n",
      "Distance between Calculate frequency --> Calculate percentages is 2\n",
      "\n",
      "Distance between Calculate frequency --> Calculate cycle time is 2\n",
      "\n",
      "Distance between Calculate frequency --> Calculate number of elements is 2\n",
      "\n",
      "Distance between Calculate frequency --> Filter traces is 2\n",
      "\n",
      "Distance between Calculate frequency --> Identify bottlenecks is 2\n",
      "\n",
      "Distance between Calculate frequency --> Group traces is 3\n",
      "\n",
      "Distance between Calculate frequency --> Identify attributes is 3\n",
      "\n",
      "Distance between Calculate frequency --> Represent bar charts is 3\n",
      "\n",
      "Distance between Calculate frequency --> Represent process map is 3\n",
      "\n",
      "Distance between Calculate frequency --> Represent histograms is 3\n",
      "\n",
      "Distance between Calculate frequency --> Calculate throughput is 3\n",
      "\n",
      "Distance between Calculate frequency --> Calculate waiting time is 3\n",
      "\n",
      "Distance between Calculate frequency --> Calculate statistics is 3\n",
      "\n",
      "Average distance of nodes: 2.6153846153846154\n",
      "-------------------------------------\n"
     ]
    }
   ],
   "source": [
    "calculateShortestPath(G2)"
   ]
  },
  {
   "cell_type": "code",
   "execution_count": 2,
   "metadata": {},
   "outputs": [],
   "source": [
    "#------------------------------------------------------------------------------------------------------------------------------"
   ]
  },
  {
   "cell_type": "code",
   "execution_count": 138,
   "metadata": {},
   "outputs": [
    {
     "data": {
      "text/html": [
       "<div>\n",
       "<style scoped>\n",
       "    .dataframe tbody tr th:only-of-type {\n",
       "        vertical-align: middle;\n",
       "    }\n",
       "\n",
       "    .dataframe tbody tr th {\n",
       "        vertical-align: top;\n",
       "    }\n",
       "\n",
       "    .dataframe thead th {\n",
       "        text-align: right;\n",
       "    }\n",
       "</style>\n",
       "<table border=\"1\" class=\"dataframe\">\n",
       "  <thead>\n",
       "    <tr style=\"text-align: right;\">\n",
       "      <th></th>\n",
       "      <th>overlap</th>\n",
       "      <th>jaccard</th>\n",
       "      <th>sorensen</th>\n",
       "    </tr>\n",
       "  </thead>\n",
       "  <tbody>\n",
       "    <tr>\n",
       "      <td>count</td>\n",
       "      <td>64.000000</td>\n",
       "      <td>64.000000</td>\n",
       "      <td>64.000000</td>\n",
       "    </tr>\n",
       "    <tr>\n",
       "      <td>mean</td>\n",
       "      <td>0.144626</td>\n",
       "      <td>0.056108</td>\n",
       "      <td>0.092464</td>\n",
       "    </tr>\n",
       "    <tr>\n",
       "      <td>std</td>\n",
       "      <td>0.067038</td>\n",
       "      <td>0.033510</td>\n",
       "      <td>0.049073</td>\n",
       "    </tr>\n",
       "    <tr>\n",
       "      <td>min</td>\n",
       "      <td>0.019878</td>\n",
       "      <td>0.008030</td>\n",
       "      <td>0.013456</td>\n",
       "    </tr>\n",
       "    <tr>\n",
       "      <td>25%</td>\n",
       "      <td>0.094461</td>\n",
       "      <td>0.030782</td>\n",
       "      <td>0.055560</td>\n",
       "    </tr>\n",
       "    <tr>\n",
       "      <td>50%</td>\n",
       "      <td>0.133051</td>\n",
       "      <td>0.052253</td>\n",
       "      <td>0.086415</td>\n",
       "    </tr>\n",
       "    <tr>\n",
       "      <td>75%</td>\n",
       "      <td>0.186792</td>\n",
       "      <td>0.069289</td>\n",
       "      <td>0.120841</td>\n",
       "    </tr>\n",
       "    <tr>\n",
       "      <td>max</td>\n",
       "      <td>0.315713</td>\n",
       "      <td>0.160511</td>\n",
       "      <td>0.215111</td>\n",
       "    </tr>\n",
       "  </tbody>\n",
       "</table>\n",
       "</div>"
      ],
      "text/plain": [
       "         overlap    jaccard   sorensen\n",
       "count  64.000000  64.000000  64.000000\n",
       "mean    0.144626   0.056108   0.092464\n",
       "std     0.067038   0.033510   0.049073\n",
       "min     0.019878   0.008030   0.013456\n",
       "25%     0.094461   0.030782   0.055560\n",
       "50%     0.133051   0.052253   0.086415\n",
       "75%     0.186792   0.069289   0.120841\n",
       "max     0.315713   0.160511   0.215111"
      ]
     },
     "execution_count": 138,
     "metadata": {},
     "output_type": "execute_result"
    }
   ],
   "source": [
    "import pandas as pd\n",
    "# #meansIndexes=pd.read_csv(\"meansIndexesPairsQuestions.csv\")\n",
    "# meansIndexes=pd.read_csv(\"metricas.csv\")\n",
    "# meansIndexes.describe()"
   ]
  },
  {
   "cell_type": "code",
   "execution_count": 143,
   "metadata": {},
   "outputs": [],
   "source": [
    "nuevasmetricas=pd.read_csv(\"metricas2.csv\",index_col=0)\n",
    "meansIndexes=nuevasmetricas.groupby(\"question\").mean()"
   ]
  },
  {
   "cell_type": "code",
   "execution_count": 144,
   "metadata": {},
   "outputs": [
    {
     "data": {
      "text/html": [
       "<div>\n",
       "<style scoped>\n",
       "    .dataframe tbody tr th:only-of-type {\n",
       "        vertical-align: middle;\n",
       "    }\n",
       "\n",
       "    .dataframe tbody tr th {\n",
       "        vertical-align: top;\n",
       "    }\n",
       "\n",
       "    .dataframe thead th {\n",
       "        text-align: right;\n",
       "    }\n",
       "</style>\n",
       "<table border=\"1\" class=\"dataframe\">\n",
       "  <thead>\n",
       "    <tr style=\"text-align: right;\">\n",
       "      <th></th>\n",
       "      <th>overlap</th>\n",
       "      <th>jaccard</th>\n",
       "      <th>sorensen</th>\n",
       "    </tr>\n",
       "  </thead>\n",
       "  <tbody>\n",
       "    <tr>\n",
       "      <td>count</td>\n",
       "      <td>36.000000</td>\n",
       "      <td>36.000000</td>\n",
       "      <td>36.000000</td>\n",
       "    </tr>\n",
       "    <tr>\n",
       "      <td>mean</td>\n",
       "      <td>0.160699</td>\n",
       "      <td>0.064402</td>\n",
       "      <td>0.104539</td>\n",
       "    </tr>\n",
       "    <tr>\n",
       "      <td>std</td>\n",
       "      <td>0.068123</td>\n",
       "      <td>0.036957</td>\n",
       "      <td>0.053004</td>\n",
       "    </tr>\n",
       "    <tr>\n",
       "      <td>min</td>\n",
       "      <td>0.049800</td>\n",
       "      <td>0.015631</td>\n",
       "      <td>0.027792</td>\n",
       "    </tr>\n",
       "    <tr>\n",
       "      <td>25%</td>\n",
       "      <td>0.112099</td>\n",
       "      <td>0.035448</td>\n",
       "      <td>0.063140</td>\n",
       "    </tr>\n",
       "    <tr>\n",
       "      <td>50%</td>\n",
       "      <td>0.161158</td>\n",
       "      <td>0.059020</td>\n",
       "      <td>0.102277</td>\n",
       "    </tr>\n",
       "    <tr>\n",
       "      <td>75%</td>\n",
       "      <td>0.217586</td>\n",
       "      <td>0.080275</td>\n",
       "      <td>0.126135</td>\n",
       "    </tr>\n",
       "    <tr>\n",
       "      <td>max</td>\n",
       "      <td>0.315713</td>\n",
       "      <td>0.160511</td>\n",
       "      <td>0.215111</td>\n",
       "    </tr>\n",
       "  </tbody>\n",
       "</table>\n",
       "</div>"
      ],
      "text/plain": [
       "         overlap    jaccard   sorensen\n",
       "count  36.000000  36.000000  36.000000\n",
       "mean    0.160699   0.064402   0.104539\n",
       "std     0.068123   0.036957   0.053004\n",
       "min     0.049800   0.015631   0.027792\n",
       "25%     0.112099   0.035448   0.063140\n",
       "50%     0.161158   0.059020   0.102277\n",
       "75%     0.217586   0.080275   0.126135\n",
       "max     0.315713   0.160511   0.215111"
      ]
     },
     "execution_count": 144,
     "metadata": {},
     "output_type": "execute_result"
    }
   ],
   "source": [
    "meansIndexes.describe()"
   ]
  },
  {
   "cell_type": "code",
   "execution_count": 156,
   "metadata": {},
   "outputs": [],
   "source": [
    "#promedio del todo de sorensen: 0.2787\n",
    "meansFiltered=meansIndexes[meansIndexes['sorensen']>0.10].reset_index()\n",
    "#q2: mediana\n",
    "#meansFiltered=meansIndexes[meansIndexes['jaccard']>0.185720].reset_index()\n"
   ]
  },
  {
   "cell_type": "code",
   "execution_count": 157,
   "metadata": {},
   "outputs": [],
   "source": [
    "uniqueQuestions=[]\n",
    "edges=[]\n",
    "for questions in meansFiltered['question']:\n",
    "    questionsSplits=questions.split(\"-\")\n",
    "    uniqueQuestions.append(questionsSplits[0])\n",
    "    uniqueQuestions.append(questionsSplits[1])\n",
    "    edges.append((questionsSplits[0],questionsSplits[1]))"
   ]
  },
  {
   "cell_type": "code",
   "execution_count": 158,
   "metadata": {},
   "outputs": [],
   "source": [
    "nodes=list(set(uniqueQuestions))"
   ]
  },
  {
   "cell_type": "code",
   "execution_count": 159,
   "metadata": {},
   "outputs": [
    {
     "data": {
      "text/plain": [
       "['P22020',\n",
       " 'P52015',\n",
       " 'P22019',\n",
       " 'P12020',\n",
       " 'P62020',\n",
       " 'P52020',\n",
       " 'P42020',\n",
       " 'P12017']"
      ]
     },
     "execution_count": 159,
     "metadata": {},
     "output_type": "execute_result"
    }
   ],
   "source": [
    "nodes"
   ]
  },
  {
   "cell_type": "code",
   "execution_count": 160,
   "metadata": {},
   "outputs": [
    {
     "data": {
      "text/plain": [
       "[('P12017', 'P12017'),\n",
       " ('P12017', 'P22019'),\n",
       " ('P12017', 'P52020'),\n",
       " ('P12017', 'P62020'),\n",
       " ('P12020', 'P12020'),\n",
       " ('P22019', 'P12020'),\n",
       " ('P22019', 'P22019'),\n",
       " ('P22020', 'P22020'),\n",
       " ('P42020', 'P52020'),\n",
       " ('P42020', 'P62020'),\n",
       " ('P52015', 'P12017'),\n",
       " ('P52015', 'P12020'),\n",
       " ('P52015', 'P22019'),\n",
       " ('P52015', 'P22020'),\n",
       " ('P52015', 'P52015'),\n",
       " ('P52020', 'P52020'),\n",
       " ('P52020', 'P62020'),\n",
       " ('P62020', 'P62020')]"
      ]
     },
     "execution_count": 160,
     "metadata": {},
     "output_type": "execute_result"
    }
   ],
   "source": [
    "edges"
   ]
  },
  {
   "cell_type": "code",
   "execution_count": 161,
   "metadata": {},
   "outputs": [],
   "source": [
    "gp=nx.Graph()\n",
    "gp.add_nodes_from(nodes)\n",
    "gp.add_edges_from(edges)"
   ]
  },
  {
   "cell_type": "code",
   "execution_count": 162,
   "metadata": {},
   "outputs": [],
   "source": [
    "# pos={'P22020': (1, 1), \n",
    "#      'P12020': (2, 4),\n",
    "#      'P42020': (3,2),\n",
    "#      'P22019': (4,3),\n",
    "#      'P12017': (5,6),\n",
    "#      'P52020': (8,9),\n",
    "#      'P62020': (10,11),\n",
    "#      'P52015': (8,8)\n",
    "#     }\n",
    "# #pos = nx.spring_layout(gp, k=0.4*1/np.sqrt(len(gp.nodes())), iterations=20)\n",
    "#pos = nx.spring_layout(gp, k=0.15, iterations=20)"
   ]
  },
  {
   "cell_type": "code",
   "execution_count": 163,
   "metadata": {},
   "outputs": [],
   "source": [
    "import numpy as np"
   ]
  },
  {
   "cell_type": "code",
   "execution_count": 164,
   "metadata": {},
   "outputs": [],
   "source": [
    "posFixed={\n",
    "        'P22020': np.array([ 0.2339124, 0.2        ]),\n",
    "        'P12020': np.array([0.18656612, 0.1133303 ]),\n",
    "        'P42020': np.array([-0.30196476,  0.28807911]),\n",
    "        'P22019': np.array([0.07927056, 0.01831406]),\n",
    "        'P12017': np.array([-0.08965428,  0.0620876 ]),\n",
    "        'P52020': np.array([-0.20139872,  0.15125941]),\n",
    "        'P62020': np.array([-0.13991147,  0.22530745]),\n",
    "        'P52015': np.array([-0.00629868,  0.14162209])\n",
    "}"
   ]
  },
  {
   "cell_type": "code",
   "execution_count": 165,
   "metadata": {},
   "outputs": [],
   "source": [
    "import matplotlib "
   ]
  },
  {
   "cell_type": "code",
   "execution_count": 167,
   "metadata": {
    "scrolled": false
   },
   "outputs": [
    {
     "name": "stderr",
     "output_type": "stream",
     "text": [
      "D:\\Anaconda\\lib\\site-packages\\networkx\\drawing\\nx_pylab.py:579: MatplotlibDeprecationWarning: \n",
      "The iterable function was deprecated in Matplotlib 3.1 and will be removed in 3.3. Use np.iterable instead.\n",
      "  if not cb.iterable(width):\n"
     ]
    },
    {
     "data": {
      "image/png": "[encoded data removed]",
      "text/plain": [
       "<Figure size 504x360 with 1 Axes>"
      ]
     },
     "metadata": {},
     "output_type": "display_data"
    }
   ],
   "source": [
    "#0.09 variantes\n",
    "nx.draw(gp,\n",
    "        posFixed,\n",
    "        #nodelist=nodes,                         \n",
    "        edgelist=edges, \n",
    "        with_labels=True\n",
    "       )\n",
    "fig = matplotlib.pyplot.gcf()\n",
    "fig.set_size_inches(7,5)\n",
    "matplotlib.pyplot.savefig('graphQuestionsVariants0.10.pdf')"
   ]
  },
  {
   "cell_type": "code",
   "execution_count": 29,
   "metadata": {},
   "outputs": [],
   "source": [
    "#-------------------------------------------------------------------------------------------------------------------------------\n",
    "#comparando las posibles agrupaciones del grafo"
   ]
  },
  {
   "cell_type": "code",
   "execution_count": 30,
   "metadata": {},
   "outputs": [],
   "source": [
    "df_prueba = pd.read_csv(\"Log of analysis of time aspects.csv\",index_col=0)\n",
    "df_prueba['duplaPreg']=[ question+str(year) for year,question in zip(df_prueba['Year'],df_prueba['Question']) ]"
   ]
  },
  {
   "cell_type": "code",
   "execution_count": 31,
   "metadata": {},
   "outputs": [
    {
     "data": {
      "text/html": [
       "<div>\n",
       "<style scoped>\n",
       "    .dataframe tbody tr th:only-of-type {\n",
       "        vertical-align: middle;\n",
       "    }\n",
       "\n",
       "    .dataframe tbody tr th {\n",
       "        vertical-align: top;\n",
       "    }\n",
       "\n",
       "    .dataframe thead th {\n",
       "        text-align: right;\n",
       "    }\n",
       "</style>\n",
       "<table border=\"1\" class=\"dataframe\">\n",
       "  <thead>\n",
       "    <tr style=\"text-align: right;\">\n",
       "      <th></th>\n",
       "      <th>case:id</th>\n",
       "      <th>case:concept:name</th>\n",
       "      <th>concept:name</th>\n",
       "      <th>Variant</th>\n",
       "      <th>time:timestamp</th>\n",
       "      <th>Question</th>\n",
       "      <th>Report</th>\n",
       "      <th>Year</th>\n",
       "      <th>Category</th>\n",
       "      <th>Type</th>\n",
       "      <th>Tupla</th>\n",
       "      <th>Organization</th>\n",
       "      <th>duplaPreg</th>\n",
       "    </tr>\n",
       "  </thead>\n",
       "  <tbody>\n",
       "    <tr>\n",
       "      <td>0</td>\n",
       "      <td>A1 P2 BPI 2020</td>\n",
       "      <td>A1 P2 BPI 2020</td>\n",
       "      <td>Calculate cycle time</td>\n",
       "      <td>Calculate cycle time of the whole process for ...</td>\n",
       "      <td>2021-11-19 09:37:02.248560</td>\n",
       "      <td>P2</td>\n",
       "      <td>A1</td>\n",
       "      <td>2020</td>\n",
       "      <td>Academic</td>\n",
       "      <td>Analyze Cycle Time</td>\n",
       "      <td>A12020</td>\n",
       "      <td>TechnischeUniversitätBerlin</td>\n",
       "      <td>P22020</td>\n",
       "    </tr>\n",
       "    <tr>\n",
       "      <td>1</td>\n",
       "      <td>A1 P2 BPI 2020</td>\n",
       "      <td>A1 P2 BPI 2020</td>\n",
       "      <td>Compare cycle time</td>\n",
       "      <td>Compare cycle time</td>\n",
       "      <td>2021-11-19 10:37:02.248560</td>\n",
       "      <td>P2</td>\n",
       "      <td>A1</td>\n",
       "      <td>2020</td>\n",
       "      <td>Academic</td>\n",
       "      <td>Analyze Cycle Time</td>\n",
       "      <td>A12020</td>\n",
       "      <td>TechnischeUniversitätBerlin</td>\n",
       "      <td>P22020</td>\n",
       "    </tr>\n",
       "    <tr>\n",
       "      <td>2</td>\n",
       "      <td>A2 P2 BPI 2020</td>\n",
       "      <td>A2 P2 BPI 2020</td>\n",
       "      <td>Calculate cycle time</td>\n",
       "      <td>Get cycle time from the previous question</td>\n",
       "      <td>2021-11-19 11:37:02.248560</td>\n",
       "      <td>P2</td>\n",
       "      <td>A2</td>\n",
       "      <td>2020</td>\n",
       "      <td>Student</td>\n",
       "      <td>Analyze Cycle Time</td>\n",
       "      <td>A22020</td>\n",
       "      <td>FacultyofScienceUtrechtUniversity</td>\n",
       "      <td>P22020</td>\n",
       "    </tr>\n",
       "    <tr>\n",
       "      <td>3</td>\n",
       "      <td>A2 P2 BPI 2020</td>\n",
       "      <td>A2 P2 BPI 2020</td>\n",
       "      <td>Compare cycle time</td>\n",
       "      <td>Compare cycle time</td>\n",
       "      <td>2021-11-19 12:37:02.248560</td>\n",
       "      <td>P2</td>\n",
       "      <td>A2</td>\n",
       "      <td>2020</td>\n",
       "      <td>Student</td>\n",
       "      <td>Analyze Cycle Time</td>\n",
       "      <td>A22020</td>\n",
       "      <td>FacultyofScienceUtrechtUniversity</td>\n",
       "      <td>P22020</td>\n",
       "    </tr>\n",
       "    <tr>\n",
       "      <td>4</td>\n",
       "      <td>A7 P2 BPI 2020</td>\n",
       "      <td>A7 P2 BPI 2020</td>\n",
       "      <td>Calculate throughput</td>\n",
       "      <td>Calculate throughput</td>\n",
       "      <td>2021-11-19 13:37:02.248560</td>\n",
       "      <td>P2</td>\n",
       "      <td>A7</td>\n",
       "      <td>2020</td>\n",
       "      <td>Academic</td>\n",
       "      <td>Analyze Cycle Time</td>\n",
       "      <td>A72020</td>\n",
       "      <td>GermanResearchCenterforArtificialIntelligenceDFKI</td>\n",
       "      <td>P22020</td>\n",
       "    </tr>\n",
       "  </tbody>\n",
       "</table>\n",
       "</div>"
      ],
      "text/plain": [
       "          case:id case:concept:name          concept:name  \\\n",
       "0  A1 P2 BPI 2020    A1 P2 BPI 2020  Calculate cycle time   \n",
       "1  A1 P2 BPI 2020    A1 P2 BPI 2020    Compare cycle time   \n",
       "2  A2 P2 BPI 2020    A2 P2 BPI 2020  Calculate cycle time   \n",
       "3  A2 P2 BPI 2020    A2 P2 BPI 2020    Compare cycle time   \n",
       "4  A7 P2 BPI 2020    A7 P2 BPI 2020  Calculate throughput   \n",
       "\n",
       "                                             Variant  \\\n",
       "0  Calculate cycle time of the whole process for ...   \n",
       "1                                 Compare cycle time   \n",
       "2          Get cycle time from the previous question   \n",
       "3                                 Compare cycle time   \n",
       "4                               Calculate throughput   \n",
       "\n",
       "               time:timestamp Question Report  Year  Category  \\\n",
       "0  2021-11-19 09:37:02.248560       P2     A1  2020  Academic   \n",
       "1  2021-11-19 10:37:02.248560       P2     A1  2020  Academic   \n",
       "2  2021-11-19 11:37:02.248560       P2     A2  2020   Student   \n",
       "3  2021-11-19 12:37:02.248560       P2     A2  2020   Student   \n",
       "4  2021-11-19 13:37:02.248560       P2     A7  2020  Academic   \n",
       "\n",
       "                 Type   Tupla  \\\n",
       "0  Analyze Cycle Time  A12020   \n",
       "1  Analyze Cycle Time  A12020   \n",
       "2  Analyze Cycle Time  A22020   \n",
       "3  Analyze Cycle Time  A22020   \n",
       "4  Analyze Cycle Time  A72020   \n",
       "\n",
       "                                        Organization duplaPreg  \n",
       "0                        TechnischeUniversitätBerlin    P22020  \n",
       "1                        TechnischeUniversitätBerlin    P22020  \n",
       "2                  FacultyofScienceUtrechtUniversity    P22020  \n",
       "3                  FacultyofScienceUtrechtUniversity    P22020  \n",
       "4  GermanResearchCenterforArtificialIntelligenceDFKI    P22020  "
      ]
     },
     "execution_count": 31,
     "metadata": {},
     "output_type": "execute_result"
    }
   ],
   "source": [
    "df_prueba.head()"
   ]
  },
  {
   "cell_type": "code",
   "execution_count": 32,
   "metadata": {},
   "outputs": [],
   "source": [
    "p4p5p62020=df_prueba[df_prueba['duplaPreg'].isin([\"P52020\",\"P62020\",\"P42020\"])].groupby(\"Question\").apply(lambda x: x['concept:name'].unique())"
   ]
  },
  {
   "cell_type": "code",
   "execution_count": 116,
   "metadata": {},
   "outputs": [
    {
     "data": {
      "text/plain": [
       "array(['Filter activities', 'Group activities', 'Calculate cycle time',\n",
       "       'Calculate throughput', 'Calculate number of elements',\n",
       "       'Represent scatterplot', 'Represent process map',\n",
       "       'Represent bar charts', 'Identify bottlenecks',\n",
       "       'Filter variants depending on frequency', 'Represent histograms',\n",
       "       'Preprocess the traces of the logs', 'Represent heatmaps',\n",
       "       'Filter traces', 'Calculate average of activities per trace',\n",
       "       'Group traces', 'Calculate frequency', 'Identify attributes',\n",
       "       'Identify transitions by cycle time', 'Compare cycle time',\n",
       "       'Calculate percentages', 'Identify traces by cycle time',\n",
       "       'Represent temporal series', 'Identify activities',\n",
       "       'Calculate statistics', 'Identify roles'], dtype=object)"
      ]
     },
     "execution_count": 116,
     "metadata": {},
     "output_type": "execute_result"
    }
   ],
   "source": [
    "p4p5p62020[0]"
   ]
  },
  {
   "cell_type": "code",
   "execution_count": 117,
   "metadata": {},
   "outputs": [],
   "source": [
    "int1=set.intersection(set(p4p5p62020[0]), set(p4p5p62020[1]), set(p4p5p62020[2]))"
   ]
  },
  {
   "cell_type": "code",
   "execution_count": 125,
   "metadata": {
    "scrolled": true
   },
   "outputs": [
    {
     "data": {
      "text/plain": [
       "{'Calculate cycle time',\n",
       " 'Calculate frequency',\n",
       " 'Calculate number of elements',\n",
       " 'Compare cycle time',\n",
       " 'Filter activities',\n",
       " 'Filter traces',\n",
       " 'Identify bottlenecks',\n",
       " 'Identify transitions by cycle time',\n",
       " 'Represent histograms',\n",
       " 'Represent process map'}"
      ]
     },
     "execution_count": 125,
     "metadata": {},
     "output_type": "execute_result"
    }
   ],
   "source": [
    "int1"
   ]
  },
  {
   "cell_type": "code",
   "execution_count": 120,
   "metadata": {},
   "outputs": [],
   "source": [
    "#p5 2020, p6 2020, p5 2015, y p1 2017\n",
    "group2=df_prueba[df_prueba['duplaPreg'].isin([\"P52020\",\"P62020\",\"P52015\",\"P12017\"])].groupby([\"Question\",\"Year\"]).apply(lambda x: x['concept:name'].unique())"
   ]
  },
  {
   "cell_type": "code",
   "execution_count": 121,
   "metadata": {},
   "outputs": [
    {
     "data": {
      "text/plain": [
       "Question  Year\n",
       "P1        2017    [Calculate cycle time, Filter events, Calculat...\n",
       "P5        2015    [Calculate cycle time, Filter events, Represen...\n",
       "          2020    [Calculate cycle time, Identify bottlenecks, R...\n",
       "P6        2020    [Filter traces, Calculate cycle time, Identify...\n",
       "dtype: object"
      ]
     },
     "execution_count": 121,
     "metadata": {},
     "output_type": "execute_result"
    }
   ],
   "source": [
    "group2"
   ]
  },
  {
   "cell_type": "code",
   "execution_count": 122,
   "metadata": {},
   "outputs": [],
   "source": [
    "int2=set.intersection(set(group2[0]), set(group2[1]), set(group2[2]),set(group2[3]))"
   ]
  },
  {
   "cell_type": "code",
   "execution_count": 131,
   "metadata": {},
   "outputs": [
    {
     "data": {
      "text/plain": [
       "array(['Calculate cycle time', 'Filter events', 'Calculate frequency',\n",
       "       'Represent histograms', 'Identify bottlenecks',\n",
       "       'Calculate percentages', 'Filter traces', 'Calculate waiting time',\n",
       "       'Calculate processing time', 'Represent process map',\n",
       "       'Discover process maps', 'Calculate number of elements',\n",
       "       'Group traces', 'Identify roles', 'Identify resources',\n",
       "       'Represent bar charts',\n",
       "       'Compare waiting time with processing time', 'Group activities',\n",
       "       'Preprocess the traces of the logs',\n",
       "       'Assign resource to each activity', 'Represent heatmaps',\n",
       "       'Identify transitions by cycle time', 'Identify activities',\n",
       "       'Identify attributes', 'Represent linear tendency of cycle time',\n",
       "       'Calculate statistics', 'Filter activities', 'Compare cycle time'],\n",
       "      dtype=object)"
      ]
     },
     "execution_count": 131,
     "metadata": {},
     "output_type": "execute_result"
    }
   ],
   "source": [
    "group2[0]"
   ]
  },
  {
   "cell_type": "code",
   "execution_count": 132,
   "metadata": {},
   "outputs": [
    {
     "data": {
      "text/plain": [
       "{'Calculate cycle time',\n",
       " 'Calculate frequency',\n",
       " 'Calculate number of elements',\n",
       " 'Compare cycle time',\n",
       " 'Filter activities',\n",
       " 'Filter traces',\n",
       " 'Identify bottlenecks',\n",
       " 'Represent histograms',\n",
       " 'Represent process map'}"
      ]
     },
     "execution_count": 132,
     "metadata": {},
     "output_type": "execute_result"
    }
   ],
   "source": [
    "int2.intersection(int1)"
   ]
  },
  {
   "cell_type": "code",
   "execution_count": 124,
   "metadata": {},
   "outputs": [
    {
     "data": {
      "text/plain": [
       "{'Identify transitions by cycle time'}"
      ]
     },
     "execution_count": 124,
     "metadata": {},
     "output_type": "execute_result"
    }
   ],
   "source": [
    "int1-int2"
   ]
  },
  {
   "cell_type": "code",
   "execution_count": 136,
   "metadata": {},
   "outputs": [
    {
     "data": {
      "text/plain": [
       "set()"
      ]
     },
     "execution_count": 136,
     "metadata": {},
     "output_type": "execute_result"
    }
   ],
   "source": [
    "int2-int1"
   ]
  },
  {
   "cell_type": "code",
   "execution_count": 135,
   "metadata": {},
   "outputs": [
    {
     "data": {
      "text/plain": [
       "set()"
      ]
     },
     "execution_count": 135,
     "metadata": {},
     "output_type": "execute_result"
    }
   ],
   "source": [
    "set([\"a\"])-set([\"a\",\"b\"])"
   ]
  },
  {
   "cell_type": "code",
   "execution_count": 109,
   "metadata": {},
   "outputs": [],
   "source": [
    "#p1 2017, p2 2019, p5 2015, y p1 2020"
   ]
  },
  {
   "cell_type": "code",
   "execution_count": 126,
   "metadata": {},
   "outputs": [],
   "source": [
    "group3=df_prueba[df_prueba['duplaPreg'].isin([\"P22019\",\"P12020\",\"P52015\",\"P12017\"])].groupby([\"Question\",\"Year\"]).apply(lambda x: x['concept:name'].unique())"
   ]
  },
  {
   "cell_type": "code",
   "execution_count": 127,
   "metadata": {},
   "outputs": [
    {
     "data": {
      "text/plain": [
       "Question  Year\n",
       "P1        2017    [Calculate cycle time, Filter events, Calculat...\n",
       "          2020    [Filter traces, Calculate cycle time, Calculat...\n",
       "P2        2019    [Group events by time, Calculate cycle time, R...\n",
       "P5        2015    [Calculate cycle time, Filter events, Represen...\n",
       "dtype: object"
      ]
     },
     "execution_count": 127,
     "metadata": {},
     "output_type": "execute_result"
    }
   ],
   "source": [
    "group3"
   ]
  },
  {
   "cell_type": "code",
   "execution_count": 128,
   "metadata": {},
   "outputs": [],
   "source": [
    "int3=set.intersection(set(group3[0]), set(group3[1]), set(group3[2]),set(group3[3]))"
   ]
  },
  {
   "cell_type": "code",
   "execution_count": 129,
   "metadata": {},
   "outputs": [
    {
     "data": {
      "text/plain": [
       "{'Calculate percentages',\n",
       " 'Calculate statistics',\n",
       " 'Filter events',\n",
       " 'Group traces',\n",
       " 'Identify attributes',\n",
       " 'Represent bar charts'}"
      ]
     },
     "execution_count": 129,
     "metadata": {},
     "output_type": "execute_result"
    }
   ],
   "source": [
    "int3-int1"
   ]
  },
  {
   "cell_type": "code",
   "execution_count": 130,
   "metadata": {},
   "outputs": [
    {
     "data": {
      "text/plain": [
       "{'Calculate percentages',\n",
       " 'Calculate statistics',\n",
       " 'Filter events',\n",
       " 'Group traces',\n",
       " 'Identify attributes',\n",
       " 'Represent bar charts'}"
      ]
     },
     "execution_count": 130,
     "metadata": {},
     "output_type": "execute_result"
    }
   ],
   "source": [
    "int3-int2"
   ]
  },
  {
   "cell_type": "code",
   "execution_count": 23,
   "metadata": {},
   "outputs": [],
   "source": [
    "#comparando las operaciones comunes entre pares de aristas (variantes):"
   ]
  },
  {
   "cell_type": "code",
   "execution_count": 90,
   "metadata": {},
   "outputs": [],
   "source": [
    "setP52020=set(df_prueba[df_prueba['duplaPreg']==\"P52020\"]['Variant'].unique())\n",
    "setP62020=set(df_prueba[df_prueba['duplaPreg']==\"P62020\"]['Variant'].unique())"
   ]
  },
  {
   "cell_type": "code",
   "execution_count": 91,
   "metadata": {},
   "outputs": [
    {
     "data": {
      "text/plain": [
       "{'Calculate cycle time for all pairs of events for all traces',\n",
       " 'Calculate number of activities',\n",
       " 'Compare cycle time',\n",
       " 'Filter activities by cycle time',\n",
       " 'Filter traces by activities',\n",
       " 'Get cycle time from the previous question',\n",
       " 'Identify activities as bottlenecks applying temporal performance criteria',\n",
       " 'Identify sub-processes with incorrect orders with respect to the happy path as bottlenecks',\n",
       " 'Identify transitions by cycle time',\n",
       " 'Represent histograms of cycle time',\n",
       " 'Represent process map with cycle time'}"
      ]
     },
     "execution_count": 91,
     "metadata": {},
     "output_type": "execute_result"
    }
   ],
   "source": [
    "setP52020.intersection(setP62020)"
   ]
  },
  {
   "cell_type": "code",
   "execution_count": 92,
   "metadata": {},
   "outputs": [
    {
     "data": {
      "text/plain": [
       "{'Calculate Statistics of cycle time',\n",
       " 'Calculate Statistics of throughput',\n",
       " 'Calculate cycle time for all pairs of events for all traces',\n",
       " 'Calculate cycle time of the whole process for a subset of traces',\n",
       " 'Calculate frequency of activities',\n",
       " 'Calculate number of activities',\n",
       " 'Calculate number of traces',\n",
       " 'Calculate percentage of traces',\n",
       " 'Compare cycle time',\n",
       " 'Filter traces by activities',\n",
       " 'Filter traces by frequency',\n",
       " 'Group traces by activities',\n",
       " 'Identify activities as bottlenecks applying temporal performance criteria',\n",
       " 'Identify activities with cycle time',\n",
       " 'Identify activities with traces',\n",
       " 'Identify roles by organizational units',\n",
       " 'Identify transitions by cycle time',\n",
       " 'Identify values of attributes',\n",
       " 'Represent bar charts of cycle time',\n",
       " 'Represent histograms of cycle time',\n",
       " 'Represent process map with cycle time',\n",
       " 'Represent scatterplot',\n",
       " 'Represent temporal series of activities'}"
      ]
     },
     "execution_count": 92,
     "metadata": {},
     "output_type": "execute_result"
    }
   ],
   "source": [
    "setP42020=set(df_prueba[df_prueba['duplaPreg']==\"P42020\"]['Variant'].unique())\n",
    "setP52020.intersection(setP42020)"
   ]
  },
  {
   "cell_type": "code",
   "execution_count": 94,
   "metadata": {},
   "outputs": [
    {
     "data": {
      "text/plain": [
       "{'Calculate cycle time for all pairs of events for all traces',\n",
       " 'Calculate number of activities',\n",
       " 'Compare cycle time',\n",
       " 'Filter traces by activities',\n",
       " 'Identify activities as bottlenecks applying temporal performance criteria',\n",
       " 'Identify transitions by cycle time',\n",
       " 'Represent histograms of cycle time',\n",
       " 'Represent process map with cycle time'}"
      ]
     },
     "execution_count": 94,
     "metadata": {},
     "output_type": "execute_result"
    }
   ],
   "source": [
    "set.intersection(setP42020,setP62020,setP52020)"
   ]
  },
  {
   "cell_type": "code",
   "execution_count": 41,
   "metadata": {},
   "outputs": [
    {
     "data": {
      "text/plain": [
       "{'Calculate cycle time',\n",
       " 'Calculate frequency',\n",
       " 'Calculate number of elements',\n",
       " 'Calculate percentages',\n",
       " 'Calculate statistics',\n",
       " 'Compare cycle time',\n",
       " 'Filter activities',\n",
       " 'Filter traces',\n",
       " 'Group traces',\n",
       " 'Identify activities',\n",
       " 'Identify attributes',\n",
       " 'Identify bottlenecks',\n",
       " 'Identify roles',\n",
       " 'Identify transitions by cycle time',\n",
       " 'Represent bar charts',\n",
       " 'Represent histograms',\n",
       " 'Represent process map',\n",
       " 'Represent scatterplot',\n",
       " 'Represent temporal series'}"
      ]
     },
     "execution_count": 41,
     "metadata": {},
     "output_type": "execute_result"
    }
   ],
   "source": [
    "setP42020.intersection(setP52020)"
   ]
  },
  {
   "cell_type": "code",
   "execution_count": 98,
   "metadata": {},
   "outputs": [],
   "source": [
    "#-------------------------------------------------------------------------------------------------------------------------------\n",
    "\n",
    "setP52015=set(df_prueba[df_prueba['duplaPreg']==\"P52015\"]['Variant'].unique())"
   ]
  },
  {
   "cell_type": "code",
   "execution_count": 99,
   "metadata": {},
   "outputs": [],
   "source": [
    "setP22019=set(df_prueba[df_prueba['duplaPreg']==\"P22019\"]['Variant'].unique())"
   ]
  },
  {
   "cell_type": "code",
   "execution_count": 100,
   "metadata": {},
   "outputs": [
    {
     "data": {
      "text/plain": [
       "{'Calculate Statistics of attributes',\n",
       " 'Calculate Statistics of cycle time',\n",
       " 'Calculate cycle time for all pairs of events for a subset of traces',\n",
       " 'Calculate cycle time for all pairs of events for each subset of traces',\n",
       " 'Calculate cycle time of only a subset of pairs of events for each subset of traces',\n",
       " 'Calculate cycle time of the whole process for a subset of traces',\n",
       " 'Calculate cycle time of the whole process for all traces',\n",
       " 'Calculate cycle time of the whole process for each subset of traces',\n",
       " 'Calculate number of traces',\n",
       " 'Compare cycle time',\n",
       " 'Filter traces by activities',\n",
       " 'Filter traces by attributes',\n",
       " 'Filter traces by frequency',\n",
       " 'Filter traces by year',\n",
       " 'Group traces depending on attributes',\n",
       " 'Identify activities as bottlenecks applying temporal performance criteria',\n",
       " 'Identify resource associated with bottlenecks',\n",
       " 'Identify resources by activities',\n",
       " 'Identify sub-processes as bottlenecks applying temporal performance criteria',\n",
       " 'Identify values of attributes',\n",
       " 'Represent histograms of cycle time',\n",
       " 'Represent process map with cycle time'}"
      ]
     },
     "execution_count": 100,
     "metadata": {},
     "output_type": "execute_result"
    }
   ],
   "source": [
    "setP22019.intersection(setP52015)"
   ]
  },
  {
   "cell_type": "code",
   "execution_count": 101,
   "metadata": {},
   "outputs": [],
   "source": [
    "setP12017=set(df_prueba[df_prueba['duplaPreg']==\"P12017\"]['Variant'].unique())"
   ]
  },
  {
   "cell_type": "code",
   "execution_count": 102,
   "metadata": {},
   "outputs": [
    {
     "data": {
      "text/plain": [
       "{'Calculate Statistics of attributes',\n",
       " 'Calculate cycle time for all pairs of events for a subset of traces',\n",
       " 'Calculate cycle time for all pairs of events for each subset of traces',\n",
       " 'Calculate cycle time of only a subset of pairs of events for each subset of traces',\n",
       " 'Calculate cycle time of the whole process for a subset of traces',\n",
       " 'Calculate cycle time of the whole process for all traces',\n",
       " 'Calculate cycle time of the whole process for each subset of traces',\n",
       " 'Calculate number of traces',\n",
       " 'Compare cycle time',\n",
       " 'Filter traces by activities',\n",
       " 'Filter traces by attributes',\n",
       " 'Group traces depending on attributes',\n",
       " 'Identify activities as bottlenecks applying temporal performance criteria',\n",
       " 'Identify resources by activities',\n",
       " 'Identify sub-processes as bottlenecks applying temporal performance criteria',\n",
       " 'Identify values of attributes',\n",
       " 'Represent histograms of cycle time',\n",
       " 'Represent process map with cycle time'}"
      ]
     },
     "execution_count": 102,
     "metadata": {},
     "output_type": "execute_result"
    }
   ],
   "source": [
    "set.intersection(setP52015,setP22019,setP12017)"
   ]
  },
  {
   "cell_type": "code",
   "execution_count": null,
   "metadata": {},
   "outputs": [],
   "source": [
    "#-----------------------------------------"
   ]
  },
  {
   "cell_type": "code",
   "execution_count": 103,
   "metadata": {},
   "outputs": [],
   "source": [
    "setP22020=set(df_prueba[df_prueba['duplaPreg']==\"P22020\"]['Variant'].unique())"
   ]
  },
  {
   "cell_type": "code",
   "execution_count": null,
   "metadata": {},
   "outputs": [],
   "source": [
    "set.intersection(setP52015,setP22019,setP12017)"
   ]
  }
 ],
 "metadata": {
  "kernelspec": {
   "display_name": "Python 3",
   "language": "python",
   "name": "python3"
  },
  "language_info": {
   "codemirror_mode": {
    "name": "ipython",
    "version": 3
   },
   "file_extension": ".py",
   "mimetype": "text/x-python",
   "name": "python",
   "nbconvert_exporter": "python",
   "pygments_lexer": "ipython3",
   "version": "3.7.4"
  }
 },
 "nbformat": 4,
 "nbformat_minor": 2
}
