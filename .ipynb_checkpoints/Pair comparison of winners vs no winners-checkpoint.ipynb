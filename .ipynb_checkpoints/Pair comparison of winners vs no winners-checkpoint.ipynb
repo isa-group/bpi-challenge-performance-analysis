{
 "cells": [
  {
   "cell_type": "code",
   "execution_count": 1,
   "metadata": {},
   "outputs": [],
   "source": [
    "import pandas as pd\n",
    "import datetime\n",
    "from os import listdir\n",
    "import os, os.path\n",
    "from os.path import isfile, join\n",
    "import numpy as np\n",
    "import csv\n",
    "import re\n",
    "import pandas as pd\n",
    "import pm4py\n",
    "from pm4py.objects.conversion.log import converter as log_converter\n",
    "from pm4py.objects.log.importer.xes import importer as xes_importer\n",
    "from pm4py.objects.log.exporter.xes import exporter as xes_exporter\n",
    "from pm4py.objects.log.util import dataframe_utils\n",
    "import matplotlib.pyplot as plt\n",
    "import seaborn as sns"
   ]
  },
  {
   "cell_type": "code",
   "execution_count": 2,
   "metadata": {},
   "outputs": [
    {
     "data": {
      "text/html": [
       "<div>\n",
       "<style scoped>\n",
       "    .dataframe tbody tr th:only-of-type {\n",
       "        vertical-align: middle;\n",
       "    }\n",
       "\n",
       "    .dataframe tbody tr th {\n",
       "        vertical-align: top;\n",
       "    }\n",
       "\n",
       "    .dataframe thead th {\n",
       "        text-align: right;\n",
       "    }\n",
       "</style>\n",
       "<table border=\"1\" class=\"dataframe\">\n",
       "  <thead>\n",
       "    <tr style=\"text-align: right;\">\n",
       "      <th></th>\n",
       "      <th>case:id</th>\n",
       "      <th>case:concept:name</th>\n",
       "      <th>concept:name</th>\n",
       "      <th>Variant</th>\n",
       "      <th>time:timestamp</th>\n",
       "      <th>Question</th>\n",
       "      <th>Report</th>\n",
       "      <th>Year</th>\n",
       "      <th>Category</th>\n",
       "      <th>Type</th>\n",
       "      <th>Tupla</th>\n",
       "      <th>Organization</th>\n",
       "    </tr>\n",
       "  </thead>\n",
       "  <tbody>\n",
       "    <tr>\n",
       "      <td>0</td>\n",
       "      <td>A1 P2 BPI 2020</td>\n",
       "      <td>A1 P2 BPI 2020</td>\n",
       "      <td>Calculate cycle time</td>\n",
       "      <td>Calculate cycle time of the whole process for ...</td>\n",
       "      <td>2021-11-19 09:37:02.248560</td>\n",
       "      <td>P2</td>\n",
       "      <td>A1</td>\n",
       "      <td>2020</td>\n",
       "      <td>Academic</td>\n",
       "      <td>Analyze Cycle Time</td>\n",
       "      <td>A12020</td>\n",
       "      <td>TechnischeUniversitätBerlin</td>\n",
       "    </tr>\n",
       "    <tr>\n",
       "      <td>1</td>\n",
       "      <td>A1 P2 BPI 2020</td>\n",
       "      <td>A1 P2 BPI 2020</td>\n",
       "      <td>Compare cycle time</td>\n",
       "      <td>Compare cycle time</td>\n",
       "      <td>2021-11-19 10:37:02.248560</td>\n",
       "      <td>P2</td>\n",
       "      <td>A1</td>\n",
       "      <td>2020</td>\n",
       "      <td>Academic</td>\n",
       "      <td>Analyze Cycle Time</td>\n",
       "      <td>A12020</td>\n",
       "      <td>TechnischeUniversitätBerlin</td>\n",
       "    </tr>\n",
       "    <tr>\n",
       "      <td>2</td>\n",
       "      <td>A2 P2 BPI 2020</td>\n",
       "      <td>A2 P2 BPI 2020</td>\n",
       "      <td>Calculate cycle time</td>\n",
       "      <td>Get cycle time from the previous question</td>\n",
       "      <td>2021-11-19 11:37:02.248560</td>\n",
       "      <td>P2</td>\n",
       "      <td>A2</td>\n",
       "      <td>2020</td>\n",
       "      <td>Student</td>\n",
       "      <td>Analyze Cycle Time</td>\n",
       "      <td>A22020</td>\n",
       "      <td>FacultyofScienceUtrechtUniversity</td>\n",
       "    </tr>\n",
       "    <tr>\n",
       "      <td>3</td>\n",
       "      <td>A2 P2 BPI 2020</td>\n",
       "      <td>A2 P2 BPI 2020</td>\n",
       "      <td>Compare cycle time</td>\n",
       "      <td>Compare cycle time</td>\n",
       "      <td>2021-11-19 12:37:02.248560</td>\n",
       "      <td>P2</td>\n",
       "      <td>A2</td>\n",
       "      <td>2020</td>\n",
       "      <td>Student</td>\n",
       "      <td>Analyze Cycle Time</td>\n",
       "      <td>A22020</td>\n",
       "      <td>FacultyofScienceUtrechtUniversity</td>\n",
       "    </tr>\n",
       "    <tr>\n",
       "      <td>4</td>\n",
       "      <td>A7 P2 BPI 2020</td>\n",
       "      <td>A7 P2 BPI 2020</td>\n",
       "      <td>Calculate throughput</td>\n",
       "      <td>Calculate throughput</td>\n",
       "      <td>2021-11-19 13:37:02.248560</td>\n",
       "      <td>P2</td>\n",
       "      <td>A7</td>\n",
       "      <td>2020</td>\n",
       "      <td>Academic</td>\n",
       "      <td>Analyze Cycle Time</td>\n",
       "      <td>A72020</td>\n",
       "      <td>GermanResearchCenterforArtificialIntelligenceDFKI</td>\n",
       "    </tr>\n",
       "    <tr>\n",
       "      <td>...</td>\n",
       "      <td>...</td>\n",
       "      <td>...</td>\n",
       "      <td>...</td>\n",
       "      <td>...</td>\n",
       "      <td>...</td>\n",
       "      <td>...</td>\n",
       "      <td>...</td>\n",
       "      <td>...</td>\n",
       "      <td>...</td>\n",
       "      <td>...</td>\n",
       "      <td>...</td>\n",
       "      <td>...</td>\n",
       "    </tr>\n",
       "    <tr>\n",
       "      <td>943</td>\n",
       "      <td>A19 P1 BPI 2020</td>\n",
       "      <td>A19 P1 BPI 2020</td>\n",
       "      <td>Group traces</td>\n",
       "      <td>Group traces by year</td>\n",
       "      <td>2021-12-28 16:37:02.248560</td>\n",
       "      <td>P1</td>\n",
       "      <td>A19</td>\n",
       "      <td>2020</td>\n",
       "      <td>Professional</td>\n",
       "      <td>Manipulation</td>\n",
       "      <td>A192020</td>\n",
       "      <td>Sberbank</td>\n",
       "    </tr>\n",
       "    <tr>\n",
       "      <td>944</td>\n",
       "      <td>A19 P1 BPI 2020</td>\n",
       "      <td>A19 P1 BPI 2020</td>\n",
       "      <td>Group traces</td>\n",
       "      <td>Group traces by activities</td>\n",
       "      <td>2021-12-28 17:37:02.248560</td>\n",
       "      <td>P1</td>\n",
       "      <td>A19</td>\n",
       "      <td>2020</td>\n",
       "      <td>Professional</td>\n",
       "      <td>Manipulation</td>\n",
       "      <td>A192020</td>\n",
       "      <td>Sberbank</td>\n",
       "    </tr>\n",
       "    <tr>\n",
       "      <td>945</td>\n",
       "      <td>A19 P1 BPI 2020</td>\n",
       "      <td>A19 P1 BPI 2020</td>\n",
       "      <td>Calculate statistics</td>\n",
       "      <td>Calculate Statistics of activities</td>\n",
       "      <td>2021-12-28 18:37:02.248560</td>\n",
       "      <td>P1</td>\n",
       "      <td>A19</td>\n",
       "      <td>2020</td>\n",
       "      <td>Professional</td>\n",
       "      <td>Calculate statistics</td>\n",
       "      <td>A192020</td>\n",
       "      <td>Sberbank</td>\n",
       "    </tr>\n",
       "    <tr>\n",
       "      <td>946</td>\n",
       "      <td>A19 P1 BPI 2020</td>\n",
       "      <td>A19 P1 BPI 2020</td>\n",
       "      <td>Calculate throughput</td>\n",
       "      <td>Calculate throughput</td>\n",
       "      <td>2021-12-28 19:37:02.248560</td>\n",
       "      <td>P1</td>\n",
       "      <td>A19</td>\n",
       "      <td>2020</td>\n",
       "      <td>Professional</td>\n",
       "      <td>Analyze Cycle Time</td>\n",
       "      <td>A192020</td>\n",
       "      <td>Sberbank</td>\n",
       "    </tr>\n",
       "    <tr>\n",
       "      <td>947</td>\n",
       "      <td>A19 P1 BPI 2020</td>\n",
       "      <td>A19 P1 BPI 2020</td>\n",
       "      <td>Represent temporal series</td>\n",
       "      <td>Represent temporal series of throughput</td>\n",
       "      <td>2021-12-28 20:37:02.248560</td>\n",
       "      <td>P1</td>\n",
       "      <td>A19</td>\n",
       "      <td>2020</td>\n",
       "      <td>Professional</td>\n",
       "      <td>Representation</td>\n",
       "      <td>A192020</td>\n",
       "      <td>Sberbank</td>\n",
       "    </tr>\n",
       "  </tbody>\n",
       "</table>\n",
       "<p>948 rows × 12 columns</p>\n",
       "</div>"
      ],
      "text/plain": [
       "             case:id case:concept:name               concept:name  \\\n",
       "0     A1 P2 BPI 2020    A1 P2 BPI 2020       Calculate cycle time   \n",
       "1     A1 P2 BPI 2020    A1 P2 BPI 2020         Compare cycle time   \n",
       "2     A2 P2 BPI 2020    A2 P2 BPI 2020       Calculate cycle time   \n",
       "3     A2 P2 BPI 2020    A2 P2 BPI 2020         Compare cycle time   \n",
       "4     A7 P2 BPI 2020    A7 P2 BPI 2020       Calculate throughput   \n",
       "..               ...               ...                        ...   \n",
       "943  A19 P1 BPI 2020   A19 P1 BPI 2020               Group traces   \n",
       "944  A19 P1 BPI 2020   A19 P1 BPI 2020               Group traces   \n",
       "945  A19 P1 BPI 2020   A19 P1 BPI 2020       Calculate statistics   \n",
       "946  A19 P1 BPI 2020   A19 P1 BPI 2020       Calculate throughput   \n",
       "947  A19 P1 BPI 2020   A19 P1 BPI 2020  Represent temporal series   \n",
       "\n",
       "                                               Variant  \\\n",
       "0    Calculate cycle time of the whole process for ...   \n",
       "1                                   Compare cycle time   \n",
       "2            Get cycle time from the previous question   \n",
       "3                                   Compare cycle time   \n",
       "4                                 Calculate throughput   \n",
       "..                                                 ...   \n",
       "943                               Group traces by year   \n",
       "944                         Group traces by activities   \n",
       "945                 Calculate Statistics of activities   \n",
       "946                               Calculate throughput   \n",
       "947            Represent temporal series of throughput   \n",
       "\n",
       "                 time:timestamp Question Report  Year      Category  \\\n",
       "0    2021-11-19 09:37:02.248560       P2     A1  2020      Academic   \n",
       "1    2021-11-19 10:37:02.248560       P2     A1  2020      Academic   \n",
       "2    2021-11-19 11:37:02.248560       P2     A2  2020       Student   \n",
       "3    2021-11-19 12:37:02.248560       P2     A2  2020       Student   \n",
       "4    2021-11-19 13:37:02.248560       P2     A7  2020      Academic   \n",
       "..                          ...      ...    ...   ...           ...   \n",
       "943  2021-12-28 16:37:02.248560       P1    A19  2020  Professional   \n",
       "944  2021-12-28 17:37:02.248560       P1    A19  2020  Professional   \n",
       "945  2021-12-28 18:37:02.248560       P1    A19  2020  Professional   \n",
       "946  2021-12-28 19:37:02.248560       P1    A19  2020  Professional   \n",
       "947  2021-12-28 20:37:02.248560       P1    A19  2020  Professional   \n",
       "\n",
       "                     Type    Tupla  \\\n",
       "0      Analyze Cycle Time   A12020   \n",
       "1      Analyze Cycle Time   A12020   \n",
       "2      Analyze Cycle Time   A22020   \n",
       "3      Analyze Cycle Time   A22020   \n",
       "4      Analyze Cycle Time   A72020   \n",
       "..                    ...      ...   \n",
       "943          Manipulation  A192020   \n",
       "944          Manipulation  A192020   \n",
       "945  Calculate statistics  A192020   \n",
       "946    Analyze Cycle Time  A192020   \n",
       "947        Representation  A192020   \n",
       "\n",
       "                                          Organization  \n",
       "0                          TechnischeUniversitätBerlin  \n",
       "1                          TechnischeUniversitätBerlin  \n",
       "2                    FacultyofScienceUtrechtUniversity  \n",
       "3                    FacultyofScienceUtrechtUniversity  \n",
       "4    GermanResearchCenterforArtificialIntelligenceDFKI  \n",
       "..                                                 ...  \n",
       "943                                           Sberbank  \n",
       "944                                           Sberbank  \n",
       "945                                           Sberbank  \n",
       "946                                           Sberbank  \n",
       "947                                           Sberbank  \n",
       "\n",
       "[948 rows x 12 columns]"
      ]
     },
     "execution_count": 2,
     "metadata": {},
     "output_type": "execute_result"
    }
   ],
   "source": [
    "#log reading\n",
    "df_categorias_autores=pd.read_csv(\"Log of analysis of time aspects.csv\",index_col=0)\n",
    "df_categorias_autores"
   ]
  },
  {
   "cell_type": "code",
   "execution_count": 3,
   "metadata": {},
   "outputs": [],
   "source": [
    "#identification of winners\n",
    "winners=['A1-2015',\"A2-2015\",\"A13-2017\",\"A18-2017\",\"A22-2017\",\"A4-2019\",\"A12-2019\",\"A1-2020\",\"A2-2020\"]\n",
    "#creation of a column to identify winners easier\n",
    "df_categorias_autores[\"repYear\"]=[rep+\"-\"+str(year) for rep,year in zip(df_categorias_autores['Report'],df_categorias_autores['Year'])]"
   ]
  },
  {
   "cell_type": "code",
   "execution_count": 4,
   "metadata": {},
   "outputs": [
    {
     "data": {
      "text/html": [
       "<div>\n",
       "<style scoped>\n",
       "    .dataframe tbody tr th:only-of-type {\n",
       "        vertical-align: middle;\n",
       "    }\n",
       "\n",
       "    .dataframe tbody tr th {\n",
       "        vertical-align: top;\n",
       "    }\n",
       "\n",
       "    .dataframe thead th {\n",
       "        text-align: right;\n",
       "    }\n",
       "</style>\n",
       "<table border=\"1\" class=\"dataframe\">\n",
       "  <thead>\n",
       "    <tr style=\"text-align: right;\">\n",
       "      <th></th>\n",
       "      <th>case:id</th>\n",
       "      <th>case:concept:name</th>\n",
       "      <th>concept:name</th>\n",
       "      <th>Variant</th>\n",
       "      <th>time:timestamp</th>\n",
       "      <th>Question</th>\n",
       "      <th>Report</th>\n",
       "      <th>Year</th>\n",
       "      <th>Category</th>\n",
       "      <th>Type</th>\n",
       "      <th>Tupla</th>\n",
       "      <th>Organization</th>\n",
       "      <th>repYear</th>\n",
       "    </tr>\n",
       "  </thead>\n",
       "  <tbody>\n",
       "    <tr>\n",
       "      <td>0</td>\n",
       "      <td>A1 P2 BPI 2020</td>\n",
       "      <td>A1 P2 BPI 2020</td>\n",
       "      <td>Calculate cycle time</td>\n",
       "      <td>Calculate cycle time of the whole process for ...</td>\n",
       "      <td>2021-11-19 09:37:02.248560</td>\n",
       "      <td>P2</td>\n",
       "      <td>A1</td>\n",
       "      <td>2020</td>\n",
       "      <td>Academic</td>\n",
       "      <td>Analyze Cycle Time</td>\n",
       "      <td>A12020</td>\n",
       "      <td>TechnischeUniversitätBerlin</td>\n",
       "      <td>A1-2020</td>\n",
       "    </tr>\n",
       "    <tr>\n",
       "      <td>1</td>\n",
       "      <td>A1 P2 BPI 2020</td>\n",
       "      <td>A1 P2 BPI 2020</td>\n",
       "      <td>Compare cycle time</td>\n",
       "      <td>Compare cycle time</td>\n",
       "      <td>2021-11-19 10:37:02.248560</td>\n",
       "      <td>P2</td>\n",
       "      <td>A1</td>\n",
       "      <td>2020</td>\n",
       "      <td>Academic</td>\n",
       "      <td>Analyze Cycle Time</td>\n",
       "      <td>A12020</td>\n",
       "      <td>TechnischeUniversitätBerlin</td>\n",
       "      <td>A1-2020</td>\n",
       "    </tr>\n",
       "    <tr>\n",
       "      <td>2</td>\n",
       "      <td>A2 P2 BPI 2020</td>\n",
       "      <td>A2 P2 BPI 2020</td>\n",
       "      <td>Calculate cycle time</td>\n",
       "      <td>Get cycle time from the previous question</td>\n",
       "      <td>2021-11-19 11:37:02.248560</td>\n",
       "      <td>P2</td>\n",
       "      <td>A2</td>\n",
       "      <td>2020</td>\n",
       "      <td>Student</td>\n",
       "      <td>Analyze Cycle Time</td>\n",
       "      <td>A22020</td>\n",
       "      <td>FacultyofScienceUtrechtUniversity</td>\n",
       "      <td>A2-2020</td>\n",
       "    </tr>\n",
       "    <tr>\n",
       "      <td>3</td>\n",
       "      <td>A2 P2 BPI 2020</td>\n",
       "      <td>A2 P2 BPI 2020</td>\n",
       "      <td>Compare cycle time</td>\n",
       "      <td>Compare cycle time</td>\n",
       "      <td>2021-11-19 12:37:02.248560</td>\n",
       "      <td>P2</td>\n",
       "      <td>A2</td>\n",
       "      <td>2020</td>\n",
       "      <td>Student</td>\n",
       "      <td>Analyze Cycle Time</td>\n",
       "      <td>A22020</td>\n",
       "      <td>FacultyofScienceUtrechtUniversity</td>\n",
       "      <td>A2-2020</td>\n",
       "    </tr>\n",
       "    <tr>\n",
       "      <td>4</td>\n",
       "      <td>A7 P2 BPI 2020</td>\n",
       "      <td>A7 P2 BPI 2020</td>\n",
       "      <td>Calculate throughput</td>\n",
       "      <td>Calculate throughput</td>\n",
       "      <td>2021-11-19 13:37:02.248560</td>\n",
       "      <td>P2</td>\n",
       "      <td>A7</td>\n",
       "      <td>2020</td>\n",
       "      <td>Academic</td>\n",
       "      <td>Analyze Cycle Time</td>\n",
       "      <td>A72020</td>\n",
       "      <td>GermanResearchCenterforArtificialIntelligenceDFKI</td>\n",
       "      <td>A7-2020</td>\n",
       "    </tr>\n",
       "    <tr>\n",
       "      <td>...</td>\n",
       "      <td>...</td>\n",
       "      <td>...</td>\n",
       "      <td>...</td>\n",
       "      <td>...</td>\n",
       "      <td>...</td>\n",
       "      <td>...</td>\n",
       "      <td>...</td>\n",
       "      <td>...</td>\n",
       "      <td>...</td>\n",
       "      <td>...</td>\n",
       "      <td>...</td>\n",
       "      <td>...</td>\n",
       "      <td>...</td>\n",
       "    </tr>\n",
       "    <tr>\n",
       "      <td>943</td>\n",
       "      <td>A19 P1 BPI 2020</td>\n",
       "      <td>A19 P1 BPI 2020</td>\n",
       "      <td>Group traces</td>\n",
       "      <td>Group traces by year</td>\n",
       "      <td>2021-12-28 16:37:02.248560</td>\n",
       "      <td>P1</td>\n",
       "      <td>A19</td>\n",
       "      <td>2020</td>\n",
       "      <td>Professional</td>\n",
       "      <td>Manipulation</td>\n",
       "      <td>A192020</td>\n",
       "      <td>Sberbank</td>\n",
       "      <td>A19-2020</td>\n",
       "    </tr>\n",
       "    <tr>\n",
       "      <td>944</td>\n",
       "      <td>A19 P1 BPI 2020</td>\n",
       "      <td>A19 P1 BPI 2020</td>\n",
       "      <td>Group traces</td>\n",
       "      <td>Group traces by activities</td>\n",
       "      <td>2021-12-28 17:37:02.248560</td>\n",
       "      <td>P1</td>\n",
       "      <td>A19</td>\n",
       "      <td>2020</td>\n",
       "      <td>Professional</td>\n",
       "      <td>Manipulation</td>\n",
       "      <td>A192020</td>\n",
       "      <td>Sberbank</td>\n",
       "      <td>A19-2020</td>\n",
       "    </tr>\n",
       "    <tr>\n",
       "      <td>945</td>\n",
       "      <td>A19 P1 BPI 2020</td>\n",
       "      <td>A19 P1 BPI 2020</td>\n",
       "      <td>Calculate statistics</td>\n",
       "      <td>Calculate Statistics of activities</td>\n",
       "      <td>2021-12-28 18:37:02.248560</td>\n",
       "      <td>P1</td>\n",
       "      <td>A19</td>\n",
       "      <td>2020</td>\n",
       "      <td>Professional</td>\n",
       "      <td>Calculate statistics</td>\n",
       "      <td>A192020</td>\n",
       "      <td>Sberbank</td>\n",
       "      <td>A19-2020</td>\n",
       "    </tr>\n",
       "    <tr>\n",
       "      <td>946</td>\n",
       "      <td>A19 P1 BPI 2020</td>\n",
       "      <td>A19 P1 BPI 2020</td>\n",
       "      <td>Calculate throughput</td>\n",
       "      <td>Calculate throughput</td>\n",
       "      <td>2021-12-28 19:37:02.248560</td>\n",
       "      <td>P1</td>\n",
       "      <td>A19</td>\n",
       "      <td>2020</td>\n",
       "      <td>Professional</td>\n",
       "      <td>Analyze Cycle Time</td>\n",
       "      <td>A192020</td>\n",
       "      <td>Sberbank</td>\n",
       "      <td>A19-2020</td>\n",
       "    </tr>\n",
       "    <tr>\n",
       "      <td>947</td>\n",
       "      <td>A19 P1 BPI 2020</td>\n",
       "      <td>A19 P1 BPI 2020</td>\n",
       "      <td>Represent temporal series</td>\n",
       "      <td>Represent temporal series of throughput</td>\n",
       "      <td>2021-12-28 20:37:02.248560</td>\n",
       "      <td>P1</td>\n",
       "      <td>A19</td>\n",
       "      <td>2020</td>\n",
       "      <td>Professional</td>\n",
       "      <td>Representation</td>\n",
       "      <td>A192020</td>\n",
       "      <td>Sberbank</td>\n",
       "      <td>A19-2020</td>\n",
       "    </tr>\n",
       "  </tbody>\n",
       "</table>\n",
       "<p>948 rows × 13 columns</p>\n",
       "</div>"
      ],
      "text/plain": [
       "             case:id case:concept:name               concept:name  \\\n",
       "0     A1 P2 BPI 2020    A1 P2 BPI 2020       Calculate cycle time   \n",
       "1     A1 P2 BPI 2020    A1 P2 BPI 2020         Compare cycle time   \n",
       "2     A2 P2 BPI 2020    A2 P2 BPI 2020       Calculate cycle time   \n",
       "3     A2 P2 BPI 2020    A2 P2 BPI 2020         Compare cycle time   \n",
       "4     A7 P2 BPI 2020    A7 P2 BPI 2020       Calculate throughput   \n",
       "..               ...               ...                        ...   \n",
       "943  A19 P1 BPI 2020   A19 P1 BPI 2020               Group traces   \n",
       "944  A19 P1 BPI 2020   A19 P1 BPI 2020               Group traces   \n",
       "945  A19 P1 BPI 2020   A19 P1 BPI 2020       Calculate statistics   \n",
       "946  A19 P1 BPI 2020   A19 P1 BPI 2020       Calculate throughput   \n",
       "947  A19 P1 BPI 2020   A19 P1 BPI 2020  Represent temporal series   \n",
       "\n",
       "                                               Variant  \\\n",
       "0    Calculate cycle time of the whole process for ...   \n",
       "1                                   Compare cycle time   \n",
       "2            Get cycle time from the previous question   \n",
       "3                                   Compare cycle time   \n",
       "4                                 Calculate throughput   \n",
       "..                                                 ...   \n",
       "943                               Group traces by year   \n",
       "944                         Group traces by activities   \n",
       "945                 Calculate Statistics of activities   \n",
       "946                               Calculate throughput   \n",
       "947            Represent temporal series of throughput   \n",
       "\n",
       "                 time:timestamp Question Report  Year      Category  \\\n",
       "0    2021-11-19 09:37:02.248560       P2     A1  2020      Academic   \n",
       "1    2021-11-19 10:37:02.248560       P2     A1  2020      Academic   \n",
       "2    2021-11-19 11:37:02.248560       P2     A2  2020       Student   \n",
       "3    2021-11-19 12:37:02.248560       P2     A2  2020       Student   \n",
       "4    2021-11-19 13:37:02.248560       P2     A7  2020      Academic   \n",
       "..                          ...      ...    ...   ...           ...   \n",
       "943  2021-12-28 16:37:02.248560       P1    A19  2020  Professional   \n",
       "944  2021-12-28 17:37:02.248560       P1    A19  2020  Professional   \n",
       "945  2021-12-28 18:37:02.248560       P1    A19  2020  Professional   \n",
       "946  2021-12-28 19:37:02.248560       P1    A19  2020  Professional   \n",
       "947  2021-12-28 20:37:02.248560       P1    A19  2020  Professional   \n",
       "\n",
       "                     Type    Tupla  \\\n",
       "0      Analyze Cycle Time   A12020   \n",
       "1      Analyze Cycle Time   A12020   \n",
       "2      Analyze Cycle Time   A22020   \n",
       "3      Analyze Cycle Time   A22020   \n",
       "4      Analyze Cycle Time   A72020   \n",
       "..                    ...      ...   \n",
       "943          Manipulation  A192020   \n",
       "944          Manipulation  A192020   \n",
       "945  Calculate statistics  A192020   \n",
       "946    Analyze Cycle Time  A192020   \n",
       "947        Representation  A192020   \n",
       "\n",
       "                                          Organization   repYear  \n",
       "0                          TechnischeUniversitätBerlin   A1-2020  \n",
       "1                          TechnischeUniversitätBerlin   A1-2020  \n",
       "2                    FacultyofScienceUtrechtUniversity   A2-2020  \n",
       "3                    FacultyofScienceUtrechtUniversity   A2-2020  \n",
       "4    GermanResearchCenterforArtificialIntelligenceDFKI   A7-2020  \n",
       "..                                                 ...       ...  \n",
       "943                                           Sberbank  A19-2020  \n",
       "944                                           Sberbank  A19-2020  \n",
       "945                                           Sberbank  A19-2020  \n",
       "946                                           Sberbank  A19-2020  \n",
       "947                                           Sberbank  A19-2020  \n",
       "\n",
       "[948 rows x 13 columns]"
      ]
     },
     "execution_count": 4,
     "metadata": {},
     "output_type": "execute_result"
    }
   ],
   "source": [
    "df_categorias_autores"
   ]
  },
  {
   "cell_type": "code",
   "execution_count": 5,
   "metadata": {},
   "outputs": [
    {
     "data": {
      "text/html": [
       "<div>\n",
       "<style scoped>\n",
       "    .dataframe tbody tr th:only-of-type {\n",
       "        vertical-align: middle;\n",
       "    }\n",
       "\n",
       "    .dataframe tbody tr th {\n",
       "        vertical-align: top;\n",
       "    }\n",
       "\n",
       "    .dataframe thead th {\n",
       "        text-align: right;\n",
       "    }\n",
       "</style>\n",
       "<table border=\"1\" class=\"dataframe\">\n",
       "  <thead>\n",
       "    <tr style=\"text-align: right;\">\n",
       "      <th></th>\n",
       "      <th>case:concept:name</th>\n",
       "      <th>Operations</th>\n",
       "      <th>Year</th>\n",
       "      <th>Question</th>\n",
       "      <th>repYear</th>\n",
       "    </tr>\n",
       "  </thead>\n",
       "  <tbody>\n",
       "    <tr>\n",
       "      <td>0</td>\n",
       "      <td>A1 P1 BPI 2017</td>\n",
       "      <td>[Calculate cycle time, Calculate cycle time, F...</td>\n",
       "      <td>2017</td>\n",
       "      <td>P1</td>\n",
       "      <td>A1-2017</td>\n",
       "    </tr>\n",
       "    <tr>\n",
       "      <td>1</td>\n",
       "      <td>A1 P1 BPI 2020</td>\n",
       "      <td>[Filter traces, Calculate cycle time, Calculat...</td>\n",
       "      <td>2020</td>\n",
       "      <td>P1</td>\n",
       "      <td>A1-2020</td>\n",
       "    </tr>\n",
       "    <tr>\n",
       "      <td>2</td>\n",
       "      <td>A1 P2 BPI 2019</td>\n",
       "      <td>[Group events by time, Calculate cycle time, R...</td>\n",
       "      <td>2019</td>\n",
       "      <td>P2</td>\n",
       "      <td>A1-2019</td>\n",
       "    </tr>\n",
       "    <tr>\n",
       "      <td>3</td>\n",
       "      <td>A1 P2 BPI 2020</td>\n",
       "      <td>[Calculate cycle time, Compare cycle time]</td>\n",
       "      <td>2020</td>\n",
       "      <td>P2</td>\n",
       "      <td>A1-2020</td>\n",
       "    </tr>\n",
       "    <tr>\n",
       "      <td>4</td>\n",
       "      <td>A1 P5 BPI 2015</td>\n",
       "      <td>[Calculate cycle time, Identify organizational...</td>\n",
       "      <td>2015</td>\n",
       "      <td>P5</td>\n",
       "      <td>A1-2015</td>\n",
       "    </tr>\n",
       "    <tr>\n",
       "      <td>...</td>\n",
       "      <td>...</td>\n",
       "      <td>...</td>\n",
       "      <td>...</td>\n",
       "      <td>...</td>\n",
       "      <td>...</td>\n",
       "    </tr>\n",
       "    <tr>\n",
       "      <td>121</td>\n",
       "      <td>A8 P1 BPI 2017</td>\n",
       "      <td>[Filter traces, Calculate waiting time, Repres...</td>\n",
       "      <td>2017</td>\n",
       "      <td>P1</td>\n",
       "      <td>A8-2017</td>\n",
       "    </tr>\n",
       "    <tr>\n",
       "      <td>122</td>\n",
       "      <td>A8 P5 BPI 2015</td>\n",
       "      <td>[Calculate cycle time, Compare cycle time, Gro...</td>\n",
       "      <td>2015</td>\n",
       "      <td>P5</td>\n",
       "      <td>A8-2015</td>\n",
       "    </tr>\n",
       "    <tr>\n",
       "      <td>123</td>\n",
       "      <td>A9 P1 BPI 2017</td>\n",
       "      <td>[Calculate processing time, Calculate waiting ...</td>\n",
       "      <td>2017</td>\n",
       "      <td>P1</td>\n",
       "      <td>A9-2017</td>\n",
       "    </tr>\n",
       "    <tr>\n",
       "      <td>124</td>\n",
       "      <td>A9 P2 BPI 2019</td>\n",
       "      <td>[Filter traces, Calculate cycle time, Identify...</td>\n",
       "      <td>2019</td>\n",
       "      <td>P2</td>\n",
       "      <td>A9-2019</td>\n",
       "    </tr>\n",
       "    <tr>\n",
       "      <td>125</td>\n",
       "      <td>A9 P5 BPI 2015</td>\n",
       "      <td>[Filter traces, Calculate cycle time, Group tr...</td>\n",
       "      <td>2015</td>\n",
       "      <td>P5</td>\n",
       "      <td>A9-2015</td>\n",
       "    </tr>\n",
       "  </tbody>\n",
       "</table>\n",
       "<p>126 rows × 5 columns</p>\n",
       "</div>"
      ],
      "text/plain": [
       "    case:concept:name                                         Operations  \\\n",
       "0      A1 P1 BPI 2017  [Calculate cycle time, Calculate cycle time, F...   \n",
       "1      A1 P1 BPI 2020  [Filter traces, Calculate cycle time, Calculat...   \n",
       "2      A1 P2 BPI 2019  [Group events by time, Calculate cycle time, R...   \n",
       "3      A1 P2 BPI 2020         [Calculate cycle time, Compare cycle time]   \n",
       "4      A1 P5 BPI 2015  [Calculate cycle time, Identify organizational...   \n",
       "..                ...                                                ...   \n",
       "121    A8 P1 BPI 2017  [Filter traces, Calculate waiting time, Repres...   \n",
       "122    A8 P5 BPI 2015  [Calculate cycle time, Compare cycle time, Gro...   \n",
       "123    A9 P1 BPI 2017  [Calculate processing time, Calculate waiting ...   \n",
       "124    A9 P2 BPI 2019  [Filter traces, Calculate cycle time, Identify...   \n",
       "125    A9 P5 BPI 2015  [Filter traces, Calculate cycle time, Group tr...   \n",
       "\n",
       "     Year Question  repYear  \n",
       "0    2017       P1  A1-2017  \n",
       "1    2020       P1  A1-2020  \n",
       "2    2019       P2  A1-2019  \n",
       "3    2020       P2  A1-2020  \n",
       "4    2015       P5  A1-2015  \n",
       "..    ...      ...      ...  \n",
       "121  2017       P1  A8-2017  \n",
       "122  2015       P5  A8-2015  \n",
       "123  2017       P1  A9-2017  \n",
       "124  2019       P2  A9-2019  \n",
       "125  2015       P5  A9-2015  \n",
       "\n",
       "[126 rows x 5 columns]"
      ]
     },
     "execution_count": 5,
     "metadata": {},
     "output_type": "execute_result"
    }
   ],
   "source": [
    "df_analisis = df_categorias_autores.groupby(by=['case:concept:name'])#group by case id, that means by each answer\n",
    "df_agrupado = pd.DataFrame(columns=['case:concept:name','Operations', 'Year', 'Question',\"repYear\"])#definition of new dataframe\n",
    "for name, group in df_analisis:\n",
    "\n",
    "    year = group.iloc[0]['Year'] #year of the answer\n",
    "    question = group.iloc[0]['Question']#question answered\n",
    "    repYear=group.iloc[0][\"Report\"]+\"-\"+str(year)#year and report\n",
    "    lista = group['concept:name'].to_list()#operations used in the answer\n",
    "    #definition of new row\n",
    "    new_row={'case:concept:name':name, 'Operations':lista, 'Year':year, 'Question':question,'repYear': repYear} \n",
    "    df_agrupado = df_agrupado.append(new_row, ignore_index=True)#addition of the new row\n",
    "    \n",
    "df_agrupado"
   ]
  },
  {
   "cell_type": "code",
   "execution_count": 6,
   "metadata": {},
   "outputs": [],
   "source": [
    "#definition of winner and no winner for each answer\n",
    "df_agrupado['Participant category']=[\"W\" if case in winners else \"NW\" for case in df_agrupado['repYear']]"
   ]
  },
  {
   "cell_type": "code",
   "execution_count": 7,
   "metadata": {},
   "outputs": [
    {
     "data": {
      "text/html": [
       "<div>\n",
       "<style scoped>\n",
       "    .dataframe tbody tr th:only-of-type {\n",
       "        vertical-align: middle;\n",
       "    }\n",
       "\n",
       "    .dataframe tbody tr th {\n",
       "        vertical-align: top;\n",
       "    }\n",
       "\n",
       "    .dataframe thead th {\n",
       "        text-align: right;\n",
       "    }\n",
       "</style>\n",
       "<table border=\"1\" class=\"dataframe\">\n",
       "  <thead>\n",
       "    <tr style=\"text-align: right;\">\n",
       "      <th></th>\n",
       "      <th>case:concept:name</th>\n",
       "      <th>Operations</th>\n",
       "      <th>Year</th>\n",
       "      <th>Question</th>\n",
       "      <th>repYear</th>\n",
       "      <th>Participant category</th>\n",
       "    </tr>\n",
       "  </thead>\n",
       "  <tbody>\n",
       "    <tr>\n",
       "      <td>1</td>\n",
       "      <td>A1 P1 BPI 2020</td>\n",
       "      <td>[Filter traces, Calculate cycle time, Calculat...</td>\n",
       "      <td>2020</td>\n",
       "      <td>P1</td>\n",
       "      <td>A1-2020</td>\n",
       "      <td>W</td>\n",
       "    </tr>\n",
       "    <tr>\n",
       "      <td>3</td>\n",
       "      <td>A1 P2 BPI 2020</td>\n",
       "      <td>[Calculate cycle time, Compare cycle time]</td>\n",
       "      <td>2020</td>\n",
       "      <td>P2</td>\n",
       "      <td>A1-2020</td>\n",
       "      <td>W</td>\n",
       "    </tr>\n",
       "    <tr>\n",
       "      <td>5</td>\n",
       "      <td>A1 P5 BPI 2020</td>\n",
       "      <td>[Calculate cycle time, Identify bottlenecks]</td>\n",
       "      <td>2020</td>\n",
       "      <td>P5</td>\n",
       "      <td>A1-2020</td>\n",
       "      <td>W</td>\n",
       "    </tr>\n",
       "    <tr>\n",
       "      <td>6</td>\n",
       "      <td>A1 P6 BPI 2020</td>\n",
       "      <td>[Filter traces, Calculate cycle time]</td>\n",
       "      <td>2020</td>\n",
       "      <td>P6</td>\n",
       "      <td>A1-2020</td>\n",
       "      <td>W</td>\n",
       "    </tr>\n",
       "    <tr>\n",
       "      <td>55</td>\n",
       "      <td>A2 P1 BPI 2020</td>\n",
       "      <td>[Calculate cycle time]</td>\n",
       "      <td>2020</td>\n",
       "      <td>P1</td>\n",
       "      <td>A2-2020</td>\n",
       "      <td>W</td>\n",
       "    </tr>\n",
       "    <tr>\n",
       "      <td>57</td>\n",
       "      <td>A2 P2 BPI 2020</td>\n",
       "      <td>[Calculate cycle time, Compare cycle time]</td>\n",
       "      <td>2020</td>\n",
       "      <td>P2</td>\n",
       "      <td>A2-2020</td>\n",
       "      <td>W</td>\n",
       "    </tr>\n",
       "    <tr>\n",
       "      <td>58</td>\n",
       "      <td>A2 P4 BPI 2020</td>\n",
       "      <td>[Filter activities, Group activities, Calculat...</td>\n",
       "      <td>2020</td>\n",
       "      <td>P4</td>\n",
       "      <td>A2-2020</td>\n",
       "      <td>W</td>\n",
       "    </tr>\n",
       "    <tr>\n",
       "      <td>60</td>\n",
       "      <td>A2 P5 BPI 2020</td>\n",
       "      <td>[Calculate cycle time, Identify bottlenecks, R...</td>\n",
       "      <td>2020</td>\n",
       "      <td>P5</td>\n",
       "      <td>A2-2020</td>\n",
       "      <td>W</td>\n",
       "    </tr>\n",
       "    <tr>\n",
       "      <td>61</td>\n",
       "      <td>A2 P6 BPI 2020</td>\n",
       "      <td>[Calculate cycle time, Identify bottlenecks, R...</td>\n",
       "      <td>2020</td>\n",
       "      <td>P6</td>\n",
       "      <td>A2-2020</td>\n",
       "      <td>W</td>\n",
       "    </tr>\n",
       "  </tbody>\n",
       "</table>\n",
       "</div>"
      ],
      "text/plain": [
       "   case:concept:name                                         Operations  Year  \\\n",
       "1     A1 P1 BPI 2020  [Filter traces, Calculate cycle time, Calculat...  2020   \n",
       "3     A1 P2 BPI 2020         [Calculate cycle time, Compare cycle time]  2020   \n",
       "5     A1 P5 BPI 2020       [Calculate cycle time, Identify bottlenecks]  2020   \n",
       "6     A1 P6 BPI 2020              [Filter traces, Calculate cycle time]  2020   \n",
       "55    A2 P1 BPI 2020                             [Calculate cycle time]  2020   \n",
       "57    A2 P2 BPI 2020         [Calculate cycle time, Compare cycle time]  2020   \n",
       "58    A2 P4 BPI 2020  [Filter activities, Group activities, Calculat...  2020   \n",
       "60    A2 P5 BPI 2020  [Calculate cycle time, Identify bottlenecks, R...  2020   \n",
       "61    A2 P6 BPI 2020  [Calculate cycle time, Identify bottlenecks, R...  2020   \n",
       "\n",
       "   Question  repYear Participant category  \n",
       "1        P1  A1-2020                    W  \n",
       "3        P2  A1-2020                    W  \n",
       "5        P5  A1-2020                    W  \n",
       "6        P6  A1-2020                    W  \n",
       "55       P1  A2-2020                    W  \n",
       "57       P2  A2-2020                    W  \n",
       "58       P4  A2-2020                    W  \n",
       "60       P5  A2-2020                    W  \n",
       "61       P6  A2-2020                    W  "
      ]
     },
     "execution_count": 7,
     "metadata": {},
     "output_type": "execute_result"
    }
   ],
   "source": [
    "df_agrupado[(df_agrupado['Year']==2020) &(df_agrupado['Participant category']==\"W\")]"
   ]
  },
  {
   "cell_type": "code",
   "execution_count": 8,
   "metadata": {},
   "outputs": [
    {
     "data": {
      "text/plain": [
       "Group traces depending on attributes                                                  6\n",
       "Represent bar charts of cycle time                                                    4\n",
       "Filter traces by attributes                                                           3\n",
       "Calculate cycle time of the whole process for each subset of traces                   3\n",
       "Calculate percentage of traces                                                        2\n",
       "Calculate number of traces                                                            2\n",
       "Calculate Statistics of cycle time                                                    2\n",
       "Calculate cycle time of only a subset of pairs of events for a subset of traces       2\n",
       "Calculate cycle time of a fragment of the process for a subset of traces              2\n",
       "Group events by attributes                                                            1\n",
       "Filter traces by cycle time                                                           1\n",
       "Preprocess the traces of the logs                                                     1\n",
       "Calculate cycle time of a fragment of the process for each subset of traces           1\n",
       "Identify attributes by traces                                                         1\n",
       "Calculate cycle time for all pairs of events for each subset of traces                1\n",
       "Group traces by activities                                                            1\n",
       "Calculate cycle time of only a subset of pairs of events for each subset of traces    1\n",
       "Filter traces depending on the order of activities                                    1\n",
       "Identify attributes by cycle time                                                     1\n",
       "Filter traces by activities                                                           1\n",
       "Preprocess the events of the logs                                                     1\n",
       "Name: Variant, dtype: int64"
      ]
     },
     "execution_count": 8,
     "metadata": {},
     "output_type": "execute_result"
    }
   ],
   "source": [
    "#operations of the winners in 2019\n",
    "df_categorias_autores[df_categorias_autores['case:concept:name'].isin([\"A12 P2 BPI 2019\",\"A4 P2 BPI 2019\"])]['Variant'].value_counts()"
   ]
  },
  {
   "cell_type": "code",
   "execution_count": 9,
   "metadata": {},
   "outputs": [
    {
     "data": {
      "text/plain": [
       "Compare cycle time                                                         11\n",
       "Identify values of attributes                                               7\n",
       "Get cycle time from the previous question                                   6\n",
       "Calculate Statistics of cycle time                                          5\n",
       "Calculate throughput                                                        3\n",
       "Represent histograms of cycle time                                          3\n",
       "Comparative of throughput                                                   2\n",
       "Calculate cycle time of the whole process for all traces                    2\n",
       "Calculate cycle time of the whole process for each subset of traces         2\n",
       "Represent temporal series of traces                                         2\n",
       "Group traces by month                                                       2\n",
       "Represent histograms of attributes                                          1\n",
       "Calculate Statistics of attributes                                          1\n",
       "Calculate average of activities per trace                                   1\n",
       "Represent scatterplot                                                       1\n",
       "Calculate cycle time of a fragment of the process for all traces            1\n",
       "Calculate percentage of traces                                              1\n",
       "Group traces depending on attributes                                        1\n",
       "Filter traces by activities                                                 1\n",
       "Calculate number of events                                                  1\n",
       "Represent correlation graph of variables                                    1\n",
       "Preprocess the traces of the logs                                           1\n",
       "Represent boxplots of cycle time                                            1\n",
       "Calculate number of activities                                              1\n",
       "Represent bar charts of traces                                              1\n",
       "Compare processing time                                                     1\n",
       "Calculate cycle time of only a subset of pairs of events for all traces     1\n",
       "Calculate frequency of activities                                           1\n",
       "Identify specific subprocesses                                              1\n",
       "Calculate number of traces                                                  1\n",
       "Represent bart charts of activities                                         1\n",
       "Name: Variant, dtype: int64"
      ]
     },
     "execution_count": 9,
     "metadata": {},
     "output_type": "execute_result"
    }
   ],
   "source": [
    "#operations of all type of participants, where there is no clear difference\n",
    "df_categorias_autores[(df_categorias_autores['Year']==2020) &  (df_categorias_autores['Question']==\"P2\")]['Variant'].value_counts()"
   ]
  },
  {
   "cell_type": "code",
   "execution_count": 10,
   "metadata": {},
   "outputs": [],
   "source": [
    "#definition of different similarity metrics\n",
    "def sorensenIndex(list1,list2):\n",
    "    set1=set(list1)\n",
    "    set2=set(list2)\n",
    "    intersection = set1.intersection(set2)\n",
    "    len1=len(list(set1))\n",
    "    len2=len(list(set2))\n",
    "    sorensenIndex=float(2*len(list(intersection)))/(len1+len2)\n",
    "    return sorensenIndex"
   ]
  },
  {
   "cell_type": "code",
   "execution_count": 11,
   "metadata": {},
   "outputs": [],
   "source": [
    "def overlapIndex(list1,list2):\n",
    "    set1=set(list1)\n",
    "    set2=set(list2)\n",
    "    intersection = set1.intersection(set2)\n",
    "    len1=len(list(set1))\n",
    "    len2=len(list(set2))\n",
    "    overlapIndex=float(len(list(intersection)))/min([len1,len2])\n",
    "    return overlapIndex"
   ]
  },
  {
   "cell_type": "code",
   "execution_count": 12,
   "metadata": {},
   "outputs": [],
   "source": [
    "def jaccardIndex(list1,list2):\n",
    "    set1=set(list1)\n",
    "    set2=set(list2)\n",
    "    intersection = set1.intersection(set2)\n",
    "    tamIntersection=len(list(intersection))\n",
    "    union = set1.union(set2)\n",
    "    tamUnion=len(list(union))\n",
    "    similitud=float(tamIntersection)/tamUnion\n",
    "    return similitud"
   ]
  },
  {
   "cell_type": "code",
   "execution_count": 13,
   "metadata": {},
   "outputs": [],
   "source": [
    "#df2 = df_agrupado.groupby(by=['Year', 'Question'])\n",
    "columns=['analisis','question', 'sorensen', 'jaccard','overlap','category']\n",
    "df_metricas_preguntas = pd.DataFrame(columns=columns)\n",
    "#comparison between all answers Winner vs Winner, No winner vs Winner, and No winner vs No winner (not grouped by question)\n",
    "for i in range(len(df_agrupado)):\n",
    "    for j in range(i+1,len(df_agrupado)):\n",
    "            grupo = df_agrupado.iloc[i]['Operations']\n",
    "            analisis =  df_agrupado.iloc[i]['case:concept:name'] + \"-\" + df_agrupado.iloc[j]['case:concept:name']\n",
    "            question = name[1] + name[0]\n",
    "            sorensen = sorensenIndex(grupo,df_agrupado.iloc[j]['Operations'])\n",
    "            category = df_agrupado.iloc[i]['Participant category'] + \"-\" + df_agrupado.iloc[j]['Participant category']\n",
    "            overlap = overlapIndex(grupo,df_agrupado.iloc[j]['Operations'])\n",
    "            jaccard = jaccardIndex(grupo,df_agrupado.iloc[j]['Operations'])\n",
    "            new_row={'analisis':analisis, 'question':question, 'sorensen':sorensen,'overlap':overlap,'jaccard':jaccard, 'category':category} \n",
    "            df_metricas_preguntas = df_metricas_preguntas.append(new_row, ignore_index=True)"
   ]
  },
  {
   "cell_type": "code",
   "execution_count": 14,
   "metadata": {},
   "outputs": [
    {
     "data": {
      "text/plain": [
       "array(['NW-W', 'NW-NW', 'W-NW', 'W-W'], dtype=object)"
      ]
     },
     "execution_count": 14,
     "metadata": {},
     "output_type": "execute_result"
    }
   ],
   "source": [
    "df_metricas_preguntas['category'].unique()"
   ]
  },
  {
   "cell_type": "code",
   "execution_count": 15,
   "metadata": {},
   "outputs": [],
   "source": [
    "df_metricas_preguntas = df_metricas_preguntas.replace({'NW-W':'W-NW'})"
   ]
  },
  {
   "cell_type": "code",
   "execution_count": 16,
   "metadata": {},
   "outputs": [
    {
     "data": {
      "text/plain": [
       "array(['W-NW', 'NW-NW', 'W-W'], dtype=object)"
      ]
     },
     "execution_count": 16,
     "metadata": {},
     "output_type": "execute_result"
    }
   ],
   "source": [
    "df_metricas_preguntas['category'].unique()"
   ]
  },
  {
   "cell_type": "code",
   "execution_count": 17,
   "metadata": {},
   "outputs": [
    {
     "data": {
      "text/plain": [
       "category\n",
       "NW-NW    0.269757\n",
       "W-NW     0.304903\n",
       "W-W      0.347535\n",
       "dtype: float64"
      ]
     },
     "execution_count": 17,
     "metadata": {},
     "output_type": "execute_result"
    }
   ],
   "source": [
    "#results:\n",
    "df_metricas_preguntas.groupby(\"category\").apply(lambda x: np.mean(x['sorensen']))"
   ]
  },
  {
   "cell_type": "code",
   "execution_count": 18,
   "metadata": {},
   "outputs": [
    {
     "data": {
      "text/plain": [
       "category\n",
       "NW-NW    0.174335\n",
       "W-NW     0.201671\n",
       "W-W      0.233904\n",
       "dtype: float64"
      ]
     },
     "execution_count": 18,
     "metadata": {},
     "output_type": "execute_result"
    }
   ],
   "source": [
    "df_metricas_preguntas.groupby(\"category\").apply(lambda x: np.mean(x['jaccard']))"
   ]
  },
  {
   "cell_type": "code",
   "execution_count": 19,
   "metadata": {},
   "outputs": [
    {
     "data": {
      "text/plain": [
       "category\n",
       "NW-NW    0.415455\n",
       "W-NW     0.468220\n",
       "W-W      0.510556\n",
       "dtype: float64"
      ]
     },
     "execution_count": 19,
     "metadata": {},
     "output_type": "execute_result"
    }
   ],
   "source": [
    "df_metricas_preguntas.groupby(\"category\").apply(lambda x: np.mean(x['overlap']))"
   ]
  },
  {
   "cell_type": "code",
   "execution_count": null,
   "metadata": {},
   "outputs": [],
   "source": [
    "#-------------------------------------------------------------------------------------------------------------------------------"
   ]
  },
  {
   "cell_type": "code",
   "execution_count": 20,
   "metadata": {},
   "outputs": [
    {
     "name": "stdout",
     "output_type": "stream",
     "text": [
      "Average number of operations in the answers of winners: 6.0\n"
     ]
    }
   ],
   "source": [
    "#Average number of operations in winners\n",
    "df_winners=df_categorias_autores[df_categorias_autores[\"repYear\"].isin(winners)]\n",
    "avg_op_answer_winners=len(df_winners[\"concept:name\"])/len(df_winners[\"case:concept:name\"].unique())\n",
    "print(\"Average number of operations in the answers of winners: \"+ str(avg_op_answer_winners))"
   ]
  },
  {
   "cell_type": "code",
   "execution_count": 21,
   "metadata": {},
   "outputs": [
    {
     "name": "stdout",
     "output_type": "stream",
     "text": [
      "Average number of operations in the answers of no winners: 7.745454545454545\n"
     ]
    }
   ],
   "source": [
    "#Average number of operations in no winners\n",
    "df_no_winners=df_categorias_autores[~df_categorias_autores[\"repYear\"].isin(winners)]\n",
    "avg_op_answer_no_winners=len(df_no_winners[\"concept:name\"])/len(df_no_winners[\"case:concept:name\"].unique())\n",
    "print(\"Average number of operations in the answers of no winners: \"+ str(avg_op_answer_no_winners))"
   ]
  },
  {
   "cell_type": "code",
   "execution_count": 22,
   "metadata": {},
   "outputs": [
    {
     "data": {
      "text/plain": [
       "Question  Year\n",
       "P1        2017    17\n",
       "          2020     5\n",
       "P2        2019    37\n",
       "          2020     3\n",
       "P4        2020     2\n",
       "P5        2015    16\n",
       "          2020     4\n",
       "P6        2020     4\n",
       "dtype: int64"
      ]
     },
     "execution_count": 22,
     "metadata": {},
     "output_type": "execute_result"
    }
   ],
   "source": [
    "df_winners.groupby([\"Question\",\"Year\"]).apply(lambda x: len(x)-1)"
   ]
  },
  {
   "cell_type": "code",
   "execution_count": 23,
   "metadata": {},
   "outputs": [
    {
     "data": {
      "text/plain": [
       "array(['A1 P2 BPI 2020', 'A2 P2 BPI 2020', 'A2 P4 BPI 2020',\n",
       "       'A1 P5 BPI 2020', 'A2 P5 BPI 2020', 'A1 P6 BPI 2020',\n",
       "       'A2 P6 BPI 2020', 'A2 P5 BPI 2015', 'A1 P1 BPI 2020',\n",
       "       'A2 P1 BPI 2020', 'A13 P1 BPI 2017', 'A22 P1 BPI 2017',\n",
       "       'A4 P2 BPI 2019', 'A1 P5 BPI 2015', 'A18 P1 BPI 2017',\n",
       "       'A12 P2 BPI 2019'], dtype=object)"
      ]
     },
     "execution_count": 23,
     "metadata": {},
     "output_type": "execute_result"
    }
   ],
   "source": [
    "df_winners[\"case:concept:name\"].unique()"
   ]
  },
  {
   "cell_type": "code",
   "execution_count": 24,
   "metadata": {},
   "outputs": [
    {
     "data": {
      "text/plain": [
       "Question  Year\n",
       "P1        2017     6.0\n",
       "          2020     3.0\n",
       "P2        2019    19.0\n",
       "          2020     2.0\n",
       "P4        2020     3.0\n",
       "P5        2015     8.5\n",
       "          2020     2.5\n",
       "P6        2020     2.5\n",
       "dtype: float64"
      ]
     },
     "execution_count": 24,
     "metadata": {},
     "output_type": "execute_result"
    }
   ],
   "source": [
    "#average number of operations of winners per question\n",
    "df_winners.groupby(['Question','Year']).apply(lambda x: len(x[\"concept:name\"])/len(x[\"case:concept:name\"].unique()))"
   ]
  },
  {
   "cell_type": "code",
   "execution_count": 25,
   "metadata": {},
   "outputs": [
    {
     "data": {
      "text/plain": [
       "Question  Year\n",
       "P1        2017    10.777778\n",
       "          2020     7.235294\n",
       "P2        2019    14.700000\n",
       "          2020     3.812500\n",
       "P4        2020     5.562500\n",
       "P5        2015     9.857143\n",
       "          2020     8.800000\n",
       "P6        2020     3.363636\n",
       "dtype: float64"
      ]
     },
     "execution_count": 25,
     "metadata": {},
     "output_type": "execute_result"
    }
   ],
   "source": [
    "#average number of operations of no winners per question\n",
    "df_no_winners.groupby(['Question','Year']).apply(lambda x: len(x[\"concept:name\"])/len(x[\"case:concept:name\"].unique()))"
   ]
  },
  {
   "cell_type": "code",
   "execution_count": 26,
   "metadata": {},
   "outputs": [
    {
     "data": {
      "text/html": [
       "<div>\n",
       "<style scoped>\n",
       "    .dataframe tbody tr th:only-of-type {\n",
       "        vertical-align: middle;\n",
       "    }\n",
       "\n",
       "    .dataframe tbody tr th {\n",
       "        vertical-align: top;\n",
       "    }\n",
       "\n",
       "    .dataframe thead th {\n",
       "        text-align: right;\n",
       "    }\n",
       "</style>\n",
       "<table border=\"1\" class=\"dataframe\">\n",
       "  <thead>\n",
       "    <tr style=\"text-align: right;\">\n",
       "      <th></th>\n",
       "      <th>case:id</th>\n",
       "      <th>case:concept:name</th>\n",
       "      <th>concept:name</th>\n",
       "      <th>Variant</th>\n",
       "      <th>time:timestamp</th>\n",
       "      <th>Question</th>\n",
       "      <th>Report</th>\n",
       "      <th>Year</th>\n",
       "      <th>Category</th>\n",
       "      <th>Type</th>\n",
       "      <th>Tupla</th>\n",
       "      <th>Organization</th>\n",
       "      <th>repYear</th>\n",
       "    </tr>\n",
       "  </thead>\n",
       "  <tbody>\n",
       "    <tr>\n",
       "      <td>805</td>\n",
       "      <td>A18 P1 BPI 2017</td>\n",
       "      <td>A18 P1 BPI 2017</td>\n",
       "      <td>Filter events</td>\n",
       "      <td>Filter events by attributes</td>\n",
       "      <td>2021-12-22 22:37:02.248560</td>\n",
       "      <td>P1</td>\n",
       "      <td>A18</td>\n",
       "      <td>2017</td>\n",
       "      <td>Professional</td>\n",
       "      <td>Manipulation</td>\n",
       "      <td>A182017</td>\n",
       "      <td>KPMGAdvisory</td>\n",
       "      <td>A18-2017</td>\n",
       "    </tr>\n",
       "    <tr>\n",
       "      <td>806</td>\n",
       "      <td>A18 P1 BPI 2017</td>\n",
       "      <td>A18 P1 BPI 2017</td>\n",
       "      <td>Calculate cycle time</td>\n",
       "      <td>Calculate cycle time for all pairs of events f...</td>\n",
       "      <td>2021-12-22 23:37:02.248560</td>\n",
       "      <td>P1</td>\n",
       "      <td>A18</td>\n",
       "      <td>2017</td>\n",
       "      <td>Professional</td>\n",
       "      <td>Analyze Cycle Time</td>\n",
       "      <td>A182017</td>\n",
       "      <td>KPMGAdvisory</td>\n",
       "      <td>A18-2017</td>\n",
       "    </tr>\n",
       "    <tr>\n",
       "      <td>807</td>\n",
       "      <td>A18 P1 BPI 2017</td>\n",
       "      <td>A18 P1 BPI 2017</td>\n",
       "      <td>Identify bottlenecks</td>\n",
       "      <td>Identify activities as bottlenecks applying te...</td>\n",
       "      <td>2021-12-23 00:37:02.248560</td>\n",
       "      <td>P1</td>\n",
       "      <td>A18</td>\n",
       "      <td>2017</td>\n",
       "      <td>Professional</td>\n",
       "      <td>Analyze Cycle Time</td>\n",
       "      <td>A182017</td>\n",
       "      <td>KPMGAdvisory</td>\n",
       "      <td>A18-2017</td>\n",
       "    </tr>\n",
       "    <tr>\n",
       "      <td>808</td>\n",
       "      <td>A18 P1 BPI 2017</td>\n",
       "      <td>A18 P1 BPI 2017</td>\n",
       "      <td>Filter events</td>\n",
       "      <td>Filter events by resources</td>\n",
       "      <td>2021-12-23 01:37:02.248560</td>\n",
       "      <td>P1</td>\n",
       "      <td>A18</td>\n",
       "      <td>2017</td>\n",
       "      <td>Professional</td>\n",
       "      <td>Manipulation</td>\n",
       "      <td>A182017</td>\n",
       "      <td>KPMGAdvisory</td>\n",
       "      <td>A18-2017</td>\n",
       "    </tr>\n",
       "    <tr>\n",
       "      <td>809</td>\n",
       "      <td>A18 P1 BPI 2017</td>\n",
       "      <td>A18 P1 BPI 2017</td>\n",
       "      <td>Calculate cycle time</td>\n",
       "      <td>Calculate cycle time of only a subset of pairs...</td>\n",
       "      <td>2021-12-23 02:37:02.248560</td>\n",
       "      <td>P1</td>\n",
       "      <td>A18</td>\n",
       "      <td>2017</td>\n",
       "      <td>Professional</td>\n",
       "      <td>Analyze Cycle Time</td>\n",
       "      <td>A182017</td>\n",
       "      <td>KPMGAdvisory</td>\n",
       "      <td>A18-2017</td>\n",
       "    </tr>\n",
       "    <tr>\n",
       "      <td>810</td>\n",
       "      <td>A18 P1 BPI 2017</td>\n",
       "      <td>A18 P1 BPI 2017</td>\n",
       "      <td>Identify bottlenecks</td>\n",
       "      <td>Identify activities as bottlenecks applying te...</td>\n",
       "      <td>2021-12-23 03:37:02.248560</td>\n",
       "      <td>P1</td>\n",
       "      <td>A18</td>\n",
       "      <td>2017</td>\n",
       "      <td>Professional</td>\n",
       "      <td>Analyze Cycle Time</td>\n",
       "      <td>A182017</td>\n",
       "      <td>KPMGAdvisory</td>\n",
       "      <td>A18-2017</td>\n",
       "    </tr>\n",
       "  </tbody>\n",
       "</table>\n",
       "</div>"
      ],
      "text/plain": [
       "             case:id case:concept:name          concept:name  \\\n",
       "805  A18 P1 BPI 2017   A18 P1 BPI 2017         Filter events   \n",
       "806  A18 P1 BPI 2017   A18 P1 BPI 2017  Calculate cycle time   \n",
       "807  A18 P1 BPI 2017   A18 P1 BPI 2017  Identify bottlenecks   \n",
       "808  A18 P1 BPI 2017   A18 P1 BPI 2017         Filter events   \n",
       "809  A18 P1 BPI 2017   A18 P1 BPI 2017  Calculate cycle time   \n",
       "810  A18 P1 BPI 2017   A18 P1 BPI 2017  Identify bottlenecks   \n",
       "\n",
       "                                               Variant  \\\n",
       "805                        Filter events by attributes   \n",
       "806  Calculate cycle time for all pairs of events f...   \n",
       "807  Identify activities as bottlenecks applying te...   \n",
       "808                         Filter events by resources   \n",
       "809  Calculate cycle time of only a subset of pairs...   \n",
       "810  Identify activities as bottlenecks applying te...   \n",
       "\n",
       "                 time:timestamp Question Report  Year      Category  \\\n",
       "805  2021-12-22 22:37:02.248560       P1    A18  2017  Professional   \n",
       "806  2021-12-22 23:37:02.248560       P1    A18  2017  Professional   \n",
       "807  2021-12-23 00:37:02.248560       P1    A18  2017  Professional   \n",
       "808  2021-12-23 01:37:02.248560       P1    A18  2017  Professional   \n",
       "809  2021-12-23 02:37:02.248560       P1    A18  2017  Professional   \n",
       "810  2021-12-23 03:37:02.248560       P1    A18  2017  Professional   \n",
       "\n",
       "                   Type    Tupla  Organization   repYear  \n",
       "805        Manipulation  A182017  KPMGAdvisory  A18-2017  \n",
       "806  Analyze Cycle Time  A182017  KPMGAdvisory  A18-2017  \n",
       "807  Analyze Cycle Time  A182017  KPMGAdvisory  A18-2017  \n",
       "808        Manipulation  A182017  KPMGAdvisory  A18-2017  \n",
       "809  Analyze Cycle Time  A182017  KPMGAdvisory  A18-2017  \n",
       "810  Analyze Cycle Time  A182017  KPMGAdvisory  A18-2017  "
      ]
     },
     "execution_count": 26,
     "metadata": {},
     "output_type": "execute_result"
    }
   ],
   "source": [
    "df_categorias_autores[df_categorias_autores[\"repYear\"]==\"A18-2017\"]"
   ]
  },
  {
   "cell_type": "code",
   "execution_count": 33,
   "metadata": {},
   "outputs": [],
   "source": [
    "#function to compare two different groups of analysis\n",
    "def comparePairsDF(df,func,func2,func3,qy):\n",
    "    #func= function of sorensen\n",
    "    #func2= function of jaccard\n",
    "    #func3 = function of overlap\n",
    "    \n",
    "    parAnalysis=[]\n",
    "    categories=[]\n",
    "    indexSorensen=[]\n",
    "    indexJaccard=[]\n",
    "    indexOverlap=[]\n",
    "    questionYear=[]\n",
    "    \n",
    "    idsAnalisis=df[\"repYear\"].unique()\n",
    "    cat1=\"\"\n",
    "    cat2=\"\"\n",
    "    #print(len(idsAnalisis))\n",
    "    \n",
    "    for i in range(len(idsAnalisis)-1):\n",
    "        #print(idsAnalisis)\n",
    "        #print(\"----------------------\")\n",
    "        ident=idsAnalisis[i]\n",
    "        #print(\"i=\"+\" \"+str(i))\n",
    "        operacionesIdent1=df[df[\"repYear\"]==ident]['concept:name']\n",
    "        #print(ident)\n",
    "        #print(\"----------------------\")\n",
    "        #print(\"segunda lista\")\n",
    "        #print(idsAnalisis)\n",
    "        if ident in winners:\n",
    "            cat1=\"W\"\n",
    "        else:\n",
    "            cat1=\"NW\"\n",
    "        j=0\n",
    "        for j in range(i+1,len(idsAnalisis)):\n",
    "            ident2=idsAnalisis[j]\n",
    "            #print(\"identificador dos\")\n",
    "            #print(ident+\" \"+ident2)\n",
    "\n",
    "            operacionesIdent2=df[df[\"repYear\"]==ident2]['concept:name']\n",
    "\n",
    "            if ident2 in winners:\n",
    "                cat2=\"W\"\n",
    "            else:\n",
    "                cat2=\"NW\"\n",
    "\n",
    "            cats=cat1+\"-\"+cat2\n",
    "\n",
    "            categories.append(cats)\n",
    "\n",
    "            indexSorensen.append(func(operacionesIdent1,operacionesIdent2))\n",
    "            indexJaccard.append(func2(operacionesIdent1,operacionesIdent2))\n",
    "            indexOverlap.append(func3(operacionesIdent1,operacionesIdent2))\n",
    "            parAnalysis.append(ident+\"-\"+ident2)\n",
    "            questionYear.append(qy)\n",
    "            \n",
    "    dict_df={\"parAnalisis\":parAnalysis,\"Categories\":categories,\"Jaccard index\":indexJaccard,\"Sorensen index\":indexSorensen,\"Overlap index\":indexOverlap,\"questionYear\":questionYear}\n",
    "    df_analisis=pd.DataFrame.from_dict(dict_df)\n",
    "    #print(df_analisis)\n",
    "    return df_analisis"
   ]
  },
  {
   "cell_type": "code",
   "execution_count": 34,
   "metadata": {
    "scrolled": true
   },
   "outputs": [],
   "source": [
    "agrupaciones_años_preguntas=df_categorias_autores.groupby([\"Question\",\"Year\"])#grouping of answers by year\n",
    "\n",
    "#definition of new dataframe which contains the comparisons between pairs of analysis that belong the same question\n",
    "#\"parAnalisis\": case ids of the answers involved in the comparison\n",
    "#Categories: types of participants involved in the comparison: Winner - Winner, No winner - Winner and No winner - No winner\n",
    "dict_df_analysis={\"parAnalisis\":[],\"Categories\":[],\"Jaccard index\":[],\"Sorensen index\":[],\"Overlap index\":[],\"questionYear\":[]}\n",
    "df_analisis_similarity=pd.DataFrame.from_dict(dict_df_analysis)\n",
    "\n",
    "for name, df_group in agrupaciones_años_preguntas:\n",
    "    #print(name)\n",
    "    df_año_pregunta=comparePairsDF(df_group,sorensenIndex,jaccardIndex,overlapIndex,name)\n",
    "    df_analisis_similarity=pd.concat([df_analisis_similarity,df_año_pregunta],ignore_index=True)"
   ]
  },
  {
   "cell_type": "code",
   "execution_count": 35,
   "metadata": {},
   "outputs": [
    {
     "data": {
      "text/plain": [
       "9"
      ]
     },
     "execution_count": 35,
     "metadata": {},
     "output_type": "execute_result"
    }
   ],
   "source": [
    "len(df_analisis_similarity[df_analisis_similarity[\"Categories\"]==\"W-W\"])"
   ]
  },
  {
   "cell_type": "code",
   "execution_count": 36,
   "metadata": {},
   "outputs": [
    {
     "data": {
      "text/html": [
       "<div>\n",
       "<style scoped>\n",
       "    .dataframe tbody tr th:only-of-type {\n",
       "        vertical-align: middle;\n",
       "    }\n",
       "\n",
       "    .dataframe tbody tr th {\n",
       "        vertical-align: top;\n",
       "    }\n",
       "\n",
       "    .dataframe thead th {\n",
       "        text-align: right;\n",
       "    }\n",
       "</style>\n",
       "<table border=\"1\" class=\"dataframe\">\n",
       "  <thead>\n",
       "    <tr style=\"text-align: right;\">\n",
       "      <th></th>\n",
       "      <th>parAnalisis</th>\n",
       "      <th>Categories</th>\n",
       "      <th>Jaccard index</th>\n",
       "      <th>Sorensen index</th>\n",
       "      <th>Overlap index</th>\n",
       "      <th>questionYear</th>\n",
       "    </tr>\n",
       "  </thead>\n",
       "  <tbody>\n",
       "    <tr>\n",
       "      <td>0</td>\n",
       "      <td>A1-2017-A2-2017</td>\n",
       "      <td>NW-NW</td>\n",
       "      <td>0.000000</td>\n",
       "      <td>0.000000</td>\n",
       "      <td>0.000000</td>\n",
       "      <td>(P1, 2017)</td>\n",
       "    </tr>\n",
       "    <tr>\n",
       "      <td>1</td>\n",
       "      <td>A1-2017-A5-2017</td>\n",
       "      <td>NW-NW</td>\n",
       "      <td>0.222222</td>\n",
       "      <td>0.363636</td>\n",
       "      <td>0.400000</td>\n",
       "      <td>(P1, 2017)</td>\n",
       "    </tr>\n",
       "    <tr>\n",
       "      <td>2</td>\n",
       "      <td>A1-2017-A6-2017</td>\n",
       "      <td>NW-NW</td>\n",
       "      <td>0.384615</td>\n",
       "      <td>0.555556</td>\n",
       "      <td>0.833333</td>\n",
       "      <td>(P1, 2017)</td>\n",
       "    </tr>\n",
       "    <tr>\n",
       "      <td>3</td>\n",
       "      <td>A1-2017-A7-2017</td>\n",
       "      <td>NW-NW</td>\n",
       "      <td>0.272727</td>\n",
       "      <td>0.428571</td>\n",
       "      <td>0.500000</td>\n",
       "      <td>(P1, 2017)</td>\n",
       "    </tr>\n",
       "    <tr>\n",
       "      <td>4</td>\n",
       "      <td>A1-2017-A8-2017</td>\n",
       "      <td>NW-NW</td>\n",
       "      <td>0.111111</td>\n",
       "      <td>0.200000</td>\n",
       "      <td>0.250000</td>\n",
       "      <td>(P1, 2017)</td>\n",
       "    </tr>\n",
       "    <tr>\n",
       "      <td>...</td>\n",
       "      <td>...</td>\n",
       "      <td>...</td>\n",
       "      <td>...</td>\n",
       "      <td>...</td>\n",
       "      <td>...</td>\n",
       "      <td>...</td>\n",
       "    </tr>\n",
       "    <tr>\n",
       "      <td>981</td>\n",
       "      <td>A35-2020-A16-2020</td>\n",
       "      <td>NW-NW</td>\n",
       "      <td>0.000000</td>\n",
       "      <td>0.000000</td>\n",
       "      <td>0.000000</td>\n",
       "      <td>(P6, 2020)</td>\n",
       "    </tr>\n",
       "    <tr>\n",
       "      <td>982</td>\n",
       "      <td>A35-2020-A30-2020</td>\n",
       "      <td>NW-NW</td>\n",
       "      <td>0.250000</td>\n",
       "      <td>0.400000</td>\n",
       "      <td>0.500000</td>\n",
       "      <td>(P6, 2020)</td>\n",
       "    </tr>\n",
       "    <tr>\n",
       "      <td>983</td>\n",
       "      <td>A37-2020-A16-2020</td>\n",
       "      <td>NW-NW</td>\n",
       "      <td>0.166667</td>\n",
       "      <td>0.285714</td>\n",
       "      <td>0.500000</td>\n",
       "      <td>(P6, 2020)</td>\n",
       "    </tr>\n",
       "    <tr>\n",
       "      <td>984</td>\n",
       "      <td>A37-2020-A30-2020</td>\n",
       "      <td>NW-NW</td>\n",
       "      <td>0.142857</td>\n",
       "      <td>0.250000</td>\n",
       "      <td>0.333333</td>\n",
       "      <td>(P6, 2020)</td>\n",
       "    </tr>\n",
       "    <tr>\n",
       "      <td>985</td>\n",
       "      <td>A16-2020-A30-2020</td>\n",
       "      <td>NW-NW</td>\n",
       "      <td>0.250000</td>\n",
       "      <td>0.400000</td>\n",
       "      <td>0.500000</td>\n",
       "      <td>(P6, 2020)</td>\n",
       "    </tr>\n",
       "  </tbody>\n",
       "</table>\n",
       "<p>986 rows × 6 columns</p>\n",
       "</div>"
      ],
      "text/plain": [
       "           parAnalisis Categories  Jaccard index  Sorensen index  \\\n",
       "0      A1-2017-A2-2017      NW-NW       0.000000        0.000000   \n",
       "1      A1-2017-A5-2017      NW-NW       0.222222        0.363636   \n",
       "2      A1-2017-A6-2017      NW-NW       0.384615        0.555556   \n",
       "3      A1-2017-A7-2017      NW-NW       0.272727        0.428571   \n",
       "4      A1-2017-A8-2017      NW-NW       0.111111        0.200000   \n",
       "..                 ...        ...            ...             ...   \n",
       "981  A35-2020-A16-2020      NW-NW       0.000000        0.000000   \n",
       "982  A35-2020-A30-2020      NW-NW       0.250000        0.400000   \n",
       "983  A37-2020-A16-2020      NW-NW       0.166667        0.285714   \n",
       "984  A37-2020-A30-2020      NW-NW       0.142857        0.250000   \n",
       "985  A16-2020-A30-2020      NW-NW       0.250000        0.400000   \n",
       "\n",
       "     Overlap index questionYear  \n",
       "0         0.000000   (P1, 2017)  \n",
       "1         0.400000   (P1, 2017)  \n",
       "2         0.833333   (P1, 2017)  \n",
       "3         0.500000   (P1, 2017)  \n",
       "4         0.250000   (P1, 2017)  \n",
       "..             ...          ...  \n",
       "981       0.000000   (P6, 2020)  \n",
       "982       0.500000   (P6, 2020)  \n",
       "983       0.500000   (P6, 2020)  \n",
       "984       0.333333   (P6, 2020)  \n",
       "985       0.500000   (P6, 2020)  \n",
       "\n",
       "[986 rows x 6 columns]"
      ]
     },
     "execution_count": 36,
     "metadata": {},
     "output_type": "execute_result"
    }
   ],
   "source": [
    "df_analisis_similarity"
   ]
  },
  {
   "cell_type": "code",
   "execution_count": 39,
   "metadata": {},
   "outputs": [],
   "source": [
    "df_analisis_similarity=df_analisis_similarity.reset_index()\n",
    "df_analisis_similarity['Categories']=df_analisis_similarity['Categories'].replace(\"NW-W\", \"W-NW\")"
   ]
  },
  {
   "cell_type": "code",
   "execution_count": 40,
   "metadata": {},
   "outputs": [
    {
     "data": {
      "text/html": [
       "<div>\n",
       "<style scoped>\n",
       "    .dataframe tbody tr th:only-of-type {\n",
       "        vertical-align: middle;\n",
       "    }\n",
       "\n",
       "    .dataframe tbody tr th {\n",
       "        vertical-align: top;\n",
       "    }\n",
       "\n",
       "    .dataframe thead th {\n",
       "        text-align: right;\n",
       "    }\n",
       "</style>\n",
       "<table border=\"1\" class=\"dataframe\">\n",
       "  <thead>\n",
       "    <tr style=\"text-align: right;\">\n",
       "      <th></th>\n",
       "      <th>index</th>\n",
       "      <th>parAnalisis</th>\n",
       "      <th>Categories</th>\n",
       "      <th>Jaccard index</th>\n",
       "      <th>Sorensen index</th>\n",
       "      <th>Overlap index</th>\n",
       "      <th>questionYear</th>\n",
       "    </tr>\n",
       "  </thead>\n",
       "  <tbody>\n",
       "    <tr>\n",
       "      <td>149</td>\n",
       "      <td>149</td>\n",
       "      <td>A13-2017-A22-2017</td>\n",
       "      <td>W-W</td>\n",
       "      <td>0.250000</td>\n",
       "      <td>0.400000</td>\n",
       "      <td>0.500000</td>\n",
       "      <td>(P1, 2017)</td>\n",
       "    </tr>\n",
       "    <tr>\n",
       "      <td>154</td>\n",
       "      <td>154</td>\n",
       "      <td>A13-2017-A18-2017</td>\n",
       "      <td>W-W</td>\n",
       "      <td>0.125000</td>\n",
       "      <td>0.222222</td>\n",
       "      <td>0.333333</td>\n",
       "      <td>(P1, 2017)</td>\n",
       "    </tr>\n",
       "    <tr>\n",
       "      <td>199</td>\n",
       "      <td>199</td>\n",
       "      <td>A22-2017-A18-2017</td>\n",
       "      <td>W-W</td>\n",
       "      <td>0.166667</td>\n",
       "      <td>0.285714</td>\n",
       "      <td>0.333333</td>\n",
       "      <td>(P1, 2017)</td>\n",
       "    </tr>\n",
       "    <tr>\n",
       "      <td>210</td>\n",
       "      <td>210</td>\n",
       "      <td>A1-2020-A2-2020</td>\n",
       "      <td>W-W</td>\n",
       "      <td>0.333333</td>\n",
       "      <td>0.500000</td>\n",
       "      <td>1.000000</td>\n",
       "      <td>(P1, 2020)</td>\n",
       "    </tr>\n",
       "    <tr>\n",
       "      <td>410</td>\n",
       "      <td>410</td>\n",
       "      <td>A4-2019-A12-2019</td>\n",
       "      <td>W-W</td>\n",
       "      <td>0.363636</td>\n",
       "      <td>0.533333</td>\n",
       "      <td>0.800000</td>\n",
       "      <td>(P2, 2019)</td>\n",
       "    </tr>\n",
       "    <tr>\n",
       "      <td>447</td>\n",
       "      <td>447</td>\n",
       "      <td>A1-2020-A2-2020</td>\n",
       "      <td>W-W</td>\n",
       "      <td>1.000000</td>\n",
       "      <td>1.000000</td>\n",
       "      <td>1.000000</td>\n",
       "      <td>(P2, 2020)</td>\n",
       "    </tr>\n",
       "    <tr>\n",
       "      <td>742</td>\n",
       "      <td>742</td>\n",
       "      <td>A2-2015-A1-2015</td>\n",
       "      <td>W-W</td>\n",
       "      <td>0.090909</td>\n",
       "      <td>0.166667</td>\n",
       "      <td>0.250000</td>\n",
       "      <td>(P5, 2015)</td>\n",
       "    </tr>\n",
       "    <tr>\n",
       "      <td>772</td>\n",
       "      <td>772</td>\n",
       "      <td>A1-2020-A2-2020</td>\n",
       "      <td>W-W</td>\n",
       "      <td>0.666667</td>\n",
       "      <td>0.800000</td>\n",
       "      <td>1.000000</td>\n",
       "      <td>(P5, 2020)</td>\n",
       "    </tr>\n",
       "    <tr>\n",
       "      <td>908</td>\n",
       "      <td>908</td>\n",
       "      <td>A1-2020-A2-2020</td>\n",
       "      <td>W-W</td>\n",
       "      <td>0.250000</td>\n",
       "      <td>0.400000</td>\n",
       "      <td>0.500000</td>\n",
       "      <td>(P6, 2020)</td>\n",
       "    </tr>\n",
       "  </tbody>\n",
       "</table>\n",
       "</div>"
      ],
      "text/plain": [
       "     index        parAnalisis Categories  Jaccard index  Sorensen index  \\\n",
       "149    149  A13-2017-A22-2017        W-W       0.250000        0.400000   \n",
       "154    154  A13-2017-A18-2017        W-W       0.125000        0.222222   \n",
       "199    199  A22-2017-A18-2017        W-W       0.166667        0.285714   \n",
       "210    210    A1-2020-A2-2020        W-W       0.333333        0.500000   \n",
       "410    410   A4-2019-A12-2019        W-W       0.363636        0.533333   \n",
       "447    447    A1-2020-A2-2020        W-W       1.000000        1.000000   \n",
       "742    742    A2-2015-A1-2015        W-W       0.090909        0.166667   \n",
       "772    772    A1-2020-A2-2020        W-W       0.666667        0.800000   \n",
       "908    908    A1-2020-A2-2020        W-W       0.250000        0.400000   \n",
       "\n",
       "     Overlap index questionYear  \n",
       "149       0.500000   (P1, 2017)  \n",
       "154       0.333333   (P1, 2017)  \n",
       "199       0.333333   (P1, 2017)  \n",
       "210       1.000000   (P1, 2020)  \n",
       "410       0.800000   (P2, 2019)  \n",
       "447       1.000000   (P2, 2020)  \n",
       "742       0.250000   (P5, 2015)  \n",
       "772       1.000000   (P5, 2020)  \n",
       "908       0.500000   (P6, 2020)  "
      ]
     },
     "execution_count": 40,
     "metadata": {},
     "output_type": "execute_result"
    }
   ],
   "source": [
    "df_analisis_similarity[(df_analisis_similarity[\"Categories\"]==\"W-W\")]"
   ]
  },
  {
   "cell_type": "code",
   "execution_count": 35,
   "metadata": {},
   "outputs": [],
   "source": [
    "#---------------------------------------------------------------------------------------------------------------------------"
   ]
  },
  {
   "cell_type": "code",
   "execution_count": 41,
   "metadata": {
    "scrolled": true
   },
   "outputs": [
    {
     "data": {
      "text/plain": [
       "Categories\n",
       "NW-NW    0.238942\n",
       "W-NW     0.319126\n",
       "W-W      0.360690\n",
       "dtype: float64"
      ]
     },
     "execution_count": 41,
     "metadata": {},
     "output_type": "execute_result"
    }
   ],
   "source": [
    "#Average, variance and standard deviation of similiraties for each group and for each index\n",
    "questionYearCategories=df_analisis_similarity.groupby(\"Categories\").apply(lambda x: np.mean(x[\"Jaccard index\"]) )\n",
    "questionYearCategories"
   ]
  },
  {
   "cell_type": "code",
   "execution_count": 42,
   "metadata": {},
   "outputs": [
    {
     "data": {
      "text/plain": [
       "Categories\n",
       "NW-NW    0.200258\n",
       "W-NW     0.241761\n",
       "W-W      0.277604\n",
       "dtype: float64"
      ]
     },
     "execution_count": 42,
     "metadata": {},
     "output_type": "execute_result"
    }
   ],
   "source": [
    "questionYearCategoriesStd=df_analisis_similarity.groupby(\"Categories\").apply(lambda x: x[\"Jaccard index\"].std(ddof=0))\n",
    "questionYearCategoriesStd"
   ]
  },
  {
   "cell_type": "code",
   "execution_count": 43,
   "metadata": {},
   "outputs": [
    {
     "data": {
      "text/plain": [
       "Categories\n",
       "NW-NW    0.040103\n",
       "W-NW     0.058448\n",
       "W-W      0.077064\n",
       "dtype: float64"
      ]
     },
     "execution_count": 43,
     "metadata": {},
     "output_type": "execute_result"
    }
   ],
   "source": [
    "questionYearCategoriesVar=df_analisis_similarity.groupby(\"Categories\").apply(lambda x: x[\"Jaccard index\"].var(ddof=0))\n",
    "questionYearCategoriesVar"
   ]
  },
  {
   "cell_type": "code",
   "execution_count": 44,
   "metadata": {},
   "outputs": [
    {
     "data": {
      "text/plain": [
       "Categories\n",
       "NW-NW    0.347192\n",
       "W-NW     0.438148\n",
       "W-W      0.478660\n",
       "dtype: float64"
      ]
     },
     "execution_count": 44,
     "metadata": {},
     "output_type": "execute_result"
    }
   ],
   "source": [
    "#Sorensen\n",
    "questionYearCategories=df_analisis_similarity.groupby(\"Categories\").apply(lambda x: np.mean(x[\"Sorensen index\"]))\n",
    "questionYearCategories"
   ]
  },
  {
   "cell_type": "code",
   "execution_count": 45,
   "metadata": {},
   "outputs": [
    {
     "data": {
      "text/plain": [
       "Categories\n",
       "NW-NW    0.243829\n",
       "W-NW     0.256112\n",
       "W-W      0.256299\n",
       "dtype: float64"
      ]
     },
     "execution_count": 45,
     "metadata": {},
     "output_type": "execute_result"
    }
   ],
   "source": [
    "questionYearCategoriesStd=df_analisis_similarity.groupby(\"Categories\").apply(lambda x: x[\"Sorensen index\"].std(ddof=0))\n",
    "questionYearCategoriesStd"
   ]
  },
  {
   "cell_type": "code",
   "execution_count": 46,
   "metadata": {},
   "outputs": [
    {
     "data": {
      "text/plain": [
       "Categories\n",
       "NW-NW    0.059452\n",
       "W-NW     0.065593\n",
       "W-W      0.065689\n",
       "dtype: float64"
      ]
     },
     "execution_count": 46,
     "metadata": {},
     "output_type": "execute_result"
    }
   ],
   "source": [
    "questionYearCategoriesVar=df_analisis_similarity.groupby(\"Categories\").apply(lambda x: x[\"Sorensen index\"].var(ddof=0))\n",
    "questionYearCategoriesVar"
   ]
  },
  {
   "cell_type": "code",
   "execution_count": 47,
   "metadata": {},
   "outputs": [
    {
     "data": {
      "text/plain": [
       "Categories\n",
       "NW-NW    0.480633\n",
       "W-NW     0.591833\n",
       "W-W      0.635185\n",
       "dtype: float64"
      ]
     },
     "execution_count": 47,
     "metadata": {},
     "output_type": "execute_result"
    }
   ],
   "source": [
    "#Overlap index\n",
    "questionYearCategories=df_analisis_similarity.groupby(\"Categories\").apply(lambda x: np.mean(x[\"Overlap index\"]) )\n",
    "questionYearCategories"
   ]
  },
  {
   "cell_type": "code",
   "execution_count": 48,
   "metadata": {},
   "outputs": [
    {
     "data": {
      "text/plain": [
       "Categories\n",
       "NW-NW    0.111677\n",
       "W-NW     0.104736\n",
       "W-W      0.088176\n",
       "dtype: float64"
      ]
     },
     "execution_count": 48,
     "metadata": {},
     "output_type": "execute_result"
    }
   ],
   "source": [
    "questionYearCategoriesStd=df_analisis_similarity.groupby(\"Categories\").apply(lambda x: x[\"Overlap index\"].var(ddof=0))\n",
    "questionYearCategoriesStd"
   ]
  },
  {
   "cell_type": "code",
   "execution_count": 49,
   "metadata": {},
   "outputs": [
    {
     "data": {
      "text/plain": [
       "Categories\n",
       "NW-NW    0.334181\n",
       "W-NW     0.323630\n",
       "W-W      0.296944\n",
       "dtype: float64"
      ]
     },
     "execution_count": 49,
     "metadata": {},
     "output_type": "execute_result"
    }
   ],
   "source": [
    "questionYearCategoriesStd=df_analisis_similarity.groupby(\"Categories\").apply(lambda x: x[\"Overlap index\"].std(ddof=0))\n",
    "questionYearCategoriesStd"
   ]
  },
  {
   "cell_type": "code",
   "execution_count": null,
   "metadata": {},
   "outputs": [],
   "source": [
    "#----------------------------------------------------------------------------------------------------------------------------\n",
    "#Test estadistico"
   ]
  },
  {
   "cell_type": "code",
   "execution_count": 55,
   "metadata": {},
   "outputs": [],
   "source": [
    "def pairsTest(df,agrupado_categorias,index):\n",
    "\n",
    "    print(\"Kruskal wallis test for  NW-NW vs W-NW using \"+index)\n",
    "    print(stats.kruskal(agrupado_categorias.get_group(\"NW-NW\")[index],agrupado_categorias.get_group(\"W-NW\")[index]))\n",
    "    print()\n",
    "    print(\"Kruskal wallis test for  NW-NW vs W-W using \"+index)\n",
    "    print(stats.kruskal(agrupado_categorias.get_group(\"NW-NW\")[index],agrupado_categorias.get_group(\"W-W\")[index]))\n",
    "    print()\n",
    "    print(\"Kruskal wallis test for  NW-W vs W-W using \"+index)\n",
    "    print(stats.kruskal(agrupado_categorias.get_group(\"W-NW\")[index],agrupado_categorias.get_group(\"W-W\")[index]))\n",
    "    print()\n",
    "    print(\"Kruskal wallis test for  All vs W-W using \"+index)\n",
    "    print(stats.kruskal(df[index],agrupado_categorias.get_group(\"W-W\")[index]))"
   ]
  },
  {
   "cell_type": "code",
   "execution_count": 58,
   "metadata": {},
   "outputs": [
    {
     "data": {
      "text/plain": [
       "dict_keys(['NW-NW', 'W-NW', 'W-W'])"
      ]
     },
     "execution_count": 58,
     "metadata": {},
     "output_type": "execute_result"
    }
   ],
   "source": [
    "#0->NW-NW, 1->W-NW, 2->W-W\n",
    "from scipy import stats\n",
    "agrupado_categorias=df_analisis_similarity.groupby(\"Categories\")\n",
    "agrupado_categorias.groups.keys()"
   ]
  },
  {
   "cell_type": "code",
   "execution_count": 59,
   "metadata": {},
   "outputs": [
    {
     "name": "stdout",
     "output_type": "stream",
     "text": [
      "Kruskal wallis test for  NW-NW vs W-NW using Jaccard index\n",
      "KruskalResult(statistic=19.085108080266235, pvalue=1.2501659206303706e-05)\n",
      "\n",
      "Kruskal wallis test for  NW-NW vs W-W using Jaccard index\n",
      "KruskalResult(statistic=1.492882454872629, pvalue=0.22176976874195553)\n",
      "\n",
      "Kruskal wallis test for  NW-W vs W-W using Jaccard index\n",
      "KruskalResult(statistic=0.03760010209119488, pvalue=0.8462483442552262)\n",
      "\n",
      "Kruskal wallis test for  All vs W-W using Jaccard index\n",
      "KruskalResult(statistic=0.9610609377218472, pvalue=0.3269197199800004)\n"
     ]
    }
   ],
   "source": [
    "pairsTest(df_analisis_similarity,agrupado_categorias,\"Jaccard index\")"
   ]
  },
  {
   "cell_type": "code",
   "execution_count": 60,
   "metadata": {},
   "outputs": [
    {
     "name": "stdout",
     "output_type": "stream",
     "text": [
      "Kruskal wallis test for  NW-NW vs W-NW using Overlap index\n",
      "KruskalResult(statistic=18.604148314642387, pvalue=1.608701110203457e-05)\n",
      "\n",
      "Kruskal wallis test for  NW-NW vs W-W using Overlap index\n",
      "KruskalResult(statistic=1.3137959529654146, pvalue=0.2517085258323675)\n",
      "\n",
      "Kruskal wallis test for  NW-W vs W-W using Overlap index\n",
      "KruskalResult(statistic=0.027399695300398288, pvalue=0.8685279933534252)\n",
      "\n",
      "Kruskal wallis test for  All vs W-W using Overlap index\n",
      "KruskalResult(statistic=0.8402988723282764, pvalue=0.35931130718296955)\n"
     ]
    }
   ],
   "source": [
    "pairsTest(df_analisis_similarity,agrupado_categorias,\"Overlap index\")"
   ]
  },
  {
   "cell_type": "code",
   "execution_count": 61,
   "metadata": {},
   "outputs": [
    {
     "name": "stdout",
     "output_type": "stream",
     "text": [
      "Kruskal wallis test for  NW-NW vs W-NW using Sorensen index\n",
      "KruskalResult(statistic=19.085108080266235, pvalue=1.2501659206303706e-05)\n",
      "\n",
      "Kruskal wallis test for  NW-NW vs W-W using Sorensen index\n",
      "KruskalResult(statistic=1.492882454872629, pvalue=0.22176976874195553)\n",
      "\n",
      "Kruskal wallis test for  NW-W vs W-W using Sorensen index\n",
      "KruskalResult(statistic=0.03760010209119488, pvalue=0.8462483442552262)\n",
      "\n",
      "Kruskal wallis test for  All vs W-W using Sorensen index\n",
      "KruskalResult(statistic=0.9610609377218472, pvalue=0.3269197199800004)\n"
     ]
    }
   ],
   "source": [
    "pairsTest(df_analisis_similarity,agrupado_categorias,\"Sorensen index\")"
   ]
  },
  {
   "cell_type": "code",
   "execution_count": 56,
   "metadata": {},
   "outputs": [],
   "source": [
    "#----------------------------------------------------------------------------------------------------------------------------"
   ]
  },
  {
   "cell_type": "code",
   "execution_count": 19,
   "metadata": {},
   "outputs": [
    {
     "data": {
      "text/plain": [
       "KruskalResult(statistic=18.604148314642387, pvalue=1.608701110203457e-05)"
      ]
     },
     "execution_count": 19,
     "metadata": {},
     "output_type": "execute_result"
    }
   ],
   "source": [
    "#NW-NW y W-NW\n",
    "stats.kruskal(agrupado_categorias.get_group(\"NW-NW\")[\"Comparison index\"],agrupado_categorias.get_group(\"W-NW\")[\"Comparison index\"])"
   ]
  },
  {
   "cell_type": "code",
   "execution_count": 20,
   "metadata": {},
   "outputs": [
    {
     "data": {
      "text/plain": [
       "KruskalResult(statistic=0.027399695300398288, pvalue=0.8685279933534252)"
      ]
     },
     "execution_count": 20,
     "metadata": {},
     "output_type": "execute_result"
    }
   ],
   "source": [
    "stats.kruskal(agrupado_categorias.get_group(\"W-W\")[\"Comparison index\"],agrupado_categorias.get_group(\"W-NW\")[\"Comparison index\"])"
   ]
  },
  {
   "cell_type": "code",
   "execution_count": 21,
   "metadata": {},
   "outputs": [
    {
     "data": {
      "text/plain": [
       "KruskalResult(statistic=1.3137959529654146, pvalue=0.2517085258323675)"
      ]
     },
     "execution_count": 21,
     "metadata": {},
     "output_type": "execute_result"
    }
   ],
   "source": [
    "stats.kruskal(agrupado_categorias.get_group(\"W-W\")[\"Comparison index\"],agrupado_categorias.get_group(\"NW-NW\")[\"Comparison index\"])"
   ]
  },
  {
   "cell_type": "code",
   "execution_count": 22,
   "metadata": {},
   "outputs": [
    {
     "data": {
      "text/plain": [
       "KruskalResult(statistic=19.458835235246813, pvalue=5.950693975813881e-05)"
      ]
     },
     "execution_count": 22,
     "metadata": {},
     "output_type": "execute_result"
    }
   ],
   "source": [
    "stats.kruskal(agrupado_categorias.get_group(\"W-W\")[\"Comparison index\"],agrupado_categorias.get_group(\"W-NW\")[\"Comparison index\"],agrupado_categorias.get_group(\"NW-NW\")[\"Comparison index\"])"
   ]
  },
  {
   "cell_type": "code",
   "execution_count": 23,
   "metadata": {},
   "outputs": [
    {
     "data": {
      "text/plain": [
       "(array([162.,   5.,  36.,  92.,  29., 168.,  85.,  29.,  22., 127.]),\n",
       " array([0. , 0.1, 0.2, 0.3, 0.4, 0.5, 0.6, 0.7, 0.8, 0.9, 1. ]),\n",
       " <BarContainer object of 10 artists>)"
      ]
     },
     "execution_count": 23,
     "metadata": {},
     "output_type": "execute_result"
    },
    {
     "data": {
      "image/png": "[encoded data removed]",
      "text/plain": [
       "<Figure size 432x288 with 1 Axes>"
      ]
     },
     "metadata": {
      "needs_background": "light"
     },
     "output_type": "display_data"
    }
   ],
   "source": [
    "plt.hist(agrupado_categorias.get_group(\"NW-NW\")[\"Comparison index\"])"
   ]
  },
  {
   "cell_type": "code",
   "execution_count": 24,
   "metadata": {},
   "outputs": [
    {
     "data": {
      "text/plain": [
       "(array([1., 2., 0., 2., 0., 0., 0., 1., 0., 3.]),\n",
       " array([0.25 , 0.325, 0.4  , 0.475, 0.55 , 0.625, 0.7  , 0.775, 0.85 ,\n",
       "        0.925, 1.   ]),\n",
       " <BarContainer object of 10 artists>)"
      ]
     },
     "execution_count": 24,
     "metadata": {},
     "output_type": "execute_result"
    },
    {
     "data": {
      "image/png": "[encoded data removed]",
      "text/plain": [
       "<Figure size 432x288 with 1 Axes>"
      ]
     },
     "metadata": {
      "needs_background": "light"
     },
     "output_type": "display_data"
    }
   ],
   "source": [
    "plt.hist(agrupado_categorias.get_group(\"W-W\")[\"Comparison index\"])"
   ]
  },
  {
   "cell_type": "code",
   "execution_count": 26,
   "metadata": {},
   "outputs": [
    {
     "data": {
      "text/plain": [
       "(array([26.,  1., 10., 24.,  6., 44., 40.,  6.,  4., 61.]),\n",
       " array([0. , 0.1, 0.2, 0.3, 0.4, 0.5, 0.6, 0.7, 0.8, 0.9, 1. ]),\n",
       " <BarContainer object of 10 artists>)"
      ]
     },
     "execution_count": 26,
     "metadata": {},
     "output_type": "execute_result"
    },
    {
     "data": {
      "image/png": "[encoded data removed]",
      "text/plain": [
       "<Figure size 432x288 with 1 Axes>"
      ]
     },
     "metadata": {
      "needs_background": "light"
     },
     "output_type": "display_data"
    }
   ],
   "source": [
    "plt.hist(agrupado_categorias.get_group(\"W-NW\")[\"Comparison index\"])"
   ]
  },
  {
   "cell_type": "code",
   "execution_count": 30,
   "metadata": {},
   "outputs": [
    {
     "name": "stdout",
     "output_type": "stream",
     "text": [
      "Pvalue normality W-NW: 6.766027321747359e-11\n"
     ]
    }
   ],
   "source": [
    "from scipy.stats import shapiro\n",
    "stat,p=shapiro(agrupado_categorias.get_group(\"W-NW\")[\"Comparison index\"])\n",
    "print(\"Pvalue normality W-NW: \"+str(p))"
   ]
  },
  {
   "cell_type": "code",
   "execution_count": 31,
   "metadata": {},
   "outputs": [
    {
     "name": "stdout",
     "output_type": "stream",
     "text": [
      "Pvalue normality NW-NW: 1.690158920142708e-20\n"
     ]
    }
   ],
   "source": [
    "stat,p=shapiro(agrupado_categorias.get_group(\"NW-NW\")[\"Comparison index\"])\n",
    "print(\"Pvalue normality NW-NW: \"+str(p))"
   ]
  },
  {
   "cell_type": "code",
   "execution_count": 32,
   "metadata": {},
   "outputs": [
    {
     "name": "stdout",
     "output_type": "stream",
     "text": [
      "Pvalue normality W-W: 1.690158920142708e-20\n"
     ]
    }
   ],
   "source": [
    "stat,p=shapiro(agrupado_categorias.get_group(\"NW-NW\")[\"Comparison index\"])\n",
    "print(\"Pvalue normality W-W: \"+str(p))"
   ]
  },
  {
   "cell_type": "code",
   "execution_count": null,
   "metadata": {},
   "outputs": [],
   "source": []
  }
 ],
 "metadata": {
  "kernelspec": {
   "display_name": "Python 3",
   "language": "python",
   "name": "python3"
  },
  "language_info": {
   "codemirror_mode": {
    "name": "ipython",
    "version": 3
   },
   "file_extension": ".py",
   "mimetype": "text/x-python",
   "name": "python",
   "nbconvert_exporter": "python",
   "pygments_lexer": "ipython3",
   "version": "3.7.4"
  }
 },
 "nbformat": 4,
 "nbformat_minor": 2
}
