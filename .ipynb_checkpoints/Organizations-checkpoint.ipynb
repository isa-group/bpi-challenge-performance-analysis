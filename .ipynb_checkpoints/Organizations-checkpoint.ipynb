{
 "cells": [
  {
   "cell_type": "code",
   "execution_count": 1,
   "metadata": {},
   "outputs": [],
   "source": [
    "import pandas as pd\n",
    "import datetime\n",
    "from os import listdir\n",
    "import os, os.path\n",
    "from os.path import isfile, join\n",
    "import numpy as np\n",
    "import csv\n",
    "import re\n",
    "import pandas as pd\n",
    "from pm4py.objects.conversion.log import converter as log_converter\n",
    "from pm4py.objects.log.importer.xes import importer as xes_importer\n",
    "from pm4py.objects.log.exporter.xes import exporter as xes_exporter\n",
    "from pm4py.objects.log.util import dataframe_utils\n",
    "import matplotlib.pyplot as plt\n",
    "import seaborn as sns"
   ]
  },
  {
   "cell_type": "code",
   "execution_count": 3,
   "metadata": {},
   "outputs": [
    {
     "ename": "AttributeError",
     "evalue": "type object 'object' has no attribute 'dtype'",
     "output_type": "error",
     "traceback": [
      "\u001b[1;31m---------------------------------------------------------------------------\u001b[0m",
      "\u001b[1;31mAttributeError\u001b[0m                            Traceback (most recent call last)",
      "\u001b[1;32m<ipython-input-3-f3cf3a02085a>\u001b[0m in \u001b[0;36m<module>\u001b[1;34m\u001b[0m\n\u001b[0;32m     10\u001b[0m \u001b[1;31m#columna es el case_ID\u001b[0m\u001b[1;33m\u001b[0m\u001b[1;33m\u001b[0m\u001b[1;33m\u001b[0m\u001b[0m\n\u001b[0;32m     11\u001b[0m \u001b[0mcont\u001b[0m \u001b[1;33m=\u001b[0m \u001b[1;36m0\u001b[0m\u001b[1;33m\u001b[0m\u001b[1;33m\u001b[0m\u001b[0m\n\u001b[1;32m---> 12\u001b[1;33m \u001b[0mdf_prueba\u001b[0m\u001b[1;33m=\u001b[0m \u001b[0mpd\u001b[0m\u001b[1;33m.\u001b[0m\u001b[0mDataFrame\u001b[0m\u001b[1;33m(\u001b[0m\u001b[0mcolumns\u001b[0m\u001b[1;33m=\u001b[0m\u001b[0mcolumns\u001b[0m\u001b[1;33m)\u001b[0m\u001b[1;33m\u001b[0m\u001b[1;33m\u001b[0m\u001b[0m\n\u001b[0m\u001b[0;32m     13\u001b[0m \u001b[1;32mfor\u001b[0m \u001b[0mcolumna\u001b[0m \u001b[1;32min\u001b[0m \u001b[0mdatos_raw\u001b[0m\u001b[1;33m.\u001b[0m\u001b[0mcolumns\u001b[0m\u001b[1;33m:\u001b[0m\u001b[1;33m\u001b[0m\u001b[1;33m\u001b[0m\u001b[0m\n\u001b[0;32m     14\u001b[0m     \u001b[0macciones_analisis\u001b[0m\u001b[1;33m=\u001b[0m\u001b[0mdatos_raw\u001b[0m\u001b[1;33m[\u001b[0m\u001b[0mcolumna\u001b[0m\u001b[1;33m]\u001b[0m\u001b[1;33m.\u001b[0m\u001b[0mdropna\u001b[0m\u001b[1;33m(\u001b[0m\u001b[1;33m)\u001b[0m\u001b[1;33m\u001b[0m\u001b[1;33m\u001b[0m\u001b[0m\n",
      "\u001b[1;32m~\\anaconda3\\lib\\site-packages\\pandas\\core\\frame.py\u001b[0m in \u001b[0;36m__init__\u001b[1;34m(self, data, index, columns, dtype, copy)\u001b[0m\n\u001b[0;32m    433\u001b[0m             )\n\u001b[0;32m    434\u001b[0m         \u001b[1;32melif\u001b[0m \u001b[0misinstance\u001b[0m\u001b[1;33m(\u001b[0m\u001b[0mdata\u001b[0m\u001b[1;33m,\u001b[0m \u001b[0mdict\u001b[0m\u001b[1;33m)\u001b[0m\u001b[1;33m:\u001b[0m\u001b[1;33m\u001b[0m\u001b[1;33m\u001b[0m\u001b[0m\n\u001b[1;32m--> 435\u001b[1;33m             \u001b[0mmgr\u001b[0m \u001b[1;33m=\u001b[0m \u001b[0minit_dict\u001b[0m\u001b[1;33m(\u001b[0m\u001b[0mdata\u001b[0m\u001b[1;33m,\u001b[0m \u001b[0mindex\u001b[0m\u001b[1;33m,\u001b[0m \u001b[0mcolumns\u001b[0m\u001b[1;33m,\u001b[0m \u001b[0mdtype\u001b[0m\u001b[1;33m=\u001b[0m\u001b[0mdtype\u001b[0m\u001b[1;33m)\u001b[0m\u001b[1;33m\u001b[0m\u001b[1;33m\u001b[0m\u001b[0m\n\u001b[0m\u001b[0;32m    436\u001b[0m         \u001b[1;32melif\u001b[0m \u001b[0misinstance\u001b[0m\u001b[1;33m(\u001b[0m\u001b[0mdata\u001b[0m\u001b[1;33m,\u001b[0m \u001b[0mma\u001b[0m\u001b[1;33m.\u001b[0m\u001b[0mMaskedArray\u001b[0m\u001b[1;33m)\u001b[0m\u001b[1;33m:\u001b[0m\u001b[1;33m\u001b[0m\u001b[1;33m\u001b[0m\u001b[0m\n\u001b[0;32m    437\u001b[0m             \u001b[1;32mimport\u001b[0m \u001b[0mnumpy\u001b[0m\u001b[1;33m.\u001b[0m\u001b[0mma\u001b[0m\u001b[1;33m.\u001b[0m\u001b[0mmrecords\u001b[0m \u001b[1;32mas\u001b[0m \u001b[0mmrecords\u001b[0m\u001b[1;33m\u001b[0m\u001b[1;33m\u001b[0m\u001b[0m\n",
      "\u001b[1;32m~\\anaconda3\\lib\\site-packages\\pandas\\core\\internals\\construction.py\u001b[0m in \u001b[0;36minit_dict\u001b[1;34m(data, index, columns, dtype)\u001b[0m\n\u001b[0;32m    237\u001b[0m             \u001b[1;32melse\u001b[0m\u001b[1;33m:\u001b[0m\u001b[1;33m\u001b[0m\u001b[1;33m\u001b[0m\u001b[0m\n\u001b[0;32m    238\u001b[0m                 \u001b[0mnan_dtype\u001b[0m \u001b[1;33m=\u001b[0m \u001b[0mdtype\u001b[0m\u001b[1;33m\u001b[0m\u001b[1;33m\u001b[0m\u001b[0m\n\u001b[1;32m--> 239\u001b[1;33m             \u001b[0mval\u001b[0m \u001b[1;33m=\u001b[0m \u001b[0mconstruct_1d_arraylike_from_scalar\u001b[0m\u001b[1;33m(\u001b[0m\u001b[0mnp\u001b[0m\u001b[1;33m.\u001b[0m\u001b[0mnan\u001b[0m\u001b[1;33m,\u001b[0m \u001b[0mlen\u001b[0m\u001b[1;33m(\u001b[0m\u001b[0mindex\u001b[0m\u001b[1;33m)\u001b[0m\u001b[1;33m,\u001b[0m \u001b[0mnan_dtype\u001b[0m\u001b[1;33m)\u001b[0m\u001b[1;33m\u001b[0m\u001b[1;33m\u001b[0m\u001b[0m\n\u001b[0m\u001b[0;32m    240\u001b[0m             \u001b[0marrays\u001b[0m\u001b[1;33m.\u001b[0m\u001b[0mloc\u001b[0m\u001b[1;33m[\u001b[0m\u001b[0mmissing\u001b[0m\u001b[1;33m]\u001b[0m \u001b[1;33m=\u001b[0m \u001b[1;33m[\u001b[0m\u001b[0mval\u001b[0m\u001b[1;33m]\u001b[0m \u001b[1;33m*\u001b[0m \u001b[0mmissing\u001b[0m\u001b[1;33m.\u001b[0m\u001b[0msum\u001b[0m\u001b[1;33m(\u001b[0m\u001b[1;33m)\u001b[0m\u001b[1;33m\u001b[0m\u001b[1;33m\u001b[0m\u001b[0m\n\u001b[0;32m    241\u001b[0m \u001b[1;33m\u001b[0m\u001b[0m\n",
      "\u001b[1;32m~\\anaconda3\\lib\\site-packages\\pandas\\core\\dtypes\\cast.py\u001b[0m in \u001b[0;36mconstruct_1d_arraylike_from_scalar\u001b[1;34m(value, length, dtype)\u001b[0m\n\u001b[0;32m   1447\u001b[0m     \u001b[1;32melse\u001b[0m\u001b[1;33m:\u001b[0m\u001b[1;33m\u001b[0m\u001b[1;33m\u001b[0m\u001b[0m\n\u001b[0;32m   1448\u001b[0m         \u001b[1;32mif\u001b[0m \u001b[1;32mnot\u001b[0m \u001b[0misinstance\u001b[0m\u001b[1;33m(\u001b[0m\u001b[0mdtype\u001b[0m\u001b[1;33m,\u001b[0m \u001b[1;33m(\u001b[0m\u001b[0mnp\u001b[0m\u001b[1;33m.\u001b[0m\u001b[0mdtype\u001b[0m\u001b[1;33m,\u001b[0m \u001b[0mtype\u001b[0m\u001b[1;33m(\u001b[0m\u001b[0mnp\u001b[0m\u001b[1;33m.\u001b[0m\u001b[0mdtype\u001b[0m\u001b[1;33m)\u001b[0m\u001b[1;33m)\u001b[0m\u001b[1;33m)\u001b[0m\u001b[1;33m:\u001b[0m\u001b[1;33m\u001b[0m\u001b[1;33m\u001b[0m\u001b[0m\n\u001b[1;32m-> 1449\u001b[1;33m             \u001b[0mdtype\u001b[0m \u001b[1;33m=\u001b[0m \u001b[0mdtype\u001b[0m\u001b[1;33m.\u001b[0m\u001b[0mdtype\u001b[0m\u001b[1;33m\u001b[0m\u001b[1;33m\u001b[0m\u001b[0m\n\u001b[0m\u001b[0;32m   1450\u001b[0m \u001b[1;33m\u001b[0m\u001b[0m\n\u001b[0;32m   1451\u001b[0m         \u001b[1;32mif\u001b[0m \u001b[0mlength\u001b[0m \u001b[1;32mand\u001b[0m \u001b[0mis_integer_dtype\u001b[0m\u001b[1;33m(\u001b[0m\u001b[0mdtype\u001b[0m\u001b[1;33m)\u001b[0m \u001b[1;32mand\u001b[0m \u001b[0misna\u001b[0m\u001b[1;33m(\u001b[0m\u001b[0mvalue\u001b[0m\u001b[1;33m)\u001b[0m\u001b[1;33m:\u001b[0m\u001b[1;33m\u001b[0m\u001b[1;33m\u001b[0m\u001b[0m\n",
      "\u001b[1;31mAttributeError\u001b[0m: type object 'object' has no attribute 'dtype'"
     ]
    }
   ],
   "source": [
    "datos_raw = pd.read_excel(\"./grouped table of annotations.xlsx\")\n",
    "# datos_raw=datos_raw.drop(['Unnamed: 0'], axis='columns')\n",
    "glosario = pd.read_excel(\"./OperationCoding (cycle time).xlsx\")\n",
    "glosario['General operations'] = glosario['General operations'].fillna(method='pad')\n",
    "glosario['Specific operations'] =  glosario['Specific operations'].str.split().str.join(' ')\n",
    "glosario['General operations'] =  glosario['General operations'].str.split().str.join(' ')\n",
    "\n",
    "# columns=['case:concept:name','General operation','Specific operation','Time','Question','Year', 'Category']\n",
    "columns=['case:concept:name','concept:name','Specific operation','time:timestamp', 'Report', 'Question','Year', 'Category']\n",
    "#columna es el case_ID\n",
    "cont = 0\n",
    "df_prueba= pd.DataFrame(columns=columns)\n",
    "for columna in datos_raw.columns:\n",
    "    acciones_analisis=datos_raw[columna].dropna()\n",
    "    for accion in acciones_analisis:\n",
    "        \n",
    "        accion = re.sub('[\\xa0]', ' ', accion)\n",
    "#         print(' *************************** ', accion)\n",
    "        string_dividido=accion.split(' ')\n",
    "        accion = ' '.join(string_dividido)\n",
    "        for fila in range(len(glosario)):\n",
    "                       \n",
    "            if(accion == glosario['Specific operations'][fila]):\n",
    "                #print('si', accion)\n",
    "                accionGeneral=glosario['General operations'][fila]\n",
    "                accionEspecifica=accion\n",
    "                columnaSeparada=columna.split()\n",
    "                report=columnaSeparada[0]\n",
    "                pregunta=columnaSeparada[1]\n",
    "                año=columnaSeparada[3]\n",
    "                categoria=datos_raw.loc[0][columna]\n",
    "                ct=datetime.datetime.now() + datetime.timedelta(days=1)\n",
    "                new_row={'case:concept:name':columna, 'concept:name':accionGeneral,\n",
    "                         'Specific operation':accionEspecifica,'time:timestamp':str(ct),\n",
    "                         'Report':report, 'Question':pregunta, 'Year':año, 'Category':categoria} \n",
    "#                 print(cont, new_row['case:concept:name'])\n",
    "                cont = cont +1\n",
    "                df_prueba = df_prueba.append(new_row, ignore_index=True)\n",
    "                \n",
    "            elif(accion == glosario['General operations'][fila]):\n",
    "                #print('no', accion)\n",
    "                accionGeneral=accion\n",
    "                accionEspecifica=\" \"\n",
    "                columnaSeparada=columna.split()\n",
    "                report=columnaSeparada[0]\n",
    "                pregunta=columnaSeparada[1]\n",
    "                año=columnaSeparada[3]\n",
    "                categoria=datos_raw.loc[0][columna]\n",
    "                ct=datetime.datetime.now() + datetime.timedelta(days=1)\n",
    "                new_row={'case:concept:name':columna, 'concept:name':accionGeneral,\n",
    "                         'Specific operation':accionEspecifica,'time:timestamp':str(ct),\n",
    "                         'Report':report, 'Question':pregunta,'Year':año, 'Category':categoria} \n",
    "#                 print(cont, new_row['case:concept:name'])\n",
    "                cont = cont +1\n",
    "                df_prueba = df_prueba.append(new_row, ignore_index=True)\n",
    "            \n",
    "                \n",
    "            \n",
    "df_prueba"
   ]
  },
  {
   "cell_type": "code",
   "execution_count": null,
   "metadata": {},
   "outputs": [],
   "source": [
    "# df_prueba = pd.read_csv(\"logCT2.csv\",index_col=0)\n",
    "# df_prueba"
   ]
  },
  {
   "cell_type": "code",
   "execution_count": null,
   "metadata": {},
   "outputs": [],
   "source": [
    "reports = pd.read_excel(\"./Reports BPI Challenge.xlsx\")\n",
    "reports['BPI Challenge'] = reports['BPI Challenge'].fillna(method='pad')\n",
    "reports"
   ]
  },
  {
   "cell_type": "code",
   "execution_count": null,
   "metadata": {},
   "outputs": [],
   "source": [
    "reports['BPI Challenge'] = reports['BPI Challenge'].astype(int)\n",
    "reports[\"BPI Challenge\"]=reports[\"BPI Challenge\"].apply(str)\n",
    "reports"
   ]
  },
  {
   "cell_type": "code",
   "execution_count": null,
   "metadata": {},
   "outputs": [],
   "source": [
    "reports[\"Unnamed: 1\"]=reports[\"Unnamed: 1\"].apply(str)\n",
    "reports['Tupla'] = reports['Unnamed: 1'] + reports[\"BPI Challenge\"]"
   ]
  },
  {
   "cell_type": "code",
   "execution_count": null,
   "metadata": {},
   "outputs": [],
   "source": [
    "df_prueba['Tupla'] = df_prueba['Report'] + df_prueba[\"Year\"]"
   ]
  },
  {
   "cell_type": "code",
   "execution_count": null,
   "metadata": {},
   "outputs": [],
   "source": [
    "sLength = len(df_prueba['Tupla'])\n",
    "df_prueba['Organization'] = pd.Series(np.random.randn(sLength), index=df_prueba.index)\n",
    "df_prueba"
   ]
  },
  {
   "cell_type": "code",
   "execution_count": null,
   "metadata": {},
   "outputs": [],
   "source": [
    "df_prueba['prueba']= \"\"\n",
    "df_prueba.drop(['Organization', 'prueba'], axis=1)"
   ]
  },
  {
   "cell_type": "code",
   "execution_count": null,
   "metadata": {},
   "outputs": [],
   "source": [
    "# lista=[]\n",
    "df_prueba['Organization'] = \"\"\n",
    "for d in range(len(df_prueba)):\n",
    "    for r in range(len(reports)):\n",
    "        if(df_prueba.loc[d]['Tupla'] == reports.loc[r]['Tupla']):\n",
    "#             print('si')\n",
    "#             print(reports.iloc[r]['Universidad/Organización'])\n",
    "#             lista.append(reports.loc[r]['Universidad/Organización'])\n",
    "             df_prueba.iloc[d]['Organization'] = reports.loc[r]['Universidad/Organización']"
   ]
  },
  {
   "cell_type": "code",
   "execution_count": null,
   "metadata": {},
   "outputs": [],
   "source": [
    "df_prueba.drop(['prueba'], axis=1)"
   ]
  },
  {
   "cell_type": "code",
   "execution_count": null,
   "metadata": {},
   "outputs": [],
   "source": [
    "df_report_year = df_prueba.groupby(by=['Question', 'Year'])\n",
    "for name, group in df_report_year:\n",
    "    operations = group['concept:name'].to_list()\n",
    "    "
   ]
  },
  {
   "cell_type": "code",
   "execution_count": null,
   "metadata": {},
   "outputs": [],
   "source": [
    "df_prueba['concept:name'].to_list()"
   ]
  },
  {
   "cell_type": "code",
   "execution_count": null,
   "metadata": {},
   "outputs": [],
   "source": [
    "df_jaccard['case:concept:name'] = 'hola'\n",
    "df_jaccard"
   ]
  },
  {
   "cell_type": "code",
   "execution_count": null,
   "metadata": {},
   "outputs": [],
   "source": [
    "df_analisis = df_prueba.groupby(by=['case:concept:name'])\n",
    "columns=['case:concept:name','Operations','Organization', 'Year', 'Question']\n",
    "df_agrupado = pd.DataFrame(columns=columns)\n",
    "for name, group in df_analisis:\n",
    "    org = group.iloc[0]['Organization']\n",
    "    year = group.iloc[0]['Year']\n",
    "    question = group.iloc[0]['Question']\n",
    "    lista = group['concept:name'].to_list()\n",
    "        \n",
    "    new_row={'case:concept:name':name, 'Operations':lista, 'Organization':org, 'Year':year, 'Question':question} \n",
    "    df_agrupado = df_agrupado.append(new_row, ignore_index=True)"
   ]
  },
  {
   "cell_type": "code",
   "execution_count": null,
   "metadata": {
    "scrolled": true
   },
   "outputs": [],
   "source": [
    "df_agrupado"
   ]
  },
  {
   "cell_type": "code",
   "execution_count": null,
   "metadata": {},
   "outputs": [],
   "source": [
    "group"
   ]
  },
  {
   "cell_type": "code",
   "execution_count": null,
   "metadata": {},
   "outputs": [],
   "source": [
    "def jaccardIndex(list1,list2):\n",
    "    set1=set(list1)\n",
    "    set2=set(list2)\n",
    "    intersection = set1.intersection(set2)\n",
    "    tamIntersection=len(list(intersection))\n",
    "    union = set1.union(set2)\n",
    "    tamUnion=len(list(union))\n",
    "#     print(\"similitud: \"+str(float(tamIntersection)/tamUnion))\n",
    "    return float(tamIntersection)/tamUnion"
   ]
  },
  {
   "cell_type": "code",
   "execution_count": null,
   "metadata": {},
   "outputs": [],
   "source": [
    "df2 = df_agrupado.groupby(by=['Year', 'Question'])\n",
    "columns=['analisis','organizaciones','jaccard']\n",
    "df_jaccard = pd.DataFrame(columns=columns)\n",
    "\n",
    "for name, group in df2:\n",
    "    for i in range(len(group)-1):\n",
    "        if(group.iloc[i]['Organization'] != 'Sberbank'):\n",
    "            org1 = 'No_Sberbank'\n",
    "        else:\n",
    "            org1 = 'Sberbank'\n",
    "        \n",
    "        for j in range(i+1,len(group)-1):\n",
    "            grupo = group.iloc[i]['Operations']\n",
    "            analisis = group.iloc[i]['case:concept:name'] + \"-\" + group.iloc[j]['case:concept:name']\n",
    "                \n",
    "            if(group.iloc[j]['Organization'] != 'Sberbank'):\n",
    "                org2 = 'No_Sberbank'\n",
    "            else:\n",
    "                org2 = 'Sberbank'\n",
    "            org = org1 + \"-\" + org2\n",
    "            jaccard = jaccardIndex(grupo,group.iloc[j]['Operations'])\n",
    "            new_row={'analisis':analisis,'organizaciones':org,'jaccard': jaccard} \n",
    "            df_jaccard = df_jaccard.append(new_row, ignore_index=True)\n",
    "        \n"
   ]
  },
  {
   "cell_type": "code",
   "execution_count": null,
   "metadata": {},
   "outputs": [],
   "source": [
    "df_jaccard = df_jaccard.replace({'Sberbank-No_Sberbank':'No_Sberbank-Sberbank'})"
   ]
  },
  {
   "cell_type": "code",
   "execution_count": null,
   "metadata": {},
   "outputs": [],
   "source": [
    "df_jaccard.groupby(by=['organizaciones']).mean()"
   ]
  },
  {
   "cell_type": "code",
   "execution_count": null,
   "metadata": {},
   "outputs": [],
   "source": [
    "from scipy import stats\n",
    "\n",
    "group1 =  df_jaccard['organizaciones'] == 'Sberbank-Sberbank'\n",
    "group2 =  df_jaccard['organizaciones'] == 'No_Sberbank-Sberbank'\n",
    "group3 =  df_jaccard['organizaciones'] == 'No_Sberbank-No_Sberbank'\n",
    "stats.kruskal(group1, group2, group3)\n",
    "\n",
    "# (statistic=6.2878, pvalue=0.0431)"
   ]
  },
  {
   "cell_type": "code",
   "execution_count": null,
   "metadata": {},
   "outputs": [],
   "source": [
    "stats.kruskal(group1, group2)"
   ]
  },
  {
   "cell_type": "code",
   "execution_count": null,
   "metadata": {},
   "outputs": [],
   "source": [
    "stats.kruskal(group2, group3)"
   ]
  },
  {
   "cell_type": "code",
   "execution_count": null,
   "metadata": {},
   "outputs": [],
   "source": [
    "stats.kruskal(group1, group3)"
   ]
  },
  {
   "cell_type": "code",
   "execution_count": null,
   "metadata": {},
   "outputs": [],
   "source": [
    "def overlapIndex(list1,list2):\n",
    "    set1=set(list1)\n",
    "    set2=set(list2)\n",
    "    intersection = set1.intersection(set2)\n",
    "    len1=len(list(set1))\n",
    "    len2=len(list(set2))\n",
    "#     print(float(len(list(intersection))))\n",
    "#     print(min([len1,len2]))\n",
    "    overlapIndex=float(len(list(intersection)))/min([len1,len2])\n",
    "    return overlapIndex"
   ]
  },
  {
   "cell_type": "code",
   "execution_count": null,
   "metadata": {},
   "outputs": [],
   "source": [
    "df2 = df_agrupado.groupby(by=['Year', 'Question'])\n",
    "columns=['analisis','organizaciones','overlap']\n",
    "df_overlap = pd.DataFrame(columns=columns)\n",
    "\n",
    "for name, group in df2:\n",
    "    for i in range(len(group)):\n",
    "        if(group.iloc[i]['Organization'] != 'Sberbank'):\n",
    "            org1 = 'No_Sberbank'\n",
    "        else:\n",
    "            org1 = 'Sberbank'\n",
    "        \n",
    "        for j in range(i+1,len(group)):\n",
    "            grupo = group.iloc[i]['Operations']\n",
    "            analisis = group.iloc[i]['case:concept:name'] + \"-\" + group.iloc[j]['case:concept:name']\n",
    "                \n",
    "            if(group.iloc[j]['Organization'] != 'Sberbank'):\n",
    "                org2 = 'No_Sberbank'\n",
    "            else:\n",
    "                org2 = 'Sberbank'\n",
    "            org = org1 + \"-\" + org2\n",
    "            overlap = overlapIndex(grupo,group.iloc[j]['Operations'])\n",
    "            new_row={'analisis':analisis,'organizaciones':org,'overlap': overlap} \n",
    "            df_overlap = df_overlap.append(new_row, ignore_index=True)\n",
    "        \n"
   ]
  },
  {
   "cell_type": "code",
   "execution_count": null,
   "metadata": {},
   "outputs": [],
   "source": [
    "df_overlap = df_overlap.replace({'Sberbank-No_Sberbank':'No_Sberbank-Sberbank'})"
   ]
  },
  {
   "cell_type": "code",
   "execution_count": null,
   "metadata": {},
   "outputs": [],
   "source": [
    "df_overlap.groupby(by=['organizaciones']).mean()"
   ]
  },
  {
   "cell_type": "code",
   "execution_count": null,
   "metadata": {},
   "outputs": [],
   "source": [
    "df_overlap.groupby(by=['organizaciones'])['overlap'].var(ddof=0)"
   ]
  },
  {
   "cell_type": "code",
   "execution_count": null,
   "metadata": {},
   "outputs": [],
   "source": [
    "df_overlap.groupby(by=['organizaciones'])['overlap'].std(ddof=0)"
   ]
  },
  {
   "cell_type": "code",
   "execution_count": null,
   "metadata": {},
   "outputs": [],
   "source": [
    "from scipy import stats\n",
    "\n",
    "group1 =  df_overlap[df_overlap['organizaciones'] == 'Sberbank-Sberbank']['overlap']\n",
    "group2 =  df_overlap[df_overlap['organizaciones'] == 'No_Sberbank-Sberbank']['overlap']\n",
    "group3 =  df_overlap[df_overlap['organizaciones'] == 'No_Sberbank-No_Sberbank']['overlap']\n",
    "stats.kruskal(group1, group2, group3)\n",
    "\n",
    "# (statistic=6.2878, pvalue=0.0431)"
   ]
  },
  {
   "cell_type": "code",
   "execution_count": null,
   "metadata": {},
   "outputs": [],
   "source": [
    "stats.kruskal(group1, group2)"
   ]
  },
  {
   "cell_type": "code",
   "execution_count": null,
   "metadata": {},
   "outputs": [],
   "source": [
    "stats.kruskal(group1, group3)"
   ]
  },
  {
   "cell_type": "code",
   "execution_count": null,
   "metadata": {},
   "outputs": [],
   "source": [
    "stats.kruskal(group3, group2)"
   ]
  },
  {
   "cell_type": "code",
   "execution_count": null,
   "metadata": {
    "scrolled": true
   },
   "outputs": [],
   "source": [
    "p = df_overlap[df_overlap['organizaciones'] == 'Sberbank-Sberbank']\n",
    "p[p['overlap'] == 1]"
   ]
  },
  {
   "cell_type": "code",
   "execution_count": null,
   "metadata": {
    "scrolled": true
   },
   "outputs": [],
   "source": [
    "# pip install Pingouin"
   ]
  },
  {
   "cell_type": "code",
   "execution_count": null,
   "metadata": {},
   "outputs": [],
   "source": [
    "import pingouin as pg\n",
    "import pandas as pd\n",
    "import numpy as np"
   ]
  },
  {
   "cell_type": "code",
   "execution_count": null,
   "metadata": {},
   "outputs": [],
   "source": [
    "import pingouin as pg\n",
    "import pandas as pd\n",
    "import numpy as np\n",
    "\n",
    "#create DataFrame\n",
    "# df = pd.DataFrame({'score': [64, 66, 68, 75, 78, 94, 98, 79, 71, 80,\n",
    "#                              91, 92, 93, 90, 97, 94, 82, 88, 95, 96,\n",
    "#                              79, 78, 88, 94, 92, 85, 83, 85, 82, 81],\n",
    "#                    'group': np.repeat(['a', 'b', 'c'], repeats=10)}) \n",
    "\n",
    "#perform Welch's ANOVA\n",
    "pg.welch_anova(dv='overlap', between='organizaciones', data=df_overlap)"
   ]
  },
  {
   "cell_type": "code",
   "execution_count": null,
   "metadata": {},
   "outputs": [],
   "source": [
    "df = pd.DataFrame({'score': [64, 66, 68, 75, 78, 94, 98, 79, 71, 80,\n",
    "                             91, 92, 93, 90, 97, 94, 82, 88, 95, 96,\n",
    "                             79, 78, 88, 94, 92, 85, 83, 85, 82, 81],\n",
    "                   'group': np.repeat(['a', 'b', 'c'], repeats=10)}) \n",
    "df"
   ]
  },
  {
   "cell_type": "code",
   "execution_count": null,
   "metadata": {},
   "outputs": [],
   "source": []
  },
  {
   "cell_type": "code",
   "execution_count": null,
   "metadata": {},
   "outputs": [],
   "source": []
  },
  {
   "cell_type": "code",
   "execution_count": null,
   "metadata": {},
   "outputs": [],
   "source": []
  }
 ],
 "metadata": {
  "kernelspec": {
   "display_name": "Python 3",
   "language": "python",
   "name": "python3"
  },
  "language_info": {
   "codemirror_mode": {
    "name": "ipython",
    "version": 3
   },
   "file_extension": ".py",
   "mimetype": "text/x-python",
   "name": "python",
   "nbconvert_exporter": "python",
   "pygments_lexer": "ipython3",
   "version": "3.7.6"
  }
 },
 "nbformat": 4,
 "nbformat_minor": 4
}
