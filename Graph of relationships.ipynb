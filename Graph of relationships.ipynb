{
 "cells": [
  {
   "cell_type": "code",
   "execution_count": 1,
   "metadata": {},
   "outputs": [],
   "source": [
    "import networkx as nx\n",
    "import numpy as np"
   ]
  },
  {
   "cell_type": "code",
   "execution_count": 2,
   "metadata": {},
   "outputs": [],
   "source": [
    "G=nx.Graph()"
   ]
  },
  {
   "cell_type": "code",
   "execution_count": 3,
   "metadata": {},
   "outputs": [],
   "source": [
    "G.add_nodes_from([\"Calculate percentages\",\n",
    "                  \"Calculate cycle time\",\n",
    "                  \"Calculate number of elements\",\n",
    "                  \"Filter traces\",\n",
    "                  \"Identify bottlenecks\",\n",
    "                  \"Group traces\",\n",
    "                  \"Identify attributes\",\n",
    "                  \"Represent bar charts\",\n",
    "                  \"Represent process map\",\n",
    "                  \"Represent histograms\",\n",
    "                  \"Calculate throughput\",\n",
    "                  \"Calculate waiting time\",\n",
    "                  \"Calculate frequency\",\n",
    "                  \"Calculate statistics\",\n",
    "                 ])"
   ]
  },
  {
   "cell_type": "code",
   "execution_count": 4,
   "metadata": {},
   "outputs": [],
   "source": [
    "weights=[\n",
    "    92.73,65.45,85.45,54.55,50.91,#calculate percentages\n",
    "    91.18,76.47,70.59, # Identify attributes\n",
    "    \n",
    "]\n",
    "#weights=[weight/10 for weight in weights]"
   ]
  },
  {
   "cell_type": "code",
   "execution_count": 5,
   "metadata": {},
   "outputs": [
    {
     "data": {
      "text/plain": [
       "<networkx.classes.graph.Graph at 0x1e647356f40>"
      ]
     },
     "execution_count": 5,
     "metadata": {},
     "output_type": "execute_result"
    }
   ],
   "source": [
    "G"
   ]
  },
  {
   "cell_type": "code",
   "execution_count": 6,
   "metadata": {},
   "outputs": [],
   "source": [
    "G.add_edges_from([\n",
    "    #calculate percentages\n",
    "    (\"Calculate percentages\",\"Calculate cycle time\"),(\"Calculate percentages\",\"Calculate number of elements\"),(\"Calculate percentages\",\"Filter traces\"),(\"Calculate percentages\",\"Identify bottlenecks\"),(\"Calculate percentages\",\"Group traces\"),\n",
    "    \n",
    "    #Identify attributes\n",
    "    (\"Identify attributes\",\"Calculate cycle time\"),(\"Identify attributes\",\"Filter traces\"),(\"Identify attributes\",\"Calculat number of elements\"),\n",
    "    \n",
    "                 ])"
   ]
  },
  {
   "cell_type": "code",
   "execution_count": 7,
   "metadata": {},
   "outputs": [
    {
     "data": {
      "image/png": "[encoded data removed]",
      "text/plain": [
       "<Figure size 432x288 with 1 Axes>"
      ]
     },
     "metadata": {},
     "output_type": "display_data"
    }
   ],
   "source": [
    "nx.draw(G)"
   ]
  },
  {
   "cell_type": "code",
   "execution_count": 8,
   "metadata": {},
   "outputs": [
    {
     "data": {
      "image/png": "[encoded data removed]",
      "text/plain": [
       "<Figure size 432x288 with 1 Axes>"
      ]
     },
     "metadata": {},
     "output_type": "display_data"
    }
   ],
   "source": [
    "nx.draw(G,\n",
    "        nodelist=[\"Calculate percentages\",\n",
    "                  \"Calculate cycle time\",\n",
    "                  \"Calculate number of elements\",\n",
    "                  \"Filter traces\",\n",
    "                  \"Identify bottlenecks\",\n",
    "                  \"Group traces\"\n",
    "                 ],                         \n",
    "        edgelist=[(\"Calculate percentages\",\"Calculate cycle time\"),\n",
    "                  (\"Calculate percentages\",\"Calculate number of elements\"),\n",
    "                  (\"Calculate percentages\",\"Filter traces\"),\n",
    "                  (\"Calculate percentages\",\"Identify bottlenecks\"),\n",
    "                  (\"Calculate percentages\",\"Group traces\")\n",
    "                 ], \n",
    "        width=weights,\n",
    "        with_labels=True\n",
    "       )"
   ]
  },
  {
   "cell_type": "code",
   "execution_count": 9,
   "metadata": {},
   "outputs": [
    {
     "data": {
      "text/plain": [
       "[92.73, 65.45, 85.45, 54.55, 50.91, 91.18, 76.47, 70.59]"
      ]
     },
     "execution_count": 9,
     "metadata": {},
     "output_type": "execute_result"
    }
   ],
   "source": [
    "weights"
   ]
  },
  {
   "cell_type": "code",
   "execution_count": 2,
   "metadata": {},
   "outputs": [],
   "source": [
    "#---------------------------------------------------------------------------------------------------------------------------\n",
    "nodes=[\"Calculate percentages\",\n",
    "       \"Calculate cycle time\",\n",
    "       \"Calculate number of elements\",\n",
    "       \"Filter traces\",\n",
    "       \"Identify bottlenecks\",\"Group traces\",\n",
    "       \"Identify attributes\",\n",
    "       \"Represent bar charts\",\n",
    "       \"Represent process map\",\n",
    "       \"Represent histograms\",\n",
    "       \"Calculate throughput\",\n",
    "       \"Calculate waiting time\",\n",
    "       \"Calculate frequency\",\n",
    "       \"Calculate statistics\",\n",
    "      ]"
   ]
  },
  {
   "cell_type": "code",
   "execution_count": 3,
   "metadata": {},
   "outputs": [],
   "source": [
    "weights=[\n",
    "    92.73,65.45,85.45,54.55,50.91,#calculate percentages\n",
    "    91.18,76.47,70.59, # Identify attributes\n",
    "    91.67,83.33,63.89,58.33,58.33,50.00,# Represent bar charts\n",
    "    89.47,80.26,53.95, #calculate number of elements\n",
    "    89.36,65.96,61.70, #Represent process map\n",
    "    87.5,59.38,56.25, #Represent histograms\n",
    "    85.25,#Identify bottlenecks\n",
    "    83.13,54.22,50.60, #Filter traces\n",
    "    77.59,72.41,60.34,56.90, #Group traces\n",
    "    77.78,66.67, #Calculate throughput\n",
    "    74.07,51.85,51.85, #Calculate waiting time\n",
    "    73.91,65.22,65.22,56.52,56.52, #Calculate frequency\n",
    "    71.43,68.57, #Calculate statistics\n",
    "    52.23 #Calculate cycle time\n",
    "    \n",
    "    \n",
    "    ]\n",
    "# weights=[weight/10 for weight in weights]"
   ]
  },
  {
   "cell_type": "code",
   "execution_count": 19,
   "metadata": {},
   "outputs": [],
   "source": [
    "edges=[\n",
    "#     Calculate percentages\n",
    "    (\"Calculate percentages\",\"Calculate cycle time\"),(\"Calculate percentages\",\"Calculate number of elements\"),(\"Calculate percentages\",\"Filter traces\"),(\"Calculate percentages\",\"Identify bottlenecks\"),(\"Calculate percentages\",\"Group traces\"),\n",
    "    \n",
    "    #Identify attributes\n",
    "    (\"Identify attributes\",\"Calculate cycle time\"),(\"Identify attributes\",\"Filter traces\"),(\"Identify attributes\",\"Calculate number of elements\"),\n",
    "    \n",
    "    #Represent bar charts\n",
    "    (\"Represent bar charts\",\"Calculate cycle time\"),(\"Represent bar charts\",\"Filter traces\"),(\"Represent bar charts\",\"Calculate percentages\"),(\"Represent bar charts\",\"Calculate number of elements\"),(\"Represent bar charts\",\"Identify bottlenecks\"),(\"Represent bar charts\",\"Identify attributes\"),\n",
    "    \n",
    "    #Calculate number of elements\n",
    "    (\"Calculate number of elements\",\"Calculate cycle time\"),(\"Calculate number of elements\",\"Filter traces\"),(\"Calculate number of elements\",\"Group traces\"),\n",
    "    \n",
    "    #Represent process map\n",
    "    (\"Represent process map\",\"Calculate cycle time\"),(\"Represent process map\",\"Identify bottlenecks\"),(\"Represent process map\",\"Filter traces\"),\n",
    "    \n",
    "    #Represent histograms\n",
    "    (\"Represent histograms\",\"Calculate cycle time\"),(\"Represent histograms\",\"Identify bottlenecks\"),(\"Represent histograms\",\"Filter traces\"),\n",
    "    \n",
    "    #Identify bottlenecks\n",
    "    (\"Identify bottlenecks\",\"Calculate cycle time\"),\n",
    "    \n",
    "    #Filter traces\n",
    "    (\"Filter traces\",\"Calculate cycle time\"),(\"Filter traces\",\"Calculate number of elements\"),(\"Filter traces\",\"Group traces\"),\n",
    "    \n",
    "    #Group traces\n",
    "    (\"Group traces\",\"Calculate cycle time\"),(\"Group traces\",\"Filter traces\"),(\"Group traces\",\"Calculate number of elements\"),(\"Group traces\",\"Calculate statistics\"),\n",
    "    \n",
    "    #Calculate throughput\n",
    "    (\"Calculate throughput\",\"Calculate number of elements\"),(\"Calculate throughput\",\"Filter traces\"),\n",
    "    \n",
    "    #Calculate waiting time\n",
    "    (\"Calculate waiting time\",\"Identify bottlenecks\"),(\"Calculate waiting time\",\"Calculate cycle time\"),(\"Calculate waiting time\",\"Filter traces\"),\n",
    "    \n",
    "    #Calculate frequency\n",
    "    (\"Calculate frequency\",\"Calculate cycle time\"),(\"Calculate frequency\",\"Calculate percentages\"),(\"Calculate frequency\",\"Identify bottlenecks\"), (\"Calculate frequency\",\"Calculate number of elements\"), (\"Calculate frequency\",\"Filter traces\"),\n",
    "    \n",
    "    #Calculate statistics\n",
    "    (\"Calculate statistics\",\"Group traces\"),(\"Calculate statistics\",\"Filter traces\"),\n",
    "    \n",
    "    #Calculate cycle time\n",
    "    (\"Calculate cycle time\",\"Filter traces\")\n",
    "    \n",
    "    ]"
   ]
  },
  {
   "cell_type": "code",
   "execution_count": 20,
   "metadata": {},
   "outputs": [],
   "source": [
    "weights2=[]\n",
    "\n",
    "for weight in weights:\n",
    "    if weight>50 and weight<70:\n",
    "        weights2.append('r')\n",
    "    elif weight>70 and weight<90:\n",
    "        weights2.append('b')\n",
    "    elif weight>90:\n",
    "        weights2.append('g')"
   ]
  },
  {
   "cell_type": "code",
   "execution_count": 21,
   "metadata": {
    "scrolled": true
   },
   "outputs": [
    {
     "data": {
      "text/plain": [
       "['g',\n",
       " 'r',\n",
       " 'b',\n",
       " 'r',\n",
       " 'r',\n",
       " 'g',\n",
       " 'b',\n",
       " 'b',\n",
       " 'g',\n",
       " 'b',\n",
       " 'r',\n",
       " 'r',\n",
       " 'r',\n",
       " 'b',\n",
       " 'b',\n",
       " 'r',\n",
       " 'b',\n",
       " 'r',\n",
       " 'r',\n",
       " 'b',\n",
       " 'r',\n",
       " 'r',\n",
       " 'b',\n",
       " 'b',\n",
       " 'r',\n",
       " 'r',\n",
       " 'b',\n",
       " 'b',\n",
       " 'r',\n",
       " 'r',\n",
       " 'b',\n",
       " 'r',\n",
       " 'b',\n",
       " 'r',\n",
       " 'r',\n",
       " 'b',\n",
       " 'r',\n",
       " 'r',\n",
       " 'r',\n",
       " 'r',\n",
       " 'b',\n",
       " 'r',\n",
       " 'r']"
      ]
     },
     "execution_count": 21,
     "metadata": {},
     "output_type": "execute_result"
    }
   ],
   "source": [
    "weights2"
   ]
  },
  {
   "cell_type": "code",
   "execution_count": 22,
   "metadata": {},
   "outputs": [],
   "source": [
    "#weightsNormalised=[weight/10 for weight in weights]"
   ]
  },
  {
   "cell_type": "code",
   "execution_count": 23,
   "metadata": {},
   "outputs": [],
   "source": [
    "# nx.draw(G,\n",
    "#         nodelist=[\"Calculate percentages\",\n",
    "#                   \"Calculate cycle time\",\n",
    "#                   \"Calculate number of elements\",\n",
    "#                   \"Filter traces\",\n",
    "#                   \"Identify bottlenecks occurs\",\n",
    "#                   \"Group traces\"\n",
    "#                  ],                         \n",
    "#         edgelist=[(\"Calculate percentages\",\"Calculate cycle time\"),\n",
    "#                   (\"Calculate percentages\",\"Calculate number of elements\"),\n",
    "#                   (\"Calculate percentages\",\"Filter traces\"),\n",
    "#                   (\"Calculate percentages\",\"Identify bottlenecks\"),\n",
    "#                   (\"Calculate percentages\",\"Group traces\")\n",
    "#                  ], \n",
    "#         width=weightsNormalised,\n",
    "#         edge_color=weights2,\n",
    "#         with_labels=True\n",
    "#        )#node_size=length"
   ]
  },
  {
   "cell_type": "code",
   "execution_count": 24,
   "metadata": {},
   "outputs": [
    {
     "data": {
      "image/png": "[encoded data removed]",
      "text/plain": [
       "<Figure size 432x288 with 1 Axes>"
      ]
     },
     "metadata": {},
     "output_type": "display_data"
    }
   ],
   "source": [
    "G2=nx.Graph()\n",
    "G2.add_nodes_from(nodes)\n",
    "G2.add_edges_from(edges)\n",
    "nx.draw(G2,\n",
    "        nodelist=nodes,                         \n",
    "        edgelist=edges, \n",
    "        #width=weightsNormalised,\n",
    "#         width=weights2,\n",
    "        edge_color=weights2,\n",
    "        with_labels=True\n",
    "       )#node_size=length"
   ]
  },
  {
   "cell_type": "code",
   "execution_count": 25,
   "metadata": {},
   "outputs": [
    {
     "name": "stdout",
     "output_type": "stream",
     "text": [
      "Calculate percentages-Calculate cycle time : 92.73\n",
      "Calculate percentages-Calculate number of elements : 65.45\n",
      "Calculate percentages-Filter traces : 85.45\n",
      "Calculate percentages-Identify bottlenecks : 54.55\n",
      "Calculate percentages-Group traces : 50.91\n",
      "Identify attributes-Calculate cycle time : 91.18\n",
      "Identify attributes-Filter traces : 76.47\n",
      "Identify attributes-Calculate number of elements : 70.59\n",
      "Represent bar charts-Calculate cycle time : 91.67\n",
      "Represent bar charts-Filter traces : 83.33\n",
      "Represent bar charts-Calculate percentages : 63.89\n",
      "Represent bar charts-Calculate number of elements : 58.33\n",
      "Represent bar charts-Identify bottlenecks : 58.33\n",
      "Represent bar charts-Identify attributes : 50.0\n",
      "Calculate number of elements-Calculate cycle time : 89.47\n",
      "Calculate number of elements-Filter traces : 80.26\n",
      "Calculate number of elements-Group traces : 53.95\n",
      "Represent process map-Calculate cycle time : 89.36\n",
      "Represent process map-Identify bottlenecks : 65.96\n",
      "Represent process map-Filter traces : 61.7\n",
      "Represent histograms-Calculate cycle time : 87.5\n",
      "Represent histograms-Identify bottlenecks : 59.38\n",
      "Represent histograms-Filter traces : 56.25\n",
      "Identify bottlenecks-Calculate cycle time : 85.25\n",
      "Filter traces-Calculate cycle time : 83.13\n",
      "Filter traces-Calculate number of elements : 54.22\n",
      "Filter traces-Group traces : 50.6\n",
      "Group traces-Calculate cycle time : 77.59\n",
      "Group traces-Filter traces : 72.41\n",
      "Group traces-Calculate number of elements : 60.34\n",
      "Group traces-Calculate statistics : 56.9\n",
      "Calculate throughput-Calculate number of elements : 77.78\n",
      "Calculate throughput-Filter traces : 66.67\n",
      "Calculate waiting time-Identify bottlenecks : 74.07\n",
      "Calculate waiting time-Calculate cycle time : 51.85\n",
      "Calculate waiting time-Filter traces : 51.85\n",
      "Calculate frequency-Calculate cycle time : 73.91\n",
      "Calculate frequency-Calculate percentages : 65.22\n",
      "Calculate frequency-Identify bottlenecks : 65.22\n",
      "Calculate frequency-Calculate number of elements : 56.52\n",
      "Calculate frequency-Filter traces : 56.52\n",
      "Calculate statistics-Group traces : 71.43\n",
      "Calculate statistics-Filter traces : 68.57\n",
      "Calculate cycle time-Filter traces : 52.23\n"
     ]
    }
   ],
   "source": [
    "for weight, edge in zip(weights,edges):\n",
    "    print(edge[0]+\"-\"+edge[1]+\" : \"+str(weight))\n",
    "\n",
    "    G2[edge[0]][edge[1]]['weight']=weight"
   ]
  },
  {
   "cell_type": "code",
   "execution_count": 28,
   "metadata": {},
   "outputs": [
    {
     "data": {
      "text/plain": [
       "{'Calculate percentages': 0.6842105263157895,\n",
       " 'Calculate cycle time': 0.8666666666666667,\n",
       " 'Calculate number of elements': 0.7222222222222222,\n",
       " 'Filter traces': 0.9285714285714286,\n",
       " 'Identify bottlenecks': 0.6190476190476191,\n",
       " 'Group traces': 0.6190476190476191,\n",
       " 'Identify attributes': 0.5909090909090909,\n",
       " 'Represent bar charts': 0.65,\n",
       " 'Represent process map': 0.5652173913043478,\n",
       " 'Represent histograms': 0.5652173913043478,\n",
       " 'Calculate throughput': 0.52,\n",
       " 'Calculate waiting time': 0.5652173913043478,\n",
       " 'Calculate frequency': 0.6190476190476191,\n",
       " 'Calculate statistics': 0.52}"
      ]
     },
     "execution_count": 28,
     "metadata": {},
     "output_type": "execute_result"
    }
   ],
   "source": [
    "nx.closeness_centrality(G2, u=None, distance=None)"
   ]
  },
  {
   "cell_type": "code",
   "execution_count": 29,
   "metadata": {},
   "outputs": [
    {
     "data": {
      "text/plain": [
       "['Calculate percentages', 'Calculate cycle time']"
      ]
     },
     "execution_count": 29,
     "metadata": {},
     "output_type": "execute_result"
    }
   ],
   "source": [
    "nx.shortest_path(G2, source='Calculate percentages', target='Calculate cycle time', weight=None, method='dijkstra')"
   ]
  },
  {
   "cell_type": "code",
   "execution_count": 31,
   "metadata": {},
   "outputs": [
    {
     "data": {
      "text/plain": [
       "['Calculate percentages', 'Calculate cycle time', 'Represent process map']"
      ]
     },
     "execution_count": 31,
     "metadata": {},
     "output_type": "execute_result"
    }
   ],
   "source": [
    "nx.shortest_path(G2, source='Calculate percentages', target='Represent process map', weight=None, method='dijkstra')"
   ]
  },
  {
   "cell_type": "code",
   "execution_count": 36,
   "metadata": {},
   "outputs": [
    {
     "data": {
      "text/plain": [
       "['Calculate percentages',\n",
       " 'Calculate cycle time',\n",
       " 'Calculate number of elements',\n",
       " 'Filter traces',\n",
       " 'Identify bottlenecks',\n",
       " 'Group traces',\n",
       " 'Identify attributes',\n",
       " 'Represent bar charts',\n",
       " 'Represent process map',\n",
       " 'Represent histograms',\n",
       " 'Calculate throughput',\n",
       " 'Calculate waiting time',\n",
       " 'Calculate frequency',\n",
       " 'Calculate statistics']"
      ]
     },
     "execution_count": 36,
     "metadata": {},
     "output_type": "execute_result"
    }
   ],
   "source": [
    "list(G2.nodes)"
   ]
  },
  {
   "cell_type": "code",
   "execution_count": 44,
   "metadata": {},
   "outputs": [],
   "source": [
    "def calculateShortestPath(g):\n",
    "    nodes=list(g)\n",
    "    #nodesDistance=[]\n",
    "    #nodesPairs=[]\n",
    "    for i in range(len(nodes)-1):\n",
    "        \n",
    "        node1=nodes[i]\n",
    "        print(\"Distances for node: \"+node1)\n",
    "        nodes2 = [x for j,x in enumerate(nodes) if j!=i]  \n",
    "        for node2 in nodes2:\n",
    "            print()\n",
    "            dist=len(nx.shortest_path(g, source=node1, target=node2, weight=None, method='dijkstra'))\n",
    "            print(\"Distance between \"+node1+\" --> \"+node2 +\" is \"+str(dist))\n",
    "        #hacer df con las comparaciones\n",
    "        print(\"-------------------------------------\")\n",
    "        \n",
    "        "
   ]
  },
  {
   "cell_type": "code",
   "execution_count": 45,
   "metadata": {},
   "outputs": [
    {
     "name": "stdout",
     "output_type": "stream",
     "text": [
      "Distances for node: Calculate percentages\n",
      "\n",
      "Distance between Calculate percentages --> Calculate cycle time is 2\n",
      "\n",
      "Distance between Calculate percentages --> Calculate number of elements is 2\n",
      "\n",
      "Distance between Calculate percentages --> Filter traces is 2\n",
      "\n",
      "Distance between Calculate percentages --> Identify bottlenecks is 2\n",
      "\n",
      "Distance between Calculate percentages --> Group traces is 2\n",
      "\n",
      "Distance between Calculate percentages --> Identify attributes is 3\n",
      "\n",
      "Distance between Calculate percentages --> Represent bar charts is 2\n",
      "\n",
      "Distance between Calculate percentages --> Represent process map is 3\n",
      "\n",
      "Distance between Calculate percentages --> Represent histograms is 3\n",
      "\n",
      "Distance between Calculate percentages --> Calculate throughput is 3\n",
      "\n",
      "Distance between Calculate percentages --> Calculate waiting time is 3\n",
      "\n",
      "Distance between Calculate percentages --> Calculate frequency is 2\n",
      "\n",
      "Distance between Calculate percentages --> Calculate statistics is 3\n",
      "-------------------------------------\n",
      "Distances for node: Calculate cycle time\n",
      "\n",
      "Distance between Calculate cycle time --> Calculate percentages is 2\n",
      "\n",
      "Distance between Calculate cycle time --> Calculate number of elements is 2\n",
      "\n",
      "Distance between Calculate cycle time --> Filter traces is 2\n",
      "\n",
      "Distance between Calculate cycle time --> Identify bottlenecks is 2\n",
      "\n",
      "Distance between Calculate cycle time --> Group traces is 2\n",
      "\n",
      "Distance between Calculate cycle time --> Identify attributes is 2\n",
      "\n",
      "Distance between Calculate cycle time --> Represent bar charts is 2\n",
      "\n",
      "Distance between Calculate cycle time --> Represent process map is 2\n",
      "\n",
      "Distance between Calculate cycle time --> Represent histograms is 2\n",
      "\n",
      "Distance between Calculate cycle time --> Calculate throughput is 3\n",
      "\n",
      "Distance between Calculate cycle time --> Calculate waiting time is 2\n",
      "\n",
      "Distance between Calculate cycle time --> Calculate frequency is 2\n",
      "\n",
      "Distance between Calculate cycle time --> Calculate statistics is 3\n",
      "-------------------------------------\n",
      "Distances for node: Calculate number of elements\n",
      "\n",
      "Distance between Calculate number of elements --> Calculate percentages is 2\n",
      "\n",
      "Distance between Calculate number of elements --> Calculate cycle time is 2\n",
      "\n",
      "Distance between Calculate number of elements --> Filter traces is 2\n",
      "\n",
      "Distance between Calculate number of elements --> Identify bottlenecks is 3\n",
      "\n",
      "Distance between Calculate number of elements --> Group traces is 2\n",
      "\n",
      "Distance between Calculate number of elements --> Identify attributes is 2\n",
      "\n",
      "Distance between Calculate number of elements --> Represent bar charts is 2\n",
      "\n",
      "Distance between Calculate number of elements --> Represent process map is 3\n",
      "\n",
      "Distance between Calculate number of elements --> Represent histograms is 3\n",
      "\n",
      "Distance between Calculate number of elements --> Calculate throughput is 2\n",
      "\n",
      "Distance between Calculate number of elements --> Calculate waiting time is 3\n",
      "\n",
      "Distance between Calculate number of elements --> Calculate frequency is 2\n",
      "\n",
      "Distance between Calculate number of elements --> Calculate statistics is 3\n",
      "-------------------------------------\n",
      "Distances for node: Filter traces\n",
      "\n",
      "Distance between Filter traces --> Calculate percentages is 2\n",
      "\n",
      "Distance between Filter traces --> Calculate cycle time is 2\n",
      "\n",
      "Distance between Filter traces --> Calculate number of elements is 2\n",
      "\n",
      "Distance between Filter traces --> Identify bottlenecks is 3\n",
      "\n",
      "Distance between Filter traces --> Group traces is 2\n",
      "\n",
      "Distance between Filter traces --> Identify attributes is 2\n",
      "\n",
      "Distance between Filter traces --> Represent bar charts is 2\n",
      "\n",
      "Distance between Filter traces --> Represent process map is 2\n",
      "\n",
      "Distance between Filter traces --> Represent histograms is 2\n",
      "\n",
      "Distance between Filter traces --> Calculate throughput is 2\n",
      "\n",
      "Distance between Filter traces --> Calculate waiting time is 2\n",
      "\n",
      "Distance between Filter traces --> Calculate frequency is 2\n",
      "\n",
      "Distance between Filter traces --> Calculate statistics is 2\n",
      "-------------------------------------\n",
      "Distances for node: Identify bottlenecks\n",
      "\n",
      "Distance between Identify bottlenecks --> Calculate percentages is 2\n",
      "\n",
      "Distance between Identify bottlenecks --> Calculate cycle time is 2\n",
      "\n",
      "Distance between Identify bottlenecks --> Calculate number of elements is 3\n",
      "\n",
      "Distance between Identify bottlenecks --> Filter traces is 3\n",
      "\n",
      "Distance between Identify bottlenecks --> Group traces is 3\n",
      "\n",
      "Distance between Identify bottlenecks --> Identify attributes is 3\n",
      "\n",
      "Distance between Identify bottlenecks --> Represent bar charts is 2\n",
      "\n",
      "Distance between Identify bottlenecks --> Represent process map is 2\n",
      "\n",
      "Distance between Identify bottlenecks --> Represent histograms is 2\n",
      "\n",
      "Distance between Identify bottlenecks --> Calculate throughput is 4\n",
      "\n",
      "Distance between Identify bottlenecks --> Calculate waiting time is 2\n",
      "\n",
      "Distance between Identify bottlenecks --> Calculate frequency is 2\n",
      "\n",
      "Distance between Identify bottlenecks --> Calculate statistics is 4\n",
      "-------------------------------------\n",
      "Distances for node: Group traces\n",
      "\n",
      "Distance between Group traces --> Calculate percentages is 2\n",
      "\n",
      "Distance between Group traces --> Calculate cycle time is 2\n",
      "\n",
      "Distance between Group traces --> Calculate number of elements is 2\n",
      "\n",
      "Distance between Group traces --> Filter traces is 2\n",
      "\n",
      "Distance between Group traces --> Identify bottlenecks is 3\n",
      "\n",
      "Distance between Group traces --> Identify attributes is 3\n",
      "\n",
      "Distance between Group traces --> Represent bar charts is 3\n",
      "\n",
      "Distance between Group traces --> Represent process map is 3\n",
      "\n",
      "Distance between Group traces --> Represent histograms is 3\n",
      "\n",
      "Distance between Group traces --> Calculate throughput is 3\n",
      "\n",
      "Distance between Group traces --> Calculate waiting time is 3\n",
      "\n",
      "Distance between Group traces --> Calculate frequency is 3\n",
      "\n",
      "Distance between Group traces --> Calculate statistics is 2\n",
      "-------------------------------------\n",
      "Distances for node: Identify attributes\n",
      "\n",
      "Distance between Identify attributes --> Calculate percentages is 3\n",
      "\n",
      "Distance between Identify attributes --> Calculate cycle time is 2\n",
      "\n",
      "Distance between Identify attributes --> Calculate number of elements is 2\n",
      "\n",
      "Distance between Identify attributes --> Filter traces is 2\n",
      "\n",
      "Distance between Identify attributes --> Identify bottlenecks is 3\n",
      "\n",
      "Distance between Identify attributes --> Group traces is 3\n",
      "\n",
      "Distance between Identify attributes --> Represent bar charts is 2\n",
      "\n",
      "Distance between Identify attributes --> Represent process map is 3\n",
      "\n",
      "Distance between Identify attributes --> Represent histograms is 3\n",
      "\n",
      "Distance between Identify attributes --> Calculate throughput is 3\n",
      "\n",
      "Distance between Identify attributes --> Calculate waiting time is 3\n",
      "\n",
      "Distance between Identify attributes --> Calculate frequency is 3\n",
      "\n",
      "Distance between Identify attributes --> Calculate statistics is 3\n",
      "-------------------------------------\n",
      "Distances for node: Represent bar charts\n",
      "\n",
      "Distance between Represent bar charts --> Calculate percentages is 2\n",
      "\n",
      "Distance between Represent bar charts --> Calculate cycle time is 2\n",
      "\n",
      "Distance between Represent bar charts --> Calculate number of elements is 2\n",
      "\n",
      "Distance between Represent bar charts --> Filter traces is 2\n",
      "\n",
      "Distance between Represent bar charts --> Identify bottlenecks is 2\n",
      "\n",
      "Distance between Represent bar charts --> Group traces is 3\n",
      "\n",
      "Distance between Represent bar charts --> Identify attributes is 2\n",
      "\n",
      "Distance between Represent bar charts --> Represent process map is 3\n",
      "\n",
      "Distance between Represent bar charts --> Represent histograms is 3\n",
      "\n",
      "Distance between Represent bar charts --> Calculate throughput is 3\n",
      "\n",
      "Distance between Represent bar charts --> Calculate waiting time is 3\n",
      "\n",
      "Distance between Represent bar charts --> Calculate frequency is 3\n",
      "\n",
      "Distance between Represent bar charts --> Calculate statistics is 3\n",
      "-------------------------------------\n",
      "Distances for node: Represent process map\n",
      "\n",
      "Distance between Represent process map --> Calculate percentages is 3\n",
      "\n",
      "Distance between Represent process map --> Calculate cycle time is 2\n",
      "\n",
      "Distance between Represent process map --> Calculate number of elements is 3\n",
      "\n",
      "Distance between Represent process map --> Filter traces is 2\n",
      "\n",
      "Distance between Represent process map --> Identify bottlenecks is 2\n",
      "\n",
      "Distance between Represent process map --> Group traces is 3\n",
      "\n",
      "Distance between Represent process map --> Identify attributes is 3\n",
      "\n",
      "Distance between Represent process map --> Represent bar charts is 3\n",
      "\n",
      "Distance between Represent process map --> Represent histograms is 3\n",
      "\n",
      "Distance between Represent process map --> Calculate throughput is 3\n",
      "\n",
      "Distance between Represent process map --> Calculate waiting time is 3\n",
      "\n",
      "Distance between Represent process map --> Calculate frequency is 3\n",
      "\n",
      "Distance between Represent process map --> Calculate statistics is 3\n",
      "-------------------------------------\n",
      "Distances for node: Represent histograms\n",
      "\n",
      "Distance between Represent histograms --> Calculate percentages is 3\n",
      "\n",
      "Distance between Represent histograms --> Calculate cycle time is 2\n",
      "\n",
      "Distance between Represent histograms --> Calculate number of elements is 3\n",
      "\n",
      "Distance between Represent histograms --> Filter traces is 2\n",
      "\n",
      "Distance between Represent histograms --> Identify bottlenecks is 2\n",
      "\n",
      "Distance between Represent histograms --> Group traces is 3\n",
      "\n",
      "Distance between Represent histograms --> Identify attributes is 3\n",
      "\n",
      "Distance between Represent histograms --> Represent bar charts is 3\n",
      "\n",
      "Distance between Represent histograms --> Represent process map is 3\n",
      "\n",
      "Distance between Represent histograms --> Calculate throughput is 3\n",
      "\n",
      "Distance between Represent histograms --> Calculate waiting time is 3\n",
      "\n",
      "Distance between Represent histograms --> Calculate frequency is 3\n",
      "\n",
      "Distance between Represent histograms --> Calculate statistics is 3\n",
      "-------------------------------------\n",
      "Distances for node: Calculate throughput\n",
      "\n",
      "Distance between Calculate throughput --> Calculate percentages is 3\n",
      "\n",
      "Distance between Calculate throughput --> Calculate cycle time is 3\n",
      "\n",
      "Distance between Calculate throughput --> Calculate number of elements is 2\n",
      "\n",
      "Distance between Calculate throughput --> Filter traces is 2\n",
      "\n",
      "Distance between Calculate throughput --> Identify bottlenecks is 4\n",
      "\n",
      "Distance between Calculate throughput --> Group traces is 3\n",
      "\n",
      "Distance between Calculate throughput --> Identify attributes is 3\n",
      "\n",
      "Distance between Calculate throughput --> Represent bar charts is 3\n",
      "\n",
      "Distance between Calculate throughput --> Represent process map is 3\n",
      "\n",
      "Distance between Calculate throughput --> Represent histograms is 3\n",
      "\n",
      "Distance between Calculate throughput --> Calculate waiting time is 3\n",
      "\n",
      "Distance between Calculate throughput --> Calculate frequency is 3\n",
      "\n",
      "Distance between Calculate throughput --> Calculate statistics is 3\n",
      "-------------------------------------\n",
      "Distances for node: Calculate waiting time\n",
      "\n",
      "Distance between Calculate waiting time --> Calculate percentages is 3\n",
      "\n",
      "Distance between Calculate waiting time --> Calculate cycle time is 2\n",
      "\n",
      "Distance between Calculate waiting time --> Calculate number of elements is 3\n",
      "\n",
      "Distance between Calculate waiting time --> Filter traces is 2\n",
      "\n",
      "Distance between Calculate waiting time --> Identify bottlenecks is 2\n",
      "\n",
      "Distance between Calculate waiting time --> Group traces is 3\n",
      "\n",
      "Distance between Calculate waiting time --> Identify attributes is 3\n",
      "\n",
      "Distance between Calculate waiting time --> Represent bar charts is 3\n",
      "\n",
      "Distance between Calculate waiting time --> Represent process map is 3\n",
      "\n",
      "Distance between Calculate waiting time --> Represent histograms is 3\n",
      "\n",
      "Distance between Calculate waiting time --> Calculate throughput is 3\n",
      "\n",
      "Distance between Calculate waiting time --> Calculate frequency is 3\n",
      "\n",
      "Distance between Calculate waiting time --> Calculate statistics is 3\n",
      "-------------------------------------\n",
      "Distances for node: Calculate frequency\n",
      "\n",
      "Distance between Calculate frequency --> Calculate percentages is 2\n",
      "\n",
      "Distance between Calculate frequency --> Calculate cycle time is 2\n",
      "\n",
      "Distance between Calculate frequency --> Calculate number of elements is 2\n",
      "\n",
      "Distance between Calculate frequency --> Filter traces is 2\n",
      "\n",
      "Distance between Calculate frequency --> Identify bottlenecks is 2\n",
      "\n",
      "Distance between Calculate frequency --> Group traces is 3\n",
      "\n",
      "Distance between Calculate frequency --> Identify attributes is 3\n",
      "\n",
      "Distance between Calculate frequency --> Represent bar charts is 3\n",
      "\n",
      "Distance between Calculate frequency --> Represent process map is 3\n",
      "\n",
      "Distance between Calculate frequency --> Represent histograms is 3\n",
      "\n",
      "Distance between Calculate frequency --> Calculate throughput is 3\n",
      "\n",
      "Distance between Calculate frequency --> Calculate waiting time is 3\n",
      "\n",
      "Distance between Calculate frequency --> Calculate statistics is 3\n",
      "-------------------------------------\n"
     ]
    }
   ],
   "source": [
    "calculateShortestPath(G2)"
   ]
  },
  {
   "cell_type": "code",
   "execution_count": null,
   "metadata": {},
   "outputs": [],
   "source": []
  }
 ],
 "metadata": {
  "kernelspec": {
   "display_name": "Python 3",
   "language": "python",
   "name": "python3"
  },
  "language_info": {
   "codemirror_mode": {
    "name": "ipython",
    "version": 3
   },
   "file_extension": ".py",
   "mimetype": "text/x-python",
   "name": "python",
   "nbconvert_exporter": "python",
   "pygments_lexer": "ipython3",
   "version": "3.8.8"
  }
 },
 "nbformat": 4,
 "nbformat_minor": 2
}
