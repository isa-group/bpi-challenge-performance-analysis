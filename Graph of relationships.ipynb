{
 "cells": [
  {
   "cell_type": "code",
   "execution_count": 1,
   "metadata": {},
   "outputs": [],
   "source": [
    "import networkx as nx\n",
    "import numpy as np\n",
    "import pandas as pd\n",
    "import matplotlib "
   ]
  },
  {
   "cell_type": "code",
   "execution_count": 2,
   "metadata": {},
   "outputs": [],
   "source": [
    "nuevasmetricas=pd.read_csv(\"metricas2.csv\",index_col=0)\n",
    "meansIndexes=nuevasmetricas.groupby(\"question\").mean()"
   ]
  },
  {
   "cell_type": "code",
   "execution_count": 3,
   "metadata": {},
   "outputs": [
    {
     "data": {
      "text/html": [
       "<div>\n",
       "<style scoped>\n",
       "    .dataframe tbody tr th:only-of-type {\n",
       "        vertical-align: middle;\n",
       "    }\n",
       "\n",
       "    .dataframe tbody tr th {\n",
       "        vertical-align: top;\n",
       "    }\n",
       "\n",
       "    .dataframe thead th {\n",
       "        text-align: right;\n",
       "    }\n",
       "</style>\n",
       "<table border=\"1\" class=\"dataframe\">\n",
       "  <thead>\n",
       "    <tr style=\"text-align: right;\">\n",
       "      <th></th>\n",
       "      <th>overlap</th>\n",
       "      <th>jaccard</th>\n",
       "      <th>sorensen</th>\n",
       "    </tr>\n",
       "  </thead>\n",
       "  <tbody>\n",
       "    <tr>\n",
       "      <td>count</td>\n",
       "      <td>36.000000</td>\n",
       "      <td>36.000000</td>\n",
       "      <td>36.000000</td>\n",
       "    </tr>\n",
       "    <tr>\n",
       "      <td>mean</td>\n",
       "      <td>0.160699</td>\n",
       "      <td>0.064402</td>\n",
       "      <td>0.104539</td>\n",
       "    </tr>\n",
       "    <tr>\n",
       "      <td>std</td>\n",
       "      <td>0.068123</td>\n",
       "      <td>0.036957</td>\n",
       "      <td>0.053004</td>\n",
       "    </tr>\n",
       "    <tr>\n",
       "      <td>min</td>\n",
       "      <td>0.049800</td>\n",
       "      <td>0.015631</td>\n",
       "      <td>0.027792</td>\n",
       "    </tr>\n",
       "    <tr>\n",
       "      <td>25%</td>\n",
       "      <td>0.112099</td>\n",
       "      <td>0.035448</td>\n",
       "      <td>0.063140</td>\n",
       "    </tr>\n",
       "    <tr>\n",
       "      <td>50%</td>\n",
       "      <td>0.161158</td>\n",
       "      <td>0.059020</td>\n",
       "      <td>0.102277</td>\n",
       "    </tr>\n",
       "    <tr>\n",
       "      <td>75%</td>\n",
       "      <td>0.217586</td>\n",
       "      <td>0.080275</td>\n",
       "      <td>0.126135</td>\n",
       "    </tr>\n",
       "    <tr>\n",
       "      <td>max</td>\n",
       "      <td>0.315713</td>\n",
       "      <td>0.160511</td>\n",
       "      <td>0.215111</td>\n",
       "    </tr>\n",
       "  </tbody>\n",
       "</table>\n",
       "</div>"
      ],
      "text/plain": [
       "         overlap    jaccard   sorensen\n",
       "count  36.000000  36.000000  36.000000\n",
       "mean    0.160699   0.064402   0.104539\n",
       "std     0.068123   0.036957   0.053004\n",
       "min     0.049800   0.015631   0.027792\n",
       "25%     0.112099   0.035448   0.063140\n",
       "50%     0.161158   0.059020   0.102277\n",
       "75%     0.217586   0.080275   0.126135\n",
       "max     0.315713   0.160511   0.215111"
      ]
     },
     "execution_count": 3,
     "metadata": {},
     "output_type": "execute_result"
    }
   ],
   "source": [
    "meansIndexes.describe()"
   ]
  },
  {
   "cell_type": "code",
   "execution_count": 4,
   "metadata": {},
   "outputs": [],
   "source": [
    "meansFiltered=meansIndexes[meansIndexes['sorensen']>0.10].reset_index()"
   ]
  },
  {
   "cell_type": "code",
   "execution_count": 5,
   "metadata": {},
   "outputs": [],
   "source": [
    "#meansFiltered['question'] = meansFiltered['column name'].str.replace('P','Q')"
   ]
  },
  {
   "cell_type": "code",
   "execution_count": 6,
   "metadata": {},
   "outputs": [],
   "source": [
    "def fixLabel(string):\n",
    "    string=string.replace(\"P\", \"Q\")\n",
    "    string=string[:2] + ' ' + string[2:]\n",
    "    if string in ['Q1 2020','Q2 2019','Q4 2020']:\n",
    "        string2=string+\" \"+\"stages\"\n",
    "    elif string in ['Q2 2020','Q5 2015']:\n",
    "        string2=string+\" \"+\"differences\"\n",
    "    elif string in [\"Q6 2020\",\"Q5 2020\"]:\n",
    "        string2=string+\" \"+\"bottlenecks\"\n",
    "    else:\n",
    "        string2=\"Q1 2017 \"+\"stages,bottlenecks and differences\"\n",
    "    return string2"
   ]
  },
  {
   "cell_type": "code",
   "execution_count": 7,
   "metadata": {},
   "outputs": [],
   "source": [
    "uniqueQuestions=[]\n",
    "edges=[]\n",
    "for questions in meansFiltered['question']:\n",
    "    questionsSplits=questions.split(\"-\")\n",
    "    question0=fixLabel(questionsSplits[0])\n",
    "    question1=fixLabel(questionsSplits[1])\n",
    "    uniqueQuestions.append(question0)\n",
    "    uniqueQuestions.append(question1)\n",
    "    edges.append((question0,question1))"
   ]
  },
  {
   "cell_type": "code",
   "execution_count": 8,
   "metadata": {},
   "outputs": [],
   "source": [
    "nodes=list(set(uniqueQuestions))"
   ]
  },
  {
   "cell_type": "code",
   "execution_count": 9,
   "metadata": {},
   "outputs": [
    {
     "data": {
      "text/plain": [
       "['Q2 2020 differences',\n",
       " 'Q5 2020 bottlenecks',\n",
       " 'Q5 2015 differences',\n",
       " 'Q6 2020 bottlenecks',\n",
       " 'Q1 2020 stages',\n",
       " 'Q1 2017 stages,bottlenecks and differences',\n",
       " 'Q2 2019 stages',\n",
       " 'Q4 2020 stages']"
      ]
     },
     "execution_count": 9,
     "metadata": {},
     "output_type": "execute_result"
    }
   ],
   "source": [
    "nodes"
   ]
  },
  {
   "cell_type": "code",
   "execution_count": 10,
   "metadata": {},
   "outputs": [
    {
     "data": {
      "text/plain": [
       "[('Q1 2017 stages,bottlenecks and differences',\n",
       "  'Q1 2017 stages,bottlenecks and differences'),\n",
       " ('Q1 2017 stages,bottlenecks and differences', 'Q2 2019 stages'),\n",
       " ('Q1 2017 stages,bottlenecks and differences', 'Q5 2020 bottlenecks'),\n",
       " ('Q1 2017 stages,bottlenecks and differences', 'Q6 2020 bottlenecks'),\n",
       " ('Q1 2020 stages', 'Q1 2020 stages'),\n",
       " ('Q2 2019 stages', 'Q1 2020 stages'),\n",
       " ('Q2 2019 stages', 'Q2 2019 stages'),\n",
       " ('Q2 2020 differences', 'Q2 2020 differences'),\n",
       " ('Q4 2020 stages', 'Q5 2020 bottlenecks'),\n",
       " ('Q4 2020 stages', 'Q6 2020 bottlenecks'),\n",
       " ('Q5 2015 differences', 'Q1 2017 stages,bottlenecks and differences'),\n",
       " ('Q5 2015 differences', 'Q1 2020 stages'),\n",
       " ('Q5 2015 differences', 'Q2 2019 stages'),\n",
       " ('Q5 2015 differences', 'Q2 2020 differences'),\n",
       " ('Q5 2015 differences', 'Q5 2015 differences'),\n",
       " ('Q5 2020 bottlenecks', 'Q5 2020 bottlenecks'),\n",
       " ('Q5 2020 bottlenecks', 'Q6 2020 bottlenecks'),\n",
       " ('Q6 2020 bottlenecks', 'Q6 2020 bottlenecks')]"
      ]
     },
     "execution_count": 10,
     "metadata": {},
     "output_type": "execute_result"
    }
   ],
   "source": [
    "edges"
   ]
  },
  {
   "cell_type": "code",
   "execution_count": 11,
   "metadata": {},
   "outputs": [],
   "source": [
    "gp=nx.Graph()\n",
    "gp.add_nodes_from(nodes)\n",
    "gp.add_edges_from(edges)"
   ]
  },
  {
   "cell_type": "code",
   "execution_count": 12,
   "metadata": {},
   "outputs": [],
   "source": [
    "posFixed={\n",
    "        'Q2 2020 differences': np.array([ 0.2339124, 0.2        ]),\n",
    "        'Q1 2020 stages': np.array([0.18656612, 0.1133303 ]),\n",
    "        'Q4 2020 stages': np.array([-0.30196476,  0.28807911]),\n",
    "        'Q2 2019 stages': np.array([0.07927056, 0.01831406]),\n",
    "        'Q1 2017 stages,bottlenecks and differences': np.array([-0.08965428,  0.0620876 ]),\n",
    "        'Q5 2020 bottlenecks': np.array([-0.20139872,  0.15125941]),\n",
    "        'Q6 2020 bottlenecks': np.array([-0.13991147,  0.22530745]),\n",
    "        'Q5 2015 differences': np.array([-0.00629868,  0.14162209])\n",
    "}"
   ]
  },
  {
   "cell_type": "code",
   "execution_count": 15,
   "metadata": {
    "scrolled": false
   },
   "outputs": [
    {
     "name": "stderr",
     "output_type": "stream",
     "text": [
      "D:\\Anaconda\\lib\\site-packages\\networkx\\drawing\\nx_pylab.py:579: MatplotlibDeprecationWarning: \n",
      "The iterable function was deprecated in Matplotlib 3.1 and will be removed in 3.3. Use np.iterable instead.\n",
      "  if not cb.iterable(width):\n"
     ]
    },
    {
     "data": {
      "image/png": "[encoded data removed]",
      "text/plain": [
       "<Figure size 1224x720 with 1 Axes>"
      ]
     },
     "metadata": {},
     "output_type": "display_data"
    }
   ],
   "source": [
    "nx.draw(gp,\n",
    "        posFixed,\n",
    "        #nodelist=nodes,                         \n",
    "        edgelist=edges, \n",
    "        with_labels=True\n",
    "       )\n",
    "fig = matplotlib.pyplot.gcf()\n",
    "fig.set_size_inches(17,10)\n",
    "#matplotlib.pyplot.savefig('graphQuestionsVariants0.10.pdf')"
   ]
  },
  {
   "cell_type": "code",
   "execution_count": 29,
   "metadata": {},
   "outputs": [],
   "source": [
    "#-------------------------------------------------------------------------------------------------------------------------------\n",
    "#comparando las posibles agrupaciones del grafo"
   ]
  },
  {
   "cell_type": "code",
   "execution_count": 40,
   "metadata": {},
   "outputs": [],
   "source": [
    "df_prueba = pd.read_csv(\"Log of analysis of time aspects.csv\",index_col=0)\n",
    "df_prueba['duplaPreg']=[ question+str(year) for year,question in zip(df_prueba['Year'],df_prueba['Question']) ]"
   ]
  },
  {
   "cell_type": "code",
   "execution_count": 41,
   "metadata": {},
   "outputs": [
    {
     "data": {
      "text/html": [
       "<div>\n",
       "<style scoped>\n",
       "    .dataframe tbody tr th:only-of-type {\n",
       "        vertical-align: middle;\n",
       "    }\n",
       "\n",
       "    .dataframe tbody tr th {\n",
       "        vertical-align: top;\n",
       "    }\n",
       "\n",
       "    .dataframe thead th {\n",
       "        text-align: right;\n",
       "    }\n",
       "</style>\n",
       "<table border=\"1\" class=\"dataframe\">\n",
       "  <thead>\n",
       "    <tr style=\"text-align: right;\">\n",
       "      <th></th>\n",
       "      <th>case:id</th>\n",
       "      <th>case:concept:name</th>\n",
       "      <th>concept:name</th>\n",
       "      <th>Variant</th>\n",
       "      <th>time:timestamp</th>\n",
       "      <th>Question</th>\n",
       "      <th>Report</th>\n",
       "      <th>Year</th>\n",
       "      <th>Category</th>\n",
       "      <th>Type</th>\n",
       "      <th>Tupla</th>\n",
       "      <th>Organization</th>\n",
       "      <th>duplaPreg</th>\n",
       "    </tr>\n",
       "  </thead>\n",
       "  <tbody>\n",
       "    <tr>\n",
       "      <td>0</td>\n",
       "      <td>A1 P2 BPI 2020</td>\n",
       "      <td>A1 P2 BPI 2020</td>\n",
       "      <td>Calculate cycle time</td>\n",
       "      <td>Calculate cycle time of the whole process for ...</td>\n",
       "      <td>2021-11-19 09:37:02.248560</td>\n",
       "      <td>P2</td>\n",
       "      <td>A1</td>\n",
       "      <td>2020</td>\n",
       "      <td>Academic</td>\n",
       "      <td>Analyze Cycle Time</td>\n",
       "      <td>A12020</td>\n",
       "      <td>TechnischeUniversitätBerlin</td>\n",
       "      <td>P22020</td>\n",
       "    </tr>\n",
       "    <tr>\n",
       "      <td>1</td>\n",
       "      <td>A1 P2 BPI 2020</td>\n",
       "      <td>A1 P2 BPI 2020</td>\n",
       "      <td>Compare cycle time</td>\n",
       "      <td>Compare cycle time</td>\n",
       "      <td>2021-11-19 10:37:02.248560</td>\n",
       "      <td>P2</td>\n",
       "      <td>A1</td>\n",
       "      <td>2020</td>\n",
       "      <td>Academic</td>\n",
       "      <td>Analyze Cycle Time</td>\n",
       "      <td>A12020</td>\n",
       "      <td>TechnischeUniversitätBerlin</td>\n",
       "      <td>P22020</td>\n",
       "    </tr>\n",
       "    <tr>\n",
       "      <td>2</td>\n",
       "      <td>A2 P2 BPI 2020</td>\n",
       "      <td>A2 P2 BPI 2020</td>\n",
       "      <td>Calculate cycle time</td>\n",
       "      <td>Get cycle time from the previous question</td>\n",
       "      <td>2021-11-19 11:37:02.248560</td>\n",
       "      <td>P2</td>\n",
       "      <td>A2</td>\n",
       "      <td>2020</td>\n",
       "      <td>Student</td>\n",
       "      <td>Analyze Cycle Time</td>\n",
       "      <td>A22020</td>\n",
       "      <td>FacultyofScienceUtrechtUniversity</td>\n",
       "      <td>P22020</td>\n",
       "    </tr>\n",
       "    <tr>\n",
       "      <td>3</td>\n",
       "      <td>A2 P2 BPI 2020</td>\n",
       "      <td>A2 P2 BPI 2020</td>\n",
       "      <td>Compare cycle time</td>\n",
       "      <td>Compare cycle time</td>\n",
       "      <td>2021-11-19 12:37:02.248560</td>\n",
       "      <td>P2</td>\n",
       "      <td>A2</td>\n",
       "      <td>2020</td>\n",
       "      <td>Student</td>\n",
       "      <td>Analyze Cycle Time</td>\n",
       "      <td>A22020</td>\n",
       "      <td>FacultyofScienceUtrechtUniversity</td>\n",
       "      <td>P22020</td>\n",
       "    </tr>\n",
       "    <tr>\n",
       "      <td>4</td>\n",
       "      <td>A7 P2 BPI 2020</td>\n",
       "      <td>A7 P2 BPI 2020</td>\n",
       "      <td>Calculate throughput</td>\n",
       "      <td>Calculate throughput</td>\n",
       "      <td>2021-11-19 13:37:02.248560</td>\n",
       "      <td>P2</td>\n",
       "      <td>A7</td>\n",
       "      <td>2020</td>\n",
       "      <td>Academic</td>\n",
       "      <td>Analyze Cycle Time</td>\n",
       "      <td>A72020</td>\n",
       "      <td>GermanResearchCenterforArtificialIntelligenceDFKI</td>\n",
       "      <td>P22020</td>\n",
       "    </tr>\n",
       "  </tbody>\n",
       "</table>\n",
       "</div>"
      ],
      "text/plain": [
       "          case:id case:concept:name          concept:name  \\\n",
       "0  A1 P2 BPI 2020    A1 P2 BPI 2020  Calculate cycle time   \n",
       "1  A1 P2 BPI 2020    A1 P2 BPI 2020    Compare cycle time   \n",
       "2  A2 P2 BPI 2020    A2 P2 BPI 2020  Calculate cycle time   \n",
       "3  A2 P2 BPI 2020    A2 P2 BPI 2020    Compare cycle time   \n",
       "4  A7 P2 BPI 2020    A7 P2 BPI 2020  Calculate throughput   \n",
       "\n",
       "                                             Variant  \\\n",
       "0  Calculate cycle time of the whole process for ...   \n",
       "1                                 Compare cycle time   \n",
       "2          Get cycle time from the previous question   \n",
       "3                                 Compare cycle time   \n",
       "4                               Calculate throughput   \n",
       "\n",
       "               time:timestamp Question Report  Year  Category  \\\n",
       "0  2021-11-19 09:37:02.248560       P2     A1  2020  Academic   \n",
       "1  2021-11-19 10:37:02.248560       P2     A1  2020  Academic   \n",
       "2  2021-11-19 11:37:02.248560       P2     A2  2020   Student   \n",
       "3  2021-11-19 12:37:02.248560       P2     A2  2020   Student   \n",
       "4  2021-11-19 13:37:02.248560       P2     A7  2020  Academic   \n",
       "\n",
       "                 Type   Tupla  \\\n",
       "0  Analyze Cycle Time  A12020   \n",
       "1  Analyze Cycle Time  A12020   \n",
       "2  Analyze Cycle Time  A22020   \n",
       "3  Analyze Cycle Time  A22020   \n",
       "4  Analyze Cycle Time  A72020   \n",
       "\n",
       "                                        Organization duplaPreg  \n",
       "0                        TechnischeUniversitätBerlin    P22020  \n",
       "1                        TechnischeUniversitätBerlin    P22020  \n",
       "2                  FacultyofScienceUtrechtUniversity    P22020  \n",
       "3                  FacultyofScienceUtrechtUniversity    P22020  \n",
       "4  GermanResearchCenterforArtificialIntelligenceDFKI    P22020  "
      ]
     },
     "execution_count": 41,
     "metadata": {},
     "output_type": "execute_result"
    }
   ],
   "source": [
    "df_prueba.head()"
   ]
  },
  {
   "cell_type": "code",
   "execution_count": 32,
   "metadata": {},
   "outputs": [],
   "source": [
    "p4p5p62020=df_prueba[df_prueba['duplaPreg'].isin([\"P52020\",\"P62020\",\"P42020\"])].groupby(\"Question\").apply(lambda x: x['concept:name'].unique())"
   ]
  },
  {
   "cell_type": "code",
   "execution_count": 116,
   "metadata": {},
   "outputs": [
    {
     "data": {
      "text/plain": [
       "array(['Filter activities', 'Group activities', 'Calculate cycle time',\n",
       "       'Calculate throughput', 'Calculate number of elements',\n",
       "       'Represent scatterplot', 'Represent process map',\n",
       "       'Represent bar charts', 'Identify bottlenecks',\n",
       "       'Filter variants depending on frequency', 'Represent histograms',\n",
       "       'Preprocess the traces of the logs', 'Represent heatmaps',\n",
       "       'Filter traces', 'Calculate average of activities per trace',\n",
       "       'Group traces', 'Calculate frequency', 'Identify attributes',\n",
       "       'Identify transitions by cycle time', 'Compare cycle time',\n",
       "       'Calculate percentages', 'Identify traces by cycle time',\n",
       "       'Represent temporal series', 'Identify activities',\n",
       "       'Calculate statistics', 'Identify roles'], dtype=object)"
      ]
     },
     "execution_count": 116,
     "metadata": {},
     "output_type": "execute_result"
    }
   ],
   "source": [
    "p4p5p62020[0]"
   ]
  },
  {
   "cell_type": "code",
   "execution_count": 117,
   "metadata": {},
   "outputs": [],
   "source": [
    "int1=set.intersection(set(p4p5p62020[0]), set(p4p5p62020[1]), set(p4p5p62020[2]))"
   ]
  },
  {
   "cell_type": "code",
   "execution_count": 125,
   "metadata": {
    "scrolled": true
   },
   "outputs": [
    {
     "data": {
      "text/plain": [
       "{'Calculate cycle time',\n",
       " 'Calculate frequency',\n",
       " 'Calculate number of elements',\n",
       " 'Compare cycle time',\n",
       " 'Filter activities',\n",
       " 'Filter traces',\n",
       " 'Identify bottlenecks',\n",
       " 'Identify transitions by cycle time',\n",
       " 'Represent histograms',\n",
       " 'Represent process map'}"
      ]
     },
     "execution_count": 125,
     "metadata": {},
     "output_type": "execute_result"
    }
   ],
   "source": [
    "int1"
   ]
  },
  {
   "cell_type": "code",
   "execution_count": 23,
   "metadata": {},
   "outputs": [],
   "source": [
    "#comparando las operaciones comunes entre pares de aristas (variantes):"
   ]
  },
  {
   "cell_type": "code",
   "execution_count": 70,
   "metadata": {},
   "outputs": [],
   "source": [
    "def intersection(val1,val2):\n",
    "    \n",
    "    print(\"Teniendo en cuenta todas:\")\n",
    "    vc=df_prueba[df_prueba['duplaPreg']==val1]['Variant'].value_counts()\n",
    "    vc2=df_prueba[df_prueba['duplaPreg']==val2]['Variant'].value_counts()\n",
    "    \n",
    "    inter=set(vc.index).intersection(vc2.index)\n",
    "    for act in inter:\n",
    "        print(act)\n",
    "        print()\n",
    "    print(\"-------------------------\")\n",
    "    print(\"Teniendo en cuenta solo las frecuentes:\")\n",
    "    media1=np.mean(vc)\n",
    "    media2=np.mean(vc2)\n",
    "    interFrec=set(vc[vc>media1].index).intersection(vc2[vc2>media2].index)\n",
    "    for act in interFrec:\n",
    "        print(act)\n",
    "        print()\n",
    "    "
   ]
  },
  {
   "cell_type": "code",
   "execution_count": 83,
   "metadata": {
    "scrolled": false
   },
   "outputs": [
    {
     "name": "stdout",
     "output_type": "stream",
     "text": [
      "Teniendo en cuenta todas:\n",
      "Calculate cycle time of the whole process for all traces\n",
      "\n",
      "Calculate number of traces\n",
      "\n",
      "Represent temporal series of traces\n",
      "\n",
      "Calculate Statistics of attributes\n",
      "\n",
      "Represent bar charts of traces\n",
      "\n",
      "Identify values of attributes\n",
      "\n",
      "Represent histograms of cycle time\n",
      "\n",
      "Compare cycle time\n",
      "\n",
      "Group traces depending on attributes\n",
      "\n",
      "Calculate frequency of activities\n",
      "\n",
      "Calculate Statistics of cycle time\n",
      "\n",
      "Calculate cycle time of the whole process for each subset of traces\n",
      "\n",
      "Filter traces by activities\n",
      "\n",
      "-------------------------\n",
      "Teniendo en cuenta solo las frecuentes:\n",
      "Calculate Statistics of cycle time\n",
      "\n",
      "Compare cycle time\n",
      "\n",
      "Represent histograms of cycle time\n",
      "\n"
     ]
    }
   ],
   "source": [
    "intersection(\"P52015\",\"P22020\")"
   ]
  }
 ],
 "metadata": {
  "kernelspec": {
   "display_name": "Python 3",
   "language": "python",
   "name": "python3"
  },
  "language_info": {
   "codemirror_mode": {
    "name": "ipython",
    "version": 3
   },
   "file_extension": ".py",
   "mimetype": "text/x-python",
   "name": "python",
   "nbconvert_exporter": "python",
   "pygments_lexer": "ipython3",
   "version": "3.7.4"
  }
 },
 "nbformat": 4,
 "nbformat_minor": 2
}
