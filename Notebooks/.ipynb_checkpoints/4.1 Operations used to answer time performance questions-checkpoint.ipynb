{
 "cells": [
  {
   "cell_type": "code",
   "execution_count": 1,
   "metadata": {},
   "outputs": [],
   "source": [
    "import pandas as pd\n",
    "import datetime\n",
    "from os import listdir\n",
    "import os, os.path\n",
    "from os.path import isfile, join\n",
    "import numpy as np\n",
    "import csv\n",
    "import re\n",
    "import pandas as pd\n",
    "from pm4py.objects.conversion.log import converter as log_converter\n",
    "from pm4py.objects.log.importer.xes import importer as xes_importer\n",
    "from pm4py.objects.log.exporter.xes import exporter as xes_exporter\n",
    "from pm4py.objects.log.util import dataframe_utils\n",
    "import matplotlib.pyplot as plt\n",
    "import seaborn as sns"
   ]
  },
  {
   "cell_type": "code",
   "execution_count": 2,
   "metadata": {},
   "outputs": [],
   "source": [
    "#add the data to notebook directory\n",
    "import os,sys,inspect\n",
    "currentdir = os.path.dirname(os.path.abspath(inspect.getfile(inspect.currentframe())))\n",
    "parentdir = os.path.dirname(currentdir)\n",
    "sys.path.insert(0,parentdir) "
   ]
  },
  {
   "cell_type": "code",
   "execution_count": 3,
   "metadata": {
    "scrolled": true
   },
   "outputs": [
    {
     "data": {
      "text/html": [
       "<div>\n",
       "<style scoped>\n",
       "    .dataframe tbody tr th:only-of-type {\n",
       "        vertical-align: middle;\n",
       "    }\n",
       "\n",
       "    .dataframe tbody tr th {\n",
       "        vertical-align: top;\n",
       "    }\n",
       "\n",
       "    .dataframe thead th {\n",
       "        text-align: right;\n",
       "    }\n",
       "</style>\n",
       "<table border=\"1\" class=\"dataframe\">\n",
       "  <thead>\n",
       "    <tr style=\"text-align: right;\">\n",
       "      <th></th>\n",
       "      <th>case:id</th>\n",
       "      <th>case:concept:name</th>\n",
       "      <th>concept:name</th>\n",
       "      <th>Variant</th>\n",
       "      <th>time:timestamp</th>\n",
       "      <th>Question</th>\n",
       "      <th>Report</th>\n",
       "      <th>Year</th>\n",
       "      <th>Category</th>\n",
       "      <th>Type</th>\n",
       "      <th>Tupla</th>\n",
       "      <th>Organization</th>\n",
       "    </tr>\n",
       "  </thead>\n",
       "  <tbody>\n",
       "    <tr>\n",
       "      <td>0</td>\n",
       "      <td>A2 P4 BPI 2020</td>\n",
       "      <td>A2 P4 BPI 2020</td>\n",
       "      <td>Filter activities</td>\n",
       "      <td>Filter activities by sub-processes</td>\n",
       "      <td>2022-03-11 19:24:15.966942</td>\n",
       "      <td>P4</td>\n",
       "      <td>A2</td>\n",
       "      <td>2020</td>\n",
       "      <td>Student</td>\n",
       "      <td>Manipulation</td>\n",
       "      <td>A22020</td>\n",
       "      <td>Faculty of Science, Utrecht University</td>\n",
       "    </tr>\n",
       "    <tr>\n",
       "      <td>1</td>\n",
       "      <td>A2 P4 BPI 2020</td>\n",
       "      <td>A2 P4 BPI 2020</td>\n",
       "      <td>Group activities</td>\n",
       "      <td>Group activities by sub-processes</td>\n",
       "      <td>2022-03-11 20:24:15.966942</td>\n",
       "      <td>P4</td>\n",
       "      <td>A2</td>\n",
       "      <td>2020</td>\n",
       "      <td>Student</td>\n",
       "      <td>Manipulation</td>\n",
       "      <td>A22020</td>\n",
       "      <td>Faculty of Science, Utrecht University</td>\n",
       "    </tr>\n",
       "    <tr>\n",
       "      <td>2</td>\n",
       "      <td>A2 P4 BPI 2020</td>\n",
       "      <td>A2 P4 BPI 2020</td>\n",
       "      <td>Calculate cycle time</td>\n",
       "      <td>Calculate cycle time for all pairs of events f...</td>\n",
       "      <td>2022-03-11 21:24:15.966942</td>\n",
       "      <td>P4</td>\n",
       "      <td>A2</td>\n",
       "      <td>2020</td>\n",
       "      <td>Student</td>\n",
       "      <td>Analyze Time</td>\n",
       "      <td>A22020</td>\n",
       "      <td>Faculty of Science, Utrecht University</td>\n",
       "    </tr>\n",
       "    <tr>\n",
       "      <td>3</td>\n",
       "      <td>A7 P4 BPI 2020</td>\n",
       "      <td>A7 P4 BPI 2020</td>\n",
       "      <td>Group activities</td>\n",
       "      <td>Group activities by role</td>\n",
       "      <td>2022-03-11 22:24:15.966942</td>\n",
       "      <td>P4</td>\n",
       "      <td>A7</td>\n",
       "      <td>2020</td>\n",
       "      <td>Academic</td>\n",
       "      <td>Manipulation</td>\n",
       "      <td>A72020</td>\n",
       "      <td>German Research Center for Artificial Intellig...</td>\n",
       "    </tr>\n",
       "    <tr>\n",
       "      <td>4</td>\n",
       "      <td>A7 P4 BPI 2020</td>\n",
       "      <td>A7 P4 BPI 2020</td>\n",
       "      <td>Calculate throughput</td>\n",
       "      <td>Calculate throughput</td>\n",
       "      <td>2022-03-11 23:24:15.966942</td>\n",
       "      <td>P4</td>\n",
       "      <td>A7</td>\n",
       "      <td>2020</td>\n",
       "      <td>Academic</td>\n",
       "      <td>Analyze Time</td>\n",
       "      <td>A72020</td>\n",
       "      <td>German Research Center for Artificial Intellig...</td>\n",
       "    </tr>\n",
       "    <tr>\n",
       "      <td>...</td>\n",
       "      <td>...</td>\n",
       "      <td>...</td>\n",
       "      <td>...</td>\n",
       "      <td>...</td>\n",
       "      <td>...</td>\n",
       "      <td>...</td>\n",
       "      <td>...</td>\n",
       "      <td>...</td>\n",
       "      <td>...</td>\n",
       "      <td>...</td>\n",
       "      <td>...</td>\n",
       "      <td>...</td>\n",
       "    </tr>\n",
       "    <tr>\n",
       "      <td>950</td>\n",
       "      <td>A19 P1-P2 BPI 2020</td>\n",
       "      <td>A19 P1-P2 BPI 2020</td>\n",
       "      <td>Group traces</td>\n",
       "      <td>Group traces by activities</td>\n",
       "      <td>2022-04-20 09:24:15.966942</td>\n",
       "      <td>P1-P2</td>\n",
       "      <td>A19</td>\n",
       "      <td>2020</td>\n",
       "      <td>Professional</td>\n",
       "      <td>Manipulation</td>\n",
       "      <td>A192020</td>\n",
       "      <td>Sberbank</td>\n",
       "    </tr>\n",
       "    <tr>\n",
       "      <td>951</td>\n",
       "      <td>A19 P1-P2 BPI 2020</td>\n",
       "      <td>A19 P1-P2 BPI 2020</td>\n",
       "      <td>Calculate statistics</td>\n",
       "      <td>Calculate Statistics of activities</td>\n",
       "      <td>2022-04-20 10:24:15.966942</td>\n",
       "      <td>P1-P2</td>\n",
       "      <td>A19</td>\n",
       "      <td>2020</td>\n",
       "      <td>Professional</td>\n",
       "      <td>Calculate statistics</td>\n",
       "      <td>A192020</td>\n",
       "      <td>Sberbank</td>\n",
       "    </tr>\n",
       "    <tr>\n",
       "      <td>952</td>\n",
       "      <td>A19 P1-P2 BPI 2020</td>\n",
       "      <td>A19 P1-P2 BPI 2020</td>\n",
       "      <td>Calculate throughput</td>\n",
       "      <td>Calculate throughput</td>\n",
       "      <td>2022-04-20 11:24:15.966942</td>\n",
       "      <td>P1-P2</td>\n",
       "      <td>A19</td>\n",
       "      <td>2020</td>\n",
       "      <td>Professional</td>\n",
       "      <td>Analyze Time</td>\n",
       "      <td>A192020</td>\n",
       "      <td>Sberbank</td>\n",
       "    </tr>\n",
       "    <tr>\n",
       "      <td>953</td>\n",
       "      <td>A19 P1-P2 BPI 2020</td>\n",
       "      <td>A19 P1-P2 BPI 2020</td>\n",
       "      <td>Represent temporal series</td>\n",
       "      <td>Represent temporal series of throughput</td>\n",
       "      <td>2022-04-20 12:24:15.966942</td>\n",
       "      <td>P1-P2</td>\n",
       "      <td>A19</td>\n",
       "      <td>2020</td>\n",
       "      <td>Professional</td>\n",
       "      <td>Representation</td>\n",
       "      <td>A192020</td>\n",
       "      <td>Sberbank</td>\n",
       "    </tr>\n",
       "    <tr>\n",
       "      <td>954</td>\n",
       "      <td>A19 P1-P2 BPI 2020</td>\n",
       "      <td>A19 P1-P2 BPI 2020</td>\n",
       "      <td>Comparative of throughput</td>\n",
       "      <td>Comparative of throughput</td>\n",
       "      <td>2022-04-20 13:24:15.966942</td>\n",
       "      <td>P1-P2</td>\n",
       "      <td>A19</td>\n",
       "      <td>2020</td>\n",
       "      <td>Professional</td>\n",
       "      <td>Analyze Time</td>\n",
       "      <td>A192020</td>\n",
       "      <td>Sberbank</td>\n",
       "    </tr>\n",
       "  </tbody>\n",
       "</table>\n",
       "<p>955 rows × 12 columns</p>\n",
       "</div>"
      ],
      "text/plain": [
       "                case:id   case:concept:name               concept:name  \\\n",
       "0        A2 P4 BPI 2020      A2 P4 BPI 2020          Filter activities   \n",
       "1        A2 P4 BPI 2020      A2 P4 BPI 2020           Group activities   \n",
       "2        A2 P4 BPI 2020      A2 P4 BPI 2020       Calculate cycle time   \n",
       "3        A7 P4 BPI 2020      A7 P4 BPI 2020           Group activities   \n",
       "4        A7 P4 BPI 2020      A7 P4 BPI 2020       Calculate throughput   \n",
       "..                  ...                 ...                        ...   \n",
       "950  A19 P1-P2 BPI 2020  A19 P1-P2 BPI 2020               Group traces   \n",
       "951  A19 P1-P2 BPI 2020  A19 P1-P2 BPI 2020       Calculate statistics   \n",
       "952  A19 P1-P2 BPI 2020  A19 P1-P2 BPI 2020       Calculate throughput   \n",
       "953  A19 P1-P2 BPI 2020  A19 P1-P2 BPI 2020  Represent temporal series   \n",
       "954  A19 P1-P2 BPI 2020  A19 P1-P2 BPI 2020  Comparative of throughput   \n",
       "\n",
       "                                               Variant  \\\n",
       "0                   Filter activities by sub-processes   \n",
       "1                    Group activities by sub-processes   \n",
       "2    Calculate cycle time for all pairs of events f...   \n",
       "3                             Group activities by role   \n",
       "4                                 Calculate throughput   \n",
       "..                                                 ...   \n",
       "950                         Group traces by activities   \n",
       "951                 Calculate Statistics of activities   \n",
       "952                               Calculate throughput   \n",
       "953            Represent temporal series of throughput   \n",
       "954                          Comparative of throughput   \n",
       "\n",
       "                 time:timestamp Question Report  Year      Category  \\\n",
       "0    2022-03-11 19:24:15.966942       P4     A2  2020       Student   \n",
       "1    2022-03-11 20:24:15.966942       P4     A2  2020       Student   \n",
       "2    2022-03-11 21:24:15.966942       P4     A2  2020       Student   \n",
       "3    2022-03-11 22:24:15.966942       P4     A7  2020      Academic   \n",
       "4    2022-03-11 23:24:15.966942       P4     A7  2020      Academic   \n",
       "..                          ...      ...    ...   ...           ...   \n",
       "950  2022-04-20 09:24:15.966942    P1-P2    A19  2020  Professional   \n",
       "951  2022-04-20 10:24:15.966942    P1-P2    A19  2020  Professional   \n",
       "952  2022-04-20 11:24:15.966942    P1-P2    A19  2020  Professional   \n",
       "953  2022-04-20 12:24:15.966942    P1-P2    A19  2020  Professional   \n",
       "954  2022-04-20 13:24:15.966942    P1-P2    A19  2020  Professional   \n",
       "\n",
       "                     Type    Tupla  \\\n",
       "0            Manipulation   A22020   \n",
       "1            Manipulation   A22020   \n",
       "2            Analyze Time   A22020   \n",
       "3            Manipulation   A72020   \n",
       "4            Analyze Time   A72020   \n",
       "..                    ...      ...   \n",
       "950          Manipulation  A192020   \n",
       "951  Calculate statistics  A192020   \n",
       "952          Analyze Time  A192020   \n",
       "953        Representation  A192020   \n",
       "954          Analyze Time  A192020   \n",
       "\n",
       "                                          Organization  \n",
       "0               Faculty of Science, Utrecht University  \n",
       "1               Faculty of Science, Utrecht University  \n",
       "2               Faculty of Science, Utrecht University  \n",
       "3    German Research Center for Artificial Intellig...  \n",
       "4    German Research Center for Artificial Intellig...  \n",
       "..                                                 ...  \n",
       "950                                           Sberbank  \n",
       "951                                           Sberbank  \n",
       "952                                           Sberbank  \n",
       "953                                           Sberbank  \n",
       "954                                           Sberbank  \n",
       "\n",
       "[955 rows x 12 columns]"
      ]
     },
     "execution_count": 3,
     "metadata": {},
     "output_type": "execute_result"
    }
   ],
   "source": [
    "#Data reading\n",
    "df_tipo=pd.read_csv(parentdir+\"\\\\Log of analysis of time aspects.csv\",index_col=0)\n",
    "df_tipo"
   ]
  },
  {
   "cell_type": "code",
   "execution_count": 4,
   "metadata": {},
   "outputs": [
    {
     "data": {
      "text/plain": [
       "56"
      ]
     },
     "execution_count": 4,
     "metadata": {},
     "output_type": "execute_result"
    }
   ],
   "source": [
    "#Number of different operations\n",
    "len(df_tipo['concept:name'].unique())"
   ]
  },
  {
   "cell_type": "code",
   "execution_count": 7,
   "metadata": {},
   "outputs": [
    {
     "data": {
      "text/plain": [
       "137"
      ]
     },
     "execution_count": 7,
     "metadata": {},
     "output_type": "execute_result"
    }
   ],
   "source": [
    "#Number of different variants\n",
    "len(df_tipo['Variant'].unique())"
   ]
  },
  {
   "cell_type": "code",
   "execution_count": 4,
   "metadata": {},
   "outputs": [
    {
     "data": {
      "text/plain": [
       "Type                  concept:name                                                     \n",
       "Analyze Time          Calculate cycle time                                                 152\n",
       "                      Find bottlenecks                                                      63\n",
       "                      Compare cycle time                                                    30\n",
       "                      Calculate waiting time                                                27\n",
       "                      Calculate throughput                                                  18\n",
       "                      Calculate processing time                                             10\n",
       "                      Comparative of throughput                                              2\n",
       "                      Compare waiting time with processing time                              2\n",
       "                      Analyze cycle time depending on the events                             1\n",
       "                      Calculate intervals of time of the traces                              1\n",
       "                      Compare processing time                                                1\n",
       "Calculate statistics  Calculate number of elements                                          76\n",
       "                      Calculate percentages                                                 55\n",
       "                      Calculate statistics                                                  36\n",
       "                      Calculate frequency                                                   25\n",
       "                      Calculate average of activities per trace                              3\n",
       "Identification        Identify attributes                                                   34\n",
       "                      Identify resources                                                    10\n",
       "                      Identify transitions by cycle time                                    10\n",
       "                      Identify organizational units                                          9\n",
       "                      Identify activities                                                    8\n",
       "                      Identify roles                                                         7\n",
       "                      Identify traces by cycle time                                          2\n",
       "                      Identify impact of bottlenecks by organizational unit                  1\n",
       "                      Identify specific subprocesses                                         1\n",
       "Manipulation          Filter traces                                                         86\n",
       "                      Group traces                                                          58\n",
       "                      Filter events                                                         11\n",
       "                      Preprocess the traces of the logs                                     11\n",
       "                      Filter activities                                                      9\n",
       "                      Group activities                                                       8\n",
       "                      Filter sub-processes                                                   6\n",
       "                      Filter variants depending on frequency                                 2\n",
       "                      Preprocess the events of the logs                                      2\n",
       "                      Group events by attributes                                             1\n",
       "                      Group events by time                                                   1\n",
       "                      Group organizational units                                             1\n",
       "                      Group sub-processes                                                    1\n",
       "Others                Calculate dates of the development of activities of resources          2\n",
       "                      Apply decision trees                                                   1\n",
       "                      Apply machine learning techniques                                      1\n",
       "                      Assign resource to each activity                                       1\n",
       "                      Discover happy path of the process                                     1\n",
       "                      Discover process maps                                                  1\n",
       "Representation        Represent process map                                                 47\n",
       "                      Represent bar charts                                                  36\n",
       "                      Represent histograms                                                  32\n",
       "                      Represent temporal series                                             25\n",
       "                      Represent heat maps of cycle time and an attribute                     6\n",
       "                      Represent linear tendency of cycle time with respect an attribute      5\n",
       "                      Represent scatterplot of cycle time and an attribute                   5\n",
       "                      Represent boxplots of cycle time                                       3\n",
       "                      Represent circular charts of attributes of the traces                  3\n",
       "                      Represent density diagram of cycle time                                2\n",
       "                      Represent lineal distribution of an attribute by traces                2\n",
       "                      Represent correlation graph of variables                               1\n",
       "Name: concept:name, dtype: int64"
      ]
     },
     "execution_count": 4,
     "metadata": {},
     "output_type": "execute_result"
    }
   ],
   "source": [
    "#Operations grouped by type:\n",
    "df_tipo.groupby(['Type'])['concept:name'].value_counts()"
   ]
  },
  {
   "cell_type": "code",
   "execution_count": 17,
   "metadata": {
    "scrolled": false
   },
   "outputs": [
    {
     "data": {
      "image/png": "[encoded data removed]",
      "text/plain": [
       "<Figure size 432x288 with 1 Axes>"
      ]
     },
     "metadata": {
      "needs_background": "light"
     },
     "output_type": "display_data"
    }
   ],
   "source": [
    "#histogram of number of variants per operation\n",
    "v = df_tipo.groupby(by=['concept:name'])#group by operation\n",
    "variantes = v.apply(lambda x: len(x[\"Variant\"].unique())) #count the number of variants of each operation\n",
    "fig, ax = plt.subplots()\n",
    "plt.title('Variants per operation')\n",
    "plt.xlabel('Number of variants')\n",
    "plt.ylabel('Number of operations')\n",
    "plt.xticks(np.arange(1, 14, 1.0))\n",
    "plt.hist(variantes, 14, range=[0.5, 14])\n",
    "plt.show()"
   ]
  },
  {
   "cell_type": "code",
   "execution_count": 23,
   "metadata": {},
   "outputs": [
    {
     "data": {
      "text/plain": [
       "concept:name\n",
       "Calculate cycle time            12\n",
       "Group traces                    12\n",
       "Calculate frequency              7\n",
       "Calculate number of elements     7\n",
       "Filter traces                    7\n",
       "dtype: int64"
      ]
     },
     "execution_count": 23,
     "metadata": {},
     "output_type": "execute_result"
    }
   ],
   "source": [
    "#Operations with the highest number of variants\n",
    "variantes.sort_values(ascending=False)[0:5]"
   ]
  },
  {
   "cell_type": "code",
   "execution_count": 14,
   "metadata": {},
   "outputs": [
    {
     "data": {
      "text/plain": [
       "17.053571428571427"
      ]
     },
     "execution_count": 14,
     "metadata": {},
     "output_type": "execute_result"
    }
   ],
   "source": [
    "#Average frequency of the operations\n",
    "df_freq_op=df_tipo['concept:name'].value_counts()\n",
    "avg_frec=df_freq_op.mean()\n",
    "avg_frec"
   ]
  },
  {
   "cell_type": "code",
   "execution_count": 15,
   "metadata": {},
   "outputs": [
    {
     "data": {
      "text/plain": [
       "Calculate cycle time            152\n",
       "Filter traces                    86\n",
       "Calculate number of elements     76\n",
       "Find bottlenecks                 63\n",
       "Group traces                     58\n",
       "Calculate percentages            55\n",
       "Represent process map            47\n",
       "Represent bar charts             36\n",
       "Calculate statistics             36\n",
       "Identify attributes              34\n",
       "Represent histograms             32\n",
       "Compare cycle time               30\n",
       "Calculate waiting time           27\n",
       "Represent temporal series        25\n",
       "Calculate frequency              25\n",
       "Calculate throughput             18\n",
       "Name: concept:name, dtype: int64"
      ]
     },
     "execution_count": 15,
     "metadata": {},
     "output_type": "execute_result"
    }
   ],
   "source": [
    "#Operations with a frequency higher than the average\n",
    "df_freq_op[df_freq_op>avg_frec]"
   ]
  }
 ],
 "metadata": {
  "kernelspec": {
   "display_name": "Python 3",
   "language": "python",
   "name": "python3"
  },
  "language_info": {
   "codemirror_mode": {
    "name": "ipython",
    "version": 3
   },
   "file_extension": ".py",
   "mimetype": "text/x-python",
   "name": "python",
   "nbconvert_exporter": "python",
   "pygments_lexer": "ipython3",
   "version": "3.7.4"
  }
 },
 "nbformat": 4,
 "nbformat_minor": 4
}
