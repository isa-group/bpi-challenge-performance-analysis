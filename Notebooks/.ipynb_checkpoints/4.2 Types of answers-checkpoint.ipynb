{
 "cells": [
  {
   "cell_type": "code",
   "execution_count": 1,
   "metadata": {},
   "outputs": [],
   "source": [
    "import pandas as pd\n",
    "import datetime\n",
    "from os import listdir\n",
    "import os, os.path\n",
    "from os.path import isfile, join\n",
    "import numpy as np\n",
    "import csv\n",
    "import re\n",
    "import pandas as pd\n",
    "import pm4py\n",
    "from pm4py.objects.conversion.log import converter as log_converter\n",
    "from pm4py.objects.log.importer.xes import importer as xes_importer\n",
    "from pm4py.objects.log.exporter.xes import exporter as xes_exporter\n",
    "from pm4py.objects.log.util import dataframe_utils\n",
    "import matplotlib.pyplot as plt\n",
    "import seaborn as sns"
   ]
  },
  {
   "cell_type": "code",
   "execution_count": 2,
   "metadata": {},
   "outputs": [],
   "source": [
    "#add the data to notebook directory\n",
    "import os,sys,inspect\n",
    "currentdir = os.path.dirname(os.path.abspath(inspect.getfile(inspect.currentframe())))\n",
    "parentdir = os.path.dirname(currentdir)\n",
    "sys.path.insert(0,parentdir) "
   ]
  },
  {
   "cell_type": "code",
   "execution_count": 3,
   "metadata": {},
   "outputs": [],
   "source": [
    "df=pd.read_csv(parentdir+\"\\\\Log of analysis of time aspects.csv\",index_col=0)"
   ]
  },
  {
   "cell_type": "code",
   "execution_count": 9,
   "metadata": {},
   "outputs": [
    {
     "data": {
      "text/plain": [
       "8.681818181818182"
      ]
     },
     "execution_count": 9,
     "metadata": {},
     "output_type": "execute_result"
    }
   ],
   "source": [
    "#Average number of operations in time performance answers\n",
    "# df.groupby(\"case:concept:name\")->group the rows by answers (case:concept:name)\n",
    "#apply(lambda x: len(x['concept:name']))->for each group get the number of operations\n",
    "np.mean(df.groupby(\"case:concept:name\").apply(lambda x: len(x['concept:name'])))"
   ]
  },
  {
   "cell_type": "code",
   "execution_count": 10,
   "metadata": {},
   "outputs": [
    {
     "data": {
      "text/plain": [
       "5.290909090909091"
      ]
     },
     "execution_count": 10,
     "metadata": {},
     "output_type": "execute_result"
    }
   ],
   "source": [
    "#Average number of  different operations in time performance answers\n",
    "# df.groupby(\"case:concept:name\")->group the rows by answers (case:concept:name)\n",
    "#apply(lambda x: len(x['concept:name'].unique))->for each group get the number of different operations\n",
    "np.mean(df.groupby(\"case:concept:name\").apply(lambda x: len(x['concept:name'].unique())))"
   ]
  },
  {
   "cell_type": "code",
   "execution_count": 42,
   "metadata": {},
   "outputs": [
    {
     "name": "stdout",
     "output_type": "stream",
     "text": [
      "Avg in P1-P22020: 9.4\n",
      "Avg in P12017: 10.095238095238095\n",
      "Avg in P22019: 15.416666666666666\n",
      "Avg in P42020: 5.411764705882353\n",
      "Avg in P52015: 9.555555555555555\n",
      "Avg in P52020: 8.38888888888889\n",
      "Avg in P62020: 3.1538461538461537\n"
     ]
    }
   ],
   "source": [
    "#Avg number of operations of the aswers per question\n",
    "df[\"questionYear\"]=[str(question)+str(year) for question,year in zip(df['Question'],df['Year'])]\n",
    "df_operations_question_year=df.groupby([\"questionYear\",\"case:concept:name\"]).apply(lambda x:len(x['concept:name'])).reset_index()\n",
    "questionYear=df_operations_question_year['questionYear'].unique()\n",
    "\n",
    "for questionyear in questionYear:\n",
    "    avg_question=np.mean(df_operations_question_year[df_operations_question_year['questionYear']==questionyear][0])\n",
    "    print(\"Avg in \"+str(questionyear)+\": \"+str(avg_question))"
   ]
  },
  {
   "cell_type": "code",
   "execution_count": 43,
   "metadata": {},
   "outputs": [
    {
     "name": "stdout",
     "output_type": "stream",
     "text": [
      "Avg in P1-P22020: 5.6\n",
      "Avg in P12017: 6.333333333333333\n",
      "Avg in P22019: 8.25\n",
      "Avg in P42020: 3.6470588235294117\n",
      "Avg in P52015: 6.555555555555555\n",
      "Avg in P52020: 4.444444444444445\n",
      "Avg in P62020: 2.8461538461538463\n"
     ]
    }
   ],
   "source": [
    "#Avg number of different operations of the answers per question\n",
    "df[\"questionYear\"]=[str(question)+str(year) for question,year in zip(df['Question'],df['Year'])]\n",
    "df_operations_question_year=df.groupby([\"questionYear\",\"case:concept:name\"]).apply(lambda x:len(x['concept:name'].unique())).reset_index()\n",
    "questionYear=df_operations_question_year['questionYear'].unique()\n",
    "\n",
    "for questionyear in questionYear:\n",
    "    avg_question=np.mean(df_operations_question_year[df_operations_question_year['questionYear']==questionyear][0])\n",
    "    print(\"Avg in \"+str(questionyear)+\": \"+str(avg_question))"
   ]
  }
 ],
 "metadata": {
  "kernelspec": {
   "display_name": "Python 3",
   "language": "python",
   "name": "python3"
  },
  "language_info": {
   "codemirror_mode": {
    "name": "ipython",
    "version": 3
   },
   "file_extension": ".py",
   "mimetype": "text/x-python",
   "name": "python",
   "nbconvert_exporter": "python",
   "pygments_lexer": "ipython3",
   "version": "3.7.4"
  }
 },
 "nbformat": 4,
 "nbformat_minor": 2
}
