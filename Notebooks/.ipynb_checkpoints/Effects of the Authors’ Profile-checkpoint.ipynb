{
 "cells": [
  {
   "cell_type": "code",
   "execution_count": 32,
   "metadata": {},
   "outputs": [],
   "source": [
    "import pandas as pd\n",
    "import datetime\n",
    "from os import listdir\n",
    "import os, os.path\n",
    "from os.path import isfile, join\n",
    "import numpy as np\n",
    "import csv\n",
    "import re\n",
    "import pandas as pd\n",
    "from pm4py.objects.conversion.log import converter as log_converter\n",
    "from pm4py.objects.log.importer.xes import importer as xes_importer\n",
    "from pm4py.objects.log.exporter.xes import exporter as xes_exporter\n",
    "from pm4py.objects.log.util import dataframe_utils\n",
    "import matplotlib.pyplot as plt\n",
    "import seaborn as sns"
   ]
  },
  {
   "cell_type": "code",
   "execution_count": 33,
   "metadata": {},
   "outputs": [],
   "source": [
    "#add the data to notebook directory\n",
    "import os,sys,inspect\n",
    "currentdir = os.path.dirname(os.path.abspath(inspect.getfile(inspect.currentframe())))\n",
    "parentdir = os.path.dirname(currentdir)\n",
    "sys.path.insert(0,parentdir) "
   ]
  },
  {
   "cell_type": "code",
   "execution_count": 34,
   "metadata": {
    "scrolled": true
   },
   "outputs": [
    {
     "data": {
      "text/html": [
       "<div>\n",
       "<style scoped>\n",
       "    .dataframe tbody tr th:only-of-type {\n",
       "        vertical-align: middle;\n",
       "    }\n",
       "\n",
       "    .dataframe tbody tr th {\n",
       "        vertical-align: top;\n",
       "    }\n",
       "\n",
       "    .dataframe thead th {\n",
       "        text-align: right;\n",
       "    }\n",
       "</style>\n",
       "<table border=\"1\" class=\"dataframe\">\n",
       "  <thead>\n",
       "    <tr style=\"text-align: right;\">\n",
       "      <th></th>\n",
       "      <th>case:id</th>\n",
       "      <th>case:concept:name</th>\n",
       "      <th>concept:name</th>\n",
       "      <th>Variant</th>\n",
       "      <th>time:timestamp</th>\n",
       "      <th>Question</th>\n",
       "      <th>Report</th>\n",
       "      <th>Year</th>\n",
       "      <th>Category</th>\n",
       "      <th>Type</th>\n",
       "      <th>Tupla</th>\n",
       "      <th>Organization</th>\n",
       "    </tr>\n",
       "  </thead>\n",
       "  <tbody>\n",
       "    <tr>\n",
       "      <th>0</th>\n",
       "      <td>A2 P4 BPI 2020</td>\n",
       "      <td>A2 P4 BPI 2020</td>\n",
       "      <td>Filter activities</td>\n",
       "      <td>Filter activities by sub-processes</td>\n",
       "      <td>2022-03-11 19:24:15.966942</td>\n",
       "      <td>P4</td>\n",
       "      <td>A2</td>\n",
       "      <td>2020</td>\n",
       "      <td>Student</td>\n",
       "      <td>Manipulation</td>\n",
       "      <td>A22020</td>\n",
       "      <td>Faculty of Science, Utrecht University</td>\n",
       "    </tr>\n",
       "    <tr>\n",
       "      <th>1</th>\n",
       "      <td>A2 P4 BPI 2020</td>\n",
       "      <td>A2 P4 BPI 2020</td>\n",
       "      <td>Group activities</td>\n",
       "      <td>Group activities by sub-processes</td>\n",
       "      <td>2022-03-11 20:24:15.966942</td>\n",
       "      <td>P4</td>\n",
       "      <td>A2</td>\n",
       "      <td>2020</td>\n",
       "      <td>Student</td>\n",
       "      <td>Manipulation</td>\n",
       "      <td>A22020</td>\n",
       "      <td>Faculty of Science, Utrecht University</td>\n",
       "    </tr>\n",
       "    <tr>\n",
       "      <th>2</th>\n",
       "      <td>A2 P4 BPI 2020</td>\n",
       "      <td>A2 P4 BPI 2020</td>\n",
       "      <td>Calculate cycle time</td>\n",
       "      <td>Calculate cycle time for all pairs of events f...</td>\n",
       "      <td>2022-03-11 21:24:15.966942</td>\n",
       "      <td>P4</td>\n",
       "      <td>A2</td>\n",
       "      <td>2020</td>\n",
       "      <td>Student</td>\n",
       "      <td>Analyze Time</td>\n",
       "      <td>A22020</td>\n",
       "      <td>Faculty of Science, Utrecht University</td>\n",
       "    </tr>\n",
       "    <tr>\n",
       "      <th>3</th>\n",
       "      <td>A7 P4 BPI 2020</td>\n",
       "      <td>A7 P4 BPI 2020</td>\n",
       "      <td>Group activities</td>\n",
       "      <td>Group activities by role</td>\n",
       "      <td>2022-03-11 22:24:15.966942</td>\n",
       "      <td>P4</td>\n",
       "      <td>A7</td>\n",
       "      <td>2020</td>\n",
       "      <td>Academic</td>\n",
       "      <td>Manipulation</td>\n",
       "      <td>A72020</td>\n",
       "      <td>German Research Center for Artificial Intellig...</td>\n",
       "    </tr>\n",
       "    <tr>\n",
       "      <th>4</th>\n",
       "      <td>A7 P4 BPI 2020</td>\n",
       "      <td>A7 P4 BPI 2020</td>\n",
       "      <td>Calculate throughput</td>\n",
       "      <td>Calculate throughput</td>\n",
       "      <td>2022-03-11 23:24:15.966942</td>\n",
       "      <td>P4</td>\n",
       "      <td>A7</td>\n",
       "      <td>2020</td>\n",
       "      <td>Academic</td>\n",
       "      <td>Analyze Time</td>\n",
       "      <td>A72020</td>\n",
       "      <td>German Research Center for Artificial Intellig...</td>\n",
       "    </tr>\n",
       "  </tbody>\n",
       "</table>\n",
       "</div>"
      ],
      "text/plain": [
       "          case:id case:concept:name          concept:name  \\\n",
       "0  A2 P4 BPI 2020    A2 P4 BPI 2020     Filter activities   \n",
       "1  A2 P4 BPI 2020    A2 P4 BPI 2020      Group activities   \n",
       "2  A2 P4 BPI 2020    A2 P4 BPI 2020  Calculate cycle time   \n",
       "3  A7 P4 BPI 2020    A7 P4 BPI 2020      Group activities   \n",
       "4  A7 P4 BPI 2020    A7 P4 BPI 2020  Calculate throughput   \n",
       "\n",
       "                                             Variant  \\\n",
       "0                 Filter activities by sub-processes   \n",
       "1                  Group activities by sub-processes   \n",
       "2  Calculate cycle time for all pairs of events f...   \n",
       "3                           Group activities by role   \n",
       "4                               Calculate throughput   \n",
       "\n",
       "               time:timestamp Question Report  Year  Category          Type  \\\n",
       "0  2022-03-11 19:24:15.966942       P4     A2  2020   Student  Manipulation   \n",
       "1  2022-03-11 20:24:15.966942       P4     A2  2020   Student  Manipulation   \n",
       "2  2022-03-11 21:24:15.966942       P4     A2  2020   Student  Analyze Time   \n",
       "3  2022-03-11 22:24:15.966942       P4     A7  2020  Academic  Manipulation   \n",
       "4  2022-03-11 23:24:15.966942       P4     A7  2020  Academic  Analyze Time   \n",
       "\n",
       "    Tupla                                       Organization  \n",
       "0  A22020             Faculty of Science, Utrecht University  \n",
       "1  A22020             Faculty of Science, Utrecht University  \n",
       "2  A22020             Faculty of Science, Utrecht University  \n",
       "3  A72020  German Research Center for Artificial Intellig...  \n",
       "4  A72020  German Research Center for Artificial Intellig...  "
      ]
     },
     "execution_count": 34,
     "metadata": {},
     "output_type": "execute_result"
    }
   ],
   "source": [
    "#read the data\n",
    "df=pd.read_csv(parentdir+\"\\\\Data\\\\Log of analysis of time aspects.csv\",index_col=0)\n",
    "df.head()"
   ]
  },
  {
   "cell_type": "code",
   "execution_count": 18,
   "metadata": {},
   "outputs": [],
   "source": [
    "#get the data of each category\n",
    "df_estudiante = df[df['Category']=='Student']\n",
    "df_academico = df[df['Category']=='Academic']\n",
    "df_profesional = df[df['Category']=='Professional']"
   ]
  },
  {
   "cell_type": "code",
   "execution_count": 5,
   "metadata": {},
   "outputs": [
    {
     "data": {
      "text/plain": [
       "Calculate cycle time            45\n",
       "Filter traces                   28\n",
       "Find bottlenecks                23\n",
       "Represent process map           21\n",
       "Calculate percentages           20\n",
       "Calculate waiting time          20\n",
       "Calculate number of elements    17\n",
       "Group traces                    14\n",
       "Represent histograms            14\n",
       "Represent bar charts            14\n",
       "Name: concept:name, dtype: int64"
      ]
     },
     "execution_count": 5,
     "metadata": {},
     "output_type": "execute_result"
    }
   ],
   "source": [
    "#get the operations of students whose frequencies are above the average, i.e. they are frequent\n",
    "v = df_estudiante[\"concept:name\"].value_counts()\n",
    "p= v[v>df_estudiante[\"concept:name\"].value_counts().mean()]\n",
    "op_student = p.index\n",
    "p"
   ]
  },
  {
   "cell_type": "code",
   "execution_count": 6,
   "metadata": {},
   "outputs": [
    {
     "data": {
      "text/plain": [
       "Calculate waiting time                                                      20\n",
       "Filter traces by activities                                                 17\n",
       "Calculate percentage of traces                                              17\n",
       "Find activities as bottlenecks applying temporal performance criteria       16\n",
       "Calculate number of traces                                                  14\n",
       "Represent process map with cycle time                                       14\n",
       "Represent histograms of cycle time                                          12\n",
       "Filter traces by attributes                                                  8\n",
       "Calculate cycle time of the whole process for all traces                     8\n",
       "Calculate cycle time of a fragment of the process for a subset of traces     7\n",
       "Represent process map with frequency                                         7\n",
       "Represent bar charts of attributes                                           6\n",
       "Calculate cycle time for all pairs of events for all traces                  6\n",
       "Group traces by activities                                                   5\n",
       "Calculate cycle time of the whole process for each subset of traces          5\n",
       "Find sub-processes as bottlenecks applying temporal performance criteria     5\n",
       "Represent bar charts of cycle time                                           5\n",
       "Compare cycle time                                                           5\n",
       "Calculate cycle time of only a subset of pairs of events for all traces      4\n",
       "Identify resources by activities                                             4\n",
       "Calculate processing time                                                    4\n",
       "Calculate cycle time for all pairs of events for each subset of traces       4\n",
       "Name: Variant, dtype: int64"
      ]
     },
     "execution_count": 6,
     "metadata": {},
     "output_type": "execute_result"
    }
   ],
   "source": [
    "#get the variants of students whose frequencies are above the average,i.e. they are frequent\n",
    "v = df_estudiante[\"Variant\"].value_counts()\n",
    "p= v[v>df_estudiante[\"Variant\"].value_counts().mean()]\n",
    "var_student = p.index\n",
    "p"
   ]
  },
  {
   "cell_type": "code",
   "execution_count": 7,
   "metadata": {},
   "outputs": [
    {
     "data": {
      "text/plain": [
       "Calculate cycle time            34\n",
       "Filter traces                   19\n",
       "Calculate statistics            18\n",
       "Group traces                    15\n",
       "Find bottlenecks                14\n",
       "Calculate number of elements    10\n",
       "Identify attributes              8\n",
       "Compare cycle time               7\n",
       "Name: concept:name, dtype: int64"
      ]
     },
     "execution_count": 7,
     "metadata": {},
     "output_type": "execute_result"
    }
   ],
   "source": [
    "#get the operations of academis whose frequencies are above the average,i.e. they are frequent\n",
    "v = df_academico[\"concept:name\"].value_counts()\n",
    "p= v[v>df_academico[\"concept:name\"].value_counts().mean()]\n",
    "op_academic = p.index\n",
    "p"
   ]
  },
  {
   "cell_type": "code",
   "execution_count": 8,
   "metadata": {},
   "outputs": [
    {
     "data": {
      "text/plain": [
       "Calculate Statistics of cycle time                                                 14\n",
       "Filter traces by activities                                                        12\n",
       "Group traces depending on attributes                                               11\n",
       "Find activities as bottlenecks applying temporal performance criteria              10\n",
       "Calculate cycle time of the whole process for each subset of traces                 8\n",
       "Compare cycle time                                                                  7\n",
       "Identify values of attributes                                                       6\n",
       "Calculate percentage of traces                                                      6\n",
       "Calculate throughput                                                                5\n",
       "Calculate cycle time for all pairs of events for all traces                         5\n",
       "Calculate number of activities                                                      4\n",
       "Calculate number of traces                                                          4\n",
       "Calculate cycle time of the whole process for a subset of traces                    4\n",
       "Calculate cycle time of a fragment of the process for a subset of traces            4\n",
       "Represent histograms of cycle time                                                  4\n",
       "Calculate cycle time of only a subset of pairs of events for a subset of traces     3\n",
       "Calculate cycle time for all pairs of events for each subset of traces              3\n",
       "Identify organizational units by cycle time                                         3\n",
       "Calculate frequency of activities                                                   3\n",
       "Represent bar charts of cycle time                                                  3\n",
       "Calculate Statistics of throughput                                                  3\n",
       "Represent boxplots of cycle time                                                    3\n",
       "Name: Variant, dtype: int64"
      ]
     },
     "execution_count": 8,
     "metadata": {},
     "output_type": "execute_result"
    }
   ],
   "source": [
    "#get the variants of academics whose frequencies are above the average,i.e. they are frequent\n",
    "v = df_academico[\"Variant\"].value_counts()\n",
    "# print(df_academico[\"Variant\"].value_counts().mean())\n",
    "p= v[v>df_academico[\"Variant\"].value_counts().mean()]\n",
    "# print(p)\n",
    "var_academic = p.index\n",
    "# var_academic\n",
    "p"
   ]
  },
  {
   "cell_type": "code",
   "execution_count": 9,
   "metadata": {},
   "outputs": [
    {
     "data": {
      "text/plain": [
       "Calculate cycle time            73\n",
       "Calculate number of elements    49\n",
       "Filter traces                   39\n",
       "Calculate percentages           29\n",
       "Group traces                    29\n",
       "Find bottlenecks                26\n",
       "Represent temporal series       23\n",
       "Represent process map           22\n",
       "Identify attributes             22\n",
       "Compare cycle time              18\n",
       "Represent bar charts            18\n",
       "Calculate statistics            17\n",
       "Represent histograms            14\n",
       "Calculate frequency             14\n",
       "Calculate throughput            12\n",
       "Name: concept:name, dtype: int64"
      ]
     },
     "execution_count": 9,
     "metadata": {},
     "output_type": "execute_result"
    }
   ],
   "source": [
    "#get the operations of professionals whose frequencies are above the average, i.e. they are frequent\n",
    "v = df_profesional[\"concept:name\"].value_counts()\n",
    "p= v[v>df_profesional[\"concept:name\"].value_counts().mean()]\n",
    "op_professional = p.index\n",
    "p"
   ]
  },
  {
   "cell_type": "code",
   "execution_count": 10,
   "metadata": {},
   "outputs": [
    {
     "data": {
      "text/plain": [
       "Calculate number of traces                                                  21\n",
       "Represent process map with cycle time                                       21\n",
       "Calculate percentage of traces                                              19\n",
       "Compare cycle time                                                          18\n",
       "Filter traces by activities                                                 17\n",
       "Find activities as bottlenecks applying temporal performance criteria       14\n",
       "Represent histograms of cycle time                                          13\n",
       "Calculate cycle time of the whole process for a subset of traces            13\n",
       "Group traces by activities                                                  12\n",
       "Calculate throughput                                                        12\n",
       "Identify values of attributes                                               12\n",
       "Represent temporal series of activities                                     10\n",
       "Calculate cycle time of a fragment of the process for a subset of traces    10\n",
       "Calculate cycle time of the whole process for all traces                    10\n",
       "Identify attributes by cycle time                                           10\n",
       "Calculate cycle time for all pairs of events for all traces                  9\n",
       "Preprocess the traces of the logs                                            8\n",
       "Identify transitions by cycle time                                           8\n",
       "Calculate number of activities                                               8\n",
       "Group traces depending on attributes                                         7\n",
       "Calculate number of events                                                   7\n",
       "Calculate percentage of sub-processes                                        7\n",
       "Represent temporal series of traces                                          7\n",
       "Calculate cycle time of a fragment of the process for all traces             6\n",
       "Represent bar charts of sub-processes                                        6\n",
       "Calculate Statistics of throughput                                           6\n",
       "Calculate cycle time of the whole process for each subset of traces          6\n",
       "Filter traces by frequency                                                   6\n",
       "Calculate waiting time                                                       6\n",
       "Calculate processing time                                                    6\n",
       "Filter traces by year                                                        6\n",
       "Calculate number of sub-processes                                            5\n",
       "Calculate Statistics of cycle time                                           5\n",
       "Filter sub-processes by cycle time                                           5\n",
       "Filter traces by cycle time                                                  5\n",
       "Calculate Statistics of attributes                                           5\n",
       "Filter traces by attributes                                                  5\n",
       "Calculate frequency of activities                                            5\n",
       "Represent bar charts of cycle time                                           5\n",
       "Represent temporal series of subprocesses                                    5\n",
       "Represent heat maps of cycle time and an attribute                           5\n",
       "Group traces by year                                                         5\n",
       "Calculate cycle time for all pairs of events for a subset of traces          5\n",
       "Name: Variant, dtype: int64"
      ]
     },
     "execution_count": 10,
     "metadata": {},
     "output_type": "execute_result"
    }
   ],
   "source": [
    "#get the variants of professionals whose frequencies are above the average, i.e. they are frequent\n",
    "v = df_profesional[\"Variant\"].value_counts()\n",
    "# print(df_profesional[\"Variant\"].value_counts().mean())\n",
    "p= v[v>df_profesional[\"Variant\"].value_counts().mean()]\n",
    "# print(p)\n",
    "var_profesional = p.index\n",
    "# var_profesional\n",
    "p"
   ]
  },
  {
   "cell_type": "code",
   "execution_count": 11,
   "metadata": {},
   "outputs": [
    {
     "name": "stdout",
     "output_type": "stream",
     "text": [
      "Calculate cycle time\n",
      "Filter traces\n",
      "Group traces\n",
      "Find bottlenecks\n",
      "Calculate number of elements\n"
     ]
    }
   ],
   "source": [
    "#common operations between academics and students\n",
    "for i in op_academic:\n",
    "    if (i in op_student):\n",
    "        print(i)"
   ]
  },
  {
   "cell_type": "code",
   "execution_count": 12,
   "metadata": {},
   "outputs": [
    {
     "name": "stdout",
     "output_type": "stream",
     "text": [
      "Filter traces by activities\n",
      "Find activities as bottlenecks applying temporal performance criteria\n",
      "Calculate cycle time of the whole process for each subset of traces\n",
      "Compare cycle time\n",
      "Calculate percentage of traces\n",
      "Calculate cycle time for all pairs of events for all traces\n",
      "Calculate number of traces\n",
      "Calculate cycle time of a fragment of the process for a subset of traces\n",
      "Represent histograms of cycle time\n",
      "Calculate cycle time for all pairs of events for each subset of traces\n",
      "Represent bar charts of cycle time\n"
     ]
    }
   ],
   "source": [
    "#common variants between academics and students\n",
    "for i in var_academic:\n",
    "    if (i in var_student):\n",
    "        print(i)"
   ]
  },
  {
   "cell_type": "code",
   "execution_count": 13,
   "metadata": {},
   "outputs": [
    {
     "name": "stdout",
     "output_type": "stream",
     "text": [
      "Calculate cycle time\n",
      "Calculate number of elements\n",
      "Filter traces\n",
      "Calculate percentages\n",
      "Group traces\n",
      "Find bottlenecks\n",
      "Represent process map\n",
      "Represent bar charts\n",
      "Represent histograms\n"
     ]
    }
   ],
   "source": [
    "#common operations between professionals and students\n",
    "for i in op_professional:\n",
    "    if (i in op_student):\n",
    "        print(i)"
   ]
  },
  {
   "cell_type": "code",
   "execution_count": 14,
   "metadata": {},
   "outputs": [
    {
     "name": "stdout",
     "output_type": "stream",
     "text": [
      "Calculate number of traces\n",
      "Represent process map with cycle time\n",
      "Calculate percentage of traces\n",
      "Compare cycle time\n",
      "Filter traces by activities\n",
      "Find activities as bottlenecks applying temporal performance criteria\n",
      "Represent histograms of cycle time\n",
      "Group traces by activities\n",
      "Calculate cycle time of a fragment of the process for a subset of traces\n",
      "Calculate cycle time of the whole process for all traces\n",
      "Calculate cycle time for all pairs of events for all traces\n",
      "Calculate cycle time of the whole process for each subset of traces\n",
      "Calculate waiting time\n",
      "Calculate processing time\n",
      "Filter traces by attributes\n",
      "Represent bar charts of cycle time\n"
     ]
    }
   ],
   "source": [
    "#common variants between professionals and students\n",
    "for i in var_profesional:\n",
    "    if (i in var_student):\n",
    "        print(i)"
   ]
  },
  {
   "cell_type": "code",
   "execution_count": 15,
   "metadata": {},
   "outputs": [
    {
     "name": "stdout",
     "output_type": "stream",
     "text": [
      "Calculate cycle time\n",
      "Calculate number of elements\n",
      "Filter traces\n",
      "Group traces\n",
      "Find bottlenecks\n",
      "Identify attributes\n",
      "Compare cycle time\n",
      "Calculate statistics\n"
     ]
    }
   ],
   "source": [
    "#common operations between professionals and academics\n",
    "for i in op_professional:\n",
    "    if (i in op_academic):\n",
    "        print(i)"
   ]
  },
  {
   "cell_type": "code",
   "execution_count": 16,
   "metadata": {},
   "outputs": [
    {
     "name": "stdout",
     "output_type": "stream",
     "text": [
      "Calculate number of traces\n",
      "Calculate percentage of traces\n",
      "Compare cycle time\n",
      "Filter traces by activities\n",
      "Find activities as bottlenecks applying temporal performance criteria\n",
      "Represent histograms of cycle time\n",
      "Calculate cycle time of the whole process for a subset of traces\n",
      "Calculate throughput\n",
      "Identify values of attributes\n",
      "Calculate cycle time of a fragment of the process for a subset of traces\n",
      "Calculate cycle time for all pairs of events for all traces\n",
      "Calculate number of activities\n",
      "Group traces depending on attributes\n",
      "Calculate Statistics of throughput\n",
      "Calculate cycle time of the whole process for each subset of traces\n",
      "Calculate Statistics of cycle time\n",
      "Calculate frequency of activities\n",
      "Represent bar charts of cycle time\n"
     ]
    }
   ],
   "source": [
    "#common variants between professionals and academics\n",
    "for i in var_profesional:\n",
    "    if (i in var_academic):\n",
    "        print(i)"
   ]
  },
  {
   "cell_type": "code",
   "execution_count": 17,
   "metadata": {},
   "outputs": [
    {
     "name": "stdout",
     "output_type": "stream",
     "text": [
      "Calculate number of traces\n",
      "Calculate percentage of traces\n",
      "Compare cycle time\n",
      "Filter traces by activities\n",
      "Find activities as bottlenecks applying temporal performance criteria\n",
      "Represent histograms of cycle time\n",
      "Calculate cycle time of a fragment of the process for a subset of traces\n",
      "Calculate cycle time for all pairs of events for all traces\n",
      "Calculate cycle time of the whole process for each subset of traces\n",
      "Represent bar charts of cycle time\n"
     ]
    }
   ],
   "source": [
    "#common variants between professionals, academics and students\n",
    "for i in var_profesional:\n",
    "    if (i in var_academic):\n",
    "        if(i in var_student):\n",
    "            print(i)"
   ]
  },
  {
   "cell_type": "code",
   "execution_count": 18,
   "metadata": {
    "scrolled": true
   },
   "outputs": [
    {
     "name": "stdout",
     "output_type": "stream",
     "text": [
      "Represent temporal series\n",
      "Calculate frequency\n",
      "Calculate throughput\n"
     ]
    }
   ],
   "source": [
    "#unique operations of professionals\n",
    "for i in op_professional:\n",
    "    if (i not in op_academic):\n",
    "        if(i not in op_student):\n",
    "            print(i)"
   ]
  },
  {
   "cell_type": "code",
   "execution_count": 19,
   "metadata": {},
   "outputs": [],
   "source": [
    "#unique operations of academics\n",
    "for i in op_academic:\n",
    "    if (i not in op_professional):\n",
    "        if(i not in op_student):\n",
    "            print(i)"
   ]
  },
  {
   "cell_type": "code",
   "execution_count": 20,
   "metadata": {},
   "outputs": [
    {
     "name": "stdout",
     "output_type": "stream",
     "text": [
      "Calculate waiting time\n"
     ]
    }
   ],
   "source": [
    "#unique operations of students\n",
    "for i in op_student:\n",
    "    if (i not in op_professional):\n",
    "        if(i not in op_academic):\n",
    "            print(i)"
   ]
  },
  {
   "cell_type": "code",
   "execution_count": 21,
   "metadata": {},
   "outputs": [
    {
     "data": {
      "text/plain": [
       "Professional    502\n",
       "Student         273\n",
       "Academic        180\n",
       "Name: Category, dtype: int64"
      ]
     },
     "execution_count": 21,
     "metadata": {},
     "output_type": "execute_result"
    }
   ],
   "source": [
    "#get the total number of operations of each category\n",
    "df_prueba = df\n",
    "n_acciones = df_prueba['Category'].value_counts()\n",
    "n_acciones"
   ]
  },
  {
   "cell_type": "code",
   "execution_count": 22,
   "metadata": {},
   "outputs": [
    {
     "data": {
      "text/plain": [
       "Category\n",
       "Academic        27\n",
       "Professional    55\n",
       "Student         28\n",
       "dtype: int64"
      ]
     },
     "execution_count": 22,
     "metadata": {},
     "output_type": "execute_result"
    }
   ],
   "source": [
    "#get the number of answers of each category\n",
    "cat = df_prueba.groupby(['Category'])\n",
    "n_respuestas = cat.apply(lambda x: len(x[\"case:concept:name\"].unique()))\n",
    "n_respuestas"
   ]
  },
  {
   "cell_type": "code",
   "execution_count": 23,
   "metadata": {},
   "outputs": [
    {
     "data": {
      "text/plain": [
       "Academic        6.666667\n",
       "Professional    9.127273\n",
       "Student         9.750000\n",
       "dtype: float64"
      ]
     },
     "execution_count": 23,
     "metadata": {},
     "output_type": "execute_result"
    }
   ],
   "source": [
    "#get the average number of operations in the answers per category\n",
    "acciones_por_respuesta = n_acciones/n_respuestas\n",
    "acciones_por_respuesta"
   ]
  },
  {
   "cell_type": "code",
   "execution_count": 24,
   "metadata": {},
   "outputs": [
    {
     "data": {
      "text/html": [
       "<div>\n",
       "<style scoped>\n",
       "    .dataframe tbody tr th:only-of-type {\n",
       "        vertical-align: middle;\n",
       "    }\n",
       "\n",
       "    .dataframe tbody tr th {\n",
       "        vertical-align: top;\n",
       "    }\n",
       "\n",
       "    .dataframe thead th {\n",
       "        text-align: right;\n",
       "    }\n",
       "</style>\n",
       "<table border=\"1\" class=\"dataframe\">\n",
       "  <thead>\n",
       "    <tr style=\"text-align: right;\">\n",
       "      <th></th>\n",
       "      <th>0</th>\n",
       "    </tr>\n",
       "    <tr>\n",
       "      <th>Category</th>\n",
       "      <th></th>\n",
       "    </tr>\n",
       "  </thead>\n",
       "  <tbody>\n",
       "    <tr>\n",
       "      <th>Academic</th>\n",
       "      <td>4.518519</td>\n",
       "    </tr>\n",
       "    <tr>\n",
       "      <th>Professional</th>\n",
       "      <td>5.290909</td>\n",
       "    </tr>\n",
       "    <tr>\n",
       "      <th>Student</th>\n",
       "      <td>6.035714</td>\n",
       "    </tr>\n",
       "  </tbody>\n",
       "</table>\n",
       "</div>"
      ],
      "text/plain": [
       "                     0\n",
       "Category              \n",
       "Academic      4.518519\n",
       "Professional  5.290909\n",
       "Student       6.035714"
      ]
     },
     "execution_count": 24,
     "metadata": {},
     "output_type": "execute_result"
    }
   ],
   "source": [
    "#get the average number of different operations in the answers per category\n",
    "diff_actions_category=df_prueba.groupby(['Category',\"case:concept:name\"]).apply(lambda x: len(x['concept:name'].unique())).reset_index()\n",
    "diff_actions_category.groupby(\"Category\").mean()"
   ]
  },
  {
   "cell_type": "code",
   "execution_count": 28,
   "metadata": {},
   "outputs": [],
   "source": [
    "#get the frequencies of each type of operation per categories\n",
    "df_type=df.groupby(\"Category\")['Type'].value_counts().to_frame()\n",
    "df_type.reset_index(level=0, inplace=True)\n",
    "df_type"
   ]
  },
  {
   "cell_type": "code",
   "execution_count": 29,
   "metadata": {},
   "outputs": [
    {
     "data": {
      "text/html": [
       "<div>\n",
       "<style scoped>\n",
       "    .dataframe tbody tr th:only-of-type {\n",
       "        vertical-align: middle;\n",
       "    }\n",
       "\n",
       "    .dataframe tbody tr th {\n",
       "        vertical-align: top;\n",
       "    }\n",
       "\n",
       "    .dataframe thead th {\n",
       "        text-align: right;\n",
       "    }\n",
       "</style>\n",
       "<table border=\"1\" class=\"dataframe\">\n",
       "  <thead>\n",
       "    <tr style=\"text-align: right;\">\n",
       "      <th></th>\n",
       "      <th>Category</th>\n",
       "      <th>Type</th>\n",
       "    </tr>\n",
       "    <tr>\n",
       "      <th>Type</th>\n",
       "      <th></th>\n",
       "      <th></th>\n",
       "    </tr>\n",
       "  </thead>\n",
       "  <tbody>\n",
       "    <tr>\n",
       "      <th>Analyze Time</th>\n",
       "      <td>Academic</td>\n",
       "      <td>62</td>\n",
       "    </tr>\n",
       "    <tr>\n",
       "      <th>Manipulation</th>\n",
       "      <td>Academic</td>\n",
       "      <td>43</td>\n",
       "    </tr>\n",
       "    <tr>\n",
       "      <th>Calculate statistics</th>\n",
       "      <td>Academic</td>\n",
       "      <td>37</td>\n",
       "    </tr>\n",
       "    <tr>\n",
       "      <th>Representation</th>\n",
       "      <td>Academic</td>\n",
       "      <td>22</td>\n",
       "    </tr>\n",
       "    <tr>\n",
       "      <th>Identification</th>\n",
       "      <td>Academic</td>\n",
       "      <td>15</td>\n",
       "    </tr>\n",
       "    <tr>\n",
       "      <th>Others</th>\n",
       "      <td>Academic</td>\n",
       "      <td>1</td>\n",
       "    </tr>\n",
       "    <tr>\n",
       "      <th>Analyze Time</th>\n",
       "      <td>Professional</td>\n",
       "      <td>146</td>\n",
       "    </tr>\n",
       "    <tr>\n",
       "      <th>Calculate statistics</th>\n",
       "      <td>Professional</td>\n",
       "      <td>112</td>\n",
       "    </tr>\n",
       "    <tr>\n",
       "      <th>Manipulation</th>\n",
       "      <td>Professional</td>\n",
       "      <td>99</td>\n",
       "    </tr>\n",
       "    <tr>\n",
       "      <th>Representation</th>\n",
       "      <td>Professional</td>\n",
       "      <td>93</td>\n",
       "    </tr>\n",
       "    <tr>\n",
       "      <th>Identification</th>\n",
       "      <td>Professional</td>\n",
       "      <td>50</td>\n",
       "    </tr>\n",
       "    <tr>\n",
       "      <th>Others</th>\n",
       "      <td>Professional</td>\n",
       "      <td>2</td>\n",
       "    </tr>\n",
       "    <tr>\n",
       "      <th>Analyze Time</th>\n",
       "      <td>Student</td>\n",
       "      <td>99</td>\n",
       "    </tr>\n",
       "    <tr>\n",
       "      <th>Manipulation</th>\n",
       "      <td>Student</td>\n",
       "      <td>55</td>\n",
       "    </tr>\n",
       "    <tr>\n",
       "      <th>Representation</th>\n",
       "      <td>Student</td>\n",
       "      <td>52</td>\n",
       "    </tr>\n",
       "    <tr>\n",
       "      <th>Calculate statistics</th>\n",
       "      <td>Student</td>\n",
       "      <td>46</td>\n",
       "    </tr>\n",
       "    <tr>\n",
       "      <th>Identification</th>\n",
       "      <td>Student</td>\n",
       "      <td>17</td>\n",
       "    </tr>\n",
       "    <tr>\n",
       "      <th>Others</th>\n",
       "      <td>Student</td>\n",
       "      <td>4</td>\n",
       "    </tr>\n",
       "  </tbody>\n",
       "</table>\n",
       "</div>"
      ],
      "text/plain": [
       "                          Category  Type\n",
       "Type                                    \n",
       "Analyze Time              Academic    62\n",
       "Manipulation              Academic    43\n",
       "Calculate statistics      Academic    37\n",
       "Representation            Academic    22\n",
       "Identification            Academic    15\n",
       "Others                    Academic     1\n",
       "Analyze Time          Professional   146\n",
       "Calculate statistics  Professional   112\n",
       "Manipulation          Professional    99\n",
       "Representation        Professional    93\n",
       "Identification        Professional    50\n",
       "Others                Professional     2\n",
       "Analyze Time               Student    99\n",
       "Manipulation               Student    55\n",
       "Representation             Student    52\n",
       "Calculate statistics       Student    46\n",
       "Identification             Student    17\n",
       "Others                     Student     4"
      ]
     },
     "execution_count": 29,
     "metadata": {},
     "output_type": "execute_result"
    }
   ],
   "source": []
  }
 ],
 "metadata": {
  "kernelspec": {
   "display_name": "Python 3",
   "language": "python",
   "name": "python3"
  },
  "language_info": {
   "codemirror_mode": {
    "name": "ipython",
    "version": 3
   },
   "file_extension": ".py",
   "mimetype": "text/x-python",
   "name": "python",
   "nbconvert_exporter": "python",
   "pygments_lexer": "ipython3",
   "version": "3.7.6"
  }
 },
 "nbformat": 4,
 "nbformat_minor": 4
}
