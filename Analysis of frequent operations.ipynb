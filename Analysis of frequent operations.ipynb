{
 "cells": [
  {
   "cell_type": "code",
   "execution_count": 1,
   "metadata": {},
   "outputs": [],
   "source": [
    "import pandas as pd\n",
    "import datetime\n",
    "from os import listdir\n",
    "import os, os.path\n",
    "from os.path import isfile, join\n",
    "import numpy as np\n",
    "import csv\n",
    "import re\n",
    "import pandas as pd\n",
    "from pm4py.objects.conversion.log import converter as log_converter\n",
    "from pm4py.objects.log.importer.xes import importer as xes_importer\n",
    "from pm4py.objects.log.exporter.xes import exporter as xes_exporter\n",
    "from pm4py.objects.log.util import dataframe_utils\n",
    "import matplotlib.pyplot as plt\n",
    "import seaborn as sns\n",
    "#case frequency:\n",
    "#df_prueba.groupby('General activity')['case:concept:name'].agg(['unique'])['unique'].apply(lambda x: len(x)).sort_values(ascending=False)"
   ]
  },
  {
   "cell_type": "code",
   "execution_count": 2,
   "metadata": {
    "scrolled": true
   },
   "outputs": [
    {
     "data": {
      "text/html": [
       "<div>\n",
       "<style scoped>\n",
       "    .dataframe tbody tr th:only-of-type {\n",
       "        vertical-align: middle;\n",
       "    }\n",
       "\n",
       "    .dataframe tbody tr th {\n",
       "        vertical-align: top;\n",
       "    }\n",
       "\n",
       "    .dataframe thead th {\n",
       "        text-align: right;\n",
       "    }\n",
       "</style>\n",
       "<table border=\"1\" class=\"dataframe\">\n",
       "  <thead>\n",
       "    <tr style=\"text-align: right;\">\n",
       "      <th></th>\n",
       "      <th>case:id</th>\n",
       "      <th>case:concept:name</th>\n",
       "      <th>concept:name</th>\n",
       "      <th>Variant</th>\n",
       "      <th>time:timestamp</th>\n",
       "      <th>Question</th>\n",
       "      <th>Year</th>\n",
       "      <th>Type</th>\n",
       "    </tr>\n",
       "  </thead>\n",
       "  <tbody>\n",
       "    <tr>\n",
       "      <td>0</td>\n",
       "      <td>A1 P2 BPI 2020</td>\n",
       "      <td>A1 P2 BPI 2020</td>\n",
       "      <td>Calculate cycle time</td>\n",
       "      <td>Calculate cycle time of the whole process for ...</td>\n",
       "      <td>2021-11-09 16:37:03.500187</td>\n",
       "      <td>P2</td>\n",
       "      <td>2020</td>\n",
       "      <td>Analyze Cycle Time</td>\n",
       "    </tr>\n",
       "    <tr>\n",
       "      <td>1</td>\n",
       "      <td>A1 P2 BPI 2020</td>\n",
       "      <td>A1 P2 BPI 2020</td>\n",
       "      <td>Compare cycle time</td>\n",
       "      <td>Compare cycle time</td>\n",
       "      <td>2021-11-09 17:37:03.500187</td>\n",
       "      <td>P2</td>\n",
       "      <td>2020</td>\n",
       "      <td>Analyze Cycle Time</td>\n",
       "    </tr>\n",
       "    <tr>\n",
       "      <td>2</td>\n",
       "      <td>A2 P2 BPI 2020</td>\n",
       "      <td>A2 P2 BPI 2020</td>\n",
       "      <td>Calculate cycle time</td>\n",
       "      <td>Get cycle time from the previous question</td>\n",
       "      <td>2021-11-09 18:37:03.500187</td>\n",
       "      <td>P2</td>\n",
       "      <td>2020</td>\n",
       "      <td>Analyze Cycle Time</td>\n",
       "    </tr>\n",
       "    <tr>\n",
       "      <td>3</td>\n",
       "      <td>A2 P2 BPI 2020</td>\n",
       "      <td>A2 P2 BPI 2020</td>\n",
       "      <td>Compare cycle time</td>\n",
       "      <td>Compare cycle time</td>\n",
       "      <td>2021-11-09 19:37:03.500187</td>\n",
       "      <td>P2</td>\n",
       "      <td>2020</td>\n",
       "      <td>Analyze Cycle Time</td>\n",
       "    </tr>\n",
       "    <tr>\n",
       "      <td>4</td>\n",
       "      <td>A7 P2 BPI 2020</td>\n",
       "      <td>A7 P2 BPI 2020</td>\n",
       "      <td>Calculate throughput</td>\n",
       "      <td>Calculate throughput</td>\n",
       "      <td>2021-11-09 20:37:03.500187</td>\n",
       "      <td>P2</td>\n",
       "      <td>2020</td>\n",
       "      <td>Analyze Cycle Time</td>\n",
       "    </tr>\n",
       "    <tr>\n",
       "      <td>...</td>\n",
       "      <td>...</td>\n",
       "      <td>...</td>\n",
       "      <td>...</td>\n",
       "      <td>...</td>\n",
       "      <td>...</td>\n",
       "      <td>...</td>\n",
       "      <td>...</td>\n",
       "      <td>...</td>\n",
       "    </tr>\n",
       "    <tr>\n",
       "      <td>943</td>\n",
       "      <td>A19 P1 BPI 2020</td>\n",
       "      <td>A19 P1 BPI 2020</td>\n",
       "      <td>Group traces</td>\n",
       "      <td>Group traces by year</td>\n",
       "      <td>2021-12-18 23:37:03.500187</td>\n",
       "      <td>P1</td>\n",
       "      <td>2020</td>\n",
       "      <td>Manipulation</td>\n",
       "    </tr>\n",
       "    <tr>\n",
       "      <td>944</td>\n",
       "      <td>A19 P1 BPI 2020</td>\n",
       "      <td>A19 P1 BPI 2020</td>\n",
       "      <td>Group traces</td>\n",
       "      <td>Group traces by activities</td>\n",
       "      <td>2021-12-19 00:37:03.500187</td>\n",
       "      <td>P1</td>\n",
       "      <td>2020</td>\n",
       "      <td>Manipulation</td>\n",
       "    </tr>\n",
       "    <tr>\n",
       "      <td>945</td>\n",
       "      <td>A19 P1 BPI 2020</td>\n",
       "      <td>A19 P1 BPI 2020</td>\n",
       "      <td>Calculate statistics</td>\n",
       "      <td>Calculate Statistics of activities</td>\n",
       "      <td>2021-12-19 01:37:03.500187</td>\n",
       "      <td>P1</td>\n",
       "      <td>2020</td>\n",
       "      <td>Calculate statistics</td>\n",
       "    </tr>\n",
       "    <tr>\n",
       "      <td>946</td>\n",
       "      <td>A19 P1 BPI 2020</td>\n",
       "      <td>A19 P1 BPI 2020</td>\n",
       "      <td>Calculate throughput</td>\n",
       "      <td>Calculate throughput</td>\n",
       "      <td>2021-12-19 02:37:03.500187</td>\n",
       "      <td>P1</td>\n",
       "      <td>2020</td>\n",
       "      <td>Analyze Cycle Time</td>\n",
       "    </tr>\n",
       "    <tr>\n",
       "      <td>947</td>\n",
       "      <td>A19 P1 BPI 2020</td>\n",
       "      <td>A19 P1 BPI 2020</td>\n",
       "      <td>Represent temporal series</td>\n",
       "      <td>Represent temporal series of throughput</td>\n",
       "      <td>2021-12-19 03:37:03.500187</td>\n",
       "      <td>P1</td>\n",
       "      <td>2020</td>\n",
       "      <td>Representation</td>\n",
       "    </tr>\n",
       "  </tbody>\n",
       "</table>\n",
       "<p>948 rows × 8 columns</p>\n",
       "</div>"
      ],
      "text/plain": [
       "             case:id case:concept:name               concept:name  \\\n",
       "0     A1 P2 BPI 2020    A1 P2 BPI 2020       Calculate cycle time   \n",
       "1     A1 P2 BPI 2020    A1 P2 BPI 2020         Compare cycle time   \n",
       "2     A2 P2 BPI 2020    A2 P2 BPI 2020       Calculate cycle time   \n",
       "3     A2 P2 BPI 2020    A2 P2 BPI 2020         Compare cycle time   \n",
       "4     A7 P2 BPI 2020    A7 P2 BPI 2020       Calculate throughput   \n",
       "..               ...               ...                        ...   \n",
       "943  A19 P1 BPI 2020   A19 P1 BPI 2020               Group traces   \n",
       "944  A19 P1 BPI 2020   A19 P1 BPI 2020               Group traces   \n",
       "945  A19 P1 BPI 2020   A19 P1 BPI 2020       Calculate statistics   \n",
       "946  A19 P1 BPI 2020   A19 P1 BPI 2020       Calculate throughput   \n",
       "947  A19 P1 BPI 2020   A19 P1 BPI 2020  Represent temporal series   \n",
       "\n",
       "                                               Variant  \\\n",
       "0    Calculate cycle time of the whole process for ...   \n",
       "1                                   Compare cycle time   \n",
       "2            Get cycle time from the previous question   \n",
       "3                                   Compare cycle time   \n",
       "4                                 Calculate throughput   \n",
       "..                                                 ...   \n",
       "943                               Group traces by year   \n",
       "944                         Group traces by activities   \n",
       "945                 Calculate Statistics of activities   \n",
       "946                               Calculate throughput   \n",
       "947            Represent temporal series of throughput   \n",
       "\n",
       "                 time:timestamp Question  Year                  Type  \n",
       "0    2021-11-09 16:37:03.500187       P2  2020    Analyze Cycle Time  \n",
       "1    2021-11-09 17:37:03.500187       P2  2020    Analyze Cycle Time  \n",
       "2    2021-11-09 18:37:03.500187       P2  2020    Analyze Cycle Time  \n",
       "3    2021-11-09 19:37:03.500187       P2  2020    Analyze Cycle Time  \n",
       "4    2021-11-09 20:37:03.500187       P2  2020    Analyze Cycle Time  \n",
       "..                          ...      ...   ...                   ...  \n",
       "943  2021-12-18 23:37:03.500187       P1  2020          Manipulation  \n",
       "944  2021-12-19 00:37:03.500187       P1  2020          Manipulation  \n",
       "945  2021-12-19 01:37:03.500187       P1  2020  Calculate statistics  \n",
       "946  2021-12-19 02:37:03.500187       P1  2020    Analyze Cycle Time  \n",
       "947  2021-12-19 03:37:03.500187       P1  2020        Representation  \n",
       "\n",
       "[948 rows x 8 columns]"
      ]
     },
     "execution_count": 2,
     "metadata": {},
     "output_type": "execute_result"
    }
   ],
   "source": [
    "df_tipo=pd.read_csv(\"Log of analysis of time aspects.csv\",index_col=0)\n",
    "df_tipo"
   ]
  },
  {
   "cell_type": "code",
   "execution_count": 3,
   "metadata": {
    "scrolled": false
   },
   "outputs": [
    {
     "data": {
      "text/plain": [
       "16.928571428571427"
      ]
     },
     "execution_count": 3,
     "metadata": {},
     "output_type": "execute_result"
    }
   ],
   "source": [
    "df_tipo['concept:name'].value_counts().mean()"
   ]
  },
  {
   "cell_type": "code",
   "execution_count": 4,
   "metadata": {},
   "outputs": [
    {
     "data": {
      "text/plain": [
       "Type                  concept:name                                                 \n",
       "Analyze Cycle Time    Calculate cycle time                                             157\n",
       "                      Identify bottlenecks                                              61\n",
       "                      Compare cycle time                                                30\n",
       "                      Calculate waiting time                                            27\n",
       "                      Calculate throughput                                              18\n",
       "                      Calculate processing time                                          9\n",
       "                      Comparative of throughput                                          2\n",
       "                      Compare waiting time with processing time                          2\n",
       "                      Analyze cycle time depending on the events                         1\n",
       "                      Calculate intervals of time of the traces                          1\n",
       "                      Compare processing time                                            1\n",
       "Calculate statistics  Calculate number of elements                                      76\n",
       "                      Calculate percentages                                             55\n",
       "                      Calculate statistics                                              35\n",
       "                      Calculate frequency                                               23\n",
       "                      Calculate average of activities per trace                          3\n",
       "Identification        Identify attributes                                               34\n",
       "                      Identify resources                                                10\n",
       "                      Identify transitions by cycle time                                10\n",
       "                      Identify organizational units                                      9\n",
       "                      Identify activities                                                8\n",
       "                      Identify roles                                                     7\n",
       "                      Identify traces by cycle time                                      2\n",
       "                      Identify impact of bottlenecks by organizational unit              1\n",
       "                      Identify specific subprocesses                                     1\n",
       "Manipulation          Filter traces                                                     83\n",
       "                      Group traces                                                      58\n",
       "                      Preprocess the traces of the logs                                 11\n",
       "                      Filter events                                                     10\n",
       "                      Group activities                                                   8\n",
       "                      Filter activities                                                  7\n",
       "                      Filter sub-processes                                               6\n",
       "                      Filter variants depending on frequency                             2\n",
       "                      Preprocess the events of the logs                                  2\n",
       "                      Group events by attributes                                         1\n",
       "                      Group events by time                                               1\n",
       "                      Group organizational units                                         1\n",
       "                      Group sub-processes                                                1\n",
       "Others                Calculate dates of the development of activities of resources      2\n",
       "                      Apply decision trees                                               1\n",
       "                      Apply machine learning techniques                                  1\n",
       "                      Assign resource to each activity                                   1\n",
       "                      Discover happy path of the process                                 1\n",
       "                      Discover process maps                                              1\n",
       "Representation        Represent process map                                             47\n",
       "                      Represent bar charts                                              36\n",
       "                      Represent histograms                                              32\n",
       "                      Represent temporal series                                         25\n",
       "                      Represent heatmaps                                                 6\n",
       "                      Represent linear tendency of cycle time                            5\n",
       "                      Represent scatterplot                                              5\n",
       "                      Represent boxplots of cycle time                                   3\n",
       "                      Represent circular charts of attributes of the traces              3\n",
       "                      Represent density of cycle time                                    2\n",
       "                      Represent lineal distribution of an attribute by traces            2\n",
       "                      Represent correlation graph of variables                           1\n",
       "Name: concept:name, dtype: int64"
      ]
     },
     "execution_count": 4,
     "metadata": {},
     "output_type": "execute_result"
    }
   ],
   "source": [
    "df_tipo.groupby(['Type'])['concept:name'].value_counts()"
   ]
  },
  {
   "cell_type": "code",
   "execution_count": 5,
   "metadata": {
    "scrolled": true
   },
   "outputs": [
    {
     "name": "stdout",
     "output_type": "stream",
     "text": [
      "('Analyze Cycle Time', 'Analyze cycle time depending on the events') 1\n",
      "('Analyze Cycle Time', 'Calculate cycle time') 13\n",
      "('Analyze Cycle Time', 'Calculate intervals of time of the traces') 1\n",
      "('Analyze Cycle Time', 'Calculate processing time') 1\n",
      "('Analyze Cycle Time', 'Calculate throughput') 1\n",
      "('Analyze Cycle Time', 'Calculate waiting time') 1\n",
      "('Analyze Cycle Time', 'Comparative of throughput') 1\n",
      "('Analyze Cycle Time', 'Compare cycle time') 1\n",
      "('Analyze Cycle Time', 'Compare processing time') 1\n",
      "('Analyze Cycle Time', 'Compare waiting time with processing time') 1\n",
      "('Analyze Cycle Time', 'Identify bottlenecks') 5\n",
      "('Calculate statistics', 'Calculate average of activities per trace') 1\n",
      "('Calculate statistics', 'Calculate frequency') 7\n",
      "('Calculate statistics', 'Calculate number of elements') 7\n",
      "('Calculate statistics', 'Calculate percentages') 4\n",
      "('Calculate statistics', 'Calculate statistics') 4\n",
      "('Identification', 'Identify activities') 4\n",
      "('Identification', 'Identify attributes') 3\n",
      "('Identification', 'Identify impact of bottlenecks by organizational unit') 1\n",
      "('Identification', 'Identify organizational units') 3\n",
      "('Identification', 'Identify resources') 3\n",
      "('Identification', 'Identify roles') 2\n",
      "('Identification', 'Identify specific subprocesses') 1\n",
      "('Identification', 'Identify traces by cycle time') 1\n",
      "('Identification', 'Identify transitions by cycle time') 1\n",
      "('Manipulation', 'Filter activities') 4\n",
      "('Manipulation', 'Filter events') 4\n",
      "('Manipulation', 'Filter sub-processes') 2\n",
      "('Manipulation', 'Filter traces') 7\n",
      "('Manipulation', 'Filter variants depending on frequency') 1\n",
      "('Manipulation', 'Group activities') 4\n",
      "('Manipulation', 'Group events by attributes') 1\n",
      "('Manipulation', 'Group events by time') 1\n",
      "('Manipulation', 'Group organizational units') 1\n",
      "('Manipulation', 'Group sub-processes') 1\n",
      "('Manipulation', 'Group traces') 12\n",
      "('Manipulation', 'Preprocess the events of the logs') 1\n",
      "('Manipulation', 'Preprocess the traces of the logs') 1\n",
      "('Others', 'Apply decision trees') 1\n",
      "('Others', 'Apply machine learning techniques') 1\n",
      "('Others', 'Assign resource to each activity') 1\n",
      "('Others', 'Calculate dates of the development of activities of resources') 1\n",
      "('Others', 'Discover happy path of the process') 1\n",
      "('Others', 'Discover process maps') 1\n",
      "('Representation', 'Represent bar charts') 6\n",
      "('Representation', 'Represent boxplots of cycle time') 1\n",
      "('Representation', 'Represent circular charts of attributes of the traces') 1\n",
      "('Representation', 'Represent correlation graph of variables') 1\n",
      "('Representation', 'Represent density of cycle time') 1\n",
      "('Representation', 'Represent heatmaps') 1\n",
      "('Representation', 'Represent histograms') 3\n",
      "('Representation', 'Represent lineal distribution of an attribute by traces') 1\n",
      "('Representation', 'Represent linear tendency of cycle time') 1\n",
      "('Representation', 'Represent process map') 3\n",
      "('Representation', 'Represent scatterplot') 1\n",
      "('Representation', 'Represent temporal series') 4\n"
     ]
    }
   ],
   "source": [
    "d = df_tipo.groupby(['Type', 'concept:name'])\n",
    "for n, g in d:\n",
    "    print(n, len(g['Variant'].unique()))"
   ]
  },
  {
   "cell_type": "code",
   "execution_count": 6,
   "metadata": {},
   "outputs": [
    {
     "data": {
      "text/plain": [
       "16.928571428571427"
      ]
     },
     "execution_count": 6,
     "metadata": {},
     "output_type": "execute_result"
    }
   ],
   "source": [
    "df_tipo['concept:name'].value_counts().mean()"
   ]
  },
  {
   "cell_type": "code",
   "execution_count": 7,
   "metadata": {
    "scrolled": true
   },
   "outputs": [
    {
     "data": {
      "text/plain": [
       "Calculate cycle time            157\n",
       "Filter traces                    83\n",
       "Calculate number of elements     76\n",
       "Identify bottlenecks             61\n",
       "Group traces                     58\n",
       "Calculate percentages            55\n",
       "Represent process map            47\n",
       "Represent bar charts             36\n",
       "Calculate statistics             35\n",
       "Identify attributes              34\n",
       "Represent histograms             32\n",
       "Compare cycle time               30\n",
       "Calculate waiting time           27\n",
       "Represent temporal series        25\n",
       "Calculate frequency              23\n",
       "Calculate throughput             18\n",
       "Name: concept:name, dtype: int64"
      ]
     },
     "execution_count": 7,
     "metadata": {},
     "output_type": "execute_result"
    }
   ],
   "source": [
    "df_tipo['concept:name'].value_counts().head(16)"
   ]
  },
  {
   "cell_type": "code",
   "execution_count": 8,
   "metadata": {},
   "outputs": [
    {
     "data": {
      "text/plain": [
       "(array([5., 4., 3., 1., 2., 0., 0., 0., 0., 1.]),\n",
       " array([ 18. ,  31.9,  45.8,  59.7,  73.6,  87.5, 101.4, 115.3, 129.2,\n",
       "        143.1, 157. ]),\n",
       " <a list of 10 Patch objects>)"
      ]
     },
     "execution_count": 8,
     "metadata": {},
     "output_type": "execute_result"
    },
    {
     "data": {
      "image/png": "[encoded data removed]",
      "text/plain": [
       "<Figure size 432x288 with 1 Axes>"
      ]
     },
     "metadata": {
      "needs_background": "light"
     },
     "output_type": "display_data"
    }
   ],
   "source": [
    "plt.hist(df_tipo['concept:name'].value_counts().head(16))"
   ]
  },
  {
   "cell_type": "code",
   "execution_count": 9,
   "metadata": {},
   "outputs": [
    {
     "data": {
      "text/plain": [
       "Filter traces by activities                                                  44\n",
       "Calculate percentage of traces                                               42\n",
       "Identify activities as bottlenecks applying temporal performance criteria    40\n",
       "Calculate number of traces                                                   39\n",
       "Represent process map with cycle time                                        35\n",
       "Compare cycle time                                                           30\n",
       "Represent histograms of cycle time                                           29\n",
       "Calculate waiting time                                                       27\n",
       "Calculate cycle time of the whole process for all traces                     21\n",
       "Group traces depending on attributes                                         21\n",
       "Name: Variant, dtype: int64"
      ]
     },
     "execution_count": 9,
     "metadata": {},
     "output_type": "execute_result"
    }
   ],
   "source": [
    "df_tipo['Variant'].value_counts().head(10)"
   ]
  },
  {
   "cell_type": "code",
   "execution_count": 10,
   "metadata": {
    "scrolled": true
   },
   "outputs": [
    {
     "data": {
      "text/plain": [
       "array(['Calculate cycle time of the whole process for all traces',\n",
       "       'Compare cycle time', 'Get cycle time from the previous question',\n",
       "       'Calculate throughput', 'Comparative of throughput',\n",
       "       'Represent scatterplot', 'Represent boxplots of cycle time',\n",
       "       'Preprocess the traces of the logs',\n",
       "       'Calculate cycle time of only a subset of pairs of events for all traces',\n",
       "       'Identify specific subprocesses',\n",
       "       'Calculate Statistics of cycle time',\n",
       "       'Represent histograms of cycle time',\n",
       "       'Calculate cycle time of a fragment of the process for all traces',\n",
       "       'Calculate number of traces', 'Calculate number of activities',\n",
       "       'Calculate average of activities per trace',\n",
       "       'Calculate percentage of traces',\n",
       "       'Calculate Statistics of attributes',\n",
       "       'Group traces depending on attributes',\n",
       "       'Represent histograms of attributes',\n",
       "       'Represent bar charts of traces', 'Filter traces by activities',\n",
       "       'Filter activities by sub-processes',\n",
       "       'Group activities by sub-processes',\n",
       "       'Calculate cycle time for all pairs of events for each subset of traces',\n",
       "       'Group activities by role', 'Group activities by time',\n",
       "       'Represent process map with cycle time',\n",
       "       'Calculate cycle time for all pairs of events for all traces',\n",
       "       'Calculate cycle time of a fragment of the process for each subset of traces',\n",
       "       'Represent process map with frequency',\n",
       "       'Calculate cycle time of only a subset of pairs of events for a subset of traces',\n",
       "       'Represent bar charts of cycle time',\n",
       "       'Identify activities as bottlenecks applying temporal performance criteria',\n",
       "       'Filter variants depending on frequency',\n",
       "       'Calculate cycle time of the whole process for a subset of traces',\n",
       "       'Represent heatmaps',\n",
       "       'Calculate cycle time of a fragment of the process for a subset of traces',\n",
       "       'Group traces by roles', 'Filter activities by cycle time',\n",
       "       'Identify sub-processes as bottlenecks applying temporal performance criteria',\n",
       "       'Identify sub-processes with incorrect orders with respect to the happy path as bottlenecks',\n",
       "       'Calculate frequency of attributes',\n",
       "       'Filter traces depending on the order of activities',\n",
       "       'Calculate frequency of variants',\n",
       "       'Calculate intervals of time of the traces',\n",
       "       'Get process map from the previous question',\n",
       "       'Calculate number of variants',\n",
       "       'Calculate number of different organizational units',\n",
       "       'Filter events by cycle time', 'Filter activities by frequency',\n",
       "       'Calculate cycle time of the whole process for each subset of traces',\n",
       "       'Identify organizational units as bottlenecks applying temporal performance criteria',\n",
       "       'Identify impact of bottlenecks by organizational unit',\n",
       "       'Filter traces by attributes', 'Group traces by cycle time',\n",
       "       'Group traces by organizational units',\n",
       "       'Analyze cycle time depending on the events',\n",
       "       'Calculate frequency of activities',\n",
       "       'Calculate cycle time of only a subset of pairs of events for each subset of traces',\n",
       "       'Identify resource associated with bottlenecks',\n",
       "       'Calculate cycle time for all pairs of events for a subset of traces',\n",
       "       'Apply decision trees', 'Group organizational units',\n",
       "       'Calculate Statistics of throughput',\n",
       "       'Represent density of cycle time', 'Calculate processing time',\n",
       "       'Group traces by year', 'Calculate number of events',\n",
       "       'Filter events by attributes', 'Calculate frequency of events',\n",
       "       'Filter events by activities', 'Calculate waiting time',\n",
       "       'Discover process maps',\n",
       "       'Identify role associated with bottlenecks',\n",
       "       'Group traces by waiting', 'Calculate percentage of events',\n",
       "       'Identify resources by activities',\n",
       "       'Calculate frequency of resources',\n",
       "       'Represent bar charts of waiting time',\n",
       "       'Compare waiting time with processing time',\n",
       "       'Represent histograms of waiting time',\n",
       "       'Group traces by activities', 'Filter traces by cycle time',\n",
       "       'Assign resource to each activity',\n",
       "       'Group activities using clustering', 'Group events by time',\n",
       "       'Represent circular charts of attributes of the traces',\n",
       "       'Apply machine learning techniques',\n",
       "       'Preprocess the events of the logs',\n",
       "       'Discover happy path of the process',\n",
       "       'Represent bar charts of attributes',\n",
       "       'Identify values of attributes',\n",
       "       'Identify resources by cycle time',\n",
       "       'Calculate dates of the development of activities of resources',\n",
       "       'Identify activity with biggest backlog',\n",
       "       'Represent temporal series of subprocesses',\n",
       "       'Filter traces by frequency',\n",
       "       'Calcute number of values of an attribute',\n",
       "       'Group traces according to the repetition of activities',\n",
       "       'Identify organizational units by cycle time',\n",
       "       'Group traces by sub-processes',\n",
       "       'Identify transitions by cycle time', 'Group traces by endpoints',\n",
       "       'Identify common activities',\n",
       "       'Calculate frequency of sub-processes',\n",
       "       'Represent linear tendency of cycle time',\n",
       "       'Filter activities by resource',\n",
       "       'Identify attributes by cycle time',\n",
       "       'Represent temporal series of traces', 'Filter traces by year',\n",
       "       'Calculate number of sub-processes',\n",
       "       'Filter sub-processes by cycle time',\n",
       "       'Calculate percentage of sub-processes',\n",
       "       'Represent bar charts of sub-processes',\n",
       "       'Filter sub-processes by attributes',\n",
       "       'Represent lineal distribution of an attribute by traces',\n",
       "       'Group sub-processes', 'Calculate frequency of traces',\n",
       "       'Represent correlation graph of variables',\n",
       "       'Identify traces by cycle time', 'Compare processing time',\n",
       "       'Identify organizational units by traces',\n",
       "       'Group traces by resources', 'Calculate percentage of activities',\n",
       "       'Identify organizational units by resources',\n",
       "       'Filter events by resources', 'Identify attributes by traces',\n",
       "       'Group events by attributes', 'Filter traces by subprocesses',\n",
       "       'Represent bart charts of activities', 'Group traces by month',\n",
       "       'Represent temporal series of activities',\n",
       "       'Identify activities with cycle time',\n",
       "       'Identify roles by organizational units',\n",
       "       'Identify activities with traces',\n",
       "       'Identify activities as bottlenecks applying temporal performance criteria and statistical measures',\n",
       "       'Calculate Statistics of activities',\n",
       "       'Represent temporal series of throughput'], dtype=object)"
      ]
     },
     "execution_count": 10,
     "metadata": {},
     "output_type": "execute_result"
    }
   ],
   "source": [
    "df_tipo['Variant'].unique()"
   ]
  },
  {
   "cell_type": "markdown",
   "metadata": {},
   "source": [
    "###  Variantes del top 5 Operaciones más frecuentes"
   ]
  },
  {
   "cell_type": "code",
   "execution_count": 11,
   "metadata": {},
   "outputs": [
    {
     "name": "stdout",
     "output_type": "stream",
     "text": [
      "Calculate cycle time of the whole process for all traces                              21\n",
      "Calculate cycle time of a fragment of the process for a subset of traces              20\n",
      "Calculate cycle time of the whole process for each subset of traces                   19\n",
      "Calculate cycle time of the whole process for a subset of traces                      17\n",
      "Calculate cycle time for all pairs of events for all traces                           16\n",
      "Get cycle time from the previous question                                             13\n",
      "Calculate cycle time of only a subset of pairs of events for a subset of traces        9\n",
      "Calculate cycle time for all pairs of events for each subset of traces                 8\n",
      "Calculate cycle time for all pairs of events for a subset of traces                    8\n",
      "Calculate cycle time of a fragment of the process for all traces                       8\n",
      "Calculate cycle time of only a subset of pairs of events for each subset of traces     7\n",
      "Calculate cycle time of only a subset of pairs of events for all traces                6\n",
      "Calculate cycle time of a fragment of the process for each subset of traces            5\n",
      "Name: Variant, dtype: int64\n",
      "12.076923076923077\n"
     ]
    }
   ],
   "source": [
    "print(df_tipo[df_tipo['concept:name'] == 'Calculate cycle time']['Variant'].value_counts())\n",
    "print(df_tipo[df_tipo['concept:name'] == 'Calculate cycle time']['Variant'].value_counts().mean())"
   ]
  },
  {
   "cell_type": "code",
   "execution_count": 12,
   "metadata": {},
   "outputs": [
    {
     "name": "stdout",
     "output_type": "stream",
     "text": [
      "Filter traces by activities                           44\n",
      "Filter traces by attributes                           15\n",
      "Filter traces by cycle time                            8\n",
      "Filter traces by frequency                             7\n",
      "Filter traces by year                                  6\n",
      "Filter traces depending on the order of activities     2\n",
      "Filter traces by subprocesses                          1\n",
      "Name: Variant, dtype: int64\n",
      "11.857142857142858\n"
     ]
    }
   ],
   "source": [
    "print(df_tipo[df_tipo['concept:name'] == 'Filter traces']['Variant'].value_counts())\n",
    "print(df_tipo[df_tipo['concept:name'] == 'Filter traces']['Variant'].value_counts().mean())"
   ]
  },
  {
   "cell_type": "code",
   "execution_count": 13,
   "metadata": {},
   "outputs": [
    {
     "name": "stdout",
     "output_type": "stream",
     "text": [
      "Calculate number of traces                            39\n",
      "Calculate number of activities                        14\n",
      "Calculate number of events                            10\n",
      "Calculate number of sub-processes                      5\n",
      "Calculate number of variants                           4\n",
      "Calcute number of values of an attribute               3\n",
      "Calculate number of different organizational units     1\n",
      "Name: Variant, dtype: int64\n",
      "10.857142857142858\n"
     ]
    }
   ],
   "source": [
    "print(df_tipo[df_tipo['concept:name'] == 'Calculate number of elements']['Variant'].value_counts())\n",
    "print(df_tipo[df_tipo['concept:name'] == 'Calculate number of elements']['Variant'].value_counts().mean())"
   ]
  },
  {
   "cell_type": "code",
   "execution_count": 14,
   "metadata": {},
   "outputs": [
    {
     "name": "stdout",
     "output_type": "stream",
     "text": [
      "Identify activities as bottlenecks applying temporal performance criteria                             40\n",
      "Identify sub-processes as bottlenecks applying temporal performance criteria                          11\n",
      "Identify organizational units as bottlenecks applying temporal performance criteria                    5\n",
      "Identify sub-processes with incorrect orders with respect to the happy path as bottlenecks             4\n",
      "Identify activities as bottlenecks applying temporal performance criteria and statistical measures     1\n",
      "Name: Variant, dtype: int64\n",
      "12.2\n"
     ]
    }
   ],
   "source": [
    "print(df_tipo[df_tipo['concept:name'] == 'Identify bottlenecks']['Variant'].value_counts())\n",
    "print(df_tipo[df_tipo['concept:name'] == 'Identify bottlenecks']['Variant'].value_counts().mean())"
   ]
  },
  {
   "cell_type": "code",
   "execution_count": 15,
   "metadata": {},
   "outputs": [
    {
     "name": "stdout",
     "output_type": "stream",
     "text": [
      "Group traces depending on attributes                      21\n",
      "Group traces by activities                                17\n",
      "Group traces by year                                       5\n",
      "Group traces by cycle time                                 4\n",
      "Group traces by month                                      2\n",
      "Group traces by sub-processes                              2\n",
      "Group traces by resources                                  2\n",
      "Group traces by organizational units                       1\n",
      "Group traces according to the repetition of activities     1\n",
      "Group traces by waiting                                    1\n",
      "Group traces by roles                                      1\n",
      "Group traces by endpoints                                  1\n",
      "Name: Variant, dtype: int64\n",
      "4.833333333333333\n"
     ]
    }
   ],
   "source": [
    "print(df_tipo[df_tipo['concept:name'] == 'Group traces']['Variant'].value_counts())\n",
    "print(df_tipo[df_tipo['concept:name'] == 'Group traces']['Variant'].value_counts().mean())"
   ]
  },
  {
   "cell_type": "markdown",
   "metadata": {},
   "source": [
    "### Análisis de variantes"
   ]
  },
  {
   "cell_type": "code",
   "execution_count": 51,
   "metadata": {},
   "outputs": [],
   "source": [
    "frec_op=df_tipo['concept:name'].value_counts().head(16).index"
   ]
  },
  {
   "cell_type": "code",
   "execution_count": 52,
   "metadata": {},
   "outputs": [
    {
     "data": {
      "text/plain": [
       "81"
      ]
     },
     "execution_count": 52,
     "metadata": {},
     "output_type": "execute_result"
    }
   ],
   "source": [
    "len(df_tipo[df_tipo['concept:name'].isin(frec_op)]['Variant'].unique())"
   ]
  },
  {
   "cell_type": "code",
   "execution_count": 16,
   "metadata": {},
   "outputs": [],
   "source": [
    "v = df_tipo.groupby(by=['concept:name'])\n",
    "variantes = v.apply(lambda x: len(x[\"Variant\"].unique()))"
   ]
  },
  {
   "cell_type": "code",
   "execution_count": 17,
   "metadata": {},
   "outputs": [
    {
     "data": {
      "text/plain": [
       "concept:name\n",
       "Analyze cycle time depending on the events                        1\n",
       "Represent scatterplot                                             1\n",
       "Group events by time                                              1\n",
       "Group organizational units                                        1\n",
       "Group sub-processes                                               1\n",
       "Identify impact of bottlenecks by organizational unit             1\n",
       "Identify specific subprocesses                                    1\n",
       "Identify traces by cycle time                                     1\n",
       "Identify transitions by cycle time                                1\n",
       "Preprocess the events of the logs                                 1\n",
       "Preprocess the traces of the logs                                 1\n",
       "Represent boxplots of cycle time                                  1\n",
       "Represent circular charts of attributes of the traces             1\n",
       "Represent correlation graph of variables                          1\n",
       "Represent density of cycle time                                   1\n",
       "Represent heatmaps                                                1\n",
       "Represent lineal distribution of an attribute by traces           1\n",
       "Represent linear tendency of cycle time                           1\n",
       "Filter variants depending on frequency                            1\n",
       "Discover process maps                                             1\n",
       "Group events by attributes                                        1\n",
       "Calculate intervals of time of the traces                         1\n",
       "Calculate dates of the development of activities of resources     1\n",
       "Discover happy path of the process                                1\n",
       "Apply decision trees                                              1\n",
       "Compare waiting time with processing time                         1\n",
       "Apply machine learning techniques                                 1\n",
       "Compare processing time                                           1\n",
       "Compare cycle time                                                1\n",
       "Comparative of throughput                                         1\n",
       "Calculate waiting time                                            1\n",
       "Calculate processing time                                         1\n",
       "Assign resource to each activity                                  1\n",
       "Calculate throughput                                              1\n",
       "Calculate average of activities per trace                         1\n",
       "Identify roles                                                    2\n",
       "Filter sub-processes                                              2\n",
       "Identify organizational units                                     3\n",
       "Identify resources                                                3\n",
       "Represent process map                                             3\n",
       "Identify attributes                                               3\n",
       "Represent histograms                                              3\n",
       "Filter activities                                                 4\n",
       "Calculate percentages                                             4\n",
       "Calculate statistics                                              4\n",
       "Identify activities                                               4\n",
       "Group activities                                                  4\n",
       "Filter events                                                     4\n",
       "Represent temporal series                                         4\n",
       "Identify bottlenecks                                              5\n",
       "Represent bar charts                                              6\n",
       "Calculate frequency                                               7\n",
       "Filter traces                                                     7\n",
       "Calculate number of elements                                      7\n",
       "Group traces                                                     12\n",
       "Calculate cycle time                                             13\n",
       "dtype: int64"
      ]
     },
     "execution_count": 17,
     "metadata": {},
     "output_type": "execute_result"
    }
   ],
   "source": [
    "variantes.sort_values()"
   ]
  },
  {
   "cell_type": "code",
   "execution_count": 18,
   "metadata": {
    "scrolled": true
   },
   "outputs": [
    {
     "data": {
      "text/plain": [
       "(array([35.,  2.,  5.,  7.,  1.,  1.,  3.,  0.,  0.,  0.,  0.,  1.,  1.,\n",
       "         0.]),\n",
       " array([ 0.5       ,  1.46428571,  2.42857143,  3.39285714,  4.35714286,\n",
       "         5.32142857,  6.28571429,  7.25      ,  8.21428571,  9.17857143,\n",
       "        10.14285714, 11.10714286, 12.07142857, 13.03571429, 14.        ]),\n",
       " <a list of 14 Patch objects>)"
      ]
     },
     "execution_count": 18,
     "metadata": {},
     "output_type": "execute_result"
    },
    {
     "data": {
      "image/png": "[encoded data removed]",
      "text/plain": [
       "<Figure size 432x288 with 1 Axes>"
      ]
     },
     "metadata": {
      "needs_background": "light"
     },
     "output_type": "display_data"
    }
   ],
   "source": [
    "fig, ax = plt.subplots()\n",
    "# ax.axis(\"off\")\n",
    "plt.title('Variants per operation')\n",
    "plt.xlabel('Number of variantes')\n",
    "plt.ylabel('Number of operations')\n",
    "plt.xticks(np.arange(1, 14, 1.0))\n",
    "plt.hist(variantes, 14, range=[0.5, 14])\n"
   ]
  },
  {
   "cell_type": "code",
   "execution_count": 19,
   "metadata": {},
   "outputs": [
    {
     "data": {
      "text/plain": [
       "6.820143884892087"
      ]
     },
     "execution_count": 19,
     "metadata": {},
     "output_type": "execute_result"
    }
   ],
   "source": [
    "df_tipo['Variant'].value_counts().mean()"
   ]
  },
  {
   "cell_type": "code",
   "execution_count": 29,
   "metadata": {},
   "outputs": [
    {
     "data": {
      "text/plain": [
       "Represent process map with cycle time      35\n",
       "Represent histograms of cycle time         29\n",
       "Represent bar charts of cycle time         13\n",
       "Represent temporal series of activities    10\n",
       "Represent process map with frequency       10\n",
       "Represent temporal series of traces         9\n",
       "Represent bar charts of attributes          7\n",
       "Name: Variant, dtype: int64"
      ]
     },
     "execution_count": 29,
     "metadata": {},
     "output_type": "execute_result"
    }
   ],
   "source": [
    "frec_variants_manip=df_tipo[df_tipo['Type']==\"Representation\"]['Variant'].value_counts()\n",
    "frec_variants_manip[frec_variants_manip>6.82]"
   ]
  },
  {
   "cell_type": "code",
   "execution_count": 42,
   "metadata": {},
   "outputs": [
    {
     "data": {
      "text/plain": [
       "Identify activities as bottlenecks applying temporal performance criteria             40\n",
       "Compare cycle time                                                                    30\n",
       "Calculate waiting time                                                                27\n",
       "Calculate cycle time of the whole process for all traces                              21\n",
       "Calculate cycle time of a fragment of the process for a subset of traces              20\n",
       "Calculate cycle time of the whole process for each subset of traces                   19\n",
       "Calculate throughput                                                                  18\n",
       "Calculate cycle time of the whole process for a subset of traces                      17\n",
       "Calculate cycle time for all pairs of events for all traces                           16\n",
       "Get cycle time from the previous question                                             13\n",
       "Identify sub-processes as bottlenecks applying temporal performance criteria          11\n",
       "Calculate processing time                                                              9\n",
       "Calculate cycle time of only a subset of pairs of events for a subset of traces        9\n",
       "Calculate cycle time of a fragment of the process for all traces                       8\n",
       "Calculate cycle time for all pairs of events for a subset of traces                    8\n",
       "Calculate cycle time for all pairs of events for each subset of traces                 8\n",
       "Calculate cycle time of only a subset of pairs of events for each subset of traces     7\n",
       "Name: Variant, dtype: int64"
      ]
     },
     "execution_count": 42,
     "metadata": {},
     "output_type": "execute_result"
    }
   ],
   "source": [
    "frec_variants_manip=df_tipo[df_tipo['Type']==\"Analyze Cycle Time\"]['Variant'].value_counts()\n",
    "frec_variants_manip[frec_variants_manip>6.82]"
   ]
  },
  {
   "cell_type": "code",
   "execution_count": null,
   "metadata": {},
   "outputs": [],
   "source": []
  }
 ],
 "metadata": {
  "kernelspec": {
   "display_name": "Python 3",
   "language": "python",
   "name": "python3"
  },
  "language_info": {
   "codemirror_mode": {
    "name": "ipython",
    "version": 3
   },
   "file_extension": ".py",
   "mimetype": "text/x-python",
   "name": "python",
   "nbconvert_exporter": "python",
   "pygments_lexer": "ipython3",
   "version": "3.7.4"
  }
 },
 "nbformat": 4,
 "nbformat_minor": 4
}
