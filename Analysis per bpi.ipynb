{
 "cells": [
  {
   "cell_type": "code",
   "execution_count": 1,
   "metadata": {},
   "outputs": [],
   "source": [
    "import pandas as pd\n",
    "import datetime\n",
    "from os import listdir\n",
    "import os, os.path\n",
    "from os.path import isfile, join\n",
    "import numpy as np\n",
    "import csv\n",
    "import re\n",
    "import pandas as pd\n",
    "import pm4py\n",
    "from pm4py.objects.conversion.log import converter as log_converter\n",
    "from pm4py.objects.log.importer.xes import importer as xes_importer\n",
    "from pm4py.objects.log.exporter.xes import exporter as xes_exporter\n",
    "from pm4py.objects.log.util import dataframe_utils\n",
    "import matplotlib.pyplot as plt\n",
    "import seaborn as sns"
   ]
  },
  {
   "cell_type": "code",
   "execution_count": 2,
   "metadata": {},
   "outputs": [
    {
     "data": {
      "text/html": [
       "<div>\n",
       "<style scoped>\n",
       "    .dataframe tbody tr th:only-of-type {\n",
       "        vertical-align: middle;\n",
       "    }\n",
       "\n",
       "    .dataframe tbody tr th {\n",
       "        vertical-align: top;\n",
       "    }\n",
       "\n",
       "    .dataframe thead th {\n",
       "        text-align: right;\n",
       "    }\n",
       "</style>\n",
       "<table border=\"1\" class=\"dataframe\">\n",
       "  <thead>\n",
       "    <tr style=\"text-align: right;\">\n",
       "      <th></th>\n",
       "      <th>case:concept:name</th>\n",
       "      <th>concept:name</th>\n",
       "      <th>Specific operation</th>\n",
       "      <th>time:timestamp</th>\n",
       "      <th>Report</th>\n",
       "      <th>Question</th>\n",
       "      <th>Year</th>\n",
       "      <th>Category</th>\n",
       "      <th>Type</th>\n",
       "    </tr>\n",
       "  </thead>\n",
       "  <tbody>\n",
       "    <tr>\n",
       "      <td>0</td>\n",
       "      <td>A1 P2 BPI 2020</td>\n",
       "      <td>Calculate cycle time</td>\n",
       "      <td>Calculate cycle time of the whole process for ...</td>\n",
       "      <td>2021-10-19 12:47:13.651481</td>\n",
       "      <td>A1</td>\n",
       "      <td>P2</td>\n",
       "      <td>2020</td>\n",
       "      <td>Academic</td>\n",
       "      <td>Analyze Cycle Time</td>\n",
       "    </tr>\n",
       "    <tr>\n",
       "      <td>1</td>\n",
       "      <td>A1 P2 BPI 2020</td>\n",
       "      <td>Compare cycle time</td>\n",
       "      <td></td>\n",
       "      <td>2021-10-19 12:47:13.659459</td>\n",
       "      <td>A1</td>\n",
       "      <td>P2</td>\n",
       "      <td>2020</td>\n",
       "      <td>Academic</td>\n",
       "      <td>Analyze Cycle Time</td>\n",
       "    </tr>\n",
       "    <tr>\n",
       "      <td>2</td>\n",
       "      <td>A2 P2 BPI 2020</td>\n",
       "      <td>Calculate cycle time</td>\n",
       "      <td>Get cycle time from the previous question</td>\n",
       "      <td>2021-10-19 12:47:13.666495</td>\n",
       "      <td>A2</td>\n",
       "      <td>P2</td>\n",
       "      <td>2020</td>\n",
       "      <td>Student</td>\n",
       "      <td>Analyze Cycle Time</td>\n",
       "    </tr>\n",
       "    <tr>\n",
       "      <td>3</td>\n",
       "      <td>A2 P2 BPI 2020</td>\n",
       "      <td>Compare cycle time</td>\n",
       "      <td></td>\n",
       "      <td>2021-10-19 12:47:13.666495</td>\n",
       "      <td>A2</td>\n",
       "      <td>P2</td>\n",
       "      <td>2020</td>\n",
       "      <td>Student</td>\n",
       "      <td>Analyze Cycle Time</td>\n",
       "    </tr>\n",
       "    <tr>\n",
       "      <td>4</td>\n",
       "      <td>A7 P2 BPI 2020</td>\n",
       "      <td>Calculate throughput</td>\n",
       "      <td></td>\n",
       "      <td>2021-10-19 12:47:13.682150</td>\n",
       "      <td>A7</td>\n",
       "      <td>P2</td>\n",
       "      <td>2020</td>\n",
       "      <td>Academic</td>\n",
       "      <td>Analyze Cycle Time</td>\n",
       "    </tr>\n",
       "    <tr>\n",
       "      <td>...</td>\n",
       "      <td>...</td>\n",
       "      <td>...</td>\n",
       "      <td>...</td>\n",
       "      <td>...</td>\n",
       "      <td>...</td>\n",
       "      <td>...</td>\n",
       "      <td>...</td>\n",
       "      <td>...</td>\n",
       "      <td>...</td>\n",
       "    </tr>\n",
       "    <tr>\n",
       "      <td>943</td>\n",
       "      <td>A19 P1 BPI 2020</td>\n",
       "      <td>Group traces</td>\n",
       "      <td>Group traces by year</td>\n",
       "      <td>2021-10-19 12:47:20.534786</td>\n",
       "      <td>A19</td>\n",
       "      <td>P1</td>\n",
       "      <td>2020</td>\n",
       "      <td>Professional</td>\n",
       "      <td>Manipulation</td>\n",
       "    </tr>\n",
       "    <tr>\n",
       "      <td>944</td>\n",
       "      <td>A19 P1 BPI 2020</td>\n",
       "      <td>Group traces</td>\n",
       "      <td>Group traces by activities</td>\n",
       "      <td>2021-10-19 12:47:20.534786</td>\n",
       "      <td>A19</td>\n",
       "      <td>P1</td>\n",
       "      <td>2020</td>\n",
       "      <td>Professional</td>\n",
       "      <td>Manipulation</td>\n",
       "    </tr>\n",
       "    <tr>\n",
       "      <td>945</td>\n",
       "      <td>A19 P1 BPI 2020</td>\n",
       "      <td>Calculate statistics</td>\n",
       "      <td>Calculate Statistics of activities</td>\n",
       "      <td>2021-10-19 12:47:20.557196</td>\n",
       "      <td>A19</td>\n",
       "      <td>P1</td>\n",
       "      <td>2020</td>\n",
       "      <td>Professional</td>\n",
       "      <td>Calculate statistics</td>\n",
       "    </tr>\n",
       "    <tr>\n",
       "      <td>946</td>\n",
       "      <td>A19 P1 BPI 2020</td>\n",
       "      <td>Calculate throughput</td>\n",
       "      <td></td>\n",
       "      <td>2021-10-19 12:47:20.567144</td>\n",
       "      <td>A19</td>\n",
       "      <td>P1</td>\n",
       "      <td>2020</td>\n",
       "      <td>Professional</td>\n",
       "      <td>Analyze Cycle Time</td>\n",
       "    </tr>\n",
       "    <tr>\n",
       "      <td>947</td>\n",
       "      <td>A19 P1 BPI 2020</td>\n",
       "      <td>Represent temporal series</td>\n",
       "      <td>Represent temporal series of throughput</td>\n",
       "      <td>2021-10-19 12:47:20.576118</td>\n",
       "      <td>A19</td>\n",
       "      <td>P1</td>\n",
       "      <td>2020</td>\n",
       "      <td>Professional</td>\n",
       "      <td>Representation</td>\n",
       "    </tr>\n",
       "  </tbody>\n",
       "</table>\n",
       "<p>948 rows × 9 columns</p>\n",
       "</div>"
      ],
      "text/plain": [
       "    case:concept:name               concept:name  \\\n",
       "0      A1 P2 BPI 2020       Calculate cycle time   \n",
       "1      A1 P2 BPI 2020         Compare cycle time   \n",
       "2      A2 P2 BPI 2020       Calculate cycle time   \n",
       "3      A2 P2 BPI 2020         Compare cycle time   \n",
       "4      A7 P2 BPI 2020       Calculate throughput   \n",
       "..                ...                        ...   \n",
       "943   A19 P1 BPI 2020               Group traces   \n",
       "944   A19 P1 BPI 2020               Group traces   \n",
       "945   A19 P1 BPI 2020       Calculate statistics   \n",
       "946   A19 P1 BPI 2020       Calculate throughput   \n",
       "947   A19 P1 BPI 2020  Represent temporal series   \n",
       "\n",
       "                                    Specific operation  \\\n",
       "0    Calculate cycle time of the whole process for ...   \n",
       "1                                                        \n",
       "2            Get cycle time from the previous question   \n",
       "3                                                        \n",
       "4                                                        \n",
       "..                                                 ...   \n",
       "943                               Group traces by year   \n",
       "944                         Group traces by activities   \n",
       "945                 Calculate Statistics of activities   \n",
       "946                                                      \n",
       "947            Represent temporal series of throughput   \n",
       "\n",
       "                 time:timestamp Report Question  Year      Category  \\\n",
       "0    2021-10-19 12:47:13.651481     A1       P2  2020      Academic   \n",
       "1    2021-10-19 12:47:13.659459     A1       P2  2020      Academic   \n",
       "2    2021-10-19 12:47:13.666495     A2       P2  2020       Student   \n",
       "3    2021-10-19 12:47:13.666495     A2       P2  2020       Student   \n",
       "4    2021-10-19 12:47:13.682150     A7       P2  2020      Academic   \n",
       "..                          ...    ...      ...   ...           ...   \n",
       "943  2021-10-19 12:47:20.534786    A19       P1  2020  Professional   \n",
       "944  2021-10-19 12:47:20.534786    A19       P1  2020  Professional   \n",
       "945  2021-10-19 12:47:20.557196    A19       P1  2020  Professional   \n",
       "946  2021-10-19 12:47:20.567144    A19       P1  2020  Professional   \n",
       "947  2021-10-19 12:47:20.576118    A19       P1  2020  Professional   \n",
       "\n",
       "                     Type  \n",
       "0      Analyze Cycle Time  \n",
       "1      Analyze Cycle Time  \n",
       "2      Analyze Cycle Time  \n",
       "3      Analyze Cycle Time  \n",
       "4      Analyze Cycle Time  \n",
       "..                    ...  \n",
       "943          Manipulation  \n",
       "944          Manipulation  \n",
       "945  Calculate statistics  \n",
       "946    Analyze Cycle Time  \n",
       "947        Representation  \n",
       "\n",
       "[948 rows x 9 columns]"
      ]
     },
     "execution_count": 2,
     "metadata": {},
     "output_type": "execute_result"
    }
   ],
   "source": [
    "df_categorias_autores=pd.read_csv(\"logCT2.csv\",index_col=0)\n",
    "df_categorias_autores"
   ]
  },
  {
   "cell_type": "code",
   "execution_count": 4,
   "metadata": {},
   "outputs": [
    {
     "data": {
      "text/plain": [
       "56"
      ]
     },
     "execution_count": 4,
     "metadata": {},
     "output_type": "execute_result"
    }
   ],
   "source": [
    "len(df_categorias_autores['concept:name'].unique())"
   ]
  },
  {
   "cell_type": "code",
   "execution_count": 5,
   "metadata": {},
   "outputs": [
    {
     "data": {
      "text/plain": [
       "105"
      ]
     },
     "execution_count": 5,
     "metadata": {},
     "output_type": "execute_result"
    }
   ],
   "source": [
    "len(df_categorias_autores['Specific operation'].unique())"
   ]
  },
  {
   "cell_type": "code",
   "execution_count": 6,
   "metadata": {},
   "outputs": [
    {
     "data": {
      "text/plain": [
       "126"
      ]
     },
     "execution_count": 6,
     "metadata": {},
     "output_type": "execute_result"
    }
   ],
   "source": [
    "len(df_categorias_autores['case:concept:name'].unique())"
   ]
  },
  {
   "cell_type": "code",
   "execution_count": 3,
   "metadata": {},
   "outputs": [],
   "source": [
    "#Operaciones por bpi"
   ]
  },
  {
   "cell_type": "code",
   "execution_count": 4,
   "metadata": {},
   "outputs": [],
   "source": [
    "tipos_op_agrupado_años=df_categorias_autores.groupby(\"Year\")['Type'].value_counts()"
   ]
  },
  {
   "cell_type": "code",
   "execution_count": 5,
   "metadata": {},
   "outputs": [],
   "source": [
    "sumAños=[tipos_op_agrupado_años[tipos_op_agrupado_años.index.get_level_values('Year')==val].sum() for val in [2015,2017,2019,2020]]"
   ]
  },
  {
   "cell_type": "code",
   "execution_count": 6,
   "metadata": {},
   "outputs": [],
   "source": [
    "for index,value in tipos_op_agrupado_años.items():\n",
    "    if 2015 in index:\n",
    "        tipos_op_agrupado_años[index]=(value/sumAños[0])*100\n",
    "    elif 2017 in index:\n",
    "        tipos_op_agrupado_años[index]=(value/sumAños[1])*100\n",
    "    elif 2019 in index:\n",
    "        tipos_op_agrupado_años[index]=(value/sumAños[2])*100\n",
    "    elif 2020 in index:\n",
    "        tipos_op_agrupado_años[index]=(value/sumAños[3])*100"
   ]
  },
  {
   "cell_type": "code",
   "execution_count": 7,
   "metadata": {},
   "outputs": [
    {
     "data": {
      "image/png": "[encoded data removed]",
      "text/plain": [
       "<Figure size 432x288 with 1 Axes>"
      ]
     },
     "metadata": {
      "needs_background": "light"
     },
     "output_type": "display_data"
    }
   ],
   "source": [
    "tipos_op_agrupado_años.unstack().plot(kind='bar')\n",
    "plt.legend([\"Analyze Cycle time\",\"Calculate statistics\",\"Identification\",\"Manipulation\",\"Others\",\"Representation\"],bbox_to_anchor = (1.05, 0.6))\n",
    "plt.ylabel(\"Percentage of operations\")\n",
    "plt.show()"
   ]
  },
  {
   "cell_type": "code",
   "execution_count": 8,
   "metadata": {},
   "outputs": [],
   "source": [
    "#Operaciones/variantes comunes entre BPI"
   ]
  },
  {
   "cell_type": "code",
   "execution_count": 12,
   "metadata": {},
   "outputs": [
    {
     "data": {
      "text/plain": [
       "numpy.int64"
      ]
     },
     "execution_count": 12,
     "metadata": {},
     "output_type": "execute_result"
    }
   ],
   "source": [
    "type(df_categorias_autores['Year'][0])"
   ]
  },
  {
   "cell_type": "code",
   "execution_count": 30,
   "metadata": {},
   "outputs": [],
   "source": [
    "years1=[2015,2017,2019,2020]\n",
    "years2=[2015,2017,2019,2020]\n",
    "df = pd.DataFrame(index=[2015,2017,2019,2020],columns=[2015,2017,2019,2020])\n",
    "for year1 in years1:\n",
    "    operationsYear1=df_categorias_autores[df_categorias_autores[\"Year\"]==year1]\n",
    "    listaCoincidencias=[]\n",
    "    for year2 in years2:\n",
    "        operationsYear2=df_categorias_autores[df_categorias_autores[\"Year\"]==year2]\n",
    "        intersec=len(list(set(operationsYear1[\"concept:name\"]).intersection(set(operationsYear2[\"concept:name\"]))))\n",
    "        if(year1==year2):\n",
    "            intersec=0\n",
    "        listaCoincidencias.append(intersec)\n",
    "        \n",
    "    df[year1]=listaCoincidencias"
   ]
  },
  {
   "cell_type": "code",
   "execution_count": 31,
   "metadata": {},
   "outputs": [
    {
     "data": {
      "text/plain": [
       "<matplotlib.axes._subplots.AxesSubplot at 0x291cf112d08>"
      ]
     },
     "execution_count": 31,
     "metadata": {},
     "output_type": "execute_result"
    },
    {
     "data": {
      "image/png": "[encoded data removed]",
      "text/plain": [
       "<Figure size 432x288 with 2 Axes>"
      ]
     },
     "metadata": {
      "needs_background": "light"
     },
     "output_type": "display_data"
    }
   ],
   "source": [
    "sns.heatmap(df, annot=True)"
   ]
  },
  {
   "cell_type": "code",
   "execution_count": 33,
   "metadata": {},
   "outputs": [],
   "source": [
    "df2 = pd.DataFrame(index=[2015,2017,2019,2020],columns=[2015,2017,2019,2020])\n",
    "for year1 in years1:\n",
    "    operationsYear1=df_categorias_autores[df_categorias_autores[\"Year\"]==year1]\n",
    "    listaCoincidencias=[]\n",
    "    for year2 in years2:\n",
    "        operationsYear2=df_categorias_autores[df_categorias_autores[\"Year\"]==year2]\n",
    "        intersec=len(list(set(operationsYear1[\"Specific operation\"]).intersection(set(operationsYear2[\"Specific operation\"]))))\n",
    "        if(year1==year2):\n",
    "            intersec=0\n",
    "        listaCoincidencias.append(intersec)\n",
    "        \n",
    "    df2[year1]=listaCoincidencias"
   ]
  },
  {
   "cell_type": "code",
   "execution_count": 34,
   "metadata": {},
   "outputs": [
    {
     "data": {
      "text/plain": [
       "<matplotlib.axes._subplots.AxesSubplot at 0x291cf1ee388>"
      ]
     },
     "execution_count": 34,
     "metadata": {},
     "output_type": "execute_result"
    },
    {
     "data": {
      "image/png": "[encoded data removed]",
      "text/plain": [
       "<Figure size 432x288 with 2 Axes>"
      ]
     },
     "metadata": {
      "needs_background": "light"
     },
     "output_type": "display_data"
    }
   ],
   "source": [
    "sns.heatmap(df2, annot=True)"
   ]
  }
 ],
 "metadata": {
  "kernelspec": {
   "display_name": "Python 3",
   "language": "python",
   "name": "python3"
  },
  "language_info": {
   "codemirror_mode": {
    "name": "ipython",
    "version": 3
   },
   "file_extension": ".py",
   "mimetype": "text/x-python",
   "name": "python",
   "nbconvert_exporter": "python",
   "pygments_lexer": "ipython3",
   "version": "3.7.4"
  }
 },
 "nbformat": 4,
 "nbformat_minor": 2
}
