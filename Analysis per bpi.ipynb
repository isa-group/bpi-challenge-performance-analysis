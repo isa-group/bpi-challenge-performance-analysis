{
 "cells": [
  {
   "cell_type": "code",
   "execution_count": 1,
   "metadata": {},
   "outputs": [],
   "source": [
    "#needed imports\n",
    "import pandas as pd\n",
    "import datetime\n",
    "from os import listdir\n",
    "import os, os.path\n",
    "from os.path import isfile, join\n",
    "import numpy as np\n",
    "import csv\n",
    "import re\n",
    "import pandas as pd\n",
    "import pm4py\n",
    "from pm4py.objects.conversion.log import converter as log_converter\n",
    "from pm4py.objects.log.importer.xes import importer as xes_importer\n",
    "from pm4py.objects.log.exporter.xes import exporter as xes_exporter\n",
    "from pm4py.objects.log.util import dataframe_utils\n",
    "import matplotlib.pyplot as plt\n",
    "import seaborn as sns"
   ]
  },
  {
   "cell_type": "code",
   "execution_count": 2,
   "metadata": {},
   "outputs": [
    {
     "data": {
      "text/html": [
       "<div>\n",
       "<style scoped>\n",
       "    .dataframe tbody tr th:only-of-type {\n",
       "        vertical-align: middle;\n",
       "    }\n",
       "\n",
       "    .dataframe tbody tr th {\n",
       "        vertical-align: top;\n",
       "    }\n",
       "\n",
       "    .dataframe thead th {\n",
       "        text-align: right;\n",
       "    }\n",
       "</style>\n",
       "<table border=\"1\" class=\"dataframe\">\n",
       "  <thead>\n",
       "    <tr style=\"text-align: right;\">\n",
       "      <th></th>\n",
       "      <th>case:id</th>\n",
       "      <th>case:concept:name</th>\n",
       "      <th>concept:name</th>\n",
       "      <th>Variant</th>\n",
       "      <th>time:timestamp</th>\n",
       "      <th>Question</th>\n",
       "      <th>Report</th>\n",
       "      <th>Year</th>\n",
       "      <th>Category</th>\n",
       "      <th>Type</th>\n",
       "      <th>Tupla</th>\n",
       "      <th>Organization</th>\n",
       "    </tr>\n",
       "  </thead>\n",
       "  <tbody>\n",
       "    <tr>\n",
       "      <th>0</th>\n",
       "      <td>A1 P2 BPI 2020</td>\n",
       "      <td>A1 P2 BPI 2020</td>\n",
       "      <td>Calculate cycle time</td>\n",
       "      <td>Calculate cycle time of the whole process for ...</td>\n",
       "      <td>2021-11-30 12:54:15.489743</td>\n",
       "      <td>P2</td>\n",
       "      <td>A1</td>\n",
       "      <td>2020</td>\n",
       "      <td>Academic</td>\n",
       "      <td>Analyze Time</td>\n",
       "      <td>A12020</td>\n",
       "      <td>Technische Universität, Berlin</td>\n",
       "    </tr>\n",
       "    <tr>\n",
       "      <th>1</th>\n",
       "      <td>A1 P2 BPI 2020</td>\n",
       "      <td>A1 P2 BPI 2020</td>\n",
       "      <td>Compare cycle time</td>\n",
       "      <td>Compare cycle time</td>\n",
       "      <td>2021-11-30 13:54:15.489743</td>\n",
       "      <td>P2</td>\n",
       "      <td>A1</td>\n",
       "      <td>2020</td>\n",
       "      <td>Academic</td>\n",
       "      <td>Analyze Time</td>\n",
       "      <td>A12020</td>\n",
       "      <td>Technische Universität, Berlin</td>\n",
       "    </tr>\n",
       "    <tr>\n",
       "      <th>2</th>\n",
       "      <td>A2 P2 BPI 2020</td>\n",
       "      <td>A2 P2 BPI 2020</td>\n",
       "      <td>Calculate cycle time</td>\n",
       "      <td>Get cycle time from the previous question</td>\n",
       "      <td>2021-11-30 14:54:15.489743</td>\n",
       "      <td>P2</td>\n",
       "      <td>A2</td>\n",
       "      <td>2020</td>\n",
       "      <td>Student</td>\n",
       "      <td>Analyze Time</td>\n",
       "      <td>A22020</td>\n",
       "      <td>Faculty of Science, Utrecht University</td>\n",
       "    </tr>\n",
       "    <tr>\n",
       "      <th>3</th>\n",
       "      <td>A2 P2 BPI 2020</td>\n",
       "      <td>A2 P2 BPI 2020</td>\n",
       "      <td>Compare cycle time</td>\n",
       "      <td>Compare cycle time</td>\n",
       "      <td>2021-11-30 15:54:15.489743</td>\n",
       "      <td>P2</td>\n",
       "      <td>A2</td>\n",
       "      <td>2020</td>\n",
       "      <td>Student</td>\n",
       "      <td>Analyze Time</td>\n",
       "      <td>A22020</td>\n",
       "      <td>Faculty of Science, Utrecht University</td>\n",
       "    </tr>\n",
       "    <tr>\n",
       "      <th>4</th>\n",
       "      <td>A7 P2 BPI 2020</td>\n",
       "      <td>A7 P2 BPI 2020</td>\n",
       "      <td>Calculate throughput</td>\n",
       "      <td>Calculate throughput</td>\n",
       "      <td>2021-11-30 16:54:15.489743</td>\n",
       "      <td>P2</td>\n",
       "      <td>A7</td>\n",
       "      <td>2020</td>\n",
       "      <td>Academic</td>\n",
       "      <td>Analyze Time</td>\n",
       "      <td>A72020</td>\n",
       "      <td>German Research Center for Artificial Intellig...</td>\n",
       "    </tr>\n",
       "    <tr>\n",
       "      <th>...</th>\n",
       "      <td>...</td>\n",
       "      <td>...</td>\n",
       "      <td>...</td>\n",
       "      <td>...</td>\n",
       "      <td>...</td>\n",
       "      <td>...</td>\n",
       "      <td>...</td>\n",
       "      <td>...</td>\n",
       "      <td>...</td>\n",
       "      <td>...</td>\n",
       "      <td>...</td>\n",
       "      <td>...</td>\n",
       "    </tr>\n",
       "    <tr>\n",
       "      <th>943</th>\n",
       "      <td>A19 P1 BPI 2020</td>\n",
       "      <td>A19 P1 BPI 2020</td>\n",
       "      <td>Group traces</td>\n",
       "      <td>Group traces by year</td>\n",
       "      <td>2022-01-08 19:54:15.489743</td>\n",
       "      <td>P1</td>\n",
       "      <td>A19</td>\n",
       "      <td>2020</td>\n",
       "      <td>Professional</td>\n",
       "      <td>Manipulation</td>\n",
       "      <td>A192020</td>\n",
       "      <td>Sberbank</td>\n",
       "    </tr>\n",
       "    <tr>\n",
       "      <th>944</th>\n",
       "      <td>A19 P1 BPI 2020</td>\n",
       "      <td>A19 P1 BPI 2020</td>\n",
       "      <td>Group traces</td>\n",
       "      <td>Group traces by activities</td>\n",
       "      <td>2022-01-08 20:54:15.489743</td>\n",
       "      <td>P1</td>\n",
       "      <td>A19</td>\n",
       "      <td>2020</td>\n",
       "      <td>Professional</td>\n",
       "      <td>Manipulation</td>\n",
       "      <td>A192020</td>\n",
       "      <td>Sberbank</td>\n",
       "    </tr>\n",
       "    <tr>\n",
       "      <th>945</th>\n",
       "      <td>A19 P1 BPI 2020</td>\n",
       "      <td>A19 P1 BPI 2020</td>\n",
       "      <td>Calculate statistics</td>\n",
       "      <td>Calculate Statistics of activities</td>\n",
       "      <td>2022-01-08 21:54:15.489743</td>\n",
       "      <td>P1</td>\n",
       "      <td>A19</td>\n",
       "      <td>2020</td>\n",
       "      <td>Professional</td>\n",
       "      <td>Calculate statistics</td>\n",
       "      <td>A192020</td>\n",
       "      <td>Sberbank</td>\n",
       "    </tr>\n",
       "    <tr>\n",
       "      <th>946</th>\n",
       "      <td>A19 P1 BPI 2020</td>\n",
       "      <td>A19 P1 BPI 2020</td>\n",
       "      <td>Calculate throughput</td>\n",
       "      <td>Calculate throughput</td>\n",
       "      <td>2022-01-08 22:54:15.489743</td>\n",
       "      <td>P1</td>\n",
       "      <td>A19</td>\n",
       "      <td>2020</td>\n",
       "      <td>Professional</td>\n",
       "      <td>Analyze Time</td>\n",
       "      <td>A192020</td>\n",
       "      <td>Sberbank</td>\n",
       "    </tr>\n",
       "    <tr>\n",
       "      <th>947</th>\n",
       "      <td>A19 P1 BPI 2020</td>\n",
       "      <td>A19 P1 BPI 2020</td>\n",
       "      <td>Represent temporal series</td>\n",
       "      <td>Represent temporal series of throughput</td>\n",
       "      <td>2022-01-08 23:54:15.489743</td>\n",
       "      <td>P1</td>\n",
       "      <td>A19</td>\n",
       "      <td>2020</td>\n",
       "      <td>Professional</td>\n",
       "      <td>Representation</td>\n",
       "      <td>A192020</td>\n",
       "      <td>Sberbank</td>\n",
       "    </tr>\n",
       "  </tbody>\n",
       "</table>\n",
       "<p>948 rows × 12 columns</p>\n",
       "</div>"
      ],
      "text/plain": [
       "             case:id case:concept:name               concept:name  \\\n",
       "0     A1 P2 BPI 2020    A1 P2 BPI 2020       Calculate cycle time   \n",
       "1     A1 P2 BPI 2020    A1 P2 BPI 2020         Compare cycle time   \n",
       "2     A2 P2 BPI 2020    A2 P2 BPI 2020       Calculate cycle time   \n",
       "3     A2 P2 BPI 2020    A2 P2 BPI 2020         Compare cycle time   \n",
       "4     A7 P2 BPI 2020    A7 P2 BPI 2020       Calculate throughput   \n",
       "..               ...               ...                        ...   \n",
       "943  A19 P1 BPI 2020   A19 P1 BPI 2020               Group traces   \n",
       "944  A19 P1 BPI 2020   A19 P1 BPI 2020               Group traces   \n",
       "945  A19 P1 BPI 2020   A19 P1 BPI 2020       Calculate statistics   \n",
       "946  A19 P1 BPI 2020   A19 P1 BPI 2020       Calculate throughput   \n",
       "947  A19 P1 BPI 2020   A19 P1 BPI 2020  Represent temporal series   \n",
       "\n",
       "                                               Variant  \\\n",
       "0    Calculate cycle time of the whole process for ...   \n",
       "1                                   Compare cycle time   \n",
       "2            Get cycle time from the previous question   \n",
       "3                                   Compare cycle time   \n",
       "4                                 Calculate throughput   \n",
       "..                                                 ...   \n",
       "943                               Group traces by year   \n",
       "944                         Group traces by activities   \n",
       "945                 Calculate Statistics of activities   \n",
       "946                               Calculate throughput   \n",
       "947            Represent temporal series of throughput   \n",
       "\n",
       "                 time:timestamp Question Report  Year      Category  \\\n",
       "0    2021-11-30 12:54:15.489743       P2     A1  2020      Academic   \n",
       "1    2021-11-30 13:54:15.489743       P2     A1  2020      Academic   \n",
       "2    2021-11-30 14:54:15.489743       P2     A2  2020       Student   \n",
       "3    2021-11-30 15:54:15.489743       P2     A2  2020       Student   \n",
       "4    2021-11-30 16:54:15.489743       P2     A7  2020      Academic   \n",
       "..                          ...      ...    ...   ...           ...   \n",
       "943  2022-01-08 19:54:15.489743       P1    A19  2020  Professional   \n",
       "944  2022-01-08 20:54:15.489743       P1    A19  2020  Professional   \n",
       "945  2022-01-08 21:54:15.489743       P1    A19  2020  Professional   \n",
       "946  2022-01-08 22:54:15.489743       P1    A19  2020  Professional   \n",
       "947  2022-01-08 23:54:15.489743       P1    A19  2020  Professional   \n",
       "\n",
       "                     Type    Tupla  \\\n",
       "0            Analyze Time   A12020   \n",
       "1            Analyze Time   A12020   \n",
       "2            Analyze Time   A22020   \n",
       "3            Analyze Time   A22020   \n",
       "4            Analyze Time   A72020   \n",
       "..                    ...      ...   \n",
       "943          Manipulation  A192020   \n",
       "944          Manipulation  A192020   \n",
       "945  Calculate statistics  A192020   \n",
       "946          Analyze Time  A192020   \n",
       "947        Representation  A192020   \n",
       "\n",
       "                                          Organization  \n",
       "0                       Technische Universität, Berlin  \n",
       "1                       Technische Universität, Berlin  \n",
       "2               Faculty of Science, Utrecht University  \n",
       "3               Faculty of Science, Utrecht University  \n",
       "4    German Research Center for Artificial Intellig...  \n",
       "..                                                 ...  \n",
       "943                                           Sberbank  \n",
       "944                                           Sberbank  \n",
       "945                                           Sberbank  \n",
       "946                                           Sberbank  \n",
       "947                                           Sberbank  \n",
       "\n",
       "[948 rows x 12 columns]"
      ]
     },
     "execution_count": 2,
     "metadata": {},
     "output_type": "execute_result"
    }
   ],
   "source": [
    "df_categorias_autores=pd.read_csv(\"Log of analysis of time aspects.csv\",index_col=0)\n",
    "df_categorias_autores"
   ]
  },
  {
   "cell_type": "code",
   "execution_count": 154,
   "metadata": {},
   "outputs": [],
   "source": [
    "#Representation of the types of operations in each BPI"
   ]
  },
  {
   "cell_type": "code",
   "execution_count": 155,
   "metadata": {},
   "outputs": [],
   "source": [
    "tipos_op_agrupado_años=df_categorias_autores.groupby(\"Year\").apply(lambda x: x['Type'].value_counts()/len(x['Type'])*100)"
   ]
  },
  {
   "cell_type": "code",
   "execution_count": 156,
   "metadata": {},
   "outputs": [
    {
     "data": {
      "text/plain": [
       "Year                      \n",
       "2015  Analyze Time            37.209302\n",
       "      Manipulation            23.255814\n",
       "      Identification          15.116279\n",
       "      Calculate statistics    11.627907\n",
       "      Representation           9.302326\n",
       "      Others                   3.488372\n",
       "2017  Analyze Time            39.622642\n",
       "      Calculate statistics    19.339623\n",
       "      Manipulation            18.867925\n",
       "      Representation          13.679245\n",
       "      Identification           5.660377\n",
       "      Others                   2.830189\n",
       "2019  Manipulation            24.324324\n",
       "      Analyze Time            21.621622\n",
       "      Calculate statistics    21.081081\n",
       "      Representation          21.081081\n",
       "      Identification           9.189189\n",
       "      Others                   2.702703\n",
       "2020  Analyze Time            32.903226\n",
       "      Calculate statistics    21.935484\n",
       "      Manipulation            18.494624\n",
       "      Representation          16.989247\n",
       "      Identification           8.602151\n",
       "      Others                   1.075269\n",
       "Name: Type, dtype: float64"
      ]
     },
     "execution_count": 156,
     "metadata": {},
     "output_type": "execute_result"
    }
   ],
   "source": [
    "tipos_op_agrupado_años"
   ]
  },
  {
   "cell_type": "code",
   "execution_count": 92,
   "metadata": {},
   "outputs": [],
   "source": [
    "#sumAños=[tipos_op_agrupado_años[tipos_op_agrupado_años.index.get_level_values('Year')==val].sum() for val in [2015,2017,2019,2020]]"
   ]
  },
  {
   "cell_type": "code",
   "execution_count": 93,
   "metadata": {},
   "outputs": [],
   "source": [
    "# for index,value in tipos_op_agrupado_años.items():\n",
    "#     if 2015 in index:\n",
    "#         tipos_op_agrupado_años[index]=(value/sumAños[0])*100\n",
    "#     elif 2017 in index:\n",
    "#         tipos_op_agrupado_años[index]=(value/sumAños[1])*100\n",
    "#     elif 2019 in index:\n",
    "#         tipos_op_agrupado_años[index]=(value/sumAños[2])*100\n",
    "#     elif 2020 in index:\n",
    "#         tipos_op_agrupado_años[index]=(value/sumAños[3])*100"
   ]
  },
  {
   "cell_type": "code",
   "execution_count": 98,
   "metadata": {},
   "outputs": [
    {
     "data": {
      "text/plain": [
       "MultiIndex([(2015,         'Analyze Time'),\n",
       "            (2015,         'Manipulation'),\n",
       "            (2015,       'Identification'),\n",
       "            (2015, 'Calculate statistics'),\n",
       "            (2015,       'Representation'),\n",
       "            (2015,               'Others'),\n",
       "            (2017,         'Analyze Time'),\n",
       "            (2017, 'Calculate statistics'),\n",
       "            (2017,         'Manipulation'),\n",
       "            (2017,       'Representation'),\n",
       "            (2017,       'Identification'),\n",
       "            (2017,               'Others'),\n",
       "            (2019,         'Manipulation'),\n",
       "            (2019,         'Analyze Time'),\n",
       "            (2019, 'Calculate statistics'),\n",
       "            (2019,       'Representation'),\n",
       "            (2019,       'Identification'),\n",
       "            (2019,               'Others'),\n",
       "            (2020,         'Analyze Time'),\n",
       "            (2020, 'Calculate statistics'),\n",
       "            (2020,         'Manipulation'),\n",
       "            (2020,       'Representation'),\n",
       "            (2020,       'Identification'),\n",
       "            (2020,               'Others')],\n",
       "           names=['Year', None])"
      ]
     },
     "execution_count": 98,
     "metadata": {},
     "output_type": "execute_result"
    }
   ],
   "source": [
    "tipos_op_agrupado_años.index"
   ]
  },
  {
   "cell_type": "code",
   "execution_count": 157,
   "metadata": {},
   "outputs": [],
   "source": [
    "years=[]\n",
    "types=[]\n",
    "counts=[]\n",
    "for i, v in tipos_op_agrupado_años.items():\n",
    "    #print('year: ', i[0],'type: ',i[1], 'value: ', v)\n",
    "    years.append(i[0])\n",
    "    types.append(i[1])\n",
    "    counts.append(v)"
   ]
  },
  {
   "cell_type": "code",
   "execution_count": 158,
   "metadata": {},
   "outputs": [
    {
     "data": {
      "text/html": [
       "<div>\n",
       "<style scoped>\n",
       "    .dataframe tbody tr th:only-of-type {\n",
       "        vertical-align: middle;\n",
       "    }\n",
       "\n",
       "    .dataframe tbody tr th {\n",
       "        vertical-align: top;\n",
       "    }\n",
       "\n",
       "    .dataframe thead th {\n",
       "        text-align: right;\n",
       "    }\n",
       "</style>\n",
       "<table border=\"1\" class=\"dataframe\">\n",
       "  <thead>\n",
       "    <tr style=\"text-align: right;\">\n",
       "      <th></th>\n",
       "      <th>Years</th>\n",
       "      <th>Types</th>\n",
       "      <th>Counts</th>\n",
       "    </tr>\n",
       "  </thead>\n",
       "  <tbody>\n",
       "    <tr>\n",
       "      <th>0</th>\n",
       "      <td>2015</td>\n",
       "      <td>Analyze Time</td>\n",
       "      <td>37.209302</td>\n",
       "    </tr>\n",
       "    <tr>\n",
       "      <th>1</th>\n",
       "      <td>2015</td>\n",
       "      <td>Manipulation</td>\n",
       "      <td>23.255814</td>\n",
       "    </tr>\n",
       "    <tr>\n",
       "      <th>2</th>\n",
       "      <td>2015</td>\n",
       "      <td>Identification</td>\n",
       "      <td>15.116279</td>\n",
       "    </tr>\n",
       "    <tr>\n",
       "      <th>3</th>\n",
       "      <td>2015</td>\n",
       "      <td>Calculate statistics</td>\n",
       "      <td>11.627907</td>\n",
       "    </tr>\n",
       "    <tr>\n",
       "      <th>4</th>\n",
       "      <td>2015</td>\n",
       "      <td>Representation</td>\n",
       "      <td>9.302326</td>\n",
       "    </tr>\n",
       "    <tr>\n",
       "      <th>5</th>\n",
       "      <td>2015</td>\n",
       "      <td>Others</td>\n",
       "      <td>3.488372</td>\n",
       "    </tr>\n",
       "    <tr>\n",
       "      <th>6</th>\n",
       "      <td>2017</td>\n",
       "      <td>Analyze Time</td>\n",
       "      <td>39.622642</td>\n",
       "    </tr>\n",
       "    <tr>\n",
       "      <th>7</th>\n",
       "      <td>2017</td>\n",
       "      <td>Calculate statistics</td>\n",
       "      <td>19.339623</td>\n",
       "    </tr>\n",
       "    <tr>\n",
       "      <th>8</th>\n",
       "      <td>2017</td>\n",
       "      <td>Manipulation</td>\n",
       "      <td>18.867925</td>\n",
       "    </tr>\n",
       "    <tr>\n",
       "      <th>9</th>\n",
       "      <td>2017</td>\n",
       "      <td>Representation</td>\n",
       "      <td>13.679245</td>\n",
       "    </tr>\n",
       "    <tr>\n",
       "      <th>10</th>\n",
       "      <td>2017</td>\n",
       "      <td>Identification</td>\n",
       "      <td>5.660377</td>\n",
       "    </tr>\n",
       "    <tr>\n",
       "      <th>11</th>\n",
       "      <td>2017</td>\n",
       "      <td>Others</td>\n",
       "      <td>2.830189</td>\n",
       "    </tr>\n",
       "    <tr>\n",
       "      <th>12</th>\n",
       "      <td>2019</td>\n",
       "      <td>Manipulation</td>\n",
       "      <td>24.324324</td>\n",
       "    </tr>\n",
       "    <tr>\n",
       "      <th>13</th>\n",
       "      <td>2019</td>\n",
       "      <td>Analyze Time</td>\n",
       "      <td>21.621622</td>\n",
       "    </tr>\n",
       "    <tr>\n",
       "      <th>14</th>\n",
       "      <td>2019</td>\n",
       "      <td>Calculate statistics</td>\n",
       "      <td>21.081081</td>\n",
       "    </tr>\n",
       "    <tr>\n",
       "      <th>15</th>\n",
       "      <td>2019</td>\n",
       "      <td>Representation</td>\n",
       "      <td>21.081081</td>\n",
       "    </tr>\n",
       "    <tr>\n",
       "      <th>16</th>\n",
       "      <td>2019</td>\n",
       "      <td>Identification</td>\n",
       "      <td>9.189189</td>\n",
       "    </tr>\n",
       "    <tr>\n",
       "      <th>17</th>\n",
       "      <td>2019</td>\n",
       "      <td>Others</td>\n",
       "      <td>2.702703</td>\n",
       "    </tr>\n",
       "    <tr>\n",
       "      <th>18</th>\n",
       "      <td>2020</td>\n",
       "      <td>Analyze Time</td>\n",
       "      <td>32.903226</td>\n",
       "    </tr>\n",
       "    <tr>\n",
       "      <th>19</th>\n",
       "      <td>2020</td>\n",
       "      <td>Calculate statistics</td>\n",
       "      <td>21.935484</td>\n",
       "    </tr>\n",
       "    <tr>\n",
       "      <th>20</th>\n",
       "      <td>2020</td>\n",
       "      <td>Manipulation</td>\n",
       "      <td>18.494624</td>\n",
       "    </tr>\n",
       "    <tr>\n",
       "      <th>21</th>\n",
       "      <td>2020</td>\n",
       "      <td>Representation</td>\n",
       "      <td>16.989247</td>\n",
       "    </tr>\n",
       "    <tr>\n",
       "      <th>22</th>\n",
       "      <td>2020</td>\n",
       "      <td>Identification</td>\n",
       "      <td>8.602151</td>\n",
       "    </tr>\n",
       "    <tr>\n",
       "      <th>23</th>\n",
       "      <td>2020</td>\n",
       "      <td>Others</td>\n",
       "      <td>1.075269</td>\n",
       "    </tr>\n",
       "  </tbody>\n",
       "</table>\n",
       "</div>"
      ],
      "text/plain": [
       "    Years                 Types     Counts\n",
       "0    2015          Analyze Time  37.209302\n",
       "1    2015          Manipulation  23.255814\n",
       "2    2015        Identification  15.116279\n",
       "3    2015  Calculate statistics  11.627907\n",
       "4    2015        Representation   9.302326\n",
       "5    2015                Others   3.488372\n",
       "6    2017          Analyze Time  39.622642\n",
       "7    2017  Calculate statistics  19.339623\n",
       "8    2017          Manipulation  18.867925\n",
       "9    2017        Representation  13.679245\n",
       "10   2017        Identification   5.660377\n",
       "11   2017                Others   2.830189\n",
       "12   2019          Manipulation  24.324324\n",
       "13   2019          Analyze Time  21.621622\n",
       "14   2019  Calculate statistics  21.081081\n",
       "15   2019        Representation  21.081081\n",
       "16   2019        Identification   9.189189\n",
       "17   2019                Others   2.702703\n",
       "18   2020          Analyze Time  32.903226\n",
       "19   2020  Calculate statistics  21.935484\n",
       "20   2020          Manipulation  18.494624\n",
       "21   2020        Representation  16.989247\n",
       "22   2020        Identification   8.602151\n",
       "23   2020                Others   1.075269"
      ]
     },
     "execution_count": 158,
     "metadata": {},
     "output_type": "execute_result"
    }
   ],
   "source": [
    "data = {'Years':years, 'Types':types, 'Counts':counts}\n",
    "# Create DataFrame.\n",
    "df = pd.DataFrame(data)\n",
    "df"
   ]
  },
  {
   "cell_type": "code",
   "execution_count": 140,
   "metadata": {},
   "outputs": [
    {
     "data": {
      "text/plain": [
       "Text(0, 0.5, 'Percentage of operations')"
      ]
     },
     "execution_count": 140,
     "metadata": {},
     "output_type": "execute_result"
    },
    {
     "data": {
      "image/png": "[encoded data removed]",
      "text/plain": [
       "<Figure size 432x288 with 1 Axes>"
      ]
     },
     "metadata": {
      "needs_background": "light"
     },
     "output_type": "display_data"
    }
   ],
   "source": [
    "sns.barplot(x=df[\"Years\"], y=df[\"Counts\"], hue=df[\"Types\"])#, data=df)\n",
    "plt.legend(bbox_to_anchor = (1.05, 0.6))\n",
    "plt.ylabel(\"Percentage of operations\")"
   ]
  },
  {
   "cell_type": "code",
   "execution_count": 159,
   "metadata": {},
   "outputs": [
    {
     "data": {
      "image/png": "[encoded data removed]",
      "text/plain": [
       "<Figure size 432x288 with 1 Axes>"
      ]
     },
     "metadata": {
      "needs_background": "light"
     },
     "output_type": "display_data"
    }
   ],
   "source": [
    "def sortedgroupedbar(ax, x,y, groupby, data=None, width=0.8, **kwargs):\n",
    "    order = np.zeros(len(data))\n",
    "    df = data.copy()\n",
    "    for xi in np.unique(df[x].values):\n",
    "        group = data[df[x] == xi]\n",
    "        a = group[y].values\n",
    "        b = sorted(np.arange(len(a)),key=lambda x:a[x],reverse=True)\n",
    "        c = sorted(np.arange(len(a)),key=lambda x:b[x])\n",
    "        order[data[x] == xi] = c   \n",
    "    df[\"order\"] = order\n",
    "    u, df[\"ind\"] = np.unique(df[x].values, return_inverse=True)\n",
    "    step = width/len(np.unique(df[groupby].values))\n",
    "    for xi,grp in df.groupby(groupby):\n",
    "        ax.bar(grp[\"ind\"]-width/2.+grp[\"order\"]*step+step/2.,\n",
    "               grp[y],width=step, label=xi, **kwargs)\n",
    "    ax.legend(title=groupby)\n",
    "    ax.set_xticks(np.arange(len(u)))\n",
    "    ax.set_xticklabels(u)\n",
    "    ax.set_xlabel(x)\n",
    "    ax.set_ylabel(y)\n",
    "\n",
    "\n",
    "fig, ax = plt.subplots()    \n",
    "sortedgroupedbar(ax, x=\"Years\",y=\"Counts\", groupby=\"Types\", data=df)\n",
    "plt.legend(bbox_to_anchor = (1.05, 0.6))\n",
    "plt.ylabel(\"Percentage of operations\")\n",
    "plt.xlabel(\"BPI year\")\n",
    "plt.savefig('operationTypeDistributionPerBPI.pdf')"
   ]
  },
  {
   "cell_type": "code",
   "execution_count": 88,
   "metadata": {},
   "outputs": [],
   "source": [
    "tipos_op_agrupado_años=tipos_op_agrupado_años.apply(lambda x: x)\n",
    "year_type_count=tipos_op_agrupado_años.to_frame()"
   ]
  },
  {
   "cell_type": "code",
   "execution_count": 87,
   "metadata": {},
   "outputs": [
    {
     "data": {
      "text/plain": [
       "MultiIndex([(2015,         'Analyze Time'),\n",
       "            (2015,         'Manipulation'),\n",
       "            (2015,       'Identification'),\n",
       "            (2015, 'Calculate statistics'),\n",
       "            (2015,       'Representation'),\n",
       "            (2015,               'Others'),\n",
       "            (2017,         'Analyze Time'),\n",
       "            (2017, 'Calculate statistics'),\n",
       "            (2017,         'Manipulation'),\n",
       "            (2017,       'Representation'),\n",
       "            (2017,       'Identification'),\n",
       "            (2017,               'Others'),\n",
       "            (2019,         'Manipulation'),\n",
       "            (2019,         'Analyze Time'),\n",
       "            (2019, 'Calculate statistics'),\n",
       "            (2019,       'Representation'),\n",
       "            (2019,       'Identification'),\n",
       "            (2019,               'Others'),\n",
       "            (2020,         'Analyze Time'),\n",
       "            (2020, 'Calculate statistics'),\n",
       "            (2020,         'Manipulation'),\n",
       "            (2020,       'Representation'),\n",
       "            (2020,       'Identification'),\n",
       "            (2020,               'Others')],\n",
       "           names=['Year', None])"
      ]
     },
     "execution_count": 87,
     "metadata": {},
     "output_type": "execute_result"
    }
   ],
   "source": [
    "tipos_op_agrupado_años.index"
   ]
  },
  {
   "cell_type": "code",
   "execution_count": 78,
   "metadata": {},
   "outputs": [],
   "source": [
    "year_type_count.unstack().transpose().sort_values(by=[2015,2017,2019,2020],axis=0,ascending=False)"
   ]
  },
  {
   "cell_type": "code",
   "execution_count": 108,
   "metadata": {},
   "outputs": [
    {
     "data": {
      "image/png": "[encoded data removed]",
      "text/plain": [
       "<Figure size 432x288 with 1 Axes>"
      ]
     },
     "metadata": {
      "needs_background": "light"
     },
     "output_type": "display_data"
    }
   ],
   "source": [
    "tipos_op_agrupado_años.unstack().plot(kind='bar')\n",
    "plt.legend([\"Analyze Cycle time\",\"Calculate statistics\",\"Identification\",\"Manipulation\",\"Others\",\"Representation\"],bbox_to_anchor = (1.05, 0.6))\n",
    "plt.ylabel(\"Percentage of operations\")\n",
    "plt.show()"
   ]
  },
  {
   "cell_type": "code",
   "execution_count": 16,
   "metadata": {},
   "outputs": [],
   "source": [
    "#Now we check how many operations are in common between BPIs and we represented in a heatmap"
   ]
  },
  {
   "cell_type": "code",
   "execution_count": 17,
   "metadata": {},
   "outputs": [],
   "source": [
    "years1=[2015,2017,2019,2020]\n",
    "years2=[2015,2017,2019,2020]\n",
    "df = pd.DataFrame(index=[2015,2017,2019,2020],columns=[2015,2017,2019,2020])\n",
    "for year1 in years1:\n",
    "    operationsYear1=df_categorias_autores[df_categorias_autores[\"Year\"]==year1]\n",
    "    listaCoincidencias=[]\n",
    "    for year2 in years2:\n",
    "        operationsYear2=df_categorias_autores[df_categorias_autores[\"Year\"]==year2]\n",
    "        intersec=len(list(set(operationsYear1[\"concept:name\"]).intersection(set(operationsYear2[\"concept:name\"]))))\n",
    "        if(year1==year2):\n",
    "            intersec=0\n",
    "        listaCoincidencias.append(intersec)\n",
    "        \n",
    "    df[year1]=listaCoincidencias"
   ]
  },
  {
   "cell_type": "code",
   "execution_count": 18,
   "metadata": {},
   "outputs": [
    {
     "data": {
      "text/plain": [
       "<matplotlib.axes._subplots.AxesSubplot at 0x1ffa9da3508>"
      ]
     },
     "execution_count": 18,
     "metadata": {},
     "output_type": "execute_result"
    },
    {
     "data": {
      "image/png": "[encoded data removed]",
      "text/plain": [
       "<Figure size 432x288 with 2 Axes>"
      ]
     },
     "metadata": {
      "needs_background": "light"
     },
     "output_type": "display_data"
    }
   ],
   "source": [
    "sns.heatmap(df, annot=True)"
   ]
  },
  {
   "cell_type": "code",
   "execution_count": 19,
   "metadata": {},
   "outputs": [],
   "source": [
    "#Now we check how many variants are in common between BPIs and we represented in a heatmap"
   ]
  },
  {
   "cell_type": "code",
   "execution_count": 20,
   "metadata": {},
   "outputs": [],
   "source": [
    "df2 = pd.DataFrame(index=[2015,2017,2019,2020],columns=[2015,2017,2019,2020])\n",
    "for year1 in years1:\n",
    "    operationsYear1=df_categorias_autores[df_categorias_autores[\"Year\"]==year1]\n",
    "    listaCoincidencias=[]\n",
    "    for year2 in years2:\n",
    "        operationsYear2=df_categorias_autores[df_categorias_autores[\"Year\"]==year2]\n",
    "        intersec=len(list(set(operationsYear1[\"Variant\"]).intersection(set(operationsYear2[\"Variant\"]))))\n",
    "        if(year1==year2):\n",
    "            intersec=0\n",
    "        listaCoincidencias.append(intersec)\n",
    "        \n",
    "    df2[year1]=listaCoincidencias"
   ]
  },
  {
   "cell_type": "code",
   "execution_count": 21,
   "metadata": {},
   "outputs": [
    {
     "data": {
      "text/plain": [
       "<matplotlib.axes._subplots.AxesSubplot at 0x1ff8d0291c8>"
      ]
     },
     "execution_count": 21,
     "metadata": {},
     "output_type": "execute_result"
    },
    {
     "data": {
      "image/png": "[encoded data removed]",
      "text/plain": [
       "<Figure size 432x288 with 2 Axes>"
      ]
     },
     "metadata": {
      "needs_background": "light"
     },
     "output_type": "display_data"
    }
   ],
   "source": [
    "sns.heatmap(df2, annot=True)"
   ]
  },
  {
   "cell_type": "code",
   "execution_count": null,
   "metadata": {},
   "outputs": [],
   "source": [
    "#------------------------------------------------------------------------------------------------------------------------------"
   ]
  },
  {
   "cell_type": "code",
   "execution_count": 22,
   "metadata": {},
   "outputs": [],
   "source": [
    "#Pair comparison per bpi:"
   ]
  },
  {
   "cell_type": "code",
   "execution_count": 23,
   "metadata": {},
   "outputs": [],
   "source": [
    "def jaccardIndex(list1,list2):\n",
    "    set1=set(list1)\n",
    "    set2=set(list2)\n",
    "    intersection = set1.intersection(set2)\n",
    "    tamIntersection=len(list(intersection))\n",
    "    union = set1.union(set2)\n",
    "    tamUnion=len(list(union))\n",
    "    similitud=float(tamIntersection)/tamUnion\n",
    "    return similitud"
   ]
  },
  {
   "cell_type": "code",
   "execution_count": 24,
   "metadata": {},
   "outputs": [],
   "source": [
    "def overlapIndex(list1,list2):\n",
    "    set1=set(list1)\n",
    "    set2=set(list2)\n",
    "    intersection = set1.intersection(set2)\n",
    "    len1=len(list(set1))\n",
    "    len2=len(list(set2))\n",
    "    overlapIndex=float(len(list(intersection)))/min([len1,len2])\n",
    "    return overlapIndex"
   ]
  },
  {
   "cell_type": "code",
   "execution_count": 25,
   "metadata": {},
   "outputs": [],
   "source": [
    "def sorensenIndex(list1,list2):\n",
    "    set1=set(list1)\n",
    "    set2=set(list2)\n",
    "    intersection = set1.intersection(set2)\n",
    "    len1=len(list(set1))\n",
    "    len2=len(list(set2))\n",
    "    sorensenIndex=float(2*len(list(intersection)))/(len1+len2)\n",
    "    return sorensenIndex"
   ]
  },
  {
   "cell_type": "code",
   "execution_count": 26,
   "metadata": {},
   "outputs": [],
   "source": [
    "df_grouped_year=df_categorias_autores.groupby(by=\"Year\")"
   ]
  },
  {
   "cell_type": "code",
   "execution_count": 27,
   "metadata": {},
   "outputs": [],
   "source": [
    "years=list(df_grouped_year.groups.keys())"
   ]
  },
  {
   "cell_type": "code",
   "execution_count": 28,
   "metadata": {},
   "outputs": [
    {
     "data": {
      "text/html": [
       "<div>\n",
       "<style scoped>\n",
       "    .dataframe tbody tr th:only-of-type {\n",
       "        vertical-align: middle;\n",
       "    }\n",
       "\n",
       "    .dataframe tbody tr th {\n",
       "        vertical-align: top;\n",
       "    }\n",
       "\n",
       "    .dataframe thead th {\n",
       "        text-align: right;\n",
       "    }\n",
       "</style>\n",
       "<table border=\"1\" class=\"dataframe\">\n",
       "  <thead>\n",
       "    <tr style=\"text-align: right;\">\n",
       "      <th></th>\n",
       "      <th>case:id</th>\n",
       "      <th>case:concept:name</th>\n",
       "      <th>concept:name</th>\n",
       "      <th>Variant</th>\n",
       "      <th>time:timestamp</th>\n",
       "      <th>Question</th>\n",
       "      <th>Report</th>\n",
       "      <th>Year</th>\n",
       "      <th>Category</th>\n",
       "      <th>Type</th>\n",
       "      <th>Tupla</th>\n",
       "      <th>Organization</th>\n",
       "    </tr>\n",
       "  </thead>\n",
       "  <tbody>\n",
       "    <tr>\n",
       "      <td>152</td>\n",
       "      <td>A2 P5 BPI 2015</td>\n",
       "      <td>A2 P5 BPI 2015</td>\n",
       "      <td>Calculate cycle time</td>\n",
       "      <td>Calculate cycle time of the whole process for ...</td>\n",
       "      <td>2021-12-06 20:54:15.489743</td>\n",
       "      <td>P5</td>\n",
       "      <td>A2</td>\n",
       "      <td>2015</td>\n",
       "      <td>Student</td>\n",
       "      <td>Analyze Time</td>\n",
       "      <td>A22015</td>\n",
       "      <td>University of Tartu</td>\n",
       "    </tr>\n",
       "    <tr>\n",
       "      <td>153</td>\n",
       "      <td>A2 P5 BPI 2015</td>\n",
       "      <td>A2 P5 BPI 2015</td>\n",
       "      <td>Filter events</td>\n",
       "      <td>Filter events by cycle time</td>\n",
       "      <td>2021-12-06 21:54:15.489743</td>\n",
       "      <td>P5</td>\n",
       "      <td>A2</td>\n",
       "      <td>2015</td>\n",
       "      <td>Student</td>\n",
       "      <td>Manipulation</td>\n",
       "      <td>A22015</td>\n",
       "      <td>University of Tartu</td>\n",
       "    </tr>\n",
       "    <tr>\n",
       "      <td>154</td>\n",
       "      <td>A2 P5 BPI 2015</td>\n",
       "      <td>A2 P5 BPI 2015</td>\n",
       "      <td>Represent histograms</td>\n",
       "      <td>Represent histograms of cycle time</td>\n",
       "      <td>2021-12-06 22:54:15.489743</td>\n",
       "      <td>P5</td>\n",
       "      <td>A2</td>\n",
       "      <td>2015</td>\n",
       "      <td>Student</td>\n",
       "      <td>Representation</td>\n",
       "      <td>A22015</td>\n",
       "      <td>University of Tartu</td>\n",
       "    </tr>\n",
       "    <tr>\n",
       "      <td>155</td>\n",
       "      <td>A2 P5 BPI 2015</td>\n",
       "      <td>A2 P5 BPI 2015</td>\n",
       "      <td>Find bottlenecks</td>\n",
       "      <td>Find activities as bottlenecks applying tempor...</td>\n",
       "      <td>2021-12-06 23:54:15.489743</td>\n",
       "      <td>P5</td>\n",
       "      <td>A2</td>\n",
       "      <td>2015</td>\n",
       "      <td>Student</td>\n",
       "      <td>Analyze Time</td>\n",
       "      <td>A22015</td>\n",
       "      <td>University of Tartu</td>\n",
       "    </tr>\n",
       "    <tr>\n",
       "      <td>156</td>\n",
       "      <td>A3 P5 BPI 2015</td>\n",
       "      <td>A3 P5 BPI 2015</td>\n",
       "      <td>Group activities</td>\n",
       "      <td>Group activities by sub-processes</td>\n",
       "      <td>2021-12-07 00:54:15.489743</td>\n",
       "      <td>P5</td>\n",
       "      <td>A3</td>\n",
       "      <td>2015</td>\n",
       "      <td>Professional</td>\n",
       "      <td>Manipulation</td>\n",
       "      <td>A32015</td>\n",
       "      <td>KPMG Advisory</td>\n",
       "    </tr>\n",
       "  </tbody>\n",
       "</table>\n",
       "</div>"
      ],
      "text/plain": [
       "            case:id case:concept:name          concept:name  \\\n",
       "152  A2 P5 BPI 2015    A2 P5 BPI 2015  Calculate cycle time   \n",
       "153  A2 P5 BPI 2015    A2 P5 BPI 2015         Filter events   \n",
       "154  A2 P5 BPI 2015    A2 P5 BPI 2015  Represent histograms   \n",
       "155  A2 P5 BPI 2015    A2 P5 BPI 2015      Find bottlenecks   \n",
       "156  A3 P5 BPI 2015    A3 P5 BPI 2015      Group activities   \n",
       "\n",
       "                                               Variant  \\\n",
       "152  Calculate cycle time of the whole process for ...   \n",
       "153                        Filter events by cycle time   \n",
       "154                 Represent histograms of cycle time   \n",
       "155  Find activities as bottlenecks applying tempor...   \n",
       "156                  Group activities by sub-processes   \n",
       "\n",
       "                 time:timestamp Question Report  Year      Category  \\\n",
       "152  2021-12-06 20:54:15.489743       P5     A2  2015       Student   \n",
       "153  2021-12-06 21:54:15.489743       P5     A2  2015       Student   \n",
       "154  2021-12-06 22:54:15.489743       P5     A2  2015       Student   \n",
       "155  2021-12-06 23:54:15.489743       P5     A2  2015       Student   \n",
       "156  2021-12-07 00:54:15.489743       P5     A3  2015  Professional   \n",
       "\n",
       "               Type   Tupla         Organization  \n",
       "152    Analyze Time  A22015  University of Tartu  \n",
       "153    Manipulation  A22015  University of Tartu  \n",
       "154  Representation  A22015  University of Tartu  \n",
       "155    Analyze Time  A22015  University of Tartu  \n",
       "156    Manipulation  A32015        KPMG Advisory  "
      ]
     },
     "execution_count": 28,
     "metadata": {},
     "output_type": "execute_result"
    }
   ],
   "source": [
    "df_grouped_year.get_group(2015).head()"
   ]
  },
  {
   "cell_type": "code",
   "execution_count": 29,
   "metadata": {},
   "outputs": [],
   "source": [
    "dict_df_analysis={\"parAnalisis\":[],\"Categories\":[],\"Jaccard index\":[],\"Sorensen index\":[],\"Overlap index\":[]}\n",
    "df_analisis_similarity=pd.DataFrame.from_dict(dict_df_analysis)\n",
    "\n",
    "#empty lists to save the results:\n",
    "parAnalysis=[]\n",
    "categories=[]\n",
    "indexSorensen=[]\n",
    "indexJaccard=[]\n",
    "indexOverlap=[]               \n",
    "for i in range(len(years)):# for each year (2015,2017,2019,2020)\n",
    "    year=years[i] #get year i\n",
    "    df_i=df_grouped_year.get_group(year)#get the corresponding dataframe\n",
    "    lista_ids_i=df_i['case:concept:name'].unique().tolist()#list of ids of the answers of dataframe of year i (A4Q12020, A2Q12020,...)\n",
    "\n",
    "    for j in range(len(years)):\n",
    "        \n",
    "        year2=years[j]#now we get another year j\n",
    "        df_j=df_grouped_year.get_group(year2)#get the corresponding dataframe of the year j\n",
    "        lista_ids_j=df_j['case:concept:name'].unique().tolist()#list of ids of the answers of dataframe of year j (A2Q52015, A6Q52015,...)\n",
    "        \n",
    "        for x in range(len(lista_ids_i)):#for each id in the dataframe year i\n",
    "            idx=lista_ids_i[x]#we get the id x (e.g. A4Q12020)\n",
    "            operacionesIdent1=df_i[df_i['case:concept:name']==idx]['concept:name'].unique()#we filter the unique operations related to that answer\n",
    "            if year==year2:\n",
    "                ind=x+1\n",
    "            else:\n",
    "                ind=0\n",
    "            #las operaciones de cada case:concept:name de i se comparan con las operaciones de cada case:concept name de j\n",
    "            for y in range(ind,len(lista_ids_j)): #now we repeat the same process for an answer of year j\n",
    "                idy=lista_ids_j[y]# e.g. A2Q52015\n",
    "                operacionesIdent2=df_j[df_j['case:concept:name']==idy]['concept:name'].unique()   \n",
    "                categories.append(str(year)+\" - \"+str(year2))\n",
    "                #now we calculate the similarity index between both answers\n",
    "                indexSorensen.append(sorensenIndex(operacionesIdent1,operacionesIdent2))\n",
    "                indexJaccard.append(jaccardIndex(operacionesIdent1,operacionesIdent2))\n",
    "                indexOverlap.append(overlapIndex(operacionesIdent1,operacionesIdent2))\n",
    "#                 print(idx+\"-\"+idy)\n",
    "#                 print()\n",
    "                parAnalysis.append(idx+\"-\"+idy)\n",
    "                \n",
    "dict_df={\"parAnalisis\":parAnalysis,\"Categories\":categories,\"Jaccard index\":indexJaccard,\"Sorensen index\":indexSorensen,\"Overlap index\":indexOverlap}\n",
    "df_analisis=pd.DataFrame.from_dict(dict_df)\n",
    "#print(df_analisis)\n",
    "df_analisis_similarity=pd.concat([df_analisis_similarity,df_analisis],ignore_index=True)"
   ]
  },
  {
   "cell_type": "code",
   "execution_count": 24,
   "metadata": {},
   "outputs": [
    {
     "data": {
      "text/html": [
       "<div>\n",
       "<style scoped>\n",
       "    .dataframe tbody tr th:only-of-type {\n",
       "        vertical-align: middle;\n",
       "    }\n",
       "\n",
       "    .dataframe tbody tr th {\n",
       "        vertical-align: top;\n",
       "    }\n",
       "\n",
       "    .dataframe thead th {\n",
       "        text-align: right;\n",
       "    }\n",
       "</style>\n",
       "<table border=\"1\" class=\"dataframe\">\n",
       "  <thead>\n",
       "    <tr style=\"text-align: right;\">\n",
       "      <th></th>\n",
       "      <th>parAnalisis</th>\n",
       "      <th>Categories</th>\n",
       "      <th>Jaccard index</th>\n",
       "      <th>Sorensen index</th>\n",
       "      <th>Overlap index</th>\n",
       "    </tr>\n",
       "  </thead>\n",
       "  <tbody>\n",
       "    <tr>\n",
       "      <td>0</td>\n",
       "      <td>A2 P5 BPI 2015-A3 P5 BPI 2015</td>\n",
       "      <td>2015 - 2015</td>\n",
       "      <td>0.250000</td>\n",
       "      <td>0.400000</td>\n",
       "      <td>0.500000</td>\n",
       "    </tr>\n",
       "    <tr>\n",
       "      <td>1</td>\n",
       "      <td>A2 P5 BPI 2015-A4 P5 BPI 2015</td>\n",
       "      <td>2015 - 2015</td>\n",
       "      <td>0.333333</td>\n",
       "      <td>0.500000</td>\n",
       "      <td>0.500000</td>\n",
       "    </tr>\n",
       "    <tr>\n",
       "      <td>2</td>\n",
       "      <td>A2 P5 BPI 2015-A7 P5 BPI 2015</td>\n",
       "      <td>2015 - 2015</td>\n",
       "      <td>0.428571</td>\n",
       "      <td>0.600000</td>\n",
       "      <td>0.750000</td>\n",
       "    </tr>\n",
       "    <tr>\n",
       "      <td>3</td>\n",
       "      <td>A2 P5 BPI 2015-A8 P5 BPI 2015</td>\n",
       "      <td>2015 - 2015</td>\n",
       "      <td>0.181818</td>\n",
       "      <td>0.307692</td>\n",
       "      <td>0.500000</td>\n",
       "    </tr>\n",
       "    <tr>\n",
       "      <td>4</td>\n",
       "      <td>A2 P5 BPI 2015-A9 P5 BPI 2015</td>\n",
       "      <td>2015 - 2015</td>\n",
       "      <td>0.200000</td>\n",
       "      <td>0.333333</td>\n",
       "      <td>0.500000</td>\n",
       "    </tr>\n",
       "    <tr>\n",
       "      <td>...</td>\n",
       "      <td>...</td>\n",
       "      <td>...</td>\n",
       "      <td>...</td>\n",
       "      <td>...</td>\n",
       "      <td>...</td>\n",
       "    </tr>\n",
       "    <tr>\n",
       "      <td>11947</td>\n",
       "      <td>A30 P5 BPI 2020-A30 P6 BPI 2020</td>\n",
       "      <td>2020 - 2020</td>\n",
       "      <td>0.222222</td>\n",
       "      <td>0.363636</td>\n",
       "      <td>0.666667</td>\n",
       "    </tr>\n",
       "    <tr>\n",
       "      <td>11948</td>\n",
       "      <td>A30 P5 BPI 2020-A19 P1 BPI 2020</td>\n",
       "      <td>2020 - 2020</td>\n",
       "      <td>0.071429</td>\n",
       "      <td>0.133333</td>\n",
       "      <td>0.142857</td>\n",
       "    </tr>\n",
       "    <tr>\n",
       "      <td>11949</td>\n",
       "      <td>A34 P5 BPI 2020-A30 P6 BPI 2020</td>\n",
       "      <td>2020 - 2020</td>\n",
       "      <td>0.200000</td>\n",
       "      <td>0.333333</td>\n",
       "      <td>0.333333</td>\n",
       "    </tr>\n",
       "    <tr>\n",
       "      <td>11950</td>\n",
       "      <td>A34 P5 BPI 2020-A19 P1 BPI 2020</td>\n",
       "      <td>2020 - 2020</td>\n",
       "      <td>0.111111</td>\n",
       "      <td>0.200000</td>\n",
       "      <td>0.333333</td>\n",
       "    </tr>\n",
       "    <tr>\n",
       "      <td>11951</td>\n",
       "      <td>A30 P6 BPI 2020-A19 P1 BPI 2020</td>\n",
       "      <td>2020 - 2020</td>\n",
       "      <td>0.000000</td>\n",
       "      <td>0.000000</td>\n",
       "      <td>0.000000</td>\n",
       "    </tr>\n",
       "  </tbody>\n",
       "</table>\n",
       "<p>11952 rows × 5 columns</p>\n",
       "</div>"
      ],
      "text/plain": [
       "                           parAnalisis   Categories  Jaccard index  \\\n",
       "0        A2 P5 BPI 2015-A3 P5 BPI 2015  2015 - 2015       0.250000   \n",
       "1        A2 P5 BPI 2015-A4 P5 BPI 2015  2015 - 2015       0.333333   \n",
       "2        A2 P5 BPI 2015-A7 P5 BPI 2015  2015 - 2015       0.428571   \n",
       "3        A2 P5 BPI 2015-A8 P5 BPI 2015  2015 - 2015       0.181818   \n",
       "4        A2 P5 BPI 2015-A9 P5 BPI 2015  2015 - 2015       0.200000   \n",
       "...                                ...          ...            ...   \n",
       "11947  A30 P5 BPI 2020-A30 P6 BPI 2020  2020 - 2020       0.222222   \n",
       "11948  A30 P5 BPI 2020-A19 P1 BPI 2020  2020 - 2020       0.071429   \n",
       "11949  A34 P5 BPI 2020-A30 P6 BPI 2020  2020 - 2020       0.200000   \n",
       "11950  A34 P5 BPI 2020-A19 P1 BPI 2020  2020 - 2020       0.111111   \n",
       "11951  A30 P6 BPI 2020-A19 P1 BPI 2020  2020 - 2020       0.000000   \n",
       "\n",
       "       Sorensen index  Overlap index  \n",
       "0            0.400000       0.500000  \n",
       "1            0.500000       0.500000  \n",
       "2            0.600000       0.750000  \n",
       "3            0.307692       0.500000  \n",
       "4            0.333333       0.500000  \n",
       "...               ...            ...  \n",
       "11947        0.363636       0.666667  \n",
       "11948        0.133333       0.142857  \n",
       "11949        0.333333       0.333333  \n",
       "11950        0.200000       0.333333  \n",
       "11951        0.000000       0.000000  \n",
       "\n",
       "[11952 rows x 5 columns]"
      ]
     },
     "execution_count": 24,
     "metadata": {},
     "output_type": "execute_result"
    }
   ],
   "source": [
    "df_analisis_similarity #final dataframe"
   ]
  },
  {
   "cell_type": "code",
   "execution_count": 26,
   "metadata": {},
   "outputs": [
    {
     "data": {
      "text/html": [
       "<div>\n",
       "<style scoped>\n",
       "    .dataframe tbody tr th:only-of-type {\n",
       "        vertical-align: middle;\n",
       "    }\n",
       "\n",
       "    .dataframe tbody tr th {\n",
       "        vertical-align: top;\n",
       "    }\n",
       "\n",
       "    .dataframe thead th {\n",
       "        text-align: right;\n",
       "    }\n",
       "</style>\n",
       "<table border=\"1\" class=\"dataframe\">\n",
       "  <thead>\n",
       "    <tr style=\"text-align: right;\">\n",
       "      <th></th>\n",
       "      <th>parAnalisis</th>\n",
       "      <th>Categories</th>\n",
       "      <th>Jaccard index</th>\n",
       "      <th>Sorensen index</th>\n",
       "      <th>Overlap index</th>\n",
       "    </tr>\n",
       "  </thead>\n",
       "  <tbody>\n",
       "    <tr>\n",
       "      <td>0</td>\n",
       "      <td>A2 P5 BPI 2015-A3 P5 BPI 2015</td>\n",
       "      <td>2015 - 2015</td>\n",
       "      <td>0.250000</td>\n",
       "      <td>0.400000</td>\n",
       "      <td>0.500000</td>\n",
       "    </tr>\n",
       "    <tr>\n",
       "      <td>1</td>\n",
       "      <td>A2 P5 BPI 2015-A4 P5 BPI 2015</td>\n",
       "      <td>2015 - 2015</td>\n",
       "      <td>0.333333</td>\n",
       "      <td>0.500000</td>\n",
       "      <td>0.500000</td>\n",
       "    </tr>\n",
       "    <tr>\n",
       "      <td>2</td>\n",
       "      <td>A2 P5 BPI 2015-A7 P5 BPI 2015</td>\n",
       "      <td>2015 - 2015</td>\n",
       "      <td>0.428571</td>\n",
       "      <td>0.600000</td>\n",
       "      <td>0.750000</td>\n",
       "    </tr>\n",
       "    <tr>\n",
       "      <td>3</td>\n",
       "      <td>A2 P5 BPI 2015-A8 P5 BPI 2015</td>\n",
       "      <td>2015 - 2015</td>\n",
       "      <td>0.181818</td>\n",
       "      <td>0.307692</td>\n",
       "      <td>0.500000</td>\n",
       "    </tr>\n",
       "    <tr>\n",
       "      <td>4</td>\n",
       "      <td>A2 P5 BPI 2015-A9 P5 BPI 2015</td>\n",
       "      <td>2015 - 2015</td>\n",
       "      <td>0.200000</td>\n",
       "      <td>0.333333</td>\n",
       "      <td>0.500000</td>\n",
       "    </tr>\n",
       "    <tr>\n",
       "      <td>...</td>\n",
       "      <td>...</td>\n",
       "      <td>...</td>\n",
       "      <td>...</td>\n",
       "      <td>...</td>\n",
       "      <td>...</td>\n",
       "    </tr>\n",
       "    <tr>\n",
       "      <td>11947</td>\n",
       "      <td>A30 P5 BPI 2020-A30 P6 BPI 2020</td>\n",
       "      <td>2020 - 2020</td>\n",
       "      <td>0.222222</td>\n",
       "      <td>0.363636</td>\n",
       "      <td>0.666667</td>\n",
       "    </tr>\n",
       "    <tr>\n",
       "      <td>11948</td>\n",
       "      <td>A30 P5 BPI 2020-A19 P1 BPI 2020</td>\n",
       "      <td>2020 - 2020</td>\n",
       "      <td>0.071429</td>\n",
       "      <td>0.133333</td>\n",
       "      <td>0.142857</td>\n",
       "    </tr>\n",
       "    <tr>\n",
       "      <td>11949</td>\n",
       "      <td>A34 P5 BPI 2020-A30 P6 BPI 2020</td>\n",
       "      <td>2020 - 2020</td>\n",
       "      <td>0.200000</td>\n",
       "      <td>0.333333</td>\n",
       "      <td>0.333333</td>\n",
       "    </tr>\n",
       "    <tr>\n",
       "      <td>11950</td>\n",
       "      <td>A34 P5 BPI 2020-A19 P1 BPI 2020</td>\n",
       "      <td>2020 - 2020</td>\n",
       "      <td>0.111111</td>\n",
       "      <td>0.200000</td>\n",
       "      <td>0.333333</td>\n",
       "    </tr>\n",
       "    <tr>\n",
       "      <td>11951</td>\n",
       "      <td>A30 P6 BPI 2020-A19 P1 BPI 2020</td>\n",
       "      <td>2020 - 2020</td>\n",
       "      <td>0.000000</td>\n",
       "      <td>0.000000</td>\n",
       "      <td>0.000000</td>\n",
       "    </tr>\n",
       "  </tbody>\n",
       "</table>\n",
       "<p>11952 rows × 5 columns</p>\n",
       "</div>"
      ],
      "text/plain": [
       "                           parAnalisis   Categories  Jaccard index  \\\n",
       "0        A2 P5 BPI 2015-A3 P5 BPI 2015  2015 - 2015       0.250000   \n",
       "1        A2 P5 BPI 2015-A4 P5 BPI 2015  2015 - 2015       0.333333   \n",
       "2        A2 P5 BPI 2015-A7 P5 BPI 2015  2015 - 2015       0.428571   \n",
       "3        A2 P5 BPI 2015-A8 P5 BPI 2015  2015 - 2015       0.181818   \n",
       "4        A2 P5 BPI 2015-A9 P5 BPI 2015  2015 - 2015       0.200000   \n",
       "...                                ...          ...            ...   \n",
       "11947  A30 P5 BPI 2020-A30 P6 BPI 2020  2020 - 2020       0.222222   \n",
       "11948  A30 P5 BPI 2020-A19 P1 BPI 2020  2020 - 2020       0.071429   \n",
       "11949  A34 P5 BPI 2020-A30 P6 BPI 2020  2020 - 2020       0.200000   \n",
       "11950  A34 P5 BPI 2020-A19 P1 BPI 2020  2020 - 2020       0.111111   \n",
       "11951  A30 P6 BPI 2020-A19 P1 BPI 2020  2020 - 2020       0.000000   \n",
       "\n",
       "       Sorensen index  Overlap index  \n",
       "0            0.400000       0.500000  \n",
       "1            0.500000       0.500000  \n",
       "2            0.600000       0.750000  \n",
       "3            0.307692       0.500000  \n",
       "4            0.333333       0.500000  \n",
       "...               ...            ...  \n",
       "11947        0.363636       0.666667  \n",
       "11948        0.133333       0.142857  \n",
       "11949        0.333333       0.333333  \n",
       "11950        0.200000       0.333333  \n",
       "11951        0.000000       0.000000  \n",
       "\n",
       "[11952 rows x 5 columns]"
      ]
     },
     "execution_count": 26,
     "metadata": {},
     "output_type": "execute_result"
    }
   ],
   "source": [
    "df_analisis_similarity"
   ]
  },
  {
   "cell_type": "code",
   "execution_count": 27,
   "metadata": {},
   "outputs": [
    {
     "data": {
      "text/plain": [
       "Categories\n",
       "2015 - 2015    0.259379\n",
       "2015 - 2017    0.219732\n",
       "2015 - 2019    0.224993\n",
       "2015 - 2020    0.191013\n",
       "2017 - 2015    0.219732\n",
       "2017 - 2017    0.274885\n",
       "2017 - 2019    0.197833\n",
       "2017 - 2020    0.158152\n",
       "2019 - 2015    0.224993\n",
       "2019 - 2017    0.197833\n",
       "2019 - 2019    0.294663\n",
       "2019 - 2020    0.167723\n",
       "2020 - 2015    0.191013\n",
       "2020 - 2017    0.158152\n",
       "2020 - 2019    0.167723\n",
       "2020 - 2020    0.181728\n",
       "dtype: float64"
      ]
     },
     "execution_count": 27,
     "metadata": {},
     "output_type": "execute_result"
    }
   ],
   "source": [
    "#now we group by the possible comparison and calculate the mean for each index:\n",
    "questionYearCategories=df_analisis_similarity.groupby(\"Categories\").apply(lambda x: np.mean(x[\"Jaccard index\"]) )\n",
    "questionYearCategories"
   ]
  },
  {
   "cell_type": "code",
   "execution_count": 144,
   "metadata": {},
   "outputs": [
    {
     "data": {
      "text/plain": [
       "array(['2015 - 2015', '2015 - 2017', '2015 - 2019', '2015 - 2020',\n",
       "       '2017 - 2015', '2017 - 2017', '2017 - 2019', '2017 - 2020',\n",
       "       '2019 - 2015', '2019 - 2017', '2019 - 2019', '2019 - 2020',\n",
       "       '2020 - 2015', '2020 - 2017', '2020 - 2019', '2020 - 2020'],\n",
       "      dtype=object)"
      ]
     },
     "execution_count": 144,
     "metadata": {},
     "output_type": "execute_result"
    }
   ],
   "source": [
    "df_analisis_similarity['Categories'].unique()"
   ]
  },
  {
   "cell_type": "code",
   "execution_count": 28,
   "metadata": {},
   "outputs": [
    {
     "data": {
      "text/plain": [
       "Categories\n",
       "2015 - 2015    0.112468\n",
       "2015 - 2017    0.128718\n",
       "2015 - 2019    0.098588\n",
       "2015 - 2020    0.133501\n",
       "2017 - 2015    0.128718\n",
       "2017 - 2017    0.134824\n",
       "2017 - 2019    0.131297\n",
       "2017 - 2020    0.131065\n",
       "2019 - 2015    0.098588\n",
       "2019 - 2017    0.131297\n",
       "2019 - 2019    0.102453\n",
       "2019 - 2020    0.113778\n",
       "2020 - 2015    0.133501\n",
       "2020 - 2017    0.131065\n",
       "2020 - 2019    0.113778\n",
       "2020 - 2020    0.191790\n",
       "dtype: float64"
      ]
     },
     "execution_count": 28,
     "metadata": {},
     "output_type": "execute_result"
    }
   ],
   "source": [
    "questionYearCategoriesStd=df_analisis_similarity.groupby(\"Categories\").apply(lambda x: x[\"Jaccard index\"].std(ddof=0))\n",
    "questionYearCategoriesStd"
   ]
  },
  {
   "cell_type": "code",
   "execution_count": 29,
   "metadata": {},
   "outputs": [
    {
     "data": {
      "text/plain": [
       "Categories\n",
       "2015 - 2015    0.012649\n",
       "2015 - 2017    0.016568\n",
       "2015 - 2019    0.009720\n",
       "2015 - 2020    0.017823\n",
       "2017 - 2015    0.016568\n",
       "2017 - 2017    0.018178\n",
       "2017 - 2019    0.017239\n",
       "2017 - 2020    0.017178\n",
       "2019 - 2015    0.009720\n",
       "2019 - 2017    0.017239\n",
       "2019 - 2019    0.010497\n",
       "2019 - 2020    0.012945\n",
       "2020 - 2015    0.017823\n",
       "2020 - 2017    0.017178\n",
       "2020 - 2019    0.012945\n",
       "2020 - 2020    0.036783\n",
       "dtype: float64"
      ]
     },
     "execution_count": 29,
     "metadata": {},
     "output_type": "execute_result"
    }
   ],
   "source": [
    "questionYearCategoriesVar=df_analisis_similarity.groupby(\"Categories\").apply(lambda x: x[\"Jaccard index\"].var(ddof=0))\n",
    "questionYearCategoriesVar"
   ]
  },
  {
   "cell_type": "code",
   "execution_count": 148,
   "metadata": {},
   "outputs": [],
   "source": [
    "#Overlap"
   ]
  },
  {
   "cell_type": "code",
   "execution_count": 30,
   "metadata": {},
   "outputs": [
    {
     "data": {
      "text/plain": [
       "Categories\n",
       "2015 - 2015    0.480655\n",
       "2015 - 2017    0.430516\n",
       "2015 - 2019    0.449471\n",
       "2015 - 2020    0.501322\n",
       "2017 - 2015    0.430516\n",
       "2017 - 2017    0.558486\n",
       "2017 - 2019    0.426859\n",
       "2017 - 2020    0.421426\n",
       "2019 - 2015    0.449471\n",
       "2019 - 2017    0.426859\n",
       "2019 - 2019    0.582640\n",
       "2019 - 2020    0.497694\n",
       "2020 - 2015    0.501322\n",
       "2020 - 2017    0.421426\n",
       "2020 - 2019    0.497694\n",
       "2020 - 2020    0.384795\n",
       "dtype: float64"
      ]
     },
     "execution_count": 30,
     "metadata": {},
     "output_type": "execute_result"
    }
   ],
   "source": [
    "questionYearCategories=df_analisis_similarity.groupby(\"Categories\").apply(lambda x: np.mean(x[\"Overlap index\"]) )\n",
    "questionYearCategories"
   ]
  },
  {
   "cell_type": "code",
   "execution_count": 31,
   "metadata": {},
   "outputs": [
    {
     "data": {
      "text/plain": [
       "Categories\n",
       "2015 - 2015    0.176684\n",
       "2015 - 2017    0.200682\n",
       "2015 - 2019    0.161938\n",
       "2015 - 2020    0.318079\n",
       "2017 - 2015    0.200682\n",
       "2017 - 2017    0.224433\n",
       "2017 - 2019    0.235962\n",
       "2017 - 2020    0.328007\n",
       "2019 - 2015    0.161938\n",
       "2019 - 2017    0.235962\n",
       "2019 - 2019    0.199922\n",
       "2019 - 2020    0.284216\n",
       "2020 - 2015    0.318079\n",
       "2020 - 2017    0.328007\n",
       "2020 - 2019    0.284216\n",
       "2020 - 2020    0.345252\n",
       "dtype: float64"
      ]
     },
     "execution_count": 31,
     "metadata": {},
     "output_type": "execute_result"
    }
   ],
   "source": [
    "questionYearCategoriesStd=df_analisis_similarity.groupby(\"Categories\").apply(lambda x: x[\"Overlap index\"].std(ddof=0))\n",
    "questionYearCategoriesStd"
   ]
  },
  {
   "cell_type": "code",
   "execution_count": 32,
   "metadata": {},
   "outputs": [
    {
     "data": {
      "text/plain": [
       "Categories\n",
       "2015 - 2015    0.031217\n",
       "2015 - 2017    0.040273\n",
       "2015 - 2019    0.026224\n",
       "2015 - 2020    0.101174\n",
       "2017 - 2015    0.040273\n",
       "2017 - 2017    0.050370\n",
       "2017 - 2019    0.055678\n",
       "2017 - 2020    0.107589\n",
       "2019 - 2015    0.026224\n",
       "2019 - 2017    0.055678\n",
       "2019 - 2019    0.039969\n",
       "2019 - 2020    0.080779\n",
       "2020 - 2015    0.101174\n",
       "2020 - 2017    0.107589\n",
       "2020 - 2019    0.080779\n",
       "2020 - 2020    0.119199\n",
       "dtype: float64"
      ]
     },
     "execution_count": 32,
     "metadata": {},
     "output_type": "execute_result"
    }
   ],
   "source": [
    "questionYearCategoriesVar=df_analisis_similarity.groupby(\"Categories\").apply(lambda x: x[\"Overlap index\"].var(ddof=0))\n",
    "questionYearCategoriesVar"
   ]
  },
  {
   "cell_type": "code",
   "execution_count": 33,
   "metadata": {},
   "outputs": [],
   "source": [
    "#Sorensen:"
   ]
  },
  {
   "cell_type": "code",
   "execution_count": 34,
   "metadata": {},
   "outputs": [
    {
     "data": {
      "text/plain": [
       "Categories\n",
       "2015 - 2015    0.399029\n",
       "2015 - 2017    0.343122\n",
       "2015 - 2019    0.357041\n",
       "2015 - 2020    0.300418\n",
       "2017 - 2015    0.343122\n",
       "2017 - 2017    0.414164\n",
       "2017 - 2019    0.311606\n",
       "2017 - 2020    0.252098\n",
       "2019 - 2015    0.357041\n",
       "2019 - 2017    0.311606\n",
       "2019 - 2019    0.445384\n",
       "2019 - 2020    0.271846\n",
       "2020 - 2015    0.300418\n",
       "2020 - 2017    0.252098\n",
       "2020 - 2019    0.271846\n",
       "2020 - 2020    0.268796\n",
       "dtype: float64"
      ]
     },
     "execution_count": 34,
     "metadata": {},
     "output_type": "execute_result"
    }
   ],
   "source": [
    "questionYearCategories=df_analisis_similarity.groupby(\"Categories\").apply(lambda x: np.mean(x[\"Sorensen index\"]) )\n",
    "questionYearCategories"
   ]
  },
  {
   "cell_type": "code",
   "execution_count": 35,
   "metadata": {},
   "outputs": [
    {
     "data": {
      "text/plain": [
       "Categories\n",
       "2015 - 2015    0.031217\n",
       "2015 - 2017    0.040273\n",
       "2015 - 2019    0.026224\n",
       "2015 - 2020    0.101174\n",
       "2017 - 2015    0.040273\n",
       "2017 - 2017    0.050370\n",
       "2017 - 2019    0.055678\n",
       "2017 - 2020    0.107589\n",
       "2019 - 2015    0.026224\n",
       "2019 - 2017    0.055678\n",
       "2019 - 2019    0.039969\n",
       "2019 - 2020    0.080779\n",
       "2020 - 2015    0.101174\n",
       "2020 - 2017    0.107589\n",
       "2020 - 2019    0.080779\n",
       "2020 - 2020    0.119199\n",
       "dtype: float64"
      ]
     },
     "execution_count": 35,
     "metadata": {},
     "output_type": "execute_result"
    }
   ],
   "source": [
    "questionYearCategoriesVar=df_analisis_similarity.groupby(\"Categories\").apply(lambda x: x[\"Overlap index\"].var(ddof=0))\n",
    "questionYearCategoriesVar"
   ]
  },
  {
   "cell_type": "code",
   "execution_count": 36,
   "metadata": {},
   "outputs": [
    {
     "data": {
      "text/plain": [
       "Categories\n",
       "2015 - 2015    0.176684\n",
       "2015 - 2017    0.200682\n",
       "2015 - 2019    0.161938\n",
       "2015 - 2020    0.318079\n",
       "2017 - 2015    0.200682\n",
       "2017 - 2017    0.224433\n",
       "2017 - 2019    0.235962\n",
       "2017 - 2020    0.328007\n",
       "2019 - 2015    0.161938\n",
       "2019 - 2017    0.235962\n",
       "2019 - 2019    0.199922\n",
       "2019 - 2020    0.284216\n",
       "2020 - 2015    0.318079\n",
       "2020 - 2017    0.328007\n",
       "2020 - 2019    0.284216\n",
       "2020 - 2020    0.345252\n",
       "dtype: float64"
      ]
     },
     "execution_count": 36,
     "metadata": {},
     "output_type": "execute_result"
    }
   ],
   "source": [
    "questionYearCategoriesStd=df_analisis_similarity.groupby(\"Categories\").apply(lambda x: x[\"Overlap index\"].std(ddof=0))\n",
    "questionYearCategoriesStd"
   ]
  }
 ],
 "metadata": {
  "kernelspec": {
   "display_name": "Python 3",
   "language": "python",
   "name": "python3"
  },
  "language_info": {
   "codemirror_mode": {
    "name": "ipython",
    "version": 3
   },
   "file_extension": ".py",
   "mimetype": "text/x-python",
   "name": "python",
   "nbconvert_exporter": "python",
   "pygments_lexer": "ipython3",
   "version": "3.8.8"
  }
 },
 "nbformat": 4,
 "nbformat_minor": 2
}
