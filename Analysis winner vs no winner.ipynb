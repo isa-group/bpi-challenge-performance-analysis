{
 "cells": [
  {
   "cell_type": "code",
   "execution_count": 1,
   "metadata": {},
   "outputs": [],
   "source": [
    "import pandas as pd\n",
    "import datetime\n",
    "from os import listdir\n",
    "import os, os.path\n",
    "from os.path import isfile, join\n",
    "import numpy as np\n",
    "import csv\n",
    "import re\n",
    "import pandas as pd\n",
    "import pm4py\n",
    "from pm4py.objects.conversion.log import converter as log_converter\n",
    "from pm4py.objects.log.importer.xes import importer as xes_importer\n",
    "from pm4py.objects.log.exporter.xes import exporter as xes_exporter\n",
    "from pm4py.objects.log.util import dataframe_utils\n",
    "import matplotlib.pyplot as plt\n",
    "import seaborn as sns"
   ]
  },
  {
   "cell_type": "code",
   "execution_count": 2,
   "metadata": {},
   "outputs": [
    {
     "data": {
      "text/plain": [
       "array(['Academic', 'Student', 'Professional'], dtype=object)"
      ]
     },
     "execution_count": 2,
     "metadata": {},
     "output_type": "execute_result"
    }
   ],
   "source": [
    "df_categorias_autores=pd.read_csv(\"logCT2.csv\",index_col=0)\n",
    "df_categorias_autores['Category'].unique()"
   ]
  },
  {
   "cell_type": "code",
   "execution_count": 19,
   "metadata": {},
   "outputs": [],
   "source": [
    "winners=['A1 2015',\"A2 2015\",\"A13 2017\",\"A18 2017\",\"A22 2017\",\"A4 2019\",\"A12 2019\",\"A1 2020\",\"A2 2020\"]"
   ]
  },
  {
   "cell_type": "code",
   "execution_count": 20,
   "metadata": {},
   "outputs": [],
   "source": [
    "df_categorias_autores[\"repYear\"]=[rep+\" \"+str(year) for rep,year in zip(df_categorias_autores['Report'],df_categorias_autores['Year'])]"
   ]
  },
  {
   "cell_type": "code",
   "execution_count": 22,
   "metadata": {},
   "outputs": [],
   "source": [
    "df_winners=df_categorias_autores[df_categorias_autores[\"repYear\"].isin(winners)]"
   ]
  },
  {
   "cell_type": "code",
   "execution_count": 25,
   "metadata": {},
   "outputs": [],
   "source": [
    "df_no_winners=df_categorias_autores[~df_categorias_autores[\"repYear\"].isin(winners)]"
   ]
  },
  {
   "cell_type": "code",
   "execution_count": 27,
   "metadata": {},
   "outputs": [
    {
     "data": {
      "text/html": [
       "<div>\n",
       "<style scoped>\n",
       "    .dataframe tbody tr th:only-of-type {\n",
       "        vertical-align: middle;\n",
       "    }\n",
       "\n",
       "    .dataframe tbody tr th {\n",
       "        vertical-align: top;\n",
       "    }\n",
       "\n",
       "    .dataframe thead th {\n",
       "        text-align: right;\n",
       "    }\n",
       "</style>\n",
       "<table border=\"1\" class=\"dataframe\">\n",
       "  <thead>\n",
       "    <tr style=\"text-align: right;\">\n",
       "      <th></th>\n",
       "      <th>case:concept:name</th>\n",
       "      <th>concept:name</th>\n",
       "      <th>Specific operation</th>\n",
       "      <th>time:timestamp</th>\n",
       "      <th>Report</th>\n",
       "      <th>Question</th>\n",
       "      <th>Year</th>\n",
       "      <th>Category</th>\n",
       "      <th>Type</th>\n",
       "      <th>repYear</th>\n",
       "    </tr>\n",
       "  </thead>\n",
       "  <tbody>\n",
       "    <tr>\n",
       "      <td>4</td>\n",
       "      <td>A7 P2 BPI 2020</td>\n",
       "      <td>Calculate throughput</td>\n",
       "      <td></td>\n",
       "      <td>2021-10-19 12:47:13.682150</td>\n",
       "      <td>A7</td>\n",
       "      <td>P2</td>\n",
       "      <td>2020</td>\n",
       "      <td>Academic</td>\n",
       "      <td>Analyze Cycle Time</td>\n",
       "      <td>A7 2020</td>\n",
       "    </tr>\n",
       "    <tr>\n",
       "      <td>5</td>\n",
       "      <td>A7 P2 BPI 2020</td>\n",
       "      <td>Comparative of throughput</td>\n",
       "      <td></td>\n",
       "      <td>2021-10-19 12:47:13.682150</td>\n",
       "      <td>A7</td>\n",
       "      <td>P2</td>\n",
       "      <td>2020</td>\n",
       "      <td>Academic</td>\n",
       "      <td>Analyze Cycle Time</td>\n",
       "      <td>A7 2020</td>\n",
       "    </tr>\n",
       "    <tr>\n",
       "      <td>6</td>\n",
       "      <td>A7 P2 BPI 2020</td>\n",
       "      <td>Comparative of throughput</td>\n",
       "      <td></td>\n",
       "      <td>2021-10-19 12:47:13.682150</td>\n",
       "      <td>A7</td>\n",
       "      <td>P2</td>\n",
       "      <td>2020</td>\n",
       "      <td>Academic</td>\n",
       "      <td>Analyze Cycle Time</td>\n",
       "      <td>A7 2020</td>\n",
       "    </tr>\n",
       "    <tr>\n",
       "      <td>7</td>\n",
       "      <td>A7 P2 BPI 2020</td>\n",
       "      <td>Represent scatterplot</td>\n",
       "      <td></td>\n",
       "      <td>2021-10-19 12:47:13.697738</td>\n",
       "      <td>A7</td>\n",
       "      <td>P2</td>\n",
       "      <td>2020</td>\n",
       "      <td>Academic</td>\n",
       "      <td>Representation</td>\n",
       "      <td>A7 2020</td>\n",
       "    </tr>\n",
       "    <tr>\n",
       "      <td>8</td>\n",
       "      <td>A10 P2 BPI 2020</td>\n",
       "      <td>Represent boxplots of cycle time</td>\n",
       "      <td></td>\n",
       "      <td>2021-10-19 12:47:13.697738</td>\n",
       "      <td>A10</td>\n",
       "      <td>P2</td>\n",
       "      <td>2020</td>\n",
       "      <td>Academic</td>\n",
       "      <td>Representation</td>\n",
       "      <td>A10 2020</td>\n",
       "    </tr>\n",
       "  </tbody>\n",
       "</table>\n",
       "</div>"
      ],
      "text/plain": [
       "  case:concept:name                      concept:name Specific operation  \\\n",
       "4    A7 P2 BPI 2020              Calculate throughput                      \n",
       "5    A7 P2 BPI 2020         Comparative of throughput                      \n",
       "6    A7 P2 BPI 2020         Comparative of throughput                      \n",
       "7    A7 P2 BPI 2020             Represent scatterplot                      \n",
       "8   A10 P2 BPI 2020  Represent boxplots of cycle time                      \n",
       "\n",
       "               time:timestamp Report Question  Year  Category  \\\n",
       "4  2021-10-19 12:47:13.682150     A7       P2  2020  Academic   \n",
       "5  2021-10-19 12:47:13.682150     A7       P2  2020  Academic   \n",
       "6  2021-10-19 12:47:13.682150     A7       P2  2020  Academic   \n",
       "7  2021-10-19 12:47:13.697738     A7       P2  2020  Academic   \n",
       "8  2021-10-19 12:47:13.697738    A10       P2  2020  Academic   \n",
       "\n",
       "                 Type   repYear  \n",
       "4  Analyze Cycle Time   A7 2020  \n",
       "5  Analyze Cycle Time   A7 2020  \n",
       "6  Analyze Cycle Time   A7 2020  \n",
       "7      Representation   A7 2020  \n",
       "8      Representation  A10 2020  "
      ]
     },
     "execution_count": 27,
     "metadata": {},
     "output_type": "execute_result"
    }
   ],
   "source": [
    "df_no_winners.head()"
   ]
  },
  {
   "cell_type": "code",
   "execution_count": 30,
   "metadata": {},
   "outputs": [
    {
     "data": {
      "text/plain": [
       "0.42857142857142855"
      ]
     },
     "execution_count": 30,
     "metadata": {},
     "output_type": "execute_result"
    }
   ],
   "source": [
    "intersection = len(list(set(df_winners[\"concept:name\"]).intersection(df_no_winners[\"concept:name\"])))\n",
    "union = (len(set(df_winners[\"concept:name\"])) + len(set(df_no_winners[\"concept:name\"]))) - intersection\n",
    "float(intersection) / union"
   ]
  },
  {
   "cell_type": "code",
   "execution_count": 31,
   "metadata": {},
   "outputs": [
    {
     "data": {
      "text/plain": [
       "0.37142857142857144"
      ]
     },
     "execution_count": 31,
     "metadata": {},
     "output_type": "execute_result"
    }
   ],
   "source": [
    "intersection = len(list(set(df_winners[\"Specific operation\"]).intersection(df_no_winners[\"Specific operation\"])))\n",
    "union = (len(set(df_winners[\"Specific operation\"])) + len(set(df_no_winners[\"Specific operation\"]))) - intersection\n",
    "float(intersection) / union"
   ]
  },
  {
   "cell_type": "code",
   "execution_count": null,
   "metadata": {},
   "outputs": [],
   "source": [
    "#-------------------------------------------------------------------------------------------------------------------------------\n",
    "#Intento de Jaccard 2:"
   ]
  },
  {
   "cell_type": "code",
   "execution_count": 64,
   "metadata": {},
   "outputs": [],
   "source": [
    "def jaccardIndex(list1,list2):\n",
    "    set1=set(list1)\n",
    "    set2=set(list2)\n",
    "    intersection = set1.intersection(set2)\n",
    "    tamIntersection=len(list(intersection))\n",
    "    union = set1.union(set2)\n",
    "    tamUnion=len(list(union))\n",
    "    print(\"similitud: \"+str(float(tamIntersection)/tamUnion))"
   ]
  },
  {
   "cell_type": "code",
   "execution_count": 65,
   "metadata": {},
   "outputs": [
    {
     "name": "stdout",
     "output_type": "stream",
     "text": [
      "similitud: 0.42857142857142855\n"
     ]
    }
   ],
   "source": [
    "jaccardIndex(df_winners[\"concept:name\"],df_no_winners[\"concept:name\"])"
   ]
  },
  {
   "cell_type": "code",
   "execution_count": 71,
   "metadata": {},
   "outputs": [
    {
     "name": "stdout",
     "output_type": "stream",
     "text": [
      "similitud: 0.37142857142857144\n"
     ]
    }
   ],
   "source": [
    "jaccardIndex(df_winners[\"Specific operation\"],df_no_winners[\"Specific operation\"])"
   ]
  },
  {
   "cell_type": "code",
   "execution_count": 67,
   "metadata": {},
   "outputs": [],
   "source": [
    "#------------------------------------------------------------------------------------------------------------------------------\n",
    "#ganadores vs no ganadores por categoria:"
   ]
  },
  {
   "cell_type": "code",
   "execution_count": 68,
   "metadata": {},
   "outputs": [],
   "source": [
    "#Academico\n",
    "df_winners_academic=df_winners[df_winners['Category']==\"Academic\"]\n",
    "df_no_winners_academic=df_no_winners[df_no_winners['Category']==\"Academic\"]"
   ]
  },
  {
   "cell_type": "code",
   "execution_count": 75,
   "metadata": {},
   "outputs": [
    {
     "name": "stdout",
     "output_type": "stream",
     "text": [
      "similitud: 0.4482758620689655\n"
     ]
    }
   ],
   "source": [
    "#operaciones academic\n",
    "jaccardIndex(df_winners_academic['concept:name'],df_no_winners_academic['concept:name'])"
   ]
  },
  {
   "cell_type": "code",
   "execution_count": 78,
   "metadata": {},
   "outputs": [
    {
     "name": "stdout",
     "output_type": "stream",
     "text": [
      "similitud: 0.29411764705882354\n"
     ]
    }
   ],
   "source": [
    "#variantes academic\n",
    "jaccardIndex(df_winners_academic['Specific operation'],df_no_winners_academic['Specific operation'])"
   ]
  },
  {
   "cell_type": "code",
   "execution_count": 76,
   "metadata": {},
   "outputs": [
    {
     "name": "stdout",
     "output_type": "stream",
     "text": [
      "similitud: 0.35294117647058826\n"
     ]
    }
   ],
   "source": [
    "#operaciones student\n",
    "df_winners_student=df_winners[df_winners['Category']==\"Student\"]\n",
    "df_no_winners_student=df_no_winners[df_no_winners['Category']==\"Student\"]\n",
    "jaccardIndex(df_winners_student['concept:name'],df_no_winners_student['concept:name'])"
   ]
  },
  {
   "cell_type": "code",
   "execution_count": 79,
   "metadata": {},
   "outputs": [
    {
     "name": "stdout",
     "output_type": "stream",
     "text": [
      "similitud: 0.3050847457627119\n"
     ]
    }
   ],
   "source": [
    "#variantes student\n",
    "jaccardIndex(df_winners_student['Specific operation'],df_no_winners_student['Specific operation'])"
   ]
  },
  {
   "cell_type": "code",
   "execution_count": 77,
   "metadata": {},
   "outputs": [
    {
     "name": "stdout",
     "output_type": "stream",
     "text": [
      "similitud: 0.20454545454545456\n"
     ]
    }
   ],
   "source": [
    "#operaciones professional\n",
    "df_winners_pro=df_winners[df_winners['Category']==\"Professional\"]\n",
    "df_no_winners_pro=df_no_winners[df_no_winners['Category']==\"Professional\"]\n",
    "jaccardIndex(df_winners_pro['concept:name'],df_no_winners_pro['concept:name'])"
   ]
  },
  {
   "cell_type": "code",
   "execution_count": 80,
   "metadata": {},
   "outputs": [
    {
     "name": "stdout",
     "output_type": "stream",
     "text": [
      "similitud: 0.10344827586206896\n"
     ]
    }
   ],
   "source": [
    "#variantes professional\n",
    "jaccardIndex(df_winners_pro['Specific operation'],df_no_winners_pro['Specific operation'])"
   ]
  },
  {
   "cell_type": "code",
   "execution_count": null,
   "metadata": {},
   "outputs": [],
   "source": [
    "#------------------------------------------------------------------------------------------------------------------------------"
   ]
  },
  {
   "cell_type": "code",
   "execution_count": 85,
   "metadata": {},
   "outputs": [],
   "source": [
    "def calculaMediaOperacionesTraza(df):\n",
    "    return len(df['concept:name'])/len(list(set(df['case:concept:name'])))"
   ]
  },
  {
   "cell_type": "code",
   "execution_count": 88,
   "metadata": {},
   "outputs": [
    {
     "name": "stdout",
     "output_type": "stream",
     "text": [
      "Promedio operaciones por traza ganadores: 6.0\n",
      "Promedio operaciones por traza no ganadores: 7.745454545454545\n"
     ]
    }
   ],
   "source": [
    "mediaWinners=calculaMediaOperacionesTraza(df_winners)\n",
    "mediaNoWinners=calculaMediaOperacionesTraza(df_no_winners)\n",
    "print(\"Promedio operaciones por traza ganadores: \"+str(mediaWinners))\n",
    "print(\"Promedio operaciones por traza no ganadores: \"+str(mediaNoWinners))"
   ]
  },
  {
   "cell_type": "code",
   "execution_count": 86,
   "metadata": {},
   "outputs": [
    {
     "name": "stdout",
     "output_type": "stream",
     "text": [
      "Promedio operaciones por traza ganadores academicos: 7.166666666666667\n",
      "Promedio operaciones por traza no ganadores academicos: 5.230769230769231\n"
     ]
    }
   ],
   "source": [
    "mediaAcademicosWinners=calculaMediaOperacionesTraza(df_winners_academic)\n",
    "mediaAcademicosNoWinners=calculaMediaOperacionesTraza(df_no_winners_academic)\n",
    "print(\"Promedio operaciones por traza ganadores academicos: \"+str(mediaAcademicosWinners))\n",
    "print(\"Promedio operaciones por traza no ganadores academicos: \"+str(mediaAcademicosNoWinners))"
   ]
  },
  {
   "cell_type": "code",
   "execution_count": 87,
   "metadata": {},
   "outputs": [
    {
     "name": "stdout",
     "output_type": "stream",
     "text": [
      "Promedio operaciones por traza ganadores estudiantes: 4.25\n",
      "Promedio operaciones por traza no ganadores estudiantes: 10.954545454545455\n"
     ]
    }
   ],
   "source": [
    "mediaStudentWinners=calculaMediaOperacionesTraza(df_winners_student)\n",
    "mediaStudentNoWinners=calculaMediaOperacionesTraza(df_no_winners_student)\n",
    "print(\"Promedio operaciones por traza ganadores estudiantes: \"+str(mediaStudentWinners))\n",
    "print(\"Promedio operaciones por traza no ganadores estudiantes: \"+str(mediaStudentNoWinners))"
   ]
  },
  {
   "cell_type": "code",
   "execution_count": 89,
   "metadata": {},
   "outputs": [
    {
     "name": "stdout",
     "output_type": "stream",
     "text": [
      "Promedio operaciones por traza ganadores profesionales: 9.5\n",
      "Promedio operaciones por traza no ganadores profesionales: 7.661290322580645\n"
     ]
    }
   ],
   "source": [
    "mediaProWinners=calculaMediaOperacionesTraza(df_winners_pro)\n",
    "mediaProNoWinners=calculaMediaOperacionesTraza(df_no_winners_pro)\n",
    "print(\"Promedio operaciones por traza ganadores profesionales: \"+str(mediaProWinners))\n",
    "print(\"Promedio operaciones por traza no ganadores profesionales: \"+str(mediaProNoWinners))"
   ]
  },
  {
   "cell_type": "code",
   "execution_count": null,
   "metadata": {},
   "outputs": [],
   "source": [
    "#-------------------------------------------------------------------------------"
   ]
  },
  {
   "cell_type": "code",
   "execution_count": 94,
   "metadata": {},
   "outputs": [],
   "source": [
    "def calculaMediaOperacionesTraza2(df):\n",
    "    return len(df[df['Specific operation']!=\" \"])/len(list(set(df['case:concept:name'])))"
   ]
  },
  {
   "cell_type": "code",
   "execution_count": 96,
   "metadata": {},
   "outputs": [
    {
     "name": "stdout",
     "output_type": "stream",
     "text": [
      "Promedio variantes por traza ganadores: 5.375\n",
      "Promedio variantes por traza no ganadores: 6.372727272727273\n"
     ]
    }
   ],
   "source": [
    "mediaWinners=calculaMediaOperacionesTraza2(df_winners)\n",
    "mediaNoWinners=calculaMediaOperacionesTraza2(df_no_winners)\n",
    "print(\"Promedio variantes por traza ganadores: \"+str(mediaWinners))\n",
    "print(\"Promedio variantes por traza no ganadores: \"+str(mediaNoWinners))"
   ]
  },
  {
   "cell_type": "code",
   "execution_count": 97,
   "metadata": {},
   "outputs": [
    {
     "name": "stdout",
     "output_type": "stream",
     "text": [
      "Promedio variantes por traza ganadores academicos: 6.166666666666667\n",
      "Promedio variantes por traza no ganadores academicos: 4.346153846153846\n"
     ]
    }
   ],
   "source": [
    "mediaAcademicosWinners=calculaMediaOperacionesTraza2(df_winners_academic)\n",
    "mediaAcademicosNoWinners=calculaMediaOperacionesTraza2(df_no_winners_academic)\n",
    "print(\"Promedio variantes por traza ganadores academicos: \"+str(mediaAcademicosWinners))\n",
    "print(\"Promedio variantes por traza no ganadores academicos: \"+str(mediaAcademicosNoWinners))"
   ]
  },
  {
   "cell_type": "code",
   "execution_count": 98,
   "metadata": {},
   "outputs": [
    {
     "name": "stdout",
     "output_type": "stream",
     "text": [
      "Promedio variantes por traza ganadores estudiantes: 3.875\n",
      "Promedio variantess por traza no ganadores estudiantes: 9.136363636363637\n"
     ]
    }
   ],
   "source": [
    "mediaStudentWinners=calculaMediaOperacionesTraza2(df_winners_student)\n",
    "mediaStudentNoWinners=calculaMediaOperacionesTraza2(df_no_winners_student)\n",
    "print(\"Promedio variantes por traza ganadores estudiantes: \"+str(mediaStudentWinners))\n",
    "print(\"Promedio variantess por traza no ganadores estudiantes: \"+str(mediaStudentNoWinners))"
   ]
  },
  {
   "cell_type": "code",
   "execution_count": 99,
   "metadata": {},
   "outputs": [
    {
     "name": "stdout",
     "output_type": "stream",
     "text": [
      "Promedio variantes por traza ganadores profesionales: 9.0\n",
      "Promedio variantes por traza no ganadores profesionales: 6.241935483870968\n"
     ]
    }
   ],
   "source": [
    "mediaProWinners=calculaMediaOperacionesTraza2(df_winners_pro)\n",
    "mediaProNoWinners=calculaMediaOperacionesTraza2(df_no_winners_pro)\n",
    "print(\"Promedio variantes por traza ganadores profesionales: \"+str(mediaProWinners))\n",
    "print(\"Promedio variantes por traza no ganadores profesionales: \"+str(mediaProNoWinners))"
   ]
  },
  {
   "cell_type": "code",
   "execution_count": 52,
   "metadata": {},
   "outputs": [],
   "source": [
    "#------------------------------------------------------------------------------------------------------------------------------\n",
    "#intento ganadores codificado"
   ]
  },
  {
   "cell_type": "code",
   "execution_count": 46,
   "metadata": {},
   "outputs": [],
   "source": [
    "from sklearn.metrics import jaccard_score\n",
    "from sklearn.preprocessing import LabelEncoder\n",
    "df2=df_categorias_autores\n",
    "label_encoder = LabelEncoder()\n",
    "df2['concept:name'] = label_encoder.fit_transform(df2['concept:name'])"
   ]
  },
  {
   "cell_type": "code",
   "execution_count": 49,
   "metadata": {},
   "outputs": [],
   "source": [
    "df_winners_2=df2[df2[\"repYear\"].isin(winners)]\n",
    "df_no_winners_2=df2[~df2[\"repYear\"].isin(winners)]"
   ]
  }
 ],
 "metadata": {
  "kernelspec": {
   "display_name": "Python 3",
   "language": "python",
   "name": "python3"
  },
  "language_info": {
   "codemirror_mode": {
    "name": "ipython",
    "version": 3
   },
   "file_extension": ".py",
   "mimetype": "text/x-python",
   "name": "python",
   "nbconvert_exporter": "python",
   "pygments_lexer": "ipython3",
   "version": "3.8.8"
  }
 },
 "nbformat": 4,
 "nbformat_minor": 2
}
