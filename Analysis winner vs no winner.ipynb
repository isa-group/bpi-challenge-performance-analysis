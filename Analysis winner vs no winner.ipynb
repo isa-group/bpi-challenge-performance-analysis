{
 "cells": [
  {
   "cell_type": "code",
   "execution_count": 1,
   "metadata": {},
   "outputs": [],
   "source": [
    "import pandas as pd\n",
    "import datetime\n",
    "from os import listdir\n",
    "import os, os.path\n",
    "from os.path import isfile, join\n",
    "import numpy as np\n",
    "import csv\n",
    "import re\n",
    "import pandas as pd\n",
    "import pm4py\n",
    "from pm4py.objects.conversion.log import converter as log_converter\n",
    "from pm4py.objects.log.importer.xes import importer as xes_importer\n",
    "from pm4py.objects.log.exporter.xes import exporter as xes_exporter\n",
    "from pm4py.objects.log.util import dataframe_utils\n",
    "import matplotlib.pyplot as plt\n",
    "import seaborn as sns"
   ]
  },
  {
   "cell_type": "code",
   "execution_count": 3,
   "metadata": {},
   "outputs": [
    {
     "data": {
      "text/html": [
       "<div>\n",
       "<style scoped>\n",
       "    .dataframe tbody tr th:only-of-type {\n",
       "        vertical-align: middle;\n",
       "    }\n",
       "\n",
       "    .dataframe tbody tr th {\n",
       "        vertical-align: top;\n",
       "    }\n",
       "\n",
       "    .dataframe thead th {\n",
       "        text-align: right;\n",
       "    }\n",
       "</style>\n",
       "<table border=\"1\" class=\"dataframe\">\n",
       "  <thead>\n",
       "    <tr style=\"text-align: right;\">\n",
       "      <th></th>\n",
       "      <th>case:concept:name</th>\n",
       "      <th>concept:name</th>\n",
       "      <th>Specific operation</th>\n",
       "      <th>time:timestamp</th>\n",
       "      <th>Report</th>\n",
       "      <th>Question</th>\n",
       "      <th>Year</th>\n",
       "      <th>Category</th>\n",
       "      <th>Type</th>\n",
       "    </tr>\n",
       "  </thead>\n",
       "  <tbody>\n",
       "    <tr>\n",
       "      <td>0</td>\n",
       "      <td>A1 P2 BPI 2020</td>\n",
       "      <td>Calculate cycle time</td>\n",
       "      <td>Calculate cycle time of the whole process for ...</td>\n",
       "      <td>2021-10-19 12:47:13.651481</td>\n",
       "      <td>A1</td>\n",
       "      <td>P2</td>\n",
       "      <td>2020</td>\n",
       "      <td>Academic</td>\n",
       "      <td>Analyze Cycle Time</td>\n",
       "    </tr>\n",
       "    <tr>\n",
       "      <td>1</td>\n",
       "      <td>A1 P2 BPI 2020</td>\n",
       "      <td>Compare cycle time</td>\n",
       "      <td></td>\n",
       "      <td>2021-10-19 12:47:13.659459</td>\n",
       "      <td>A1</td>\n",
       "      <td>P2</td>\n",
       "      <td>2020</td>\n",
       "      <td>Academic</td>\n",
       "      <td>Analyze Cycle Time</td>\n",
       "    </tr>\n",
       "    <tr>\n",
       "      <td>2</td>\n",
       "      <td>A2 P2 BPI 2020</td>\n",
       "      <td>Calculate cycle time</td>\n",
       "      <td>Get cycle time from the previous question</td>\n",
       "      <td>2021-10-19 12:47:13.666495</td>\n",
       "      <td>A2</td>\n",
       "      <td>P2</td>\n",
       "      <td>2020</td>\n",
       "      <td>Student</td>\n",
       "      <td>Analyze Cycle Time</td>\n",
       "    </tr>\n",
       "    <tr>\n",
       "      <td>3</td>\n",
       "      <td>A2 P2 BPI 2020</td>\n",
       "      <td>Compare cycle time</td>\n",
       "      <td></td>\n",
       "      <td>2021-10-19 12:47:13.666495</td>\n",
       "      <td>A2</td>\n",
       "      <td>P2</td>\n",
       "      <td>2020</td>\n",
       "      <td>Student</td>\n",
       "      <td>Analyze Cycle Time</td>\n",
       "    </tr>\n",
       "    <tr>\n",
       "      <td>4</td>\n",
       "      <td>A7 P2 BPI 2020</td>\n",
       "      <td>Calculate throughput</td>\n",
       "      <td></td>\n",
       "      <td>2021-10-19 12:47:13.682150</td>\n",
       "      <td>A7</td>\n",
       "      <td>P2</td>\n",
       "      <td>2020</td>\n",
       "      <td>Academic</td>\n",
       "      <td>Analyze Cycle Time</td>\n",
       "    </tr>\n",
       "  </tbody>\n",
       "</table>\n",
       "</div>"
      ],
      "text/plain": [
       "  case:concept:name          concept:name  \\\n",
       "0    A1 P2 BPI 2020  Calculate cycle time   \n",
       "1    A1 P2 BPI 2020    Compare cycle time   \n",
       "2    A2 P2 BPI 2020  Calculate cycle time   \n",
       "3    A2 P2 BPI 2020    Compare cycle time   \n",
       "4    A7 P2 BPI 2020  Calculate throughput   \n",
       "\n",
       "                                  Specific operation  \\\n",
       "0  Calculate cycle time of the whole process for ...   \n",
       "1                                                      \n",
       "2          Get cycle time from the previous question   \n",
       "3                                                      \n",
       "4                                                      \n",
       "\n",
       "               time:timestamp Report Question  Year  Category  \\\n",
       "0  2021-10-19 12:47:13.651481     A1       P2  2020  Academic   \n",
       "1  2021-10-19 12:47:13.659459     A1       P2  2020  Academic   \n",
       "2  2021-10-19 12:47:13.666495     A2       P2  2020   Student   \n",
       "3  2021-10-19 12:47:13.666495     A2       P2  2020   Student   \n",
       "4  2021-10-19 12:47:13.682150     A7       P2  2020  Academic   \n",
       "\n",
       "                 Type  \n",
       "0  Analyze Cycle Time  \n",
       "1  Analyze Cycle Time  \n",
       "2  Analyze Cycle Time  \n",
       "3  Analyze Cycle Time  \n",
       "4  Analyze Cycle Time  "
      ]
     },
     "execution_count": 3,
     "metadata": {},
     "output_type": "execute_result"
    }
   ],
   "source": [
    "df_categorias_autores=pd.read_csv(\"logCT2.csv\",index_col=0)\n",
    "df_categorias_autores.head()"
   ]
  },
  {
   "cell_type": "code",
   "execution_count": 19,
   "metadata": {},
   "outputs": [],
   "source": [
    "winners=['A1 2015',\"A2 2015\",\"A13 2017\",\"A18 2017\",\"A22 2017\",\"A4 2019\",\"A12 2019\",\"A1 2020\",\"A2 2020\"]"
   ]
  },
  {
   "cell_type": "code",
   "execution_count": 20,
   "metadata": {},
   "outputs": [],
   "source": [
    "df_categorias_autores[\"repYear\"]=[rep+\" \"+str(year) for rep,year in zip(df_categorias_autores['Report'],df_categorias_autores['Year'])]"
   ]
  },
  {
   "cell_type": "code",
   "execution_count": 22,
   "metadata": {},
   "outputs": [],
   "source": [
    "df_winners=df_categorias_autores[df_categorias_autores[\"repYear\"].isin(winners)]"
   ]
  },
  {
   "cell_type": "code",
   "execution_count": 25,
   "metadata": {},
   "outputs": [],
   "source": [
    "df_no_winners=df_categorias_autores[~df_categorias_autores[\"repYear\"].isin(winners)]"
   ]
  },
  {
   "cell_type": "code",
   "execution_count": 27,
   "metadata": {},
   "outputs": [
    {
     "data": {
      "text/html": [
       "<div>\n",
       "<style scoped>\n",
       "    .dataframe tbody tr th:only-of-type {\n",
       "        vertical-align: middle;\n",
       "    }\n",
       "\n",
       "    .dataframe tbody tr th {\n",
       "        vertical-align: top;\n",
       "    }\n",
       "\n",
       "    .dataframe thead th {\n",
       "        text-align: right;\n",
       "    }\n",
       "</style>\n",
       "<table border=\"1\" class=\"dataframe\">\n",
       "  <thead>\n",
       "    <tr style=\"text-align: right;\">\n",
       "      <th></th>\n",
       "      <th>case:concept:name</th>\n",
       "      <th>concept:name</th>\n",
       "      <th>Specific operation</th>\n",
       "      <th>time:timestamp</th>\n",
       "      <th>Report</th>\n",
       "      <th>Question</th>\n",
       "      <th>Year</th>\n",
       "      <th>Category</th>\n",
       "      <th>Type</th>\n",
       "      <th>repYear</th>\n",
       "    </tr>\n",
       "  </thead>\n",
       "  <tbody>\n",
       "    <tr>\n",
       "      <td>4</td>\n",
       "      <td>A7 P2 BPI 2020</td>\n",
       "      <td>Calculate throughput</td>\n",
       "      <td></td>\n",
       "      <td>2021-10-19 12:47:13.682150</td>\n",
       "      <td>A7</td>\n",
       "      <td>P2</td>\n",
       "      <td>2020</td>\n",
       "      <td>Academic</td>\n",
       "      <td>Analyze Cycle Time</td>\n",
       "      <td>A7 2020</td>\n",
       "    </tr>\n",
       "    <tr>\n",
       "      <td>5</td>\n",
       "      <td>A7 P2 BPI 2020</td>\n",
       "      <td>Comparative of throughput</td>\n",
       "      <td></td>\n",
       "      <td>2021-10-19 12:47:13.682150</td>\n",
       "      <td>A7</td>\n",
       "      <td>P2</td>\n",
       "      <td>2020</td>\n",
       "      <td>Academic</td>\n",
       "      <td>Analyze Cycle Time</td>\n",
       "      <td>A7 2020</td>\n",
       "    </tr>\n",
       "    <tr>\n",
       "      <td>6</td>\n",
       "      <td>A7 P2 BPI 2020</td>\n",
       "      <td>Comparative of throughput</td>\n",
       "      <td></td>\n",
       "      <td>2021-10-19 12:47:13.682150</td>\n",
       "      <td>A7</td>\n",
       "      <td>P2</td>\n",
       "      <td>2020</td>\n",
       "      <td>Academic</td>\n",
       "      <td>Analyze Cycle Time</td>\n",
       "      <td>A7 2020</td>\n",
       "    </tr>\n",
       "    <tr>\n",
       "      <td>7</td>\n",
       "      <td>A7 P2 BPI 2020</td>\n",
       "      <td>Represent scatterplot</td>\n",
       "      <td></td>\n",
       "      <td>2021-10-19 12:47:13.697738</td>\n",
       "      <td>A7</td>\n",
       "      <td>P2</td>\n",
       "      <td>2020</td>\n",
       "      <td>Academic</td>\n",
       "      <td>Representation</td>\n",
       "      <td>A7 2020</td>\n",
       "    </tr>\n",
       "    <tr>\n",
       "      <td>8</td>\n",
       "      <td>A10 P2 BPI 2020</td>\n",
       "      <td>Represent boxplots of cycle time</td>\n",
       "      <td></td>\n",
       "      <td>2021-10-19 12:47:13.697738</td>\n",
       "      <td>A10</td>\n",
       "      <td>P2</td>\n",
       "      <td>2020</td>\n",
       "      <td>Academic</td>\n",
       "      <td>Representation</td>\n",
       "      <td>A10 2020</td>\n",
       "    </tr>\n",
       "  </tbody>\n",
       "</table>\n",
       "</div>"
      ],
      "text/plain": [
       "  case:concept:name                      concept:name Specific operation  \\\n",
       "4    A7 P2 BPI 2020              Calculate throughput                      \n",
       "5    A7 P2 BPI 2020         Comparative of throughput                      \n",
       "6    A7 P2 BPI 2020         Comparative of throughput                      \n",
       "7    A7 P2 BPI 2020             Represent scatterplot                      \n",
       "8   A10 P2 BPI 2020  Represent boxplots of cycle time                      \n",
       "\n",
       "               time:timestamp Report Question  Year  Category  \\\n",
       "4  2021-10-19 12:47:13.682150     A7       P2  2020  Academic   \n",
       "5  2021-10-19 12:47:13.682150     A7       P2  2020  Academic   \n",
       "6  2021-10-19 12:47:13.682150     A7       P2  2020  Academic   \n",
       "7  2021-10-19 12:47:13.697738     A7       P2  2020  Academic   \n",
       "8  2021-10-19 12:47:13.697738    A10       P2  2020  Academic   \n",
       "\n",
       "                 Type   repYear  \n",
       "4  Analyze Cycle Time   A7 2020  \n",
       "5  Analyze Cycle Time   A7 2020  \n",
       "6  Analyze Cycle Time   A7 2020  \n",
       "7      Representation   A7 2020  \n",
       "8      Representation  A10 2020  "
      ]
     },
     "execution_count": 27,
     "metadata": {},
     "output_type": "execute_result"
    }
   ],
   "source": [
    "df_no_winners.head()"
   ]
  },
  {
   "cell_type": "code",
   "execution_count": 30,
   "metadata": {},
   "outputs": [
    {
     "data": {
      "text/plain": [
       "0.42857142857142855"
      ]
     },
     "execution_count": 30,
     "metadata": {},
     "output_type": "execute_result"
    }
   ],
   "source": [
    "intersection = len(list(set(df_winners[\"concept:name\"]).intersection(df_no_winners[\"concept:name\"])))\n",
    "union = (len(set(df_winners[\"concept:name\"])) + len(set(df_no_winners[\"concept:name\"]))) - intersection\n",
    "float(intersection) / union"
   ]
  },
  {
   "cell_type": "code",
   "execution_count": 31,
   "metadata": {},
   "outputs": [
    {
     "data": {
      "text/plain": [
       "0.37142857142857144"
      ]
     },
     "execution_count": 31,
     "metadata": {},
     "output_type": "execute_result"
    }
   ],
   "source": [
    "intersection = len(list(set(df_winners[\"Specific operation\"]).intersection(df_no_winners[\"Specific operation\"])))\n",
    "union = (len(set(df_winners[\"Specific operation\"])) + len(set(df_no_winners[\"Specific operation\"]))) - intersection\n",
    "float(intersection) / union"
   ]
  },
  {
   "cell_type": "code",
   "execution_count": null,
   "metadata": {},
   "outputs": [],
   "source": []
  }
 ],
 "metadata": {
  "kernelspec": {
   "display_name": "Python 3",
   "language": "python",
   "name": "python3"
  },
  "language_info": {
   "codemirror_mode": {
    "name": "ipython",
    "version": 3
   },
   "file_extension": ".py",
   "mimetype": "text/x-python",
   "name": "python",
   "nbconvert_exporter": "python",
   "pygments_lexer": "ipython3",
   "version": "3.7.4"
  }
 },
 "nbformat": 4,
 "nbformat_minor": 2
}
